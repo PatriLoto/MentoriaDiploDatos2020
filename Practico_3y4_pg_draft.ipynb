{
 "cells": [
  {
   "cell_type": "markdown",
   "metadata": {},
   "source": [
    "# Practico 3 y 4\n",
    "## Inclusion de librerias y módulos"
   ]
  },
  {
   "cell_type": "code",
   "execution_count": 1,
   "metadata": {},
   "outputs": [],
   "source": [
    "# Inclusion de librerias y módulos\n",
    "import os\n",
    "import numpy as np\n",
    "import matplotlib.pyplot as plt\n",
    "import pandas as pd\n",
    "import seaborn as sns\n",
    "from scipy import stats\n",
    "\n",
    "# Separación\n",
    "from sklearn.model_selection import train_test_split\n",
    "\n",
    "# Gradiente Descendente\n",
    "from sklearn.linear_model import SGDClassifier\n",
    "\n",
    "# Árbol de Decisión\n",
    "# from sklearn.tree import DecisionTreeClassifier, plot_tree\n",
    "\n",
    "# Validación Cruzada de HP en grilla.\n",
    "from sklearn.model_selection import GridSearchCV\n",
    "\n",
    "# Normalización\n",
    "from sklearn.preprocessing import StandardScaler\n",
    "\n",
    "# Utiles\n",
    "from utiles import basic_metrics\n",
    "from utiles import plot_cm\n",
    "from utiles import plot_roc_pr\n",
    "\n",
    "# Colores\n",
    "BLUE   = '#5DADE2'\n",
    "RED    = '#ff7043'\n",
    "ORANGE = '#F5B041'\n",
    "GREEN  = '#58D68D'\n",
    "YELLOW = '#F4D03F'\n",
    "\n",
    "# Plot axes y legends parambs\n",
    "plt.rcParams[\"axes.labelweight\"]   = \"bold\"\n",
    "plt.rcParams[\"axes.titleweight\"]   = \"bold\"\n",
    "plt.rcParams[\"legend.shadow\"]      = True\n",
    "plt.rcParams[\"figure.titleweight\"] = \"bold\""
   ]
  },
  {
   "cell_type": "markdown",
   "metadata": {},
   "source": [
    "## Carga, división y normalización de los datos"
   ]
  },
  {
   "cell_type": "code",
   "execution_count": 2,
   "metadata": {},
   "outputs": [],
   "source": [
    "filename = 'yup_curated_data.csv'\n",
    "dataset = pd.read_csv(os.path.join('..', 'dataset', filename))\n",
    "\n",
    "# Dividimos entre entrada y referencia\n",
    "X, y = dataset.iloc[:, :-1], dataset.student_rating_cat\n",
    "\n",
    "# Division entre train y test\n",
    "X_train, X_test, y_train, y_test = train_test_split(X, y, test_size=0.2, random_state=0)\n",
    "\n",
    "# Normalizamos los datos para mejorar convergencia\n",
    "StdScaler = StandardScaler()\n",
    "StdScaler.fit(X_train)\n",
    "X_train = StdScaler.transform(X_train)\n",
    "X_test  = StdScaler.transform(X_test)"
   ]
  },
  {
   "cell_type": "code",
   "execution_count": null,
   "metadata": {},
   "outputs": [],
   "source": []
  },
  {
   "cell_type": "code",
   "execution_count": 3,
   "metadata": {},
   "outputs": [
    {
     "name": "stdout",
     "output_type": "stream",
     "text": [
      "Parámetros utilizados: \n",
      " [['alpha' 0.0001]\n",
      " ['average' False]\n",
      " ['class_weight' None]\n",
      " ['early_stopping' False]\n",
      " ['epsilon' 0.1]\n",
      " ['eta0' 0.0]\n",
      " ['fit_intercept' True]\n",
      " ['l1_ratio' 0.15]\n",
      " ['learning_rate' 'optimal']\n",
      " ['loss' 'hinge']\n",
      " ['max_iter' 1000]\n",
      " ['n_iter_no_change' 5]\n",
      " ['n_jobs' None]\n",
      " ['penalty' 'l2']\n",
      " ['power_t' 0.5]\n",
      " ['random_state' 42]\n",
      " ['shuffle' True]\n",
      " ['tol' 0.001]\n",
      " ['validation_fraction' 0.1]\n",
      " ['verbose' 0]\n",
      " ['warm_start' False]]\n"
     ]
    }
   ],
   "source": [
    "SGD = SGDClassifier(random_state=42)\n",
    "\n",
    "print('Parámetros utilizados: \\n', np.array(list(SGD.get_params(deep=False).items())))"
   ]
  },
  {
   "cell_type": "markdown",
   "metadata": {},
   "source": [
    "### Entrenamiento"
   ]
  },
  {
   "cell_type": "code",
   "execution_count": 4,
   "metadata": {},
   "outputs": [
    {
     "data": {
      "text/plain": [
       "SGDClassifier(random_state=42)"
      ]
     },
     "execution_count": 4,
     "metadata": {},
     "output_type": "execute_result"
    }
   ],
   "source": [
    "SGD.fit(X_train, y_train)"
   ]
  },
  {
   "cell_type": "markdown",
   "metadata": {},
   "source": [
    "### Predicción"
   ]
  },
  {
   "cell_type": "code",
   "execution_count": 5,
   "metadata": {},
   "outputs": [],
   "source": [
    "y_train_SGD = SGD.predict(X_train)\n",
    "y_test_SGD = SGD.predict(X_test)"
   ]
  },
  {
   "cell_type": "code",
   "execution_count": 6,
   "metadata": {},
   "outputs": [
    {
     "name": "stdout",
     "output_type": "stream",
     "text": [
      "************************************************************\n",
      "Métricas Train:\n",
      "              precision    recall  f1-score   support\n",
      "\n",
      "           0      0.706     0.153     0.252      2899\n",
      "           1      0.816     0.983     0.892     11044\n",
      "\n",
      "    accuracy                          0.811     13943\n",
      "   macro avg      0.761     0.568     0.572     13943\n",
      "weighted avg      0.793     0.811     0.759     13943\n",
      "\n",
      "Confusion Matrix: \n",
      "[[  444  2455]\n",
      " [  185 10859]]\n",
      "------------------------------------------------------------\n",
      "Métricas Test:\n",
      "              precision    recall  f1-score   support\n",
      "\n",
      "           0      0.669     0.119     0.202       699\n",
      "           1      0.817     0.985     0.893      2787\n",
      "\n",
      "    accuracy                          0.812      3486\n",
      "   macro avg      0.743     0.552     0.547      3486\n",
      "weighted avg      0.787     0.812     0.755      3486\n",
      "\n",
      "Confusion Matrix: \n",
      "[[  83  616]\n",
      " [  41 2746]]\n",
      "------------------------------------------------------------\n"
     ]
    }
   ],
   "source": [
    "print('************************************************************')\n",
    "cm_train = basic_metrics(y_train, y_train_SGD, 'Train')\n",
    "print('------------------------------------------------------------')\n",
    "cm_test = basic_metrics(y_test, y_test_SGD, 'Test')\n",
    "print('------------------------------------------------------------')"
   ]
  },
  {
   "cell_type": "code",
   "execution_count": 7,
   "metadata": {},
   "outputs": [
    {
     "data": {
      "image/png": "[encoded data removed]",
      "text/plain": [
       "<Figure size 720x432 with 1 Axes>"
      ]
     },
     "metadata": {
      "needs_background": "light"
     },
     "output_type": "display_data"
    },
    {
     "data": {
      "image/png": "[encoded data removed]",
      "text/plain": [
       "<Figure size 720x432 with 1 Axes>"
      ]
     },
     "metadata": {
      "needs_background": "light"
     },
     "output_type": "display_data"
    }
   ],
   "source": [
    "# Train Matriz de confusion\n",
    "plot_cm(cm_train, figsize=(10,6), title='Train', cmap='Blues');\n",
    "\n",
    "# Test Matriz de confusion\n",
    "plot_cm(cm_test, figsize=(10,6), title='Test', cmap='Blues');"
   ]
  },
  {
   "cell_type": "code",
   "execution_count": 8,
   "metadata": {},
   "outputs": [
    {
     "data": {
      "image/png": "[encoded data removed]",
      "text/plain": [
       "<Figure size 1008x432 with 2 Axes>"
      ]
     },
     "metadata": {
      "needs_background": "light"
     },
     "output_type": "display_data"
    },
    {
     "data": {
      "image/png": "[encoded data removed]",
      "text/plain": [
       "<Figure size 1008x432 with 2 Axes>"
      ]
     },
     "metadata": {
      "needs_background": "light"
     },
     "output_type": "display_data"
    }
   ],
   "source": [
    "plot_roc_pr(y_train, y_train_SGD, Title='Train', x_text=0.4, y_text=0.2, size_text=12, size=(14,6), ms=15, colorR=RED, colorP=BLUE, label=None);\n",
    "plot_roc_pr(y_test, y_test_SGD, Title='Test', x_text=0.4, y_text=0.2, size_text=12, size=(14,6), ms=15, colorR=RED, colorP=BLUE, label=None);"
   ]
  },
  {
   "cell_type": "code",
   "execution_count": null,
   "metadata": {},
   "outputs": [],
   "source": []
  },
  {
   "cell_type": "code",
   "execution_count": null,
   "metadata": {},
   "outputs": [],
   "source": []
  },
  {
   "cell_type": "code",
   "execution_count": 3,
   "metadata": {},
   "outputs": [],
   "source": [
    "SGD = SGDClassifier(penalty='elasticnet', random_state=42)"
   ]
  },
  {
   "cell_type": "code",
   "execution_count": 4,
   "metadata": {},
   "outputs": [],
   "source": [
    "param_grid_GD2 = [\n",
    "  {'learning_rate': ['constant', 'adaptive'],\n",
    "          'loss': ['hinge', 'log', 'modified_huber', 'squared_hinge'],\n",
    "          'l1_ratio': list(np.linspace(0, 1, 11))+[0.15], #Para que exista el Default\n",
    "          'alpha': np.logspace(-5, 0, 6),\n",
    "          'eta0': np.logspace(-5, 0, 6)\n",
    "          },\n",
    "  {'learning_rate': ['optimal'],\n",
    "          'loss': ['hinge', 'log', 'modified_huber', 'squared_hinge'],\n",
    "          'l1_ratio': list(np.linspace(0, 1, 11))+[0.15], #Para que exista el Default\n",
    "          'alpha': np.logspace(-5, 0, 6),\n",
    "          'eta0': [0] #No utilizado al ser Optimal\n",
    "          }\n",
    "]"
   ]
  },
  {
   "cell_type": "code",
   "execution_count": 6,
   "metadata": {},
   "outputs": [
    {
     "name": "stdout",
     "output_type": "stream",
     "text": [
      "Fitting 5 folds for each of 3744 candidates, totalling 18720 fits\n"
     ]
    },
    {
     "name": "stderr",
     "output_type": "stream",
     "text": [
      "[Parallel(n_jobs=-1)]: Using backend LokyBackend with 4 concurrent workers.\n",
      "[Parallel(n_jobs=-1)]: Done  17 tasks      | elapsed:    2.6s\n",
      "[Parallel(n_jobs=-1)]: Done  90 tasks      | elapsed:    5.9s\n",
      "[Parallel(n_jobs=-1)]: Done 213 tasks      | elapsed:   11.1s\n",
      "[Parallel(n_jobs=-1)]: Done 384 tasks      | elapsed:   18.5s\n",
      "[Parallel(n_jobs=-1)]: Done 710 tasks      | elapsed:   28.6s\n",
      "[Parallel(n_jobs=-1)]: Done 1248 tasks      | elapsed:   44.4s\n",
      "[Parallel(n_jobs=-1)]: Done 1886 tasks      | elapsed:  1.1min\n",
      "[Parallel(n_jobs=-1)]: Done 2620 tasks      | elapsed:  1.9min\n",
      "[Parallel(n_jobs=-1)]: Done 3454 tasks      | elapsed:  2.7min\n",
      "[Parallel(n_jobs=-1)]: Done 4384 tasks      | elapsed:  3.1min\n",
      "[Parallel(n_jobs=-1)]: Done 5414 tasks      | elapsed:  4.1min\n",
      "[Parallel(n_jobs=-1)]: Done 6540 tasks      | elapsed:  5.0min\n",
      "[Parallel(n_jobs=-1)]: Done 7766 tasks      | elapsed:  5.8min\n",
      "[Parallel(n_jobs=-1)]: Done 9088 tasks      | elapsed:  7.0min\n",
      "[Parallel(n_jobs=-1)]: Done 10510 tasks      | elapsed:  7.7min\n",
      "[Parallel(n_jobs=-1)]: Done 12028 tasks      | elapsed:  9.0min\n",
      "[Parallel(n_jobs=-1)]: Done 13646 tasks      | elapsed:  9.9min\n",
      "[Parallel(n_jobs=-1)]: Done 15360 tasks      | elapsed: 11.2min\n",
      "[Parallel(n_jobs=-1)]: Done 17174 tasks      | elapsed: 12.4min\n",
      "[Parallel(n_jobs=-1)]: Done 18596 tasks      | elapsed: 15.3min\n",
      "[Parallel(n_jobs=-1)]: Done 18713 out of 18720 | elapsed: 15.4min remaining:    0.3s\n",
      "[Parallel(n_jobs=-1)]: Done 18720 out of 18720 | elapsed: 15.4min finished\n"
     ]
    }
   ],
   "source": [
    "GSCV = GridSearchCV(SGD, param_grid_GD2, cv=5, scoring=['accuracy', 'precision_weighted', 'recall_weighted', 'f1_weighted'], refit=False, n_jobs=-1, verbose=4)\n",
    "GSCV.fit(X_train, y_train);"
   ]
  },
  {
   "cell_type": "code",
   "execution_count": 14,
   "metadata": {},
   "outputs": [],
   "source": [
    "# Pasamos a DF los Resultados\n",
    "Res_GSCV = pd.DataFrame(GSCV.cv_results_)\n",
    "# Res_GSCV[Res_GSCV.rank_test_accuracy==1]\n",
    "# Res_GSCV[Res_GSCV.rank_test_precision_weighted==1], Res_GSCV[Res_GSCV.rank_test_recall_weighted==1], Res_GSCV[Res_GSCV.rank_test_f1_weighted==1]"
   ]
  },
  {
   "cell_type": "code",
   "execution_count": 22,
   "metadata": {},
   "outputs": [],
   "source": [
    "Res_GSCV.to_csv('./results_to_analyze.csv')"
   ]
  },
  {
   "cell_type": "code",
   "execution_count": 15,
   "metadata": {},
   "outputs": [
    {
     "data": {
      "text/plain": [
       "Index(['mean_fit_time', 'std_fit_time', 'mean_score_time', 'std_score_time',\n",
       "       'param_alpha', 'param_eta0', 'param_l1_ratio', 'param_learning_rate',\n",
       "       'param_loss', 'params', 'split0_test_accuracy', 'split1_test_accuracy',\n",
       "       'split2_test_accuracy', 'split3_test_accuracy', 'split4_test_accuracy',\n",
       "       'mean_test_accuracy', 'std_test_accuracy', 'rank_test_accuracy',\n",
       "       'split0_test_precision_weighted', 'split1_test_precision_weighted',\n",
       "       'split2_test_precision_weighted', 'split3_test_precision_weighted',\n",
       "       'split4_test_precision_weighted', 'mean_test_precision_weighted',\n",
       "       'std_test_precision_weighted', 'rank_test_precision_weighted',\n",
       "       'split0_test_recall_weighted', 'split1_test_recall_weighted',\n",
       "       'split2_test_recall_weighted', 'split3_test_recall_weighted',\n",
       "       'split4_test_recall_weighted', 'mean_test_recall_weighted',\n",
       "       'std_test_recall_weighted', 'rank_test_recall_weighted',\n",
       "       'split0_test_f1_weighted', 'split1_test_f1_weighted',\n",
       "       'split2_test_f1_weighted', 'split3_test_f1_weighted',\n",
       "       'split4_test_f1_weighted', 'mean_test_f1_weighted',\n",
       "       'std_test_f1_weighted', 'rank_test_f1_weighted'],\n",
       "      dtype='object')"
      ]
     },
     "execution_count": 15,
     "metadata": {},
     "output_type": "execute_result"
    }
   ],
   "source": [
    "Res_GSCV.columns"
   ]
  },
  {
   "cell_type": "code",
   "execution_count": 16,
   "metadata": {},
   "outputs": [
    {
     "data": {
      "text/plain": [
       "65     0.811949\n",
       "73     0.811949\n",
       "81     0.811949\n",
       "585    0.811949\n",
       "593    0.811949\n",
       "601    0.811949\n",
       "633    0.811949\n",
       "641    0.811949\n",
       "665    0.811949\n",
       "Name: mean_test_accuracy, dtype: float64"
      ]
     },
     "execution_count": 16,
     "metadata": {},
     "output_type": "execute_result"
    }
   ],
   "source": [
    "Res_GSCV[Res_GSCV.rank_test_accuracy==1].mean_test_accuracy"
   ]
  },
  {
   "cell_type": "code",
   "execution_count": 18,
   "metadata": {},
   "outputs": [
    {
     "data": {
      "text/plain": [
       "3454    0.814025\n",
       "Name: mean_test_precision_weighted, dtype: float64"
      ]
     },
     "execution_count": 18,
     "metadata": {},
     "output_type": "execute_result"
    }
   ],
   "source": [
    "Res_GSCV[Res_GSCV.rank_test_precision_weighted==1].mean_test_precision_weighted"
   ]
  },
  {
   "cell_type": "code",
   "execution_count": 19,
   "metadata": {},
   "outputs": [
    {
     "data": {
      "text/plain": [
       "65     0.811949\n",
       "73     0.811949\n",
       "81     0.811949\n",
       "585    0.811949\n",
       "593    0.811949\n",
       "601    0.811949\n",
       "633    0.811949\n",
       "641    0.811949\n",
       "665    0.811949\n",
       "Name: mean_test_recall_weighted, dtype: float64"
      ]
     },
     "execution_count": 19,
     "metadata": {},
     "output_type": "execute_result"
    }
   ],
   "source": [
    "Res_GSCV[Res_GSCV.rank_test_recall_weighted==1].mean_test_recall_weighted"
   ]
  },
  {
   "cell_type": "code",
   "execution_count": 21,
   "metadata": {},
   "outputs": [
    {
     "data": {
      "text/plain": [
       "3457    0.763763\n",
       "Name: mean_test_f1_weighted, dtype: float64"
      ]
     },
     "execution_count": 21,
     "metadata": {},
     "output_type": "execute_result"
    }
   ],
   "source": [
    "Res_GSCV[Res_GSCV.rank_test_f1_weighted==1].mean_test_f1_weighted"
   ]
  }
 ],
 "metadata": {
  "kernelspec": {
   "display_name": "Python 3.7.6 64-bit ('diplo': venv)",
   "language": "python",
   "name": "python37664bitdiplovenvc8f1cc3d26344ed08febef30f9915ee6"
  },
  "language_info": {
   "codemirror_mode": {
    "name": "ipython",
    "version": 3
   },
   "file_extension": ".py",
   "mimetype": "text/x-python",
   "name": "python",
   "nbconvert_exporter": "python",
   "pygments_lexer": "ipython3",
   "version": "3.8.5"
  }
 },
 "nbformat": 4,
 "nbformat_minor": 4
}
