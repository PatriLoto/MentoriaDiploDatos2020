{
 "cells": [
  {
   "cell_type": "markdown",
   "metadata": {},
   "source": [
    "# Análisis, Visualización y Curación de Datos\n",
    "\n",
    "# Consigna 6\n",
    "\n",
    "#### Calcular el tamaño del vocabulario del tutor y del estudiante por separado. Calcular los mismos valores pero eliminando las palabras que se repiten 3 o menos veces.\n",
    "\n",
    "\n",
    "## Importación de modulos\n",
    "---"
   ]
  },
  {
   "cell_type": "code",
   "execution_count": 1,
   "metadata": {},
   "outputs": [],
   "source": [
    "import os\n",
    "import pandas as pd\n",
    "import numpy as np\n",
    "import matplotlib.pyplot as plt\n",
    "import seaborn as sns\n",
    "from ast import literal_eval\n",
    "from collections import Counter\n",
    "\n",
    "from columns_to_keep import C2K\n",
    "from type_to_fix import T2F"
   ]
  },
  {
   "cell_type": "markdown",
   "metadata": {},
   "source": [
    "## Carga la tabla de mensajes preprocesados\n",
    "---"
   ]
  },
  {
   "cell_type": "code",
   "execution_count": 2,
   "metadata": {},
   "outputs": [
    {
     "output_type": "display_data",
     "data": {
      "text/plain": "(7441, 6)"
     },
     "metadata": {}
    }
   ],
   "source": [
    "data_dir = os.path.join('..', 'dataset')\n",
    "data_file_name = 'tiny_yup_messages_preprocessed.csv'\n",
    "full_data_file_name = os.path.join(data_dir, data_file_name)\n",
    "dfd = pd.read_csv(full_data_file_name)\n",
    "display(dfd.shape)"
   ]
  },
  {
   "cell_type": "markdown",
   "metadata": {},
   "source": [
    "### Conversion de `str` a `list` campo text"
   ]
  },
  {
   "cell_type": "code",
   "execution_count": 3,
   "metadata": {},
   "outputs": [],
   "source": [
    "dfd['text'] = dfd.text.apply(lambda x: literal_eval(x))"
   ]
  },
  {
   "cell_type": "markdown",
   "metadata": {},
   "source": [
    "## Cálculos\n",
    "---\n",
    "\n",
    "**Pasos:**\n",
    "\n",
    "1. Conteo de palabras de estudiantes y tutores por separado\n",
    "2. Filtrado de palabras que no se repiten más de tres veces\n"
   ]
  },
  {
   "cell_type": "code",
   "execution_count": 29,
   "metadata": {},
   "outputs": [],
   "source": [
    "# 1.\n",
    "students_counts = Counter([ token for tokens in dfd[dfd.sent_from=='student'].text  for token in tokens])\n",
    "tutores_counts = Counter([ token for tokens in dfd[dfd.sent_from=='tutor'].text  for token in tokens])\n",
    "\n",
    "# 2.\n",
    "students_counts_wr = list(filter(lambda x:x[1]>3, students_counts.most_common()))\n",
    "tutores_counts_wr = list(filter(lambda x:x[1]>3, tutores_counts.most_common()))"
   ]
  },
  {
   "cell_type": "code",
   "execution_count": 35,
   "metadata": {},
   "outputs": [
    {
     "output_type": "display_data",
     "data": {
      "text/plain": "'### Estudiantes: ###'"
     },
     "metadata": {}
    },
    {
     "output_type": "display_data",
     "data": {
      "text/plain": "'Tamaño del vocabulario de los estudiantes: 1648'"
     },
     "metadata": {}
    },
    {
     "output_type": "display_data",
     "data": {
      "text/plain": "'Tamaño del vocabulario de los estudiantes con palabras repetidas más de 3 veces: 410'"
     },
     "metadata": {}
    },
    {
     "output_type": "display_data",
     "data": {
      "text/plain": "'El vocabulario se redujo al 24.88% del original'"
     },
     "metadata": {}
    },
    {
     "output_type": "display_data",
     "data": {
      "text/plain": "'### Tutores: ###'"
     },
     "metadata": {}
    },
    {
     "output_type": "display_data",
     "data": {
      "text/plain": "'Tamaño del vocabulario de los tutores: 2444'"
     },
     "metadata": {}
    },
    {
     "output_type": "display_data",
     "data": {
      "text/plain": "'Tamaño del vocabulario de los estudiantes con palabras repetidas más de 3 veces: 750'"
     },
     "metadata": {}
    },
    {
     "output_type": "display_data",
     "data": {
      "text/plain": "'El vocabulario se redujo al 30.69% del original'"
     },
     "metadata": {}
    }
   ],
   "source": [
    "len_students_counts = len(students_counts)\n",
    "len_tutores_counts = len(tutores_counts)\n",
    "\n",
    "len_students_counts_wr = len(students_counts_wr)\n",
    "len_tutores_counts_wr = len(tutores_counts_wr)\n",
    "\n",
    "display('### Estudiantes: ###')\n",
    "display(f'Tamaño del vocabulario de los estudiantes: {len_students_counts}')\n",
    "display(f'Tamaño del vocabulario de los estudiantes con palabras repetidas más de 3 veces: {len_students_counts_wr}')\n",
    "display(f'El vocabulario se redujo al {100*len_students_counts_wr/len_students_counts:.2f}% del original')\n",
    "\n",
    "display('### Tutores: ###')\n",
    "display(f'Tamaño del vocabulario de los tutores: {len_tutores_counts}')\n",
    "display(f'Tamaño del vocabulario de los estudiantes con palabras repetidas más de 3 veces: {len_tutores_counts_wr}')\n",
    "display(f'El vocabulario se redujo al {100*len_tutores_counts_wr/len_tutores_counts:.2f}% del original')"
   ]
  }
 ],
 "metadata": {
  "language_info": {
   "codemirror_mode": {
    "name": "ipython",
    "version": 3
   },
   "file_extension": ".py",
   "mimetype": "text/x-python",
   "name": "python",
   "nbconvert_exporter": "python",
   "pygments_lexer": "ipython3",
   "version": "3.7.7-final"
  },
  "orig_nbformat": 2,
  "kernelspec": {
   "name": "python37664bitdiplovenvc8f1cc3d26344ed08febef30f9915ee6",
   "display_name": "Python 3.7.6 64-bit ('diplo': venv)"
  }
 },
 "nbformat": 4,
 "nbformat_minor": 2
}