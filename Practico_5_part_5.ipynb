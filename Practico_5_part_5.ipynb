{
 "cells": [
  {
   "cell_type": "markdown",
   "metadata": {},
   "source": [
    "# Practico 5 (parte 5)\n",
    "\n",
    "## Visualizar los word embeddings que entrenamos\n",
    "\n",
    "* [Importación de módulos y librerías](#Importación-de-módulos-y-librerías)\n",
    "* [Lectura del archivo de mensajes](#Lectura-del-archivo-de-mensajes)\n",
    "* [Curación del dataset](#Curación-del-dataset)\n",
    "* [Entrenamiento de los diferentes embeddings (Word2Vec)](#Entrenamiento-de-los-diferentes-embeddings-(Word2Vec))\n",
    "* [Resumen de información de los word embedding generados](#Resumen-de-información-de-los-word-embedding-generados)\n",
    "* [Computo de similitud](#Computo-de-similitud)\n",
    "* [Referencias](#Referencias)\n",
    "\n",
    "## Importación de módulos y librerías"
   ]
  },
  {
   "cell_type": "code",
   "execution_count": null,
   "metadata": {},
   "outputs": [],
   "source": [
    "# Inclusion de librerias y módulos\n",
    "import os\n",
    "import logging\n",
    "import datetime\n",
    "import numpy as np\n",
    "import matplotlib.pyplot as plt\n",
    "import pandas as pd\n",
    "import seaborn as sns\n",
    "\n",
    "# Algunas utilidades\n",
    "from utiles import bcolors\n",
    "\n",
    "# Importamos wrod2vec de la lib gensim\n",
    "from gensim.models import Word2Vec\n",
    "from gensim.models import KeyedVectors\n",
    "from gensim.scripts.glove2word2vec import glove2word2vec\n",
    "\n",
    "# Importamos PCA de sklear\n",
    "from sklearn.decomposition import PCA\n",
    "\n",
    "# Importamos logger para tener informacion de estado\n",
    "logging.basicConfig(format='%(asctime)s : %(levelname)s : %(message)s', level=logging.INFO)\n",
    "\n",
    "# Fijamos el estilo a seaborn\n",
    "plt.style.use('seaborn')\n",
    "\n",
    "# Fijamos la semilla del random\n",
    "np.random.seed(42)\n",
    "\n",
    "# Establecimos el muestreo del vocabulario\n",
    "Nsamples = 200"
   ]
  },
  {
   "cell_type": "markdown",
   "metadata": {},
   "source": [
    "## Definición de que vamos a mostrar del embedding y como vamos a hacerlo\n",
    "\n",
    "Por cada embeding que tenemos vamos a presentar:\n",
    "\n",
    "* El nombre del archivo que lo contiene, el cual tiene codificado los hiperparametros como se presento en ejercicio anterior\n",
    "> YYYYMMDD-hhmmss_model_{size}-{window}-{min_count}-{sg}.bin\n",
    "* El tamaño del vocabulario que maneja \n",
    "* Las primeras 50 palabras que posee\n",
    "* Las últimas 50 palabras que posee\n",
    "* Un scatter plot de un sub grupo de `Nsamples` palabras del embedding, un conjunto de palabras con connotación positiva y un conjunto de emojis con connotación positiva."
   ]
  },
  {
   "cell_type": "code",
   "execution_count": null,
   "metadata": {},
   "outputs": [],
   "source": [
    "def plot_embeding(modelfile, Nsamples=200, positives=None, emojis=None, useglove=False):\n",
    "    #############################\n",
    "    # Cargamos el embedding de preferencia, incluyendo la logica para Glove\n",
    "    if useglove:\n",
    "        model =  KeyedVectors.load_word2vec_format(modelfile, binary=False)\n",
    "    else:\n",
    "        model = Word2Vec.load(modelfile)\n",
    "    \n",
    "    #############################\n",
    "    # Imprimimos el caso nombre del archivo del embedding, el tamaño del vocabulario\n",
    "    # las primeras 50 palabras del vocabulario y la últimas 50 palabras del vocabulario\n",
    "    print(f'{bcolors.HEADER}{modelfile} - Tamaño del vocabulario {len(list(model.wv.vocab))}{bcolors.ENDC}')\n",
    "    print(f'{bcolors.OKGREEN}Primeras 50 compoentes del vocabulario{bcolors.ENDC}')\n",
    "    print(f'{bcolors.OKBLUE}{list(model.wv.vocab.keys())[0:50]}{bcolors.ENDC}')\n",
    "    print(f'{bcolors.OKGREEN}Ultimas 50 compoentes del vocabulario{bcolors.ENDC}')\n",
    "    print(f'{bcolors.OKBLUE}{list(model.wv.vocab.keys())[-50:]}{bcolors.ENDC}')\n",
    "    print(f'{bcolors.FAIL}#######################################{bcolors.ENDC}')\n",
    "\n",
    "\n",
    "    #############################\n",
    "    # Se genera el embedding de cada palabra del vocabulario\n",
    "    X = model[model.wv.vocab]\n",
    "    \n",
    "    # Se genera el embedding de las palabras con connotación positiva\n",
    "    if positives: Xp = model[positives]\n",
    "    \n",
    "    # Se genera el embedding de los emojis con connotación positiva\n",
    "    if emojis: Xe = model[emojis]\n",
    "\n",
    "    # Se hace reducción de dimensionalidad por medio de PCA\n",
    "    # sobre los embeddings generados\n",
    "    pca = PCA(n_components=2)\n",
    "    result = pca.fit_transform(X)\n",
    "    if positives: resultp = pca.transform(Xp)\n",
    "    if emojis: resulte = pca.transform(Xe)\n",
    "\n",
    "\n",
    "    #############################\n",
    "    # create a scatter plot of the projection\n",
    "    index = np.random.choice(range(0, result.shape[0]), Nsamples, replace=False)\n",
    "    \n",
    "    # Plot de los embeddings luego de aplicar PCA\n",
    "    plt.figure(figsize=(20,16))\n",
    "    p1 = sns.scatterplot(x=result[index, 0], y=result[index, 1], s=40, label='Vocabulario')\n",
    "    if positives: p2 = sns.scatterplot(x=resultp[:, 0], y=resultp[:, 1], s=80, color='red', label='Palabras positivas')\n",
    "    if emojis: p3 = sns.scatterplot(x=resulte[:, 0], y=resulte[:, 1], s=80, color='green', label='Emojis positivos')\n",
    "\n",
    "    words = np.array(list(model.wv.vocab))[index]\n",
    "    result = result[index,:]\n",
    "    for i,word in enumerate(words):\n",
    "        p1.text(result[i,0]+0.1, result[i,1], word,horizontalalignment='left', size='medium', color='black')#, weight='semibold')\n",
    "    \n",
    "    if positives:\n",
    "        for i,word in enumerate(positives):\n",
    "            p2.text(resultp[i,0]+0.1, resultp[i,1], word,horizontalalignment='left', size='large', color='red')#, weight='semibold')\n",
    "    \n",
    "    if emojis:\n",
    "        for i,word in enumerate(emojis):\n",
    "            p3.text(resulte[i,0]+0.1, resulte[i,1], word,horizontalalignment='left', size='large', color='green')#, weight='semibold')\n",
    "\n",
    "    plt.xlabel('X', fontsize=14)\n",
    "    plt.ylabel('Y', fontsize=14)\n",
    "    plt.title('Word2Vec + PCA', fontsize=14)\n",
    "    plt.legend(fontsize=14)\n",
    "    sns.despine()"
   ]
  },
  {
   "cell_type": "code",
   "execution_count": null,
   "metadata": {},
   "outputs": [],
   "source": [
    "positives = ['great', 'excellent', 'nice', 'awesome', 'amazing', 'fantastic', 'wonderful', 'perfect', 'nailed', 'brilliant', 'lovely', 'superb', 'beautiful','yupppppp']\n",
    "emojis = [':grinning_face_with_smiling_eyes:', ':smiling_face_with_smiling_eyes:', ':face_with_tears_of_joy:', ':grinning_face:', ':smiling_face_with_sunglasses:',':smiling_face_with_open_mouth_&_smiling_eyes:']"
   ]
  },
  {
   "cell_type": "code",
   "execution_count": null,
   "metadata": {},
   "outputs": [],
   "source": [
    "modelfile = os.path.join('.','20201008-140336_model_100-5-1-0.bin')\n",
    "plot_embeding(modelfile, Nsamples=Nsamples, positives=positives, emojis=emojis)"
   ]
  },
  {
   "cell_type": "code",
   "execution_count": null,
   "metadata": {},
   "outputs": [],
   "source": [
    "modelfile = os.path.join('.','20201008-140436_model_100-5-100-0.bin')\n",
    "plot_embeding(modelfile, Nsamples=Nsamples, positives=positives, emojis=emojis)"
   ]
  },
  {
   "cell_type": "code",
   "execution_count": null,
   "metadata": {},
   "outputs": [],
   "source": [
    "positives = ['great', 'excellent', 'nice', 'awesome', 'amazing', 'fantastic', 'wonderful', 'perfect', 'brilliant', 'superb','yupppppp'] \n",
    "#, 'nailed', 'lovely', 'beautiful'\n",
    "\n",
    "emojis = [':smiling_face_with_smiling_eyes:', ':face_with_tears_of_joy:', ':smiling_face_with_sunglasses:',':smiling_face_with_open_mouth_&_smiling_eyes:']\n",
    "#':grinning_face_with_smiling_eyes:',  ':grinning_face:',\n",
    "\n",
    "modelfile = os.path.join('.','20201008-140513_model_100-5-300-0.bin')\n",
    "plot_embeding(modelfile, Nsamples=Nsamples, positives=positives, emojis=emojis)"
   ]
  },
  {
   "cell_type": "code",
   "execution_count": null,
   "metadata": {},
   "outputs": [],
   "source": [
    "modelfile = os.path.join('.','20201008-142337_model_100-1-300-0.bin')\n",
    "plot_embeding(modelfile, Nsamples=Nsamples, positives=positives, emojis=emojis)"
   ]
  },
  {
   "cell_type": "markdown",
   "metadata": {},
   "source": [
    "-------------------"
   ]
  },
  {
   "cell_type": "code",
   "execution_count": null,
   "metadata": {},
   "outputs": [],
   "source": [
    "# glove_input_file = '../glove.6B/glove.6B.100d.txt'\n",
    "# word2vec_output_file = '../glove.6B/glove.6B.100d.txt.word2vec'\n",
    "# glove2word2vec(glove_input_file, word2vec_output_file)"
   ]
  },
  {
   "cell_type": "code",
   "execution_count": null,
   "metadata": {},
   "outputs": [],
   "source": [
    "positives = ['thanks','great', 'excellent', 'nice', 'awesome', 'amazing', 'fantastic', 'wonderful', 'perfect', 'nailed', 'brilliant', 'lovely', 'superb', 'beautiful'] #, 'yupppppp'\n",
    "# emojis = [':grinning_face_with_smiling_eyes:', ':smiling_face_with_smiling_eyes:', ':face_with_tears_of_joy:', ':grinning_face:', ':smiling_face_with_sunglasses:',':smiling_face_with_open_mouth_&_smiling_eyes:']\n",
    "\n",
    "modelfile = os.path.join('..', 'glove.6B', 'glove.6B.100d.txt.word2vec')\n",
    "plot_embeding(modelfile, Nsamples=Nsamples, positives=positives, emojis=None, useglove=True)"
   ]
  },
  {
   "cell_type": "code",
   "execution_count": null,
   "metadata": {},
   "outputs": [],
   "source": []
  },
  {
   "cell_type": "code",
   "execution_count": null,
   "metadata": {},
   "outputs": [],
   "source": []
  }
 ],
 "metadata": {
  "kernelspec": {
   "display_name": "Python 3.7.6 64-bit ('diplo': venv)",
   "language": "python",
   "name": "python37664bitdiplovenvc8f1cc3d26344ed08febef30f9915ee6"
  },
  "language_info": {
   "codemirror_mode": {
    "name": "ipython",
    "version": 3
   },
   "file_extension": ".py",
   "mimetype": "text/x-python",
   "name": "python",
   "nbconvert_exporter": "python",
   "pygments_lexer": "ipython3",
   "version": "3.8.5"
  }
 },
 "nbformat": 4,
 "nbformat_minor": 4
}
