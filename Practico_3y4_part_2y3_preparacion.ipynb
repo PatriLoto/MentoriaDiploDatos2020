{
 "cells": [
  {
   "cell_type": "markdown",
   "metadata": {
    "colab_type": "text",
    "id": "0yb32VZbqmTn"
   },
   "source": [
    "# Preparación y curación de los datos"
   ]
  },
  {
   "cell_type": "markdown",
   "metadata": {
    "colab_type": "text",
    "id": "b1jKRgIVqmTo"
   },
   "source": [
    "---\n",
    "## Convenciones\n",
    "\n",
    "### Dataframes principales\n",
    "\n",
    "`msg_df` dataframe de mensajes\n",
    "\n",
    "`md_df` dataframe de metadata\n",
    "\n",
    "`agg_msg_df` dataframe de mensajes totalizado\n",
    "\n",
    "`res_df` dataframe resultante del merge del dataframe de metadata y el dataframe de mensajes totalizado\n",
    "\n",
    "### Prefijos de columnas nuevas\n",
    "\n",
    "`n_` cantidad count\n",
    "\n",
    "`n_words` cantidad de palabras\n",
    "\n",
    "`avg_` promedio\n",
    "\n",
    "---\n"
   ]
  },
  {
   "cell_type": "markdown",
   "metadata": {
    "colab_type": "text",
    "id": "hhOU71v5qmTp"
   },
   "source": [
    "## Imports"
   ]
  },
  {
   "cell_type": "code",
   "execution_count": 1,
   "metadata": {
    "colab": {},
    "colab_type": "code",
    "id": "2VMwVmenqmTq"
   },
   "outputs": [],
   "source": [
    "import os\n",
    "import pandas as pd\n",
    "import numpy as np\n",
    "import matplotlib.pyplot as plt\n",
    "import seaborn as sns\n",
    "import math\n",
    "\n",
    "from ast import literal_eval\n",
    "from collections import Counter\n",
    "\n",
    "import re\n",
    "\n",
    "from type_to_fix import T2F"
   ]
  },
  {
   "cell_type": "markdown",
   "metadata": {
    "colab_type": "text",
    "id": "bOubraMUqmTw"
   },
   "source": [
    "## Columnas de la metadata a incluir en el resultado\n",
    "\n",
    "**Nota:**\n",
    "*Incluidas en la notebook para que sean facilmente \"comentables\"*"
   ]
  },
  {
   "cell_type": "code",
   "execution_count": 2,
   "metadata": {
    "colab": {},
    "colab_type": "code",
    "id": "0Zpv7jBOqmTw"
   },
   "outputs": [],
   "source": [
    "C2K = list()\n",
    "C2K.append('session_id')\n",
    "C2K.append('tutor_id')\n",
    "C2K.append('student_id')\n",
    "C2K.append('timestamp')\n",
    "C2K.append('feedback_score')\n",
    "C2K.append('wait_time')\n",
    "C2K.append('ended_by_reason')\n",
    "C2K.append('session_category')\n",
    "C2K.append('consolidated_session_category')\n",
    "C2K.append('student_complained')\n",
    "C2K.append('student_complaint_clarity')\n",
    "C2K.append('student_complaint_speed')\n",
    "C2K.append('student_complaint_subject')\n",
    "C2K.append('student_complaint_other')\n",
    "C2K.append('session_tag_cheating')\n",
    "C2K.append('session_tag_inappropriate')\n",
    "C2K.append('session_tag_other_subject')\n",
    "C2K.append('session_tag_no_material')\n",
    "C2K.append('session_tag_student_left')\n",
    "C2K.append('session_tag_student_not_engaging')\n",
    "C2K.append('session_tag_used_whiteboard')\n",
    "C2K.append('student_rating')\n",
    "C2K.append('length_of_session')\n",
    "C2K.append('avg_tutor_response_time')\n",
    "C2K.append('max_tutor_response_time')\n",
    "C2K.append('subject')\n",
    "C2K.append('subtopic')\n",
    "# C2K.append('rubric_version')\n",
    "C2K.append('tutor_gender')\n",
    "C2K.append('tutor_international_name')\n",
    "C2K.append('tutor_fired')\n",
    "C2K.append('tutor_math_exam_score')\n",
    "C2K.append('tutor_physics_exam_score')\n",
    "C2K.append('tutor_chemistry_exam_score')\n",
    "C2K.append('tutor_last_sign_in_country')\n",
    "C2K.append('tutor_age')"
   ]
  },
  {
   "cell_type": "markdown",
   "metadata": {
    "colab_type": "text",
    "id": "d_xpRhWZqmT0"
   },
   "source": [
    "## Carga de archivos CSV de origen\n",
    "\n",
    "**Nota:**\n",
    "*Descomentar el archivo de mensajes necesario*"
   ]
  },
  {
   "cell_type": "code",
   "execution_count": 3,
   "metadata": {
    "colab": {},
    "colab_type": "code",
    "id": "u1khGf8qqmT1",
    "outputId": "59908add-3940-48f9-95df-7f4ebe239b93",
    "tags": []
   },
   "outputs": [
    {
     "output_type": "stream",
     "name": "stdout",
     "text": "\nDimensiones del dataset de mensajes\nFilas: 1574069\nColumnas: 6\nCantidad de sesiones:  25693\nCantidad de turnos: 1574069\nCantidad de turnos del tutor: 810024\nCantidad de turnos del estudiante: 601453\n\nDimensiones del dataset de metadata\nFilas: 63265\nColumnas: 35\nCantidad de sesiones:  63265\n"
    }
   ],
   "source": [
    "data_dir = os.path.join('..', 'dataset')\n",
    "\n",
    "# dataset de mensajes\n",
    "#msg_data_file_name = 'dev_yup_messages_preprocessed.csv'\n",
    "#msg_data_file_name = 'train_yup_messages_preprocessed.csv'\n",
    "#msg_data_file_name = 'test_yup_messages_preprocessed.csv'\n",
    "msg_data_file_name = 'yup_messages_preprocessed.csv'\n",
    "\n",
    "msg_full_data_file_name = os.path.join(data_dir, msg_data_file_name)\n",
    "msg_df = pd.read_csv(msg_full_data_file_name)\n",
    "msg_df = msg_df.astype({'created_at': 'datetime64[ns, UTC]'})\n",
    "\n",
    "# dataset de metadata\n",
    "md_data_file_name = 'datadump-20150801-20171219.csv'\n",
    "md_full_data_file_name = os.path.join(data_dir, md_data_file_name)\n",
    "md_df = pd.read_csv(md_full_data_file_name, low_memory=False)\n",
    "\n",
    "# dataset de metadata\n",
    "md_df.columns = [column.strip() for column in md_df.columns]\n",
    "md_df = md_df[C2K]\n",
    "md_df = md_df.astype(T2F)\n",
    "\n",
    "# Caracterización del dataset de mensajes\n",
    "print ('\\nDimensiones del dataset de mensajes')\n",
    "print ('Filas: {}'.format(msg_df.shape[0]))\n",
    "print ('Columnas: {}'.format(msg_df.shape[1]))\n",
    "print ('Cantidad de sesiones: ', msg_df['session_id'].nunique())\n",
    "print ('Cantidad de turnos: {}'.format(msg_df.shape[0]))\n",
    "print ('Cantidad de turnos del tutor: {}'.format(len(msg_df[msg_df.sent_from=='tutor'])))\n",
    "print ('Cantidad de turnos del estudiante: {}'.format(len(msg_df[msg_df.sent_from=='student'])))\n",
    "\n",
    "# Caracterización del dataset de metadata\n",
    "print ('\\nDimensiones del dataset de metadata')\n",
    "print ('Filas: {}'.format(md_df.shape[0]))\n",
    "print ('Columnas: {}'.format(md_df.shape[1]))\n",
    "print ('Cantidad de sesiones: ', md_df['session_id'].nunique())"
   ]
  },
  {
   "cell_type": "markdown",
   "metadata": {
    "colab_type": "text",
    "id": "WtHpBiHXqmT5"
   },
   "source": [
    "## Cálculo de la longitud de los mensajes y features derivadas"
   ]
  },
  {
   "cell_type": "code",
   "execution_count": 4,
   "metadata": {
    "colab": {},
    "colab_type": "code",
    "id": "Y7qH1wM9qmT6"
   },
   "outputs": [],
   "source": [
    "# Cálculo de las longitudes de los mensajes (cantidad de palabas)\n",
    "\n",
    "msg_df['tokens'] = msg_df.text.apply(lambda x: literal_eval(x))\n",
    "msg_df['n_words'] = msg_df.tokens.apply(lambda x: len(x))"
   ]
  },
  {
   "cell_type": "code",
   "execution_count": 5,
   "metadata": {
    "colab": {},
    "colab_type": "code",
    "id": "RtS7TD3VqmT9"
   },
   "outputs": [],
   "source": [
    "# Número de palabras tutor y estudiante\n",
    "\n",
    "agg_tutor_msg_df = msg_df[msg_df['sent_from']=='tutor'].groupby('session_id').agg(\n",
    "    avg_words_tutor = ('n_words', np.mean),\n",
    "    n_words_tutor = ('n_words', sum),\n",
    "    n_msg_tutor = ('sent_from', lambda x: x.eq('tutor').sum())\n",
    "    \n",
    ")\n",
    "agg_student_msg_df = msg_df[msg_df['sent_from']=='student'].groupby('session_id').agg(\n",
    "    avg_words_student = ('n_words', np.mean),\n",
    "    n_words_student = ('n_words', sum),\n",
    "    n_msg_student = ('sent_from', lambda x: x.eq('student').sum())\n",
    "    \n",
    ")"
   ]
  },
  {
   "cell_type": "markdown",
   "metadata": {
    "colab_type": "text",
    "id": "JjovAg47qmUB"
   },
   "source": [
    "## Otras agregaciones del dataset de mensajes"
   ]
  },
  {
   "cell_type": "code",
   "execution_count": 6,
   "metadata": {
    "colab": {},
    "colab_type": "code",
    "id": "Viw7dMXCqmUB"
   },
   "outputs": [],
   "source": [
    "# Otras agregaciones del dataset de mensajes \n",
    "agg_msg_df = msg_df.groupby('session_id').agg(\n",
    "        # started =('created_at', min),\n",
    "        # ended =('created_at', max),\n",
    "        duration = ('created_at', lambda x: (max(x) - min(x))),\n",
    "        n_msg_bot = ('sent_from', lambda x: x.eq('bot').sum()),\n",
    "        n_msg_system = ('sent_from', lambda x: x.isin(list(['system alert', 'system info', 'system warn'])).sum()),\n",
    "        n_msg_content_text = ('content_type', lambda x: x.eq('text').sum()),\n",
    "        n_msg_content_image = ('content_type', lambda x: x.eq('image').sum()),\n",
    "        tokens = ('tokens', lambda x: x.sum()),\n",
    ")"
   ]
  },
  {
   "cell_type": "code",
   "execution_count": 7,
   "metadata": {
    "colab": {},
    "colab_type": "code",
    "id": "02urpSYMqmUH",
    "outputId": "81b390e6-f5e1-4cd8-9262-f7f898dd1422",
    "tags": []
   },
   "outputs": [
    {
     "output_type": "stream",
     "name": "stdout",
     "text": "(22359, 3)\n(25195, 3)\n(25693, 6)\n"
    }
   ],
   "source": [
    "print(agg_tutor_msg_df.shape)\n",
    "print(agg_student_msg_df.shape)\n",
    "print(agg_msg_df.shape)"
   ]
  },
  {
   "cell_type": "markdown",
   "metadata": {
    "colab_type": "text",
    "id": "7PeSsREDqmUK"
   },
   "source": [
    "## Unión de los dataframes\n",
    "\n",
    "*A las métricas que no tienen valores en el left join se les asigna 0*"
   ]
  },
  {
   "cell_type": "code",
   "execution_count": 8,
   "metadata": {
    "colab": {},
    "colab_type": "code",
    "id": "U0JX8k-DqmUL"
   },
   "outputs": [],
   "source": [
    "# Joins\n",
    "res_df = pd.merge(md_df, agg_msg_df, on=[\"session_id\", \"session_id\"])\n",
    "res_df = pd.merge(res_df, agg_tutor_msg_df, how=\"left\", on=[\"session_id\", \"session_id\"])\n",
    "res_df = pd.merge(res_df, agg_student_msg_df, how=\"left\", on=[\"session_id\", \"session_id\"])\n",
    "\n",
    "# Llenar los NAN producto del left join con ceros\n",
    "res_df['avg_words_tutor'] = res_df['avg_words_tutor'].fillna(0)\n",
    "res_df['n_words_tutor'] = res_df['n_words_tutor'].fillna(0)\n",
    "res_df['n_msg_tutor'] = res_df['n_msg_tutor'].fillna(0)\n",
    "\n",
    "res_df['avg_words_student'] = res_df['avg_words_student'].fillna(0)\n",
    "res_df['n_words_student'] = res_df['n_words_student'].fillna(0)\n",
    "res_df['n_msg_student'] = res_df['n_msg_student'].fillna(0)"
   ]
  },
  {
   "cell_type": "markdown",
   "metadata": {
    "colab_type": "text",
    "id": "r_wKZ4tJqmUO"
   },
   "source": [
    "## Caracterización de la variable `student_rating` a `student_rating_cat`"
   ]
  },
  {
   "cell_type": "code",
   "execution_count": 9,
   "metadata": {
    "colab": {},
    "colab_type": "code",
    "id": "VFw5VOIOqmUP",
    "outputId": "dd039163-098b-428e-a525-e6ffaeef084d",
    "tags": []
   },
   "outputs": [
    {
     "output_type": "stream",
     "name": "stdout",
     "text": "Remoción de 7476 sesiones que no tienen valor para student_rating\nRemoción de 788 sesiones calificadas como neutras\n"
    }
   ],
   "source": [
    "# Categorización de la variable student_rating\n",
    "\n",
    "def student_rating_category(x):\n",
    "    \n",
    "    if x <= 2:\n",
    "        return 0\n",
    "    \n",
    "    if x >= 4:\n",
    "        return 1\n",
    "\n",
    "    return 'neutra'\n",
    "\n",
    "# Eliminamos las filas nulas\n",
    "print ('Remoción de {} sesiones que no tienen valor para student_rating'.format(res_df['student_rating'].isnull().sum()))\n",
    "res_df = res_df.dropna(subset=['student_rating'])\n",
    "\n",
    "# Categorización de la variable numérica\n",
    "res_df['student_rating_cat'] = res_df.student_rating.apply(student_rating_category)\n",
    "\n",
    "# Remoción de las filas con calificación neutra\n",
    "print ('Remoción de {} sesiones calificadas como neutras'.format(len(res_df[res_df['student_rating_cat'] == 'neutra'])))\n",
    "res_df = res_df.loc[res_df.student_rating_cat != 'neutra']"
   ]
  },
  {
   "cell_type": "code",
   "execution_count": 10,
   "metadata": {
    "colab": {},
    "colab_type": "code",
    "id": "NJi1MbTZqmUS",
    "outputId": "18df2939-00df-4247-b9eb-2d15cf807bc7",
    "tags": []
   },
   "outputs": [
    {
     "output_type": "stream",
     "name": "stdout",
     "text": "\nDimensiones del dataset combinado\nFilas: 17429\nColumnas: 48\nCantidad de sesiones:  17429\n"
    }
   ],
   "source": [
    "# Caracterización del dataset combinado\n",
    "print ('\\nDimensiones del dataset combinado')\n",
    "print ('Filas: {}'.format(res_df.shape[0]))\n",
    "print ('Columnas: {}'.format(res_df.shape[1]))\n",
    "print ('Cantidad de sesiones: ', res_df['session_id'].nunique())"
   ]
  },
  {
   "cell_type": "markdown",
   "metadata": {
    "colab_type": "text",
    "id": "9qQqiHbzqmUV"
   },
   "source": [
    "## Drop de columnas que no se van a usar"
   ]
  },
  {
   "cell_type": "code",
   "execution_count": 11,
   "metadata": {
    "colab": {},
    "colab_type": "code",
    "id": "eh9uifluqmUV"
   },
   "outputs": [],
   "source": [
    "columns_to_keep = list()\n",
    "columns_to_keep.append('tutor_id')\n",
    "columns_to_keep.append('tutor_age')\n",
    "columns_to_keep.append('session_tag_no_material')\n",
    "columns_to_keep.append('session_tag_student_left')\n",
    "columns_to_keep.append('session_tag_student_not_engaging')\n",
    "columns_to_keep.append('student_complained')\n",
    "columns_to_keep.append('student_complaint_clarity')\n",
    "columns_to_keep.append('student_complaint_speed')\n",
    "columns_to_keep.append('student_complaint_subject')\n",
    "columns_to_keep.append('student_complaint_other')\n",
    "columns_to_keep.append('session_tag_cheating')\n",
    "columns_to_keep.append('session_tag_inappropriate')\n",
    "columns_to_keep.append('session_tag_other_subject')\n",
    "columns_to_keep.append('avg_words_tutor')\n",
    "columns_to_keep.append('n_words_tutor')\n",
    "columns_to_keep.append('n_msg_tutor')\n",
    "columns_to_keep.append('avg_words_student')\n",
    "columns_to_keep.append('n_words_student')\n",
    "columns_to_keep.append('n_msg_student')\n",
    "columns_to_keep.append('tokens')\n",
    "columns_to_keep.append('student_rating_cat')\n",
    "\n",
    "final_df = res_df[columns_to_keep]\n",
    "\n",
    "final_df = final_df.astype({'student_rating_cat':int})\n",
    "\n",
    "mean_tutor_age = final_df.tutor_age.mean().astype(int)\n",
    "for i in final_df[final_df.tutor_age.isna()].index:\n",
    "    final_df.loc[i, ['tutor_age']] = mean_tutor_age"
   ]
  },
  {
   "cell_type": "markdown",
   "metadata": {
    "colab_type": "text",
    "id": "cIisEMROqmUY"
   },
   "source": [
    "## Guardado del archivo de resultados"
   ]
  },
  {
   "cell_type": "code",
   "execution_count": 12,
   "metadata": {
    "colab": {},
    "colab_type": "code",
    "id": "SwQeT_TqqmUZ"
   },
   "outputs": [],
   "source": [
    "# Salva archivo csv con el prefijo del archivo procesado\n",
    "curated_data_file_name = msg_data_file_name.split('_')[0] + '_curated_data.csv'\n",
    "curated_full_data_file_name = os.path.join(data_dir, curated_data_file_name)\n",
    "final_df.to_csv(curated_full_data_file_name, index=False)"
   ]
  },
  {
   "cell_type": "markdown",
   "metadata": {
    "colab_type": "text",
    "id": "Wd__0B7_qmUc"
   },
   "source": [
    "### Información del conjunto de datos generado"
   ]
  },
  {
   "cell_type": "code",
   "execution_count": 13,
   "metadata": {
    "colab": {},
    "colab_type": "code",
    "id": "BaA9vZqSqmUd",
    "outputId": "c99ab1a6-6ae7-4250-f33c-4c5a05f88efc",
    "tags": []
   },
   "outputs": [
    {
     "output_type": "stream",
     "name": "stdout",
     "text": "<class 'pandas.core.frame.DataFrame'>\nInt64Index: 17429 entries, 0 to 25692\nData columns (total 21 columns):\n #   Column                            Non-Null Count  Dtype  \n---  ------                            --------------  -----  \n 0   tutor_id                          17429 non-null  Int64  \n 1   tutor_age                         17429 non-null  Int64  \n 2   session_tag_no_material           17429 non-null  Int64  \n 3   session_tag_student_left          17429 non-null  Int64  \n 4   session_tag_student_not_engaging  17429 non-null  Int64  \n 5   student_complained                17429 non-null  Int64  \n 6   student_complaint_clarity         17429 non-null  Int64  \n 7   student_complaint_speed           17429 non-null  Int64  \n 8   student_complaint_subject         17429 non-null  Int64  \n 9   student_complaint_other           17429 non-null  Int64  \n 10  session_tag_cheating              17429 non-null  Int64  \n 11  session_tag_inappropriate         17429 non-null  Int64  \n 12  session_tag_other_subject         17429 non-null  Int64  \n 13  avg_words_tutor                   17429 non-null  float64\n 14  n_words_tutor                     17429 non-null  float64\n 15  n_msg_tutor                       17429 non-null  float64\n 16  avg_words_student                 17429 non-null  float64\n 17  n_words_student                   17429 non-null  float64\n 18  n_msg_student                     17429 non-null  float64\n 19  tokens                            17429 non-null  object \n 20  student_rating_cat                17429 non-null  int64  \ndtypes: Int64(13), float64(6), int64(1), object(1)\nmemory usage: 3.8+ MB\n"
    }
   ],
   "source": [
    "final_df.info()"
   ]
  },
  {
   "cell_type": "markdown",
   "metadata": {
    "colab_type": "text",
    "id": "7BrG9hH8qmUg"
   },
   "source": [
    "### Descripción del conjunto de datos generado"
   ]
  },
  {
   "cell_type": "code",
   "execution_count": 14,
   "metadata": {
    "colab": {},
    "colab_type": "code",
    "id": "X3dq9sGoqmUg",
    "outputId": "ade1a7e3-62a8-443a-dfce-e33ce94802e7"
   },
   "outputs": [
    {
     "output_type": "execute_result",
     "data": {
      "text/plain": "            tutor_id     tutor_age  session_tag_no_material  \\\ncount   17429.000000  17429.000000             17429.000000   \nmean   136277.454472     37.166045                 0.018131   \nstd    149987.026748     13.634482                 0.133428   \nmin         2.000000     15.000000                 0.000000   \n25%     34864.000000     23.000000                 0.000000   \n50%     49985.000000     33.000000                 0.000000   \n75%    281457.000000     52.000000                 0.000000   \nmax    510148.000000     63.000000                 1.000000   \n\n       session_tag_student_left  session_tag_student_not_engaging  \\\ncount              17429.000000                      17429.000000   \nmean                   0.094268                          0.014516   \nstd                    0.292210                          0.119608   \nmin                    0.000000                          0.000000   \n25%                    0.000000                          0.000000   \n50%                    0.000000                          0.000000   \n75%                    0.000000                          0.000000   \nmax                    1.000000                          1.000000   \n\n       student_complained  student_complaint_clarity  student_complaint_speed  \\\ncount             17429.0                    17429.0                  17429.0   \nmean                  0.0                        0.0                      0.0   \nstd                   0.0                        0.0                      0.0   \nmin                   0.0                        0.0                      0.0   \n25%                   0.0                        0.0                      0.0   \n50%                   0.0                        0.0                      0.0   \n75%                   0.0                        0.0                      0.0   \nmax                   0.0                        0.0                      0.0   \n\n       student_complaint_subject  student_complaint_other  \\\ncount                    17429.0                  17429.0   \nmean                         0.0                      0.0   \nstd                          0.0                      0.0   \nmin                          0.0                      0.0   \n25%                          0.0                      0.0   \n50%                          0.0                      0.0   \n75%                          0.0                      0.0   \nmax                          0.0                      0.0   \n\n       session_tag_cheating  session_tag_inappropriate  \\\ncount          17429.000000               17429.000000   \nmean               0.011131                   0.017959   \nstd                0.104917                   0.132805   \nmin                0.000000                   0.000000   \n25%                0.000000                   0.000000   \n50%                0.000000                   0.000000   \n75%                0.000000                   0.000000   \nmax                1.000000                   1.000000   \n\n       session_tag_other_subject  avg_words_tutor  n_words_tutor  \\\ncount               17429.000000     17429.000000   17429.000000   \nmean                    0.009467        11.507026     427.743760   \nstd                     0.096840         4.705331     465.027859   \nmin                     0.000000         0.000000       0.000000   \n25%                     0.000000         8.625000     120.000000   \n50%                     0.000000        10.600000     286.000000   \n75%                     0.000000        13.400000     567.000000   \nmax                     1.000000        59.000000    8062.000000   \n\n        n_msg_tutor  avg_words_student  n_words_student  n_msg_student  \\\ncount  17429.000000       17429.000000     17429.000000   17429.000000   \nmean      41.699466           4.071113       128.776924      30.621091   \nstd       48.330339           2.144409       146.949457      32.894722   \nmin        0.000000           0.000000         0.000000       0.000000   \n25%       10.000000           2.762376        35.000000      10.000000   \n50%       27.000000           3.769231        84.000000      21.000000   \n75%       55.000000           5.000000       166.000000      39.000000   \nmax      824.000000         125.750000      2202.000000     563.000000   \n\n       student_rating_cat  \ncount        17429.000000  \nmean             0.793562  \nstd              0.404760  \nmin              0.000000  \n25%              1.000000  \n50%              1.000000  \n75%              1.000000  \nmax              1.000000  ",
      "text/html": "<div>\n<style scoped>\n    .dataframe tbody tr th:only-of-type {\n        vertical-align: middle;\n    }\n\n    .dataframe tbody tr th {\n        vertical-align: top;\n    }\n\n    .dataframe thead th {\n        text-align: right;\n    }\n</style>\n<table border=\"1\" class=\"dataframe\">\n  <thead>\n    <tr style=\"text-align: right;\">\n      <th></th>\n      <th>tutor_id</th>\n      <th>tutor_age</th>\n      <th>session_tag_no_material</th>\n      <th>session_tag_student_left</th>\n      <th>session_tag_student_not_engaging</th>\n      <th>student_complained</th>\n      <th>student_complaint_clarity</th>\n      <th>student_complaint_speed</th>\n      <th>student_complaint_subject</th>\n      <th>student_complaint_other</th>\n      <th>session_tag_cheating</th>\n      <th>session_tag_inappropriate</th>\n      <th>session_tag_other_subject</th>\n      <th>avg_words_tutor</th>\n      <th>n_words_tutor</th>\n      <th>n_msg_tutor</th>\n      <th>avg_words_student</th>\n      <th>n_words_student</th>\n      <th>n_msg_student</th>\n      <th>student_rating_cat</th>\n    </tr>\n  </thead>\n  <tbody>\n    <tr>\n      <th>count</th>\n      <td>17429.000000</td>\n      <td>17429.000000</td>\n      <td>17429.000000</td>\n      <td>17429.000000</td>\n      <td>17429.000000</td>\n      <td>17429.0</td>\n      <td>17429.0</td>\n      <td>17429.0</td>\n      <td>17429.0</td>\n      <td>17429.0</td>\n      <td>17429.000000</td>\n      <td>17429.000000</td>\n      <td>17429.000000</td>\n      <td>17429.000000</td>\n      <td>17429.000000</td>\n      <td>17429.000000</td>\n      <td>17429.000000</td>\n      <td>17429.000000</td>\n      <td>17429.000000</td>\n      <td>17429.000000</td>\n    </tr>\n    <tr>\n      <th>mean</th>\n      <td>136277.454472</td>\n      <td>37.166045</td>\n      <td>0.018131</td>\n      <td>0.094268</td>\n      <td>0.014516</td>\n      <td>0.0</td>\n      <td>0.0</td>\n      <td>0.0</td>\n      <td>0.0</td>\n      <td>0.0</td>\n      <td>0.011131</td>\n      <td>0.017959</td>\n      <td>0.009467</td>\n      <td>11.507026</td>\n      <td>427.743760</td>\n      <td>41.699466</td>\n      <td>4.071113</td>\n      <td>128.776924</td>\n      <td>30.621091</td>\n      <td>0.793562</td>\n    </tr>\n    <tr>\n      <th>std</th>\n      <td>149987.026748</td>\n      <td>13.634482</td>\n      <td>0.133428</td>\n      <td>0.292210</td>\n      <td>0.119608</td>\n      <td>0.0</td>\n      <td>0.0</td>\n      <td>0.0</td>\n      <td>0.0</td>\n      <td>0.0</td>\n      <td>0.104917</td>\n      <td>0.132805</td>\n      <td>0.096840</td>\n      <td>4.705331</td>\n      <td>465.027859</td>\n      <td>48.330339</td>\n      <td>2.144409</td>\n      <td>146.949457</td>\n      <td>32.894722</td>\n      <td>0.404760</td>\n    </tr>\n    <tr>\n      <th>min</th>\n      <td>2.000000</td>\n      <td>15.000000</td>\n      <td>0.000000</td>\n      <td>0.000000</td>\n      <td>0.000000</td>\n      <td>0.0</td>\n      <td>0.0</td>\n      <td>0.0</td>\n      <td>0.0</td>\n      <td>0.0</td>\n      <td>0.000000</td>\n      <td>0.000000</td>\n      <td>0.000000</td>\n      <td>0.000000</td>\n      <td>0.000000</td>\n      <td>0.000000</td>\n      <td>0.000000</td>\n      <td>0.000000</td>\n      <td>0.000000</td>\n      <td>0.000000</td>\n    </tr>\n    <tr>\n      <th>25%</th>\n      <td>34864.000000</td>\n      <td>23.000000</td>\n      <td>0.000000</td>\n      <td>0.000000</td>\n      <td>0.000000</td>\n      <td>0.0</td>\n      <td>0.0</td>\n      <td>0.0</td>\n      <td>0.0</td>\n      <td>0.0</td>\n      <td>0.000000</td>\n      <td>0.000000</td>\n      <td>0.000000</td>\n      <td>8.625000</td>\n      <td>120.000000</td>\n      <td>10.000000</td>\n      <td>2.762376</td>\n      <td>35.000000</td>\n      <td>10.000000</td>\n      <td>1.000000</td>\n    </tr>\n    <tr>\n      <th>50%</th>\n      <td>49985.000000</td>\n      <td>33.000000</td>\n      <td>0.000000</td>\n      <td>0.000000</td>\n      <td>0.000000</td>\n      <td>0.0</td>\n      <td>0.0</td>\n      <td>0.0</td>\n      <td>0.0</td>\n      <td>0.0</td>\n      <td>0.000000</td>\n      <td>0.000000</td>\n      <td>0.000000</td>\n      <td>10.600000</td>\n      <td>286.000000</td>\n      <td>27.000000</td>\n      <td>3.769231</td>\n      <td>84.000000</td>\n      <td>21.000000</td>\n      <td>1.000000</td>\n    </tr>\n    <tr>\n      <th>75%</th>\n      <td>281457.000000</td>\n      <td>52.000000</td>\n      <td>0.000000</td>\n      <td>0.000000</td>\n      <td>0.000000</td>\n      <td>0.0</td>\n      <td>0.0</td>\n      <td>0.0</td>\n      <td>0.0</td>\n      <td>0.0</td>\n      <td>0.000000</td>\n      <td>0.000000</td>\n      <td>0.000000</td>\n      <td>13.400000</td>\n      <td>567.000000</td>\n      <td>55.000000</td>\n      <td>5.000000</td>\n      <td>166.000000</td>\n      <td>39.000000</td>\n      <td>1.000000</td>\n    </tr>\n    <tr>\n      <th>max</th>\n      <td>510148.000000</td>\n      <td>63.000000</td>\n      <td>1.000000</td>\n      <td>1.000000</td>\n      <td>1.000000</td>\n      <td>0.0</td>\n      <td>0.0</td>\n      <td>0.0</td>\n      <td>0.0</td>\n      <td>0.0</td>\n      <td>1.000000</td>\n      <td>1.000000</td>\n      <td>1.000000</td>\n      <td>59.000000</td>\n      <td>8062.000000</td>\n      <td>824.000000</td>\n      <td>125.750000</td>\n      <td>2202.000000</td>\n      <td>563.000000</td>\n      <td>1.000000</td>\n    </tr>\n  </tbody>\n</table>\n</div>"
     },
     "metadata": {},
     "execution_count": 14
    }
   ],
   "source": [
    "final_df.describe()"
   ]
  },
  {
   "cell_type": "markdown",
   "metadata": {},
   "source": [
    "### Visualización del desequilibrio de clases en la variable a predecir"
   ]
  },
  {
   "cell_type": "code",
   "execution_count": 15,
   "metadata": {},
   "outputs": [
    {
     "output_type": "display_data",
     "data": {
      "text/plain": "<Figure size 576x576 with 1 Axes>",
      "image/svg+xml": "<?xml version=\"1.0\" encoding=\"utf-8\" standalone=\"no\"?>\n<!DOCTYPE svg PUBLIC \"-//W3C//DTD SVG 1.1//EN\"\n  \"http://www.w3.org/Graphics/SVG/1.1/DTD/svg11.dtd\">\n<!-- Created with matplotlib (https://matplotlib.org/) -->\n<svg height=\"496.552187pt\" version=\"1.1\" viewBox=\"0 0 513.290625 496.552187\" width=\"513.290625pt\" xmlns=\"http://www.w3.org/2000/svg\" xmlns:xlink=\"http://www.w3.org/1999/xlink\">\n <defs>\n  <style type=\"text/css\">\n*{stroke-linecap:butt;stroke-linejoin:round;}\n  </style>\n </defs>\n <g id=\"figure_1\">\n  <g id=\"patch_1\">\n   <path d=\"M 0 496.552187 \nL 513.290625 496.552187 \nL 513.290625 0 \nL 0 0 \nz\n\" style=\"fill:none;\"/>\n  </g>\n  <g id=\"axes_1\">\n   <g id=\"patch_2\">\n    <path d=\"M 59.690625 458.717812 \nL 506.090625 458.717812 \nL 506.090625 23.837812 \nL 59.690625 23.837812 \nz\n\" style=\"fill:#ffffff;\"/>\n   </g>\n   <g id=\"patch_3\">\n    <path clip-path=\"url(#pae68503413)\" d=\"M 82.010625 458.717812 \nL 260.570625 458.717812 \nL 260.570625 350.975147 \nL 82.010625 350.975147 \nz\n\" style=\"fill:#3274a1;\"/>\n   </g>\n   <g id=\"patch_4\">\n    <path clip-path=\"url(#pae68503413)\" d=\"M 305.210625 458.717812 \nL 483.770625 458.717812 \nL 483.770625 44.546384 \nL 305.210625 44.546384 \nz\n\" style=\"fill:#e1812c;\"/>\n   </g>\n   <g id=\"matplotlib.axis_1\">\n    <g id=\"xtick_1\">\n     <g id=\"line2d_1\">\n      <defs>\n       <path d=\"M 0 0 \nL 0 3.5 \n\" id=\"m97a577d3b4\" style=\"stroke:#000000;stroke-width:0.8;\"/>\n      </defs>\n      <g>\n       <use style=\"stroke:#000000;stroke-width:0.8;\" x=\"171.290625\" xlink:href=\"#m97a577d3b4\" y=\"458.717812\"/>\n      </g>\n     </g>\n     <g id=\"text_1\">\n      <!-- 0 -->\n      <defs>\n       <path d=\"M 31.78125 66.40625 \nQ 24.171875 66.40625 20.328125 58.90625 \nQ 16.5 51.421875 16.5 36.375 \nQ 16.5 21.390625 20.328125 13.890625 \nQ 24.171875 6.390625 31.78125 6.390625 \nQ 39.453125 6.390625 43.28125 13.890625 \nQ 47.125 21.390625 47.125 36.375 \nQ 47.125 51.421875 43.28125 58.90625 \nQ 39.453125 66.40625 31.78125 66.40625 \nz\nM 31.78125 74.21875 \nQ 44.046875 74.21875 50.515625 64.515625 \nQ 56.984375 54.828125 56.984375 36.375 \nQ 56.984375 17.96875 50.515625 8.265625 \nQ 44.046875 -1.421875 31.78125 -1.421875 \nQ 19.53125 -1.421875 13.0625 8.265625 \nQ 6.59375 17.96875 6.59375 36.375 \nQ 6.59375 54.828125 13.0625 64.515625 \nQ 19.53125 74.21875 31.78125 74.21875 \nz\n\" id=\"DejaVuSans-48\"/>\n      </defs>\n      <g transform=\"translate(168.109375 473.31625)scale(0.1 -0.1)\">\n       <use xlink:href=\"#DejaVuSans-48\"/>\n      </g>\n     </g>\n    </g>\n    <g id=\"xtick_2\">\n     <g id=\"line2d_2\">\n      <g>\n       <use style=\"stroke:#000000;stroke-width:0.8;\" x=\"394.490625\" xlink:href=\"#m97a577d3b4\" y=\"458.717812\"/>\n      </g>\n     </g>\n     <g id=\"text_2\">\n      <!-- 1 -->\n      <defs>\n       <path d=\"M 12.40625 8.296875 \nL 28.515625 8.296875 \nL 28.515625 63.921875 \nL 10.984375 60.40625 \nL 10.984375 69.390625 \nL 28.421875 72.90625 \nL 38.28125 72.90625 \nL 38.28125 8.296875 \nL 54.390625 8.296875 \nL 54.390625 0 \nL 12.40625 0 \nz\n\" id=\"DejaVuSans-49\"/>\n      </defs>\n      <g transform=\"translate(391.309375 473.31625)scale(0.1 -0.1)\">\n       <use xlink:href=\"#DejaVuSans-49\"/>\n      </g>\n     </g>\n    </g>\n    <g id=\"text_3\">\n     <!-- student_rating_cat -->\n     <defs>\n      <path d=\"M 44.28125 53.078125 \nL 44.28125 44.578125 \nQ 40.484375 46.53125 36.375 47.5 \nQ 32.28125 48.484375 27.875 48.484375 \nQ 21.1875 48.484375 17.84375 46.4375 \nQ 14.5 44.390625 14.5 40.28125 \nQ 14.5 37.15625 16.890625 35.375 \nQ 19.28125 33.59375 26.515625 31.984375 \nL 29.59375 31.296875 \nQ 39.15625 29.25 43.1875 25.515625 \nQ 47.21875 21.78125 47.21875 15.09375 \nQ 47.21875 7.46875 41.1875 3.015625 \nQ 35.15625 -1.421875 24.609375 -1.421875 \nQ 20.21875 -1.421875 15.453125 -0.5625 \nQ 10.6875 0.296875 5.421875 2 \nL 5.421875 11.28125 \nQ 10.40625 8.6875 15.234375 7.390625 \nQ 20.0625 6.109375 24.8125 6.109375 \nQ 31.15625 6.109375 34.5625 8.28125 \nQ 37.984375 10.453125 37.984375 14.40625 \nQ 37.984375 18.0625 35.515625 20.015625 \nQ 33.0625 21.96875 24.703125 23.78125 \nL 21.578125 24.515625 \nQ 13.234375 26.265625 9.515625 29.90625 \nQ 5.8125 33.546875 5.8125 39.890625 \nQ 5.8125 47.609375 11.28125 51.796875 \nQ 16.75 56 26.8125 56 \nQ 31.78125 56 36.171875 55.265625 \nQ 40.578125 54.546875 44.28125 53.078125 \nz\n\" id=\"DejaVuSans-115\"/>\n      <path d=\"M 18.3125 70.21875 \nL 18.3125 54.6875 \nL 36.8125 54.6875 \nL 36.8125 47.703125 \nL 18.3125 47.703125 \nL 18.3125 18.015625 \nQ 18.3125 11.328125 20.140625 9.421875 \nQ 21.96875 7.515625 27.59375 7.515625 \nL 36.8125 7.515625 \nL 36.8125 0 \nL 27.59375 0 \nQ 17.1875 0 13.234375 3.875 \nQ 9.28125 7.765625 9.28125 18.015625 \nL 9.28125 47.703125 \nL 2.6875 47.703125 \nL 2.6875 54.6875 \nL 9.28125 54.6875 \nL 9.28125 70.21875 \nz\n\" id=\"DejaVuSans-116\"/>\n      <path d=\"M 8.5 21.578125 \nL 8.5 54.6875 \nL 17.484375 54.6875 \nL 17.484375 21.921875 \nQ 17.484375 14.15625 20.5 10.265625 \nQ 23.53125 6.390625 29.59375 6.390625 \nQ 36.859375 6.390625 41.078125 11.03125 \nQ 45.3125 15.671875 45.3125 23.6875 \nL 45.3125 54.6875 \nL 54.296875 54.6875 \nL 54.296875 0 \nL 45.3125 0 \nL 45.3125 8.40625 \nQ 42.046875 3.421875 37.71875 1 \nQ 33.40625 -1.421875 27.6875 -1.421875 \nQ 18.265625 -1.421875 13.375 4.4375 \nQ 8.5 10.296875 8.5 21.578125 \nz\nM 31.109375 56 \nz\n\" id=\"DejaVuSans-117\"/>\n      <path d=\"M 45.40625 46.390625 \nL 45.40625 75.984375 \nL 54.390625 75.984375 \nL 54.390625 0 \nL 45.40625 0 \nL 45.40625 8.203125 \nQ 42.578125 3.328125 38.25 0.953125 \nQ 33.9375 -1.421875 27.875 -1.421875 \nQ 17.96875 -1.421875 11.734375 6.484375 \nQ 5.515625 14.40625 5.515625 27.296875 \nQ 5.515625 40.1875 11.734375 48.09375 \nQ 17.96875 56 27.875 56 \nQ 33.9375 56 38.25 53.625 \nQ 42.578125 51.265625 45.40625 46.390625 \nz\nM 14.796875 27.296875 \nQ 14.796875 17.390625 18.875 11.75 \nQ 22.953125 6.109375 30.078125 6.109375 \nQ 37.203125 6.109375 41.296875 11.75 \nQ 45.40625 17.390625 45.40625 27.296875 \nQ 45.40625 37.203125 41.296875 42.84375 \nQ 37.203125 48.484375 30.078125 48.484375 \nQ 22.953125 48.484375 18.875 42.84375 \nQ 14.796875 37.203125 14.796875 27.296875 \nz\n\" id=\"DejaVuSans-100\"/>\n      <path d=\"M 56.203125 29.59375 \nL 56.203125 25.203125 \nL 14.890625 25.203125 \nQ 15.484375 15.921875 20.484375 11.0625 \nQ 25.484375 6.203125 34.421875 6.203125 \nQ 39.59375 6.203125 44.453125 7.46875 \nQ 49.3125 8.734375 54.109375 11.28125 \nL 54.109375 2.78125 \nQ 49.265625 0.734375 44.1875 -0.34375 \nQ 39.109375 -1.421875 33.890625 -1.421875 \nQ 20.796875 -1.421875 13.15625 6.1875 \nQ 5.515625 13.8125 5.515625 26.8125 \nQ 5.515625 40.234375 12.765625 48.109375 \nQ 20.015625 56 32.328125 56 \nQ 43.359375 56 49.78125 48.890625 \nQ 56.203125 41.796875 56.203125 29.59375 \nz\nM 47.21875 32.234375 \nQ 47.125 39.59375 43.09375 43.984375 \nQ 39.0625 48.390625 32.421875 48.390625 \nQ 24.90625 48.390625 20.390625 44.140625 \nQ 15.875 39.890625 15.1875 32.171875 \nz\n\" id=\"DejaVuSans-101\"/>\n      <path d=\"M 54.890625 33.015625 \nL 54.890625 0 \nL 45.90625 0 \nL 45.90625 32.71875 \nQ 45.90625 40.484375 42.875 44.328125 \nQ 39.84375 48.1875 33.796875 48.1875 \nQ 26.515625 48.1875 22.3125 43.546875 \nQ 18.109375 38.921875 18.109375 30.90625 \nL 18.109375 0 \nL 9.078125 0 \nL 9.078125 54.6875 \nL 18.109375 54.6875 \nL 18.109375 46.1875 \nQ 21.34375 51.125 25.703125 53.5625 \nQ 30.078125 56 35.796875 56 \nQ 45.21875 56 50.046875 50.171875 \nQ 54.890625 44.34375 54.890625 33.015625 \nz\n\" id=\"DejaVuSans-110\"/>\n      <path d=\"M 50.984375 -16.609375 \nL 50.984375 -23.578125 \nL -0.984375 -23.578125 \nL -0.984375 -16.609375 \nz\n\" id=\"DejaVuSans-95\"/>\n      <path d=\"M 41.109375 46.296875 \nQ 39.59375 47.171875 37.8125 47.578125 \nQ 36.03125 48 33.890625 48 \nQ 26.265625 48 22.1875 43.046875 \nQ 18.109375 38.09375 18.109375 28.8125 \nL 18.109375 0 \nL 9.078125 0 \nL 9.078125 54.6875 \nL 18.109375 54.6875 \nL 18.109375 46.1875 \nQ 20.953125 51.171875 25.484375 53.578125 \nQ 30.03125 56 36.53125 56 \nQ 37.453125 56 38.578125 55.875 \nQ 39.703125 55.765625 41.0625 55.515625 \nz\n\" id=\"DejaVuSans-114\"/>\n      <path d=\"M 34.28125 27.484375 \nQ 23.390625 27.484375 19.1875 25 \nQ 14.984375 22.515625 14.984375 16.5 \nQ 14.984375 11.71875 18.140625 8.90625 \nQ 21.296875 6.109375 26.703125 6.109375 \nQ 34.1875 6.109375 38.703125 11.40625 \nQ 43.21875 16.703125 43.21875 25.484375 \nL 43.21875 27.484375 \nz\nM 52.203125 31.203125 \nL 52.203125 0 \nL 43.21875 0 \nL 43.21875 8.296875 \nQ 40.140625 3.328125 35.546875 0.953125 \nQ 30.953125 -1.421875 24.3125 -1.421875 \nQ 15.921875 -1.421875 10.953125 3.296875 \nQ 6 8.015625 6 15.921875 \nQ 6 25.140625 12.171875 29.828125 \nQ 18.359375 34.515625 30.609375 34.515625 \nL 43.21875 34.515625 \nL 43.21875 35.40625 \nQ 43.21875 41.609375 39.140625 45 \nQ 35.0625 48.390625 27.6875 48.390625 \nQ 23 48.390625 18.546875 47.265625 \nQ 14.109375 46.140625 10.015625 43.890625 \nL 10.015625 52.203125 \nQ 14.9375 54.109375 19.578125 55.046875 \nQ 24.21875 56 28.609375 56 \nQ 40.484375 56 46.34375 49.84375 \nQ 52.203125 43.703125 52.203125 31.203125 \nz\n\" id=\"DejaVuSans-97\"/>\n      <path d=\"M 9.421875 54.6875 \nL 18.40625 54.6875 \nL 18.40625 0 \nL 9.421875 0 \nz\nM 9.421875 75.984375 \nL 18.40625 75.984375 \nL 18.40625 64.59375 \nL 9.421875 64.59375 \nz\n\" id=\"DejaVuSans-105\"/>\n      <path d=\"M 45.40625 27.984375 \nQ 45.40625 37.75 41.375 43.109375 \nQ 37.359375 48.484375 30.078125 48.484375 \nQ 22.859375 48.484375 18.828125 43.109375 \nQ 14.796875 37.75 14.796875 27.984375 \nQ 14.796875 18.265625 18.828125 12.890625 \nQ 22.859375 7.515625 30.078125 7.515625 \nQ 37.359375 7.515625 41.375 12.890625 \nQ 45.40625 18.265625 45.40625 27.984375 \nz\nM 54.390625 6.78125 \nQ 54.390625 -7.171875 48.1875 -13.984375 \nQ 42 -20.796875 29.203125 -20.796875 \nQ 24.46875 -20.796875 20.265625 -20.09375 \nQ 16.0625 -19.390625 12.109375 -17.921875 \nL 12.109375 -9.1875 \nQ 16.0625 -11.328125 19.921875 -12.34375 \nQ 23.78125 -13.375 27.78125 -13.375 \nQ 36.625 -13.375 41.015625 -8.765625 \nQ 45.40625 -4.15625 45.40625 5.171875 \nL 45.40625 9.625 \nQ 42.625 4.78125 38.28125 2.390625 \nQ 33.9375 0 27.875 0 \nQ 17.828125 0 11.671875 7.65625 \nQ 5.515625 15.328125 5.515625 27.984375 \nQ 5.515625 40.671875 11.671875 48.328125 \nQ 17.828125 56 27.875 56 \nQ 33.9375 56 38.28125 53.609375 \nQ 42.625 51.21875 45.40625 46.390625 \nL 45.40625 54.6875 \nL 54.390625 54.6875 \nz\n\" id=\"DejaVuSans-103\"/>\n      <path d=\"M 48.78125 52.59375 \nL 48.78125 44.1875 \nQ 44.96875 46.296875 41.140625 47.34375 \nQ 37.3125 48.390625 33.40625 48.390625 \nQ 24.65625 48.390625 19.8125 42.84375 \nQ 14.984375 37.3125 14.984375 27.296875 \nQ 14.984375 17.28125 19.8125 11.734375 \nQ 24.65625 6.203125 33.40625 6.203125 \nQ 37.3125 6.203125 41.140625 7.25 \nQ 44.96875 8.296875 48.78125 10.40625 \nL 48.78125 2.09375 \nQ 45.015625 0.34375 40.984375 -0.53125 \nQ 36.96875 -1.421875 32.421875 -1.421875 \nQ 20.0625 -1.421875 12.78125 6.34375 \nQ 5.515625 14.109375 5.515625 27.296875 \nQ 5.515625 40.671875 12.859375 48.328125 \nQ 20.21875 56 33.015625 56 \nQ 37.15625 56 41.109375 55.140625 \nQ 45.0625 54.296875 48.78125 52.59375 \nz\n\" id=\"DejaVuSans-99\"/>\n     </defs>\n     <g transform=\"translate(236.192187 486.994375)scale(0.1 -0.1)\">\n      <use xlink:href=\"#DejaVuSans-115\"/>\n      <use x=\"52.099609\" xlink:href=\"#DejaVuSans-116\"/>\n      <use x=\"91.308594\" xlink:href=\"#DejaVuSans-117\"/>\n      <use x=\"154.6875\" xlink:href=\"#DejaVuSans-100\"/>\n      <use x=\"218.164062\" xlink:href=\"#DejaVuSans-101\"/>\n      <use x=\"279.6875\" xlink:href=\"#DejaVuSans-110\"/>\n      <use x=\"343.066406\" xlink:href=\"#DejaVuSans-116\"/>\n      <use x=\"382.275391\" xlink:href=\"#DejaVuSans-95\"/>\n      <use x=\"432.275391\" xlink:href=\"#DejaVuSans-114\"/>\n      <use x=\"473.388672\" xlink:href=\"#DejaVuSans-97\"/>\n      <use x=\"534.667969\" xlink:href=\"#DejaVuSans-116\"/>\n      <use x=\"573.876953\" xlink:href=\"#DejaVuSans-105\"/>\n      <use x=\"601.660156\" xlink:href=\"#DejaVuSans-110\"/>\n      <use x=\"665.039062\" xlink:href=\"#DejaVuSans-103\"/>\n      <use x=\"728.515625\" xlink:href=\"#DejaVuSans-95\"/>\n      <use x=\"778.515625\" xlink:href=\"#DejaVuSans-99\"/>\n      <use x=\"833.496094\" xlink:href=\"#DejaVuSans-97\"/>\n      <use x=\"894.775391\" xlink:href=\"#DejaVuSans-116\"/>\n     </g>\n    </g>\n   </g>\n   <g id=\"matplotlib.axis_2\">\n    <g id=\"ytick_1\">\n     <g id=\"line2d_3\">\n      <defs>\n       <path d=\"M 0 0 \nL -3.5 0 \n\" id=\"m766e8b1f6a\" style=\"stroke:#000000;stroke-width:0.8;\"/>\n      </defs>\n      <g>\n       <use style=\"stroke:#000000;stroke-width:0.8;\" x=\"59.690625\" xlink:href=\"#m766e8b1f6a\" y=\"458.717812\"/>\n      </g>\n     </g>\n     <g id=\"text_4\">\n      <!-- 0 -->\n      <g transform=\"translate(46.328125 462.517031)scale(0.1 -0.1)\">\n       <use xlink:href=\"#DejaVuSans-48\"/>\n      </g>\n     </g>\n    </g>\n    <g id=\"ytick_2\">\n     <g id=\"line2d_4\">\n      <g>\n       <use style=\"stroke:#000000;stroke-width:0.8;\" x=\"59.690625\" xlink:href=\"#m766e8b1f6a\" y=\"398.827504\"/>\n      </g>\n     </g>\n     <g id=\"text_5\">\n      <!-- 2000 -->\n      <defs>\n       <path d=\"M 19.1875 8.296875 \nL 53.609375 8.296875 \nL 53.609375 0 \nL 7.328125 0 \nL 7.328125 8.296875 \nQ 12.9375 14.109375 22.625 23.890625 \nQ 32.328125 33.6875 34.8125 36.53125 \nQ 39.546875 41.84375 41.421875 45.53125 \nQ 43.3125 49.21875 43.3125 52.78125 \nQ 43.3125 58.59375 39.234375 62.25 \nQ 35.15625 65.921875 28.609375 65.921875 \nQ 23.96875 65.921875 18.8125 64.3125 \nQ 13.671875 62.703125 7.8125 59.421875 \nL 7.8125 69.390625 \nQ 13.765625 71.78125 18.9375 73 \nQ 24.125 74.21875 28.421875 74.21875 \nQ 39.75 74.21875 46.484375 68.546875 \nQ 53.21875 62.890625 53.21875 53.421875 \nQ 53.21875 48.921875 51.53125 44.890625 \nQ 49.859375 40.875 45.40625 35.40625 \nQ 44.1875 33.984375 37.640625 27.21875 \nQ 31.109375 20.453125 19.1875 8.296875 \nz\n\" id=\"DejaVuSans-50\"/>\n      </defs>\n      <g transform=\"translate(27.240625 402.626723)scale(0.1 -0.1)\">\n       <use xlink:href=\"#DejaVuSans-50\"/>\n       <use x=\"63.623047\" xlink:href=\"#DejaVuSans-48\"/>\n       <use x=\"127.246094\" xlink:href=\"#DejaVuSans-48\"/>\n       <use x=\"190.869141\" xlink:href=\"#DejaVuSans-48\"/>\n      </g>\n     </g>\n    </g>\n    <g id=\"ytick_3\">\n     <g id=\"line2d_5\">\n      <g>\n       <use style=\"stroke:#000000;stroke-width:0.8;\" x=\"59.690625\" xlink:href=\"#m766e8b1f6a\" y=\"338.937195\"/>\n      </g>\n     </g>\n     <g id=\"text_6\">\n      <!-- 4000 -->\n      <defs>\n       <path d=\"M 37.796875 64.3125 \nL 12.890625 25.390625 \nL 37.796875 25.390625 \nz\nM 35.203125 72.90625 \nL 47.609375 72.90625 \nL 47.609375 25.390625 \nL 58.015625 25.390625 \nL 58.015625 17.1875 \nL 47.609375 17.1875 \nL 47.609375 0 \nL 37.796875 0 \nL 37.796875 17.1875 \nL 4.890625 17.1875 \nL 4.890625 26.703125 \nz\n\" id=\"DejaVuSans-52\"/>\n      </defs>\n      <g transform=\"translate(27.240625 342.736414)scale(0.1 -0.1)\">\n       <use xlink:href=\"#DejaVuSans-52\"/>\n       <use x=\"63.623047\" xlink:href=\"#DejaVuSans-48\"/>\n       <use x=\"127.246094\" xlink:href=\"#DejaVuSans-48\"/>\n       <use x=\"190.869141\" xlink:href=\"#DejaVuSans-48\"/>\n      </g>\n     </g>\n    </g>\n    <g id=\"ytick_4\">\n     <g id=\"line2d_6\">\n      <g>\n       <use style=\"stroke:#000000;stroke-width:0.8;\" x=\"59.690625\" xlink:href=\"#m766e8b1f6a\" y=\"279.046887\"/>\n      </g>\n     </g>\n     <g id=\"text_7\">\n      <!-- 6000 -->\n      <defs>\n       <path d=\"M 33.015625 40.375 \nQ 26.375 40.375 22.484375 35.828125 \nQ 18.609375 31.296875 18.609375 23.390625 \nQ 18.609375 15.53125 22.484375 10.953125 \nQ 26.375 6.390625 33.015625 6.390625 \nQ 39.65625 6.390625 43.53125 10.953125 \nQ 47.40625 15.53125 47.40625 23.390625 \nQ 47.40625 31.296875 43.53125 35.828125 \nQ 39.65625 40.375 33.015625 40.375 \nz\nM 52.59375 71.296875 \nL 52.59375 62.3125 \nQ 48.875 64.0625 45.09375 64.984375 \nQ 41.3125 65.921875 37.59375 65.921875 \nQ 27.828125 65.921875 22.671875 59.328125 \nQ 17.53125 52.734375 16.796875 39.40625 \nQ 19.671875 43.65625 24.015625 45.921875 \nQ 28.375 48.1875 33.59375 48.1875 \nQ 44.578125 48.1875 50.953125 41.515625 \nQ 57.328125 34.859375 57.328125 23.390625 \nQ 57.328125 12.15625 50.6875 5.359375 \nQ 44.046875 -1.421875 33.015625 -1.421875 \nQ 20.359375 -1.421875 13.671875 8.265625 \nQ 6.984375 17.96875 6.984375 36.375 \nQ 6.984375 53.65625 15.1875 63.9375 \nQ 23.390625 74.21875 37.203125 74.21875 \nQ 40.921875 74.21875 44.703125 73.484375 \nQ 48.484375 72.75 52.59375 71.296875 \nz\n\" id=\"DejaVuSans-54\"/>\n      </defs>\n      <g transform=\"translate(27.240625 282.846106)scale(0.1 -0.1)\">\n       <use xlink:href=\"#DejaVuSans-54\"/>\n       <use x=\"63.623047\" xlink:href=\"#DejaVuSans-48\"/>\n       <use x=\"127.246094\" xlink:href=\"#DejaVuSans-48\"/>\n       <use x=\"190.869141\" xlink:href=\"#DejaVuSans-48\"/>\n      </g>\n     </g>\n    </g>\n    <g id=\"ytick_5\">\n     <g id=\"line2d_7\">\n      <g>\n       <use style=\"stroke:#000000;stroke-width:0.8;\" x=\"59.690625\" xlink:href=\"#m766e8b1f6a\" y=\"219.156578\"/>\n      </g>\n     </g>\n     <g id=\"text_8\">\n      <!-- 8000 -->\n      <defs>\n       <path d=\"M 31.78125 34.625 \nQ 24.75 34.625 20.71875 30.859375 \nQ 16.703125 27.09375 16.703125 20.515625 \nQ 16.703125 13.921875 20.71875 10.15625 \nQ 24.75 6.390625 31.78125 6.390625 \nQ 38.8125 6.390625 42.859375 10.171875 \nQ 46.921875 13.96875 46.921875 20.515625 \nQ 46.921875 27.09375 42.890625 30.859375 \nQ 38.875 34.625 31.78125 34.625 \nz\nM 21.921875 38.8125 \nQ 15.578125 40.375 12.03125 44.71875 \nQ 8.5 49.078125 8.5 55.328125 \nQ 8.5 64.0625 14.71875 69.140625 \nQ 20.953125 74.21875 31.78125 74.21875 \nQ 42.671875 74.21875 48.875 69.140625 \nQ 55.078125 64.0625 55.078125 55.328125 \nQ 55.078125 49.078125 51.53125 44.71875 \nQ 48 40.375 41.703125 38.8125 \nQ 48.828125 37.15625 52.796875 32.3125 \nQ 56.78125 27.484375 56.78125 20.515625 \nQ 56.78125 9.90625 50.3125 4.234375 \nQ 43.84375 -1.421875 31.78125 -1.421875 \nQ 19.734375 -1.421875 13.25 4.234375 \nQ 6.78125 9.90625 6.78125 20.515625 \nQ 6.78125 27.484375 10.78125 32.3125 \nQ 14.796875 37.15625 21.921875 38.8125 \nz\nM 18.3125 54.390625 \nQ 18.3125 48.734375 21.84375 45.5625 \nQ 25.390625 42.390625 31.78125 42.390625 \nQ 38.140625 42.390625 41.71875 45.5625 \nQ 45.3125 48.734375 45.3125 54.390625 \nQ 45.3125 60.0625 41.71875 63.234375 \nQ 38.140625 66.40625 31.78125 66.40625 \nQ 25.390625 66.40625 21.84375 63.234375 \nQ 18.3125 60.0625 18.3125 54.390625 \nz\n\" id=\"DejaVuSans-56\"/>\n      </defs>\n      <g transform=\"translate(27.240625 222.955797)scale(0.1 -0.1)\">\n       <use xlink:href=\"#DejaVuSans-56\"/>\n       <use x=\"63.623047\" xlink:href=\"#DejaVuSans-48\"/>\n       <use x=\"127.246094\" xlink:href=\"#DejaVuSans-48\"/>\n       <use x=\"190.869141\" xlink:href=\"#DejaVuSans-48\"/>\n      </g>\n     </g>\n    </g>\n    <g id=\"ytick_6\">\n     <g id=\"line2d_8\">\n      <g>\n       <use style=\"stroke:#000000;stroke-width:0.8;\" x=\"59.690625\" xlink:href=\"#m766e8b1f6a\" y=\"159.26627\"/>\n      </g>\n     </g>\n     <g id=\"text_9\">\n      <!-- 10000 -->\n      <g transform=\"translate(20.878125 163.065489)scale(0.1 -0.1)\">\n       <use xlink:href=\"#DejaVuSans-49\"/>\n       <use x=\"63.623047\" xlink:href=\"#DejaVuSans-48\"/>\n       <use x=\"127.246094\" xlink:href=\"#DejaVuSans-48\"/>\n       <use x=\"190.869141\" xlink:href=\"#DejaVuSans-48\"/>\n       <use x=\"254.492188\" xlink:href=\"#DejaVuSans-48\"/>\n      </g>\n     </g>\n    </g>\n    <g id=\"ytick_7\">\n     <g id=\"line2d_9\">\n      <g>\n       <use style=\"stroke:#000000;stroke-width:0.8;\" x=\"59.690625\" xlink:href=\"#m766e8b1f6a\" y=\"99.375961\"/>\n      </g>\n     </g>\n     <g id=\"text_10\">\n      <!-- 12000 -->\n      <g transform=\"translate(20.878125 103.17518)scale(0.1 -0.1)\">\n       <use xlink:href=\"#DejaVuSans-49\"/>\n       <use x=\"63.623047\" xlink:href=\"#DejaVuSans-50\"/>\n       <use x=\"127.246094\" xlink:href=\"#DejaVuSans-48\"/>\n       <use x=\"190.869141\" xlink:href=\"#DejaVuSans-48\"/>\n       <use x=\"254.492188\" xlink:href=\"#DejaVuSans-48\"/>\n      </g>\n     </g>\n    </g>\n    <g id=\"ytick_8\">\n     <g id=\"line2d_10\">\n      <g>\n       <use style=\"stroke:#000000;stroke-width:0.8;\" x=\"59.690625\" xlink:href=\"#m766e8b1f6a\" y=\"39.485653\"/>\n      </g>\n     </g>\n     <g id=\"text_11\">\n      <!-- 14000 -->\n      <g transform=\"translate(20.878125 43.284872)scale(0.1 -0.1)\">\n       <use xlink:href=\"#DejaVuSans-49\"/>\n       <use x=\"63.623047\" xlink:href=\"#DejaVuSans-52\"/>\n       <use x=\"127.246094\" xlink:href=\"#DejaVuSans-48\"/>\n       <use x=\"190.869141\" xlink:href=\"#DejaVuSans-48\"/>\n       <use x=\"254.492188\" xlink:href=\"#DejaVuSans-48\"/>\n      </g>\n     </g>\n    </g>\n    <g id=\"text_12\">\n     <!-- count -->\n     <defs>\n      <path d=\"M 30.609375 48.390625 \nQ 23.390625 48.390625 19.1875 42.75 \nQ 14.984375 37.109375 14.984375 27.296875 \nQ 14.984375 17.484375 19.15625 11.84375 \nQ 23.34375 6.203125 30.609375 6.203125 \nQ 37.796875 6.203125 41.984375 11.859375 \nQ 46.1875 17.53125 46.1875 27.296875 \nQ 46.1875 37.015625 41.984375 42.703125 \nQ 37.796875 48.390625 30.609375 48.390625 \nz\nM 30.609375 56 \nQ 42.328125 56 49.015625 48.375 \nQ 55.71875 40.765625 55.71875 27.296875 \nQ 55.71875 13.875 49.015625 6.21875 \nQ 42.328125 -1.421875 30.609375 -1.421875 \nQ 18.84375 -1.421875 12.171875 6.21875 \nQ 5.515625 13.875 5.515625 27.296875 \nQ 5.515625 40.765625 12.171875 48.375 \nQ 18.84375 56 30.609375 56 \nz\n\" id=\"DejaVuSans-111\"/>\n     </defs>\n     <g transform=\"translate(14.798438 255.384062)rotate(-90)scale(0.1 -0.1)\">\n      <use xlink:href=\"#DejaVuSans-99\"/>\n      <use x=\"54.980469\" xlink:href=\"#DejaVuSans-111\"/>\n      <use x=\"116.162109\" xlink:href=\"#DejaVuSans-117\"/>\n      <use x=\"179.541016\" xlink:href=\"#DejaVuSans-110\"/>\n      <use x=\"242.919922\" xlink:href=\"#DejaVuSans-116\"/>\n     </g>\n    </g>\n   </g>\n   <g id=\"patch_5\">\n    <path d=\"M 59.690625 458.717812 \nL 59.690625 23.837812 \n\" style=\"fill:none;stroke:#000000;stroke-linecap:square;stroke-linejoin:miter;stroke-width:0.8;\"/>\n   </g>\n   <g id=\"patch_6\">\n    <path d=\"M 506.090625 458.717812 \nL 506.090625 23.837812 \n\" style=\"fill:none;stroke:#000000;stroke-linecap:square;stroke-linejoin:miter;stroke-width:0.8;\"/>\n   </g>\n   <g id=\"patch_7\">\n    <path d=\"M 59.690625 458.717812 \nL 506.090625 458.717812 \n\" style=\"fill:none;stroke:#000000;stroke-linecap:square;stroke-linejoin:miter;stroke-width:0.8;\"/>\n   </g>\n   <g id=\"patch_8\">\n    <path d=\"M 59.690625 23.837812 \nL 506.090625 23.837812 \n\" style=\"fill:none;stroke:#000000;stroke-linecap:square;stroke-linejoin:miter;stroke-width:0.8;\"/>\n   </g>\n   <g id=\"text_13\">\n    <!-- Desequilibrio de Clases -->\n    <defs>\n     <path d=\"M 19.671875 64.796875 \nL 19.671875 8.109375 \nL 31.59375 8.109375 \nQ 46.6875 8.109375 53.6875 14.9375 \nQ 60.6875 21.78125 60.6875 36.53125 \nQ 60.6875 51.171875 53.6875 57.984375 \nQ 46.6875 64.796875 31.59375 64.796875 \nz\nM 9.8125 72.90625 \nL 30.078125 72.90625 \nQ 51.265625 72.90625 61.171875 64.09375 \nQ 71.09375 55.28125 71.09375 36.53125 \nQ 71.09375 17.671875 61.125 8.828125 \nQ 51.171875 0 30.078125 0 \nL 9.8125 0 \nz\n\" id=\"DejaVuSans-68\"/>\n     <path d=\"M 14.796875 27.296875 \nQ 14.796875 17.390625 18.875 11.75 \nQ 22.953125 6.109375 30.078125 6.109375 \nQ 37.203125 6.109375 41.296875 11.75 \nQ 45.40625 17.390625 45.40625 27.296875 \nQ 45.40625 37.203125 41.296875 42.84375 \nQ 37.203125 48.484375 30.078125 48.484375 \nQ 22.953125 48.484375 18.875 42.84375 \nQ 14.796875 37.203125 14.796875 27.296875 \nz\nM 45.40625 8.203125 \nQ 42.578125 3.328125 38.25 0.953125 \nQ 33.9375 -1.421875 27.875 -1.421875 \nQ 17.96875 -1.421875 11.734375 6.484375 \nQ 5.515625 14.40625 5.515625 27.296875 \nQ 5.515625 40.1875 11.734375 48.09375 \nQ 17.96875 56 27.875 56 \nQ 33.9375 56 38.25 53.625 \nQ 42.578125 51.265625 45.40625 46.390625 \nL 45.40625 54.6875 \nL 54.390625 54.6875 \nL 54.390625 -20.796875 \nL 45.40625 -20.796875 \nz\n\" id=\"DejaVuSans-113\"/>\n     <path d=\"M 9.421875 75.984375 \nL 18.40625 75.984375 \nL 18.40625 0 \nL 9.421875 0 \nz\n\" id=\"DejaVuSans-108\"/>\n     <path d=\"M 48.6875 27.296875 \nQ 48.6875 37.203125 44.609375 42.84375 \nQ 40.53125 48.484375 33.40625 48.484375 \nQ 26.265625 48.484375 22.1875 42.84375 \nQ 18.109375 37.203125 18.109375 27.296875 \nQ 18.109375 17.390625 22.1875 11.75 \nQ 26.265625 6.109375 33.40625 6.109375 \nQ 40.53125 6.109375 44.609375 11.75 \nQ 48.6875 17.390625 48.6875 27.296875 \nz\nM 18.109375 46.390625 \nQ 20.953125 51.265625 25.265625 53.625 \nQ 29.59375 56 35.59375 56 \nQ 45.5625 56 51.78125 48.09375 \nQ 58.015625 40.1875 58.015625 27.296875 \nQ 58.015625 14.40625 51.78125 6.484375 \nQ 45.5625 -1.421875 35.59375 -1.421875 \nQ 29.59375 -1.421875 25.265625 0.953125 \nQ 20.953125 3.328125 18.109375 8.203125 \nL 18.109375 0 \nL 9.078125 0 \nL 9.078125 75.984375 \nL 18.109375 75.984375 \nz\n\" id=\"DejaVuSans-98\"/>\n     <path id=\"DejaVuSans-32\"/>\n     <path d=\"M 64.40625 67.28125 \nL 64.40625 56.890625 \nQ 59.421875 61.53125 53.78125 63.8125 \nQ 48.140625 66.109375 41.796875 66.109375 \nQ 29.296875 66.109375 22.65625 58.46875 \nQ 16.015625 50.828125 16.015625 36.375 \nQ 16.015625 21.96875 22.65625 14.328125 \nQ 29.296875 6.6875 41.796875 6.6875 \nQ 48.140625 6.6875 53.78125 8.984375 \nQ 59.421875 11.28125 64.40625 15.921875 \nL 64.40625 5.609375 \nQ 59.234375 2.09375 53.4375 0.328125 \nQ 47.65625 -1.421875 41.21875 -1.421875 \nQ 24.65625 -1.421875 15.125 8.703125 \nQ 5.609375 18.84375 5.609375 36.375 \nQ 5.609375 53.953125 15.125 64.078125 \nQ 24.65625 74.21875 41.21875 74.21875 \nQ 47.75 74.21875 53.53125 72.484375 \nQ 59.328125 70.75 64.40625 67.28125 \nz\n\" id=\"DejaVuSans-67\"/>\n    </defs>\n    <g transform=\"translate(201.052969 17.837812)scale(0.14 -0.14)\">\n     <use xlink:href=\"#DejaVuSans-68\"/>\n     <use x=\"77.001953\" xlink:href=\"#DejaVuSans-101\"/>\n     <use x=\"138.525391\" xlink:href=\"#DejaVuSans-115\"/>\n     <use x=\"190.625\" xlink:href=\"#DejaVuSans-101\"/>\n     <use x=\"252.148438\" xlink:href=\"#DejaVuSans-113\"/>\n     <use x=\"315.625\" xlink:href=\"#DejaVuSans-117\"/>\n     <use x=\"379.003906\" xlink:href=\"#DejaVuSans-105\"/>\n     <use x=\"406.787109\" xlink:href=\"#DejaVuSans-108\"/>\n     <use x=\"434.570312\" xlink:href=\"#DejaVuSans-105\"/>\n     <use x=\"462.353516\" xlink:href=\"#DejaVuSans-98\"/>\n     <use x=\"525.830078\" xlink:href=\"#DejaVuSans-114\"/>\n     <use x=\"566.943359\" xlink:href=\"#DejaVuSans-105\"/>\n     <use x=\"594.726562\" xlink:href=\"#DejaVuSans-111\"/>\n     <use x=\"655.908203\" xlink:href=\"#DejaVuSans-32\"/>\n     <use x=\"687.695312\" xlink:href=\"#DejaVuSans-100\"/>\n     <use x=\"751.171875\" xlink:href=\"#DejaVuSans-101\"/>\n     <use x=\"812.695312\" xlink:href=\"#DejaVuSans-32\"/>\n     <use x=\"844.482422\" xlink:href=\"#DejaVuSans-67\"/>\n     <use x=\"914.306641\" xlink:href=\"#DejaVuSans-108\"/>\n     <use x=\"942.089844\" xlink:href=\"#DejaVuSans-97\"/>\n     <use x=\"1003.369141\" xlink:href=\"#DejaVuSans-115\"/>\n     <use x=\"1055.46875\" xlink:href=\"#DejaVuSans-101\"/>\n     <use x=\"1116.992188\" xlink:href=\"#DejaVuSans-115\"/>\n    </g>\n   </g>\n  </g>\n </g>\n <defs>\n  <clipPath id=\"pae68503413\">\n   <rect height=\"434.88\" width=\"446.4\" x=\"59.690625\" y=\"23.837812\"/>\n  </clipPath>\n </defs>\n</svg>\n",
      "image/png": "[encoded data removed]"
     },
     "metadata": {
      "needs_background": "light"
     }
    }
   ],
   "source": [
    "plt.figure(figsize=(8, 8))\n",
    "sns.countplot('student_rating_cat', data=final_df)\n",
    "plt.title('Desequilibrio de Clases', fontsize=14)\n",
    "plt.show()"
   ]
  }
 ],
 "metadata": {
  "colab": {
   "collapsed_sections": [],
   "name": "Practico_3y4_part_2y3_preparacion.ipynb",
   "provenance": []
  },
  "kernelspec": {
   "display_name": "Python 3.8.5 64-bit ('diplo': venv)",
   "language": "python",
   "name": "python_defaultSpec_1599310169886"
  },
  "language_info": {
   "codemirror_mode": {
    "name": "ipython",
    "version": 3
   },
   "file_extension": ".py",
   "mimetype": "text/x-python",
   "name": "python",
   "nbconvert_exporter": "python",
   "pygments_lexer": "ipython3",
   "version": "3.8.5-final"
  }
 },
 "nbformat": 4,
 "nbformat_minor": 4
}