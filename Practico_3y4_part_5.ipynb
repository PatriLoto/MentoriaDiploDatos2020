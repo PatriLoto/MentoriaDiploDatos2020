{
  "nbformat": 4,
  "nbformat_minor": 0,
  "metadata": {
    "colab": {
      "name": "Practico_3y4_part_5.ipynb",
      "provenance": [],
      "collapsed_sections": []
    },
    "kernelspec": {
      "name": "python3",
      "display_name": "Python 3"
    }
  },
  "cells": [
    {
      "cell_type": "markdown",
      "metadata": {
        "id": "x6rcF4vg7CTX",
        "colab_type": "text"
      },
      "source": [
        "\n",
        "# **Práctico 3 y 4 (parte 5)**"
      ]
    },
    {
      "cell_type": "markdown",
      "metadata": {
        "id": "u7fp8NQEywxo",
        "colab_type": "text"
      },
      "source": [
        "##**Importación de módulos y librerías**"
      ]
    },
    {
      "cell_type": "code",
      "metadata": {
        "id": "7KdM25aVtlis",
        "colab_type": "code",
        "colab": {}
      },
      "source": [
        "#Librerías \n",
        "import warnings\n",
        "warnings.filterwarnings(\"ignore\")\n",
        "\n",
        "import numpy as np\n",
        "import pandas as pd\n",
        "from ast import literal_eval\n",
        "import re\n",
        "\n",
        "# Para gráficos\n",
        "import matplotlib.pyplot as plt\n",
        "import seaborn as sns\n",
        "from scipy import stats\n",
        "\n",
        "# Para dividir el dataset en train  y test\n",
        "from sklearn.model_selection import train_test_split\n",
        "from sklearn import model_selection\n",
        "\n",
        "# Para tratamiento de texto\n",
        "from sklearn.feature_extraction.text import CountVectorizer\n",
        "\n",
        "# Para el cálculo de tf y tf–idf \n",
        "from sklearn.feature_extraction.text import TfidfTransformer\n",
        "\n",
        "# Algoritmo del Árbol de Decisión\n",
        "from sklearn.tree import (DecisionTreeClassifier, plot_tree)\n",
        "\n",
        "# Para utilizar Naive-Bayes para la clasificación\n",
        "from sklearn.naive_bayes import MultinomialNB\n",
        "\n",
        "# Para utilizar el algoritmo del gradiente descendiente\n",
        "from sklearn.linear_model import SGDClassifier\n",
        "\n",
        "# Para calcular métricas\n",
        "from sklearn.metrics import (accuracy_score, precision_score, recall_score,\n",
        "                             f1_score, classification_report) \n"
      ],
      "execution_count": 37,
      "outputs": []
    },
    {
      "cell_type": "code",
      "metadata": {
        "id": "dMigTytrqYEW",
        "colab_type": "code",
        "colab": {
          "resources": {
            "http://localhost:8080/nbextensions/google.colab/files.js": {
              "data": "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",
              "ok": true,
              "headers": [
                [
                  "content-type",
                  "application/javascript"
                ]
              ],
              "status": 200,
              "status_text": ""
            }
          },
          "base_uri": "https://localhost:8080/",
          "height": 73
        },
        "outputId": "fd2c3eb6-66f2-411f-9ea5-2a2c737f654f"
      },
      "source": [
        "#lectura del csv desde colab\n",
        "from google.colab import files   # para poder leer archivos que están en mi pc\n",
        "uploaded = files.upload()"
      ],
      "execution_count": 2,
      "outputs": [
        {
          "output_type": "display_data",
          "data": {
            "text/html": [
              "\n",
              "     <input type=\"file\" id=\"files-8ed0c8cf-2f59-4ab5-a252-e12e5e988e47\" name=\"files[]\" multiple disabled\n",
              "        style=\"border:none\" />\n",
              "     <output id=\"result-8ed0c8cf-2f59-4ab5-a252-e12e5e988e47\">\n",
              "      Upload widget is only available when the cell has been executed in the\n",
              "      current browser session. Please rerun this cell to enable.\n",
              "      </output>\n",
              "      <script src=\"/nbextensions/google.colab/files.js\"></script> "
            ],
            "text/plain": [
              "<IPython.core.display.HTML object>"
            ]
          },
          "metadata": {
            "tags": []
          }
        },
        {
          "output_type": "stream",
          "text": [
            "Saving curated_data_para_nlp.csv to curated_data_para_nlp.csv\n"
          ],
          "name": "stdout"
        }
      ]
    },
    {
      "cell_type": "code",
      "metadata": {
        "id": "nVEW_Reeu4XC",
        "colab_type": "code",
        "colab": {}
      },
      "source": [
        "# LECTURA DESDE JUPYTER NOTEBOOK\n",
        "\n",
        "#filename = 'curated_data_para_nlp.csv'\n",
        "#datos_curados = pd.read_csv(os.path.join('..', 'dataset', filename))"
      ],
      "execution_count": null,
      "outputs": []
    },
    {
      "cell_type": "markdown",
      "metadata": {
        "id": "dgnkYkv-jdb2",
        "colab_type": "text"
      },
      "source": [
        "\n",
        "## **Carga de datos**\n",
        "\n",
        "El archivo **curated_data_para_nlp.csv** se genera a partir del archivo yup_messages_preprocessed.csv y datadump-20150801-20171219.csv y se cura para aplicar sobre el mismo técnicas de procesamiento del lenguaje natural."
      ]
    },
    {
      "cell_type": "code",
      "metadata": {
        "id": "_-8CJXZJpeTr",
        "colab_type": "code",
        "colab": {
          "base_uri": "https://localhost:8080/",
          "height": 67
        },
        "outputId": "faf0a24a-b2aa-46b8-8c3e-94d7a28d8778"
      },
      "source": [
        "datos_curados= pd.read_csv('curated_data_para_nlp.csv')\n",
        "print('Tamaño del dataset: \\n')\n",
        "display(datos_curados.shape)  # simil: len(datos_curados)"
      ],
      "execution_count": 13,
      "outputs": [
        {
          "output_type": "stream",
          "text": [
            "Tamaño del dataset: \n",
            "\n"
          ],
          "name": "stdout"
        },
        {
          "output_type": "display_data",
          "data": {
            "text/plain": [
              "(17429, 21)"
            ]
          },
          "metadata": {
            "tags": []
          }
        }
      ]
    },
    {
      "cell_type": "markdown",
      "metadata": {
        "id": "32UzcdMC7xrb",
        "colab_type": "text"
      },
      "source": [
        "#### **Limpieza: Unificación de las expresiones algebraicas bajo el tag math**"
      ]
    },
    {
      "cell_type": "code",
      "metadata": {
        "id": "X_Y6ZcqE8RkS",
        "colab_type": "code",
        "colab": {}
      },
      "source": [
        "#datos_curados['tokens'] = datos_curados.tokens.apply(lambda x: literal_eval(x))"
      ],
      "execution_count": null,
      "outputs": []
    },
    {
      "cell_type": "code",
      "metadata": {
        "id": "CM81yIV37yKv",
        "colab_type": "code",
        "colab": {}
      },
      "source": [
        "# Los unigramas que contienen al menos un dígito y al menos un operador algebraico se unifican bajo el tag <math> \n",
        "# usando una expresión regular\n",
        "\n",
        "r = re.compile('((?=.*[0-9])(?=.*[%\\/\\(\\)\\^\\\\\\+\\-\\*\\=]))^.*')\n",
        "datos_curados['tokens'] = datos_curados.tokens.apply(lambda x: ['<math>' if r.match(w) else w for w in x])"
      ],
      "execution_count": 4,
      "outputs": []
    },
    {
      "cell_type": "markdown",
      "metadata": {
        "id": "rlXvB-UdvnMW",
        "colab_type": "text"
      },
      "source": [
        "### **Observo las primeras filas de la columna 'tokens', la cual contiene texto de interés para el análisis.**"
      ]
    },
    {
      "cell_type": "code",
      "metadata": {
        "id": "dGbLRxcuuZ23",
        "colab_type": "code",
        "colab": {
          "base_uri": "https://localhost:8080/",
          "height": 117
        },
        "outputId": "5cd4d929-449a-4a78-daf4-7189a730727a"
      },
      "source": [
        "datos_curados['tokens'].head()"
      ],
      "execution_count": null,
      "outputs": [
        {
          "output_type": "execute_result",
          "data": {
            "text/plain": [
              "0    [<url>, Do, n't, worry, ,, no, minutes, will, ...\n",
              "1    [Do, n't, worry, ,, no, minutes, will, be, use...\n",
              "2    [Do, n't, worry, ,, no, minutes, will, be, use...\n",
              "3    [Do, n't, worry, ,, no, minutes, will, be, use...\n",
              "4    [Hello, , Jasmyn, , :), Welcome, to, Yup, !, <...\n",
              "Name: tokens, dtype: object"
            ]
          },
          "metadata": {
            "tags": []
          },
          "execution_count": 54
        }
      ]
    },
    {
      "cell_type": "markdown",
      "metadata": {
        "id": "rfTV7xxZvxRT",
        "colab_type": "text"
      },
      "source": [
        "### **Observo las últimas filas de la columna 'tokens', la cual contiene texto de interés para el análisis.****\n"
      ]
    },
    {
      "cell_type": "code",
      "metadata": {
        "id": "ijtpsuAixYbU",
        "colab_type": "code",
        "colab": {
          "base_uri": "https://localhost:8080/",
          "height": 117
        },
        "outputId": "25d4a9c4-b87c-4a5b-e387-3e415dbe9a8a"
      },
      "source": [
        "datos_curados['tokens'].tail()"
      ],
      "execution_count": null,
      "outputs": [
        {
          "output_type": "execute_result",
          "data": {
            "text/plain": [
              "17424    [<url>, Hi, Steven, ,, welcome, to, Yup, 😀, .,...\n",
              "17425    [<url>, Hi, natalia, ,, welcome, to, Yup, 😀, ....\n",
              "17426    [<url>, Hi, !, My, name, is, M., Jesus, and, I...\n",
              "17427    [<url>, Thanks, for, signing, up, MANATEE17, 😀...\n",
              "17428                                              [<url>]\n",
              "Name: tokens, dtype: object"
            ]
          },
          "metadata": {
            "tags": []
          },
          "execution_count": 55
        }
      ]
    },
    {
      "cell_type": "markdown",
      "metadata": {
        "id": "W9npQWwEzvwf",
        "colab_type": "text"
      },
      "source": [
        "### **Selecciono del dataset datos_curados las columnas de interés:**\n",
        "\n",
        "- tokens: el texto de los diálogos.\n",
        "- student_rating_cat: columna calculada a partir de la calificación asignada por el alumno a la sesión: '0 - Negativa', '1 - Positiva'"
      ]
    },
    {
      "cell_type": "code",
      "metadata": {
        "id": "SffGkvZWzRb6",
        "colab_type": "code",
        "colab": {
          "base_uri": "https://localhost:8080/",
          "height": 33
        },
        "outputId": "9753192e-ca02-44f6-e031-a8813fd5af2d"
      },
      "source": [
        "df_x=datos_curados['tokens']\n",
        "df_y=datos_curados['student_rating_cat'] #datos_curados.student_rating_cat \n",
        "print('Longitud de df_x:', len(df_x), ' y Longitud de df_y:', len(df_y))"
      ],
      "execution_count": 14,
      "outputs": [
        {
          "output_type": "stream",
          "text": [
            "Longitud de df_x: 17429  y Longitud de df_y: 17429\n"
          ],
          "name": "stdout"
        }
      ]
    },
    {
      "cell_type": "markdown",
      "metadata": {
        "id": "wpNVjkU8wYf-",
        "colab_type": "text"
      },
      "source": [
        "### **División y normalización de los datos**\n",
        "\n",
        "1. El conjunto de datos es dividido en datos de entrada o alimentación y en la referencia o target al cual debe apuntar el clasificador al momento de predecir.\n",
        "\n",
        "1. Se divide nuevamente al conjunto de datos en datos de entrenamiento o train y datos de evaluación o test, cada uno de ellos con su correspondiente referencia o target."
      ]
    },
    {
      "cell_type": "code",
      "metadata": {
        "id": "O76sbPMKt366",
        "colab_type": "code",
        "colab": {
          "base_uri": "https://localhost:8080/",
          "height": 33
        },
        "outputId": "4e4176c8-c755-4158-f6c9-7f510ea48769"
      },
      "source": [
        "# División entre instancias y etiquetas\n",
        "X, y = df_x, df_y       #datos_curados['tokens'], datos_curados.student_rating_cat   \n",
        "\n",
        "# división entre entrenamiento y evaluación\n",
        "X_train, X_test, y_train, y_test = train_test_split(X, y, test_size=0.2, random_state=0)\n",
        "print('La Longitud del conj. de datos de train es', len(X_train), 'y la longitud del conj. de datos de test es', len(X_test))"
      ],
      "execution_count": 15,
      "outputs": [
        {
          "output_type": "stream",
          "text": [
            "La Longitud del conj. de datos de train es 13943 y la longitud del conj. de datos de test es 3486\n"
          ],
          "name": "stdout"
        }
      ]
    },
    {
      "cell_type": "markdown",
      "metadata": {
        "id": "9yf7z0JpRjN_",
        "colab_type": "text"
      },
      "source": [
        "## **Bolsa de palabras para clasificación**"
      ]
    },
    {
      "cell_type": "markdown",
      "metadata": {
        "id": "9qeGRjw3ltuh",
        "colab_type": "text"
      },
      "source": [
        "### **Vectorizamos el texto con el método CountVectorizer()** \n"
      ]
    },
    {
      "cell_type": "markdown",
      "metadata": {
        "id": "jJ6K_ULg4oy-",
        "colab_type": "text"
      },
      "source": [
        "### Utilizando el método **CountVectorizer** convertimos el texto de **X_train** en vectores numéricos."
      ]
    },
    {
      "cell_type": "code",
      "metadata": {
        "id": "4S8a7226kIC7",
        "colab_type": "code",
        "colab": {
          "base_uri": "https://localhost:8080/",
          "height": 84
        },
        "outputId": "b162aaab-6a3f-4075-d6bd-089f88fb902b"
      },
      "source": [
        "from sklearn.feature_extraction.text import CountVectorizer\n",
        "# trabajamos con CountVectorizer sin parámetros por defecto\n",
        "vectorizer = CountVectorizer()\n",
        "x_traincv= vectorizer.fit_transform(X_train)          #Learn the vocabulary dictionary and return document-term matrix.\n",
        "\n",
        "# ¿cuál es la dimensión de la matriz dispersa?\n",
        "print('Dimensión de la matriz dispersa \\n.')\n",
        "x_traincv "
      ],
      "execution_count": 16,
      "outputs": [
        {
          "output_type": "stream",
          "text": [
            "Dimensión de la matriz dispersa \n",
            ".\n"
          ],
          "name": "stdout"
        },
        {
          "output_type": "execute_result",
          "data": {
            "text/plain": [
              "<13943x33560 sparse matrix of type '<class 'numpy.int64'>'\n",
              "\twith 2422063 stored elements in Compressed Sparse Row format>"
            ]
          },
          "metadata": {
            "tags": []
          },
          "execution_count": 16
        }
      ]
    },
    {
      "cell_type": "markdown",
      "metadata": {
        "id": "bDcxHUJkD-DV",
        "colab_type": "text"
      },
      "source": [
        "### **Valores de la matriz dispersa**\n",
        "\n",
        "\n"
      ]
    },
    {
      "cell_type": "code",
      "metadata": {
        "id": "YsV-NETRv9yD",
        "colab_type": "code",
        "colab": {
          "base_uri": "https://localhost:8080/",
          "height": 134
        },
        "outputId": "dfeb561a-c0ef-49b3-92d5-82e7b1d7914a"
      },
      "source": [
        "# imprimimos lo valores de la matriz dispersa\n",
        "print(x_traincv.toarray())"
      ],
      "execution_count": 17,
      "outputs": [
        {
          "output_type": "stream",
          "text": [
            "[[0 0 0 ... 0 0 0]\n",
            " [0 0 0 ... 0 0 0]\n",
            " [0 0 0 ... 0 0 0]\n",
            " ...\n",
            " [0 0 0 ... 0 0 0]\n",
            " [0 0 0 ... 0 0 0]\n",
            " [0 0 0 ... 0 0 0]]\n"
          ],
          "name": "stdout"
        }
      ]
    },
    {
      "cell_type": "markdown",
      "metadata": {
        "id": "LR5ib8DpCeEf",
        "colab_type": "text"
      },
      "source": [
        "### **Valores de los features**"
      ]
    },
    {
      "cell_type": "code",
      "metadata": {
        "id": "UON9P_dLCLmo",
        "colab_type": "code",
        "colab": {
          "base_uri": "https://localhost:8080/",
          "height": 1000
        },
        "outputId": "7a8e968a-0ad7-4a5b-9916-49b39bfdeffb"
      },
      "source": [
        "vectorizer.get_feature_names()"
      ],
      "execution_count": 18,
      "outputs": [
        {
          "output_type": "execute_result",
          "data": {
            "text/plain": [
              "['00',\n",
              " '000',\n",
              " '0000',\n",
              " '000000',\n",
              " '000000000',\n",
              " '0000000000000000000000004',\n",
              " '0000000000000000000004',\n",
              " '00000000001',\n",
              " '000000000035',\n",
              " '0000000001',\n",
              " '0000000002546',\n",
              " '000000000667',\n",
              " '000000001',\n",
              " '00000000227',\n",
              " '00000001',\n",
              " '000000010',\n",
              " '00000004290224',\n",
              " '0000001',\n",
              " '000000227',\n",
              " '000000333',\n",
              " '000000433926',\n",
              " '000000434',\n",
              " '000000625',\n",
              " '0000006708',\n",
              " '000001',\n",
              " '00000149253',\n",
              " '00000980',\n",
              " '00001',\n",
              " '000033',\n",
              " '000034',\n",
              " '00004',\n",
              " '0000453864',\n",
              " '00005',\n",
              " '00006',\n",
              " '000064',\n",
              " '00007',\n",
              " '00008428903',\n",
              " '00009118',\n",
              " '0000939435',\n",
              " '0001',\n",
              " '0001089',\n",
              " '00012097',\n",
              " '000127727272727',\n",
              " '00012820512',\n",
              " '00013',\n",
              " '000146',\n",
              " '000146153846154',\n",
              " '0001464',\n",
              " '00014653846154',\n",
              " '00016574585',\n",
              " '00019230769',\n",
              " '0002',\n",
              " '0003',\n",
              " '0003x',\n",
              " '00040',\n",
              " '000428',\n",
              " '000465',\n",
              " '0004780',\n",
              " '0005',\n",
              " '00050',\n",
              " '000567',\n",
              " '0006',\n",
              " '00063',\n",
              " '000678',\n",
              " '0006780',\n",
              " '000678km',\n",
              " '00072',\n",
              " '0008',\n",
              " '000864',\n",
              " '0008m',\n",
              " '0008r',\n",
              " '0009',\n",
              " '00092',\n",
              " '000925',\n",
              " '00097656',\n",
              " '0009x',\n",
              " '000k',\n",
              " '000ml',\n",
              " '000n',\n",
              " '000ug',\n",
              " '000x',\n",
              " '001',\n",
              " '0010',\n",
              " '0011',\n",
              " '001125078',\n",
              " '0013',\n",
              " '001432',\n",
              " '0015',\n",
              " '00156',\n",
              " '0016',\n",
              " '0018',\n",
              " '001dm',\n",
              " '002',\n",
              " '002001',\n",
              " '002004',\n",
              " '0021',\n",
              " '002265',\n",
              " '0023',\n",
              " '002391195',\n",
              " '0024',\n",
              " '0024217258',\n",
              " '002422',\n",
              " '0025',\n",
              " '002506',\n",
              " '00275',\n",
              " '00276',\n",
              " '002777778',\n",
              " '00277778',\n",
              " '003',\n",
              " '003013',\n",
              " '0033',\n",
              " '0034',\n",
              " '00345',\n",
              " '0036',\n",
              " '003633',\n",
              " '0036x',\n",
              " '0037',\n",
              " '00378',\n",
              " '003786',\n",
              " '00385',\n",
              " '0039',\n",
              " '00391',\n",
              " '003t',\n",
              " '003x9',\n",
              " '004',\n",
              " '0040',\n",
              " '0042',\n",
              " '0045mg',\n",
              " '0046',\n",
              " '00465',\n",
              " '004650',\n",
              " '0047',\n",
              " '004780',\n",
              " '00483',\n",
              " '0049',\n",
              " '005',\n",
              " '0053',\n",
              " '00536',\n",
              " '00536667',\n",
              " '0053667',\n",
              " '0054',\n",
              " '00546667',\n",
              " '0054667',\n",
              " '0055',\n",
              " '0056',\n",
              " '005625',\n",
              " '0056s',\n",
              " '005x',\n",
              " '006',\n",
              " '0062',\n",
              " '006235',\n",
              " '00638',\n",
              " '0064',\n",
              " '0065',\n",
              " '0066',\n",
              " '00661128608',\n",
              " '0067',\n",
              " '007',\n",
              " '007009346',\n",
              " '0072',\n",
              " '0072x',\n",
              " '0074',\n",
              " '0075',\n",
              " '0075722351',\n",
              " '0078',\n",
              " '0078125',\n",
              " '0078a',\n",
              " '0079',\n",
              " '00792',\n",
              " '008',\n",
              " '00816',\n",
              " '0083',\n",
              " '0085',\n",
              " '00864',\n",
              " '0087',\n",
              " '009',\n",
              " '0090',\n",
              " '0092',\n",
              " '009346',\n",
              " '0094',\n",
              " '009518',\n",
              " '009765',\n",
              " '00n',\n",
              " '00pm',\n",
              " '00x',\n",
              " '00x10',\n",
              " '00y',\n",
              " '01',\n",
              " '010',\n",
              " '010171173',\n",
              " '0102',\n",
              " '01024',\n",
              " '0103',\n",
              " '011',\n",
              " '0112',\n",
              " '0119',\n",
              " '012',\n",
              " '0121',\n",
              " '01215',\n",
              " '0122',\n",
              " '0123',\n",
              " '01234',\n",
              " '01246',\n",
              " '0125',\n",
              " '01275l',\n",
              " '0128',\n",
              " '0129',\n",
              " '013',\n",
              " '0130',\n",
              " '01305134263',\n",
              " '0133',\n",
              " '013799',\n",
              " '0138',\n",
              " '01391744',\n",
              " '0139174447',\n",
              " '014',\n",
              " '0144',\n",
              " '0145',\n",
              " '0146',\n",
              " '0147m',\n",
              " '01499',\n",
              " '015',\n",
              " '0150',\n",
              " '01528',\n",
              " '01528g',\n",
              " '01533',\n",
              " '015636',\n",
              " '0158',\n",
              " '01587',\n",
              " '0159',\n",
              " '016',\n",
              " '01614',\n",
              " '01622',\n",
              " '01666',\n",
              " '01666666666',\n",
              " '0167',\n",
              " '017',\n",
              " '0174533',\n",
              " '0175',\n",
              " '0175x',\n",
              " '0176',\n",
              " '018',\n",
              " '01818',\n",
              " '01818181',\n",
              " '01842',\n",
              " '01875',\n",
              " '0193',\n",
              " '019335',\n",
              " '0196',\n",
              " '0198',\n",
              " '01h',\n",
              " '01l',\n",
              " '01m',\n",
              " '01v',\n",
              " '01x',\n",
              " '01x10',\n",
              " '02',\n",
              " '020',\n",
              " '0200000004',\n",
              " '0201',\n",
              " '020175',\n",
              " '0202',\n",
              " '0204',\n",
              " '021',\n",
              " '0215',\n",
              " '021741',\n",
              " '022',\n",
              " '022140857',\n",
              " '0225',\n",
              " '0229',\n",
              " '02297',\n",
              " '022x10',\n",
              " '023',\n",
              " '0234',\n",
              " '0235',\n",
              " '023789',\n",
              " '0238',\n",
              " '0239',\n",
              " '024',\n",
              " '0244',\n",
              " '0248',\n",
              " '024x',\n",
              " '025',\n",
              " '0250',\n",
              " '0254',\n",
              " '0255',\n",
              " '0259',\n",
              " '025a',\n",
              " '025l',\n",
              " '025lx0',\n",
              " '026',\n",
              " '02602',\n",
              " '0264',\n",
              " '0267',\n",
              " '026706',\n",
              " '0267x',\n",
              " '027',\n",
              " '0275',\n",
              " '0275847',\n",
              " '0276',\n",
              " '0277',\n",
              " '028',\n",
              " '0282',\n",
              " '0283',\n",
              " '0288',\n",
              " '029',\n",
              " '0290',\n",
              " '0292',\n",
              " '02c',\n",
              " '02s',\n",
              " '02t',\n",
              " '02v',\n",
              " '02x',\n",
              " '02x10',\n",
              " '02xc',\n",
              " '03',\n",
              " '030',\n",
              " '0302',\n",
              " '030206675085',\n",
              " '03020668',\n",
              " '03076',\n",
              " '031',\n",
              " '0312',\n",
              " '03125',\n",
              " '0313',\n",
              " '0314',\n",
              " '03153',\n",
              " '03153873',\n",
              " '0318',\n",
              " '032',\n",
              " '0325',\n",
              " '0325x',\n",
              " '032914611',\n",
              " '032914611xe26',\n",
              " '032914612',\n",
              " '03294611',\n",
              " '033',\n",
              " '03333336',\n",
              " '03338',\n",
              " '03361345',\n",
              " '034',\n",
              " '035',\n",
              " '035184',\n",
              " '035274',\n",
              " '0353',\n",
              " '03564',\n",
              " '0356727009',\n",
              " '0357',\n",
              " '035x',\n",
              " '036',\n",
              " '036717063',\n",
              " '036l',\n",
              " '037',\n",
              " '037037037',\n",
              " '037282215',\n",
              " '0372822712',\n",
              " '037805782',\n",
              " '037x10',\n",
              " '038',\n",
              " '0380',\n",
              " '0385',\n",
              " '039',\n",
              " '0390625',\n",
              " '0395',\n",
              " '03e',\n",
              " '03x',\n",
              " '03x4',\n",
              " '03x40000',\n",
              " '03y',\n",
              " '04',\n",
              " '040',\n",
              " '0401',\n",
              " '0408',\n",
              " '04085704',\n",
              " '0408x',\n",
              " '041',\n",
              " '0410',\n",
              " '0414',\n",
              " '0417',\n",
              " '041875',\n",
              " '042',\n",
              " '0421',\n",
              " '04210867',\n",
              " '0426',\n",
              " '0429',\n",
              " '0430',\n",
              " '0430j',\n",
              " '04375',\n",
              " '0439',\n",
              " '044',\n",
              " '0441',\n",
              " '0441x',\n",
              " '04490',\n",
              " '045',\n",
              " '046',\n",
              " '0468',\n",
              " '047',\n",
              " '0472',\n",
              " '0476',\n",
              " '047kg',\n",
              " '048',\n",
              " '0485',\n",
              " '0488',\n",
              " '048m',\n",
              " '048x100000',\n",
              " '049',\n",
              " '04939015',\n",
              " '0498',\n",
              " '04987',\n",
              " '049874375',\n",
              " '049875',\n",
              " '04987562',\n",
              " '0498756211208903',\n",
              " '049875625',\n",
              " '04c',\n",
              " '04g',\n",
              " '04j',\n",
              " '04m',\n",
              " '04x',\n",
              " '04x10',\n",
              " '04x3',\n",
              " '04y',\n",
              " '05',\n",
              " '050',\n",
              " '0500',\n",
              " '0500000',\n",
              " '0501',\n",
              " '050902',\n",
              " '0518',\n",
              " '052',\n",
              " '0525',\n",
              " '05263158',\n",
              " '0529',\n",
              " '05293',\n",
              " '053',\n",
              " '054',\n",
              " '05428571',\n",
              " '05464',\n",
              " '0548',\n",
              " '0548036651',\n",
              " '055',\n",
              " '0552',\n",
              " '055201',\n",
              " '055319964e26',\n",
              " '0555',\n",
              " '05555',\n",
              " '055x',\n",
              " '056',\n",
              " '056253',\n",
              " '05669',\n",
              " '057',\n",
              " '058',\n",
              " '05a',\n",
              " '05am',\n",
              " '05b',\n",
              " '05e6',\n",
              " '05g',\n",
              " '05kg',\n",
              " '05l',\n",
              " '05mol',\n",
              " '05n',\n",
              " '05pm',\n",
              " '05x',\n",
              " '05x10',\n",
              " '05x1000',\n",
              " '05y',\n",
              " '06',\n",
              " '060',\n",
              " '0619298',\n",
              " '062',\n",
              " '0625',\n",
              " '0627',\n",
              " '063',\n",
              " '06357449016',\n",
              " '063s',\n",
              " '064',\n",
              " '06410',\n",
              " '0644',\n",
              " '065',\n",
              " '066',\n",
              " '0661',\n",
              " '0666',\n",
              " '066666',\n",
              " '0666666',\n",
              " '06666666',\n",
              " '0667',\n",
              " '066x',\n",
              " '067',\n",
              " '06766917',\n",
              " '06785',\n",
              " '068',\n",
              " '06808694',\n",
              " '0688',\n",
              " '0689',\n",
              " '069',\n",
              " '0694',\n",
              " '06c',\n",
              " '06j',\n",
              " '06to',\n",
              " '06x',\n",
              " '06x1',\n",
              " '06x10',\n",
              " '06x5',\n",
              " '06xc',\n",
              " '07',\n",
              " '070',\n",
              " '0711',\n",
              " '0714',\n",
              " '072',\n",
              " '072l',\n",
              " '074',\n",
              " '075',\n",
              " '0755',\n",
              " '076',\n",
              " '0765',\n",
              " '077',\n",
              " '078',\n",
              " '0780',\n",
              " '078125',\n",
              " '07875',\n",
              " '078grams',\n",
              " '07918',\n",
              " '0796327',\n",
              " '07x',\n",
              " '07y',\n",
              " '08',\n",
              " '080',\n",
              " '080x',\n",
              " '081',\n",
              " '08206',\n",
              " '082191781',\n",
              " '0825',\n",
              " '0825x',\n",
              " '083',\n",
              " '0833',\n",
              " '0834088',\n",
              " '0837',\n",
              " '08375',\n",
              " '08385573',\n",
              " '085',\n",
              " '085x',\n",
              " '0864',\n",
              " '0869659721',\n",
              " '0871557427',\n",
              " '0873l',\n",
              " '0875',\n",
              " '088',\n",
              " '088888888888889',\n",
              " '088y',\n",
              " '089',\n",
              " '08909695',\n",
              " '089575856',\n",
              " '0896641780644119',\n",
              " '0896641781',\n",
              " '08991983',\n",
              " '08a',\n",
              " '08s',\n",
              " '08t',\n",
              " '08x',\n",
              " '08x0',\n",
              " '09',\n",
              " '0906',\n",
              " '0909',\n",
              " '091',\n",
              " '0912',\n",
              " '092',\n",
              " '0925',\n",
              " '0926',\n",
              " '0938',\n",
              " '09380689767',\n",
              " '094',\n",
              " '09475',\n",
              " '095',\n",
              " '0953',\n",
              " '09595',\n",
              " '095x',\n",
              " '096',\n",
              " '09648',\n",
              " '0969',\n",
              " '097',\n",
              " '0973355',\n",
              " '0974x10',\n",
              " '0975',\n",
              " '098',\n",
              " '0986',\n",
              " '0986764365345221145675886787532146890',\n",
              " '09898',\n",
              " '098x1000',\n",
              " '0990009',\n",
              " '099021',\n",
              " '09999999',\n",
              " '0999999999',\n",
              " '09pi',\n",
              " '09s',\n",
              " '09x10',\n",
              " '09z',\n",
              " '0a',\n",
              " '0c',\n",
              " '0cosx',\n",
              " '0degc',\n",
              " '0e',\n",
              " '0f',\n",
              " '0h',\n",
              " '0hms',\n",
              " '0i',\n",
              " '0into',\n",
              " '0is',\n",
              " '0j',\n",
              " '0k',\n",
              " '0kg',\n",
              " '0km',\n",
              " '0l',\n",
              " '0m',\n",
              " '0ml',\n",
              " '0mod1',\n",
              " '0mol',\n",
              " '0n',\n",
              " '0no',\n",
              " '0pi',\n",
              " '0r',\n",
              " '0s',\n",
              " '0th',\n",
              " '0times',\n",
              " '0timesa',\n",
              " '0w',\n",
              " '0what',\n",
              " '0x',\n",
              " '0x0',\n",
              " '0x1',\n",
              " '0x10',\n",
              " '0x200',\n",
              " '0x5',\n",
              " '0xd',\n",
              " '0y',\n",
              " '0z',\n",
              " '0³',\n",
              " '0ºc',\n",
              " '10',\n",
              " '100',\n",
              " '1000',\n",
              " '10000',\n",
              " '100000',\n",
              " '1000000',\n",
              " '1000000000',\n",
              " '1000000005488',\n",
              " '10000000363926596383643946x0',\n",
              " '10000090',\n",
              " '100000x',\n",
              " '10000m',\n",
              " '10000x',\n",
              " '10000x500',\n",
              " '1000cc',\n",
              " '1000cm3',\n",
              " '1000j',\n",
              " '1000k',\n",
              " '1000kg',\n",
              " '1000kgs',\n",
              " '1000m',\n",
              " '1000ma',\n",
              " '1000ml',\n",
              " '1000n',\n",
              " '1000o',\n",
              " '1000s',\n",
              " '1000seconds',\n",
              " '1000tanx',\n",
              " '1000w',\n",
              " '1000x',\n",
              " '1000x0',\n",
              " '1001',\n",
              " '1003',\n",
              " '1004',\n",
              " '1005',\n",
              " '1005291',\n",
              " '1005x',\n",
              " '1007',\n",
              " '1008',\n",
              " '10080',\n",
              " '100a',\n",
              " '100and80',\n",
              " '100baloons',\n",
              " '100c',\n",
              " '100cm',\n",
              " '100degc',\n",
              " '100degree',\n",
              " '100j',\n",
              " '100k',\n",
              " '100km',\n",
              " '100ko',\n",
              " '100m',\n",
              " '100mi',\n",
              " '100miles',\n",
              " '100ml',\n",
              " '100n',\n",
              " '100pi',\n",
              " '100plus',\n",
              " '100r',\n",
              " '100s',\n",
              " '100sin76',\n",
              " '100t',\n",
              " '100t1',\n",
              " '100t2',\n",
              " '100th',\n",
              " '100times',\n",
              " '100v',\n",
              " '100w',\n",
              " '100x',\n",
              " '100x0',\n",
              " '100x10',\n",
              " '100x100',\n",
              " '100x1000',\n",
              " '100x2',\n",
              " '100xy',\n",
              " '100y',\n",
              " '100yx',\n",
              " '100ºc',\n",
              " '101',\n",
              " '1010',\n",
              " '101088',\n",
              " '1011',\n",
              " '101234',\n",
              " '1013',\n",
              " '101325',\n",
              " '1015',\n",
              " '10192',\n",
              " '102',\n",
              " '1020',\n",
              " '10204',\n",
              " '102041',\n",
              " '1021',\n",
              " '1024',\n",
              " '1025',\n",
              " '1029',\n",
              " '102cm',\n",
              " '103',\n",
              " '1030',\n",
              " '10303',\n",
              " '10319',\n",
              " '103194',\n",
              " '1031940',\n",
              " '1032',\n",
              " '1034',\n",
              " '10388238',\n",
              " '1039',\n",
              " '103divided',\n",
              " '103x2',\n",
              " '104',\n",
              " '1040',\n",
              " '1042894217',\n",
              " '1043',\n",
              " '104391',\n",
              " '1046',\n",
              " '10472',\n",
              " '1048576',\n",
              " '1049',\n",
              " '105',\n",
              " '1050',\n",
              " '1052',\n",
              " '105263157895',\n",
              " '1056',\n",
              " '105875',\n",
              " '10599',\n",
              " '105and',\n",
              " '106',\n",
              " '1060',\n",
              " '1064',\n",
              " '1066667',\n",
              " '106⁰',\n",
              " '107',\n",
              " '1070',\n",
              " '1070k',\n",
              " '1071',\n",
              " '1073',\n",
              " '10764',\n",
              " '1078',\n",
              " '108',\n",
              " '1080',\n",
              " '10800',\n",
              " '108000',\n",
              " '10800kgm',\n",
              " '1081',\n",
              " '10825',\n",
              " '1084',\n",
              " '1087',\n",
              " '1089',\n",
              " '108pi',\n",
              " '108x',\n",
              " '108y4',\n",
              " '109',\n",
              " '1092',\n",
              " '10a',\n",
              " '10a2',\n",
              " '10ab',\n",
              " '10atm',\n",
              " '10b',\n",
              " '10base',\n",
              " '10c',\n",
              " '10c2',\n",
              " '10c3',\n",
              " '10c8',\n",
              " '10c9',\n",
              " '10cm',\n",
              " '10cos',\n",
              " '10cosx',\n",
              " '10cubed',\n",
              " '10d',\n",
              " '10divide',\n",
              " '10dl',\n",
              " '10e',\n",
              " '10f',\n",
              " '10ft',\n",
              " '10g',\n",
              " '10gms',\n",
              " '10h',\n",
              " '10hours',\n",
              " '10i',\n",
              " '10inches',\n",
              " '10j',\n",
              " '10k',\n",
              " '10km',\n",
              " '10l',\n",
              " '10m',\n",
              " '10meters',\n",
              " '10mg',\n",
              " '10min',\n",
              " '10mins',\n",
              " '10ml',\n",
              " '10mm',\n",
              " '10mq',\n",
              " '10n',\n",
              " '10o',\n",
              " '10p',\n",
              " '10p3',\n",
              " '10p4',\n",
              " '10pi',\n",
              " '10q',\n",
              " '10r',\n",
              " '10root',\n",
              " '10root3',\n",
              " '10rt',\n",
              " '10s',\n",
              " '10sqrt',\n",
              " '10t',\n",
              " '10th',\n",
              " '10the',\n",
              " '10tx',\n",
              " '10u',\n",
              " '10unitsbosbthe',\n",
              " '10v',\n",
              " '10w',\n",
              " '10x',\n",
              " '10x0',\n",
              " '10x1',\n",
              " '10x10',\n",
              " '10x10x10',\n",
              " '10x10x3',\n",
              " '10x11',\n",
              " '10x14',\n",
              " '10x2',\n",
              " '10x20',\n",
              " '10x2x3',\n",
              " '10x3',\n",
              " '10x5',\n",
              " '10x6',\n",
              " '10x9',\n",
              " '10x9x8x7',\n",
              " '10xd',\n",
              " '10xsqrt',\n",
              " '10xy',\n",
              " '10x²',\n",
              " '10x³',\n",
              " '10y',\n",
              " '10yellow',\n",
              " '10yx',\n",
              " '10z',\n",
              " '10²',\n",
              " '10³',\n",
              " '10⁹',\n",
              " '11',\n",
              " '110',\n",
              " '1100',\n",
              " '11000',\n",
              " '110000',\n",
              " '1100000000000',\n",
              " '1102',\n",
              " '1103',\n",
              " '11040',\n",
              " '11045',\n",
              " '11050',\n",
              " '11050cm',\n",
              " '11061251483',\n",
              " '11080',\n",
              " '110degrees',\n",
              " '110e',\n",
              " '110in',\n",
              " '110mol',\n",
              " '110v',\n",
              " '110x',\n",
              " '111',\n",
              " '1110',\n",
              " '1111',\n",
              " '11111',\n",
              " '1111111',\n",
              " '1113',\n",
              " '112',\n",
              " '1120',\n",
              " '11200',\n",
              " '1120k',\n",
              " '1121',\n",
              " '11232',\n",
              " '112360',\n",
              " '1125',\n",
              " '1127',\n",
              " '112u',\n",
              " '113',\n",
              " '1134',\n",
              " '1137',\n",
              " '11392',\n",
              " '11393320',\n",
              " '114',\n",
              " '1140',\n",
              " '114000',\n",
              " '1141',\n",
              " '11424',\n",
              " '11432',\n",
              " '1146',\n",
              " '11460',\n",
              " '114x',\n",
              " '115',\n",
              " '1150',\n",
              " '1150000',\n",
              " '1152',\n",
              " '115369722',\n",
              " '11536972238',\n",
              " '1155',\n",
              " '1156',\n",
              " '1157',\n",
              " '115825',\n",
              " '115x',\n",
              " '116',\n",
              " '1161',\n",
              " '11666',\n",
              " '11666667',\n",
              " '1167',\n",
              " '116i',\n",
              " '117',\n",
              " '1170',\n",
              " '1170ml',\n",
              " '1171',\n",
              " '1171392',\n",
              " '1172',\n",
              " '1175',\n",
              " '1176',\n",
              " '11781',\n",
              " '118',\n",
              " '1180',\n",
              " '1183',\n",
              " '1184',\n",
              " '11847',\n",
              " '11880',\n",
              " '1189',\n",
              " '1189x',\n",
              " '119',\n",
              " '1190000',\n",
              " '119125',\n",
              " '1199125',\n",
              " '119925',\n",
              " '11a',\n",
              " '11am',\n",
              " '11b',\n",
              " '11c5',\n",
              " '11cm',\n",
              " '11e',\n",
              " '11from',\n",
              " '11h',\n",
              " '11i',\n",
              " '11k',\n",
              " '11m',\n",
              " '11mpg',\n",
              " '11n',\n",
              " '11p4',\n",
              " '11pi',\n",
              " '11qt',\n",
              " '11r',\n",
              " '11radical5',\n",
              " '11root6',\n",
              " '11s',\n",
              " '11tan',\n",
              " '11th',\n",
              " '11u',\n",
              " '11v',\n",
              " '11w',\n",
              " '11x',\n",
              " '11x1',\n",
              " '11x10x9x8x7x6',\n",
              " '11x11',\n",
              " '11x2',\n",
              " '11x2x3x7',\n",
              " '11x3',\n",
              " '11x3x2x2',\n",
              " '11x4',\n",
              " ...]"
            ]
          },
          "metadata": {
            "tags": []
          },
          "execution_count": 18
        }
      ]
    },
    {
      "cell_type": "markdown",
      "metadata": {
        "id": "gi1eNFTi44yz",
        "colab_type": "text"
      },
      "source": [
        "### Utilizando el método **CountVectorizer** convertiremos el texto de **X_test** en vectores numéricos.\n",
        "\n",
        "\n"
      ]
    },
    {
      "cell_type": "code",
      "metadata": {
        "id": "x1ObsFZK44S0",
        "colab_type": "code",
        "colab": {
          "base_uri": "https://localhost:8080/",
          "height": 84
        },
        "outputId": "eb6d7552-0c16-419d-c742-429022f9c601"
      },
      "source": [
        "from sklearn.feature_extraction.text import CountVectorizer\n",
        "# trabajamos con CountVectorizer sin parámetros por defecto\n",
        "vectorizer2 = CountVectorizer()\n",
        "x_testcv= vectorizer2.fit_transform(X_test)          #Learn the vocabulary dictionary and return document-term matrix.\n",
        "\n",
        "# ¿cuál es la dimensión de la matriz dispersa?\n",
        "print('Dimensión de la matriz dispersa \\n.')\n",
        "x_testcv "
      ],
      "execution_count": 19,
      "outputs": [
        {
          "output_type": "stream",
          "text": [
            "Dimensión de la matriz dispersa \n",
            ".\n"
          ],
          "name": "stdout"
        },
        {
          "output_type": "execute_result",
          "data": {
            "text/plain": [
              "<3486x15520 sparse matrix of type '<class 'numpy.int64'>'\n",
              "\twith 603421 stored elements in Compressed Sparse Row format>"
            ]
          },
          "metadata": {
            "tags": []
          },
          "execution_count": 19
        }
      ]
    },
    {
      "cell_type": "markdown",
      "metadata": {
        "id": "ChDmX42Y9WgU",
        "colab_type": "text"
      },
      "source": [
        "### **Valores de la matriz dispersa**"
      ]
    },
    {
      "cell_type": "code",
      "metadata": {
        "id": "biKPZFQ99b40",
        "colab_type": "code",
        "colab": {
          "base_uri": "https://localhost:8080/",
          "height": 134
        },
        "outputId": "01a35385-ec86-4cc1-b8ed-1f84dff94461"
      },
      "source": [
        "# imprimimos lo valores de la matriz dispersa\n",
        "print(x_testcv.toarray())"
      ],
      "execution_count": 20,
      "outputs": [
        {
          "output_type": "stream",
          "text": [
            "[[0 0 0 ... 0 0 0]\n",
            " [0 0 0 ... 0 0 0]\n",
            " [0 0 0 ... 0 0 0]\n",
            " ...\n",
            " [0 0 0 ... 0 0 0]\n",
            " [0 0 0 ... 0 0 0]\n",
            " [0 0 0 ... 0 0 0]]\n"
          ],
          "name": "stdout"
        }
      ]
    },
    {
      "cell_type": "markdown",
      "metadata": {
        "id": "TeuZXfNCLqmH",
        "colab_type": "text"
      },
      "source": [
        "## **Valores de los features**"
      ]
    },
    {
      "cell_type": "code",
      "metadata": {
        "id": "uLiDR1h009Wi",
        "colab_type": "code",
        "colab": {
          "base_uri": "https://localhost:8080/",
          "height": 1000
        },
        "outputId": "a1523285-6aaf-48e7-fc43-37b7ca9f692e"
      },
      "source": [
        "vectorizer.get_feature_names()"
      ],
      "execution_count": 21,
      "outputs": [
        {
          "output_type": "execute_result",
          "data": {
            "text/plain": [
              "['00',\n",
              " '000',\n",
              " '0000',\n",
              " '000000',\n",
              " '000000000',\n",
              " '0000000000000000000000004',\n",
              " '0000000000000000000004',\n",
              " '00000000001',\n",
              " '000000000035',\n",
              " '0000000001',\n",
              " '0000000002546',\n",
              " '000000000667',\n",
              " '000000001',\n",
              " '00000000227',\n",
              " '00000001',\n",
              " '000000010',\n",
              " '00000004290224',\n",
              " '0000001',\n",
              " '000000227',\n",
              " '000000333',\n",
              " '000000433926',\n",
              " '000000434',\n",
              " '000000625',\n",
              " '0000006708',\n",
              " '000001',\n",
              " '00000149253',\n",
              " '00000980',\n",
              " '00001',\n",
              " '000033',\n",
              " '000034',\n",
              " '00004',\n",
              " '0000453864',\n",
              " '00005',\n",
              " '00006',\n",
              " '000064',\n",
              " '00007',\n",
              " '00008428903',\n",
              " '00009118',\n",
              " '0000939435',\n",
              " '0001',\n",
              " '0001089',\n",
              " '00012097',\n",
              " '000127727272727',\n",
              " '00012820512',\n",
              " '00013',\n",
              " '000146',\n",
              " '000146153846154',\n",
              " '0001464',\n",
              " '00014653846154',\n",
              " '00016574585',\n",
              " '00019230769',\n",
              " '0002',\n",
              " '0003',\n",
              " '0003x',\n",
              " '00040',\n",
              " '000428',\n",
              " '000465',\n",
              " '0004780',\n",
              " '0005',\n",
              " '00050',\n",
              " '000567',\n",
              " '0006',\n",
              " '00063',\n",
              " '000678',\n",
              " '0006780',\n",
              " '000678km',\n",
              " '00072',\n",
              " '0008',\n",
              " '000864',\n",
              " '0008m',\n",
              " '0008r',\n",
              " '0009',\n",
              " '00092',\n",
              " '000925',\n",
              " '00097656',\n",
              " '0009x',\n",
              " '000k',\n",
              " '000ml',\n",
              " '000n',\n",
              " '000ug',\n",
              " '000x',\n",
              " '001',\n",
              " '0010',\n",
              " '0011',\n",
              " '001125078',\n",
              " '0013',\n",
              " '001432',\n",
              " '0015',\n",
              " '00156',\n",
              " '0016',\n",
              " '0018',\n",
              " '001dm',\n",
              " '002',\n",
              " '002001',\n",
              " '002004',\n",
              " '0021',\n",
              " '002265',\n",
              " '0023',\n",
              " '002391195',\n",
              " '0024',\n",
              " '0024217258',\n",
              " '002422',\n",
              " '0025',\n",
              " '002506',\n",
              " '00275',\n",
              " '00276',\n",
              " '002777778',\n",
              " '00277778',\n",
              " '003',\n",
              " '003013',\n",
              " '0033',\n",
              " '0034',\n",
              " '00345',\n",
              " '0036',\n",
              " '003633',\n",
              " '0036x',\n",
              " '0037',\n",
              " '00378',\n",
              " '003786',\n",
              " '00385',\n",
              " '0039',\n",
              " '00391',\n",
              " '003t',\n",
              " '003x9',\n",
              " '004',\n",
              " '0040',\n",
              " '0042',\n",
              " '0045mg',\n",
              " '0046',\n",
              " '00465',\n",
              " '004650',\n",
              " '0047',\n",
              " '004780',\n",
              " '00483',\n",
              " '0049',\n",
              " '005',\n",
              " '0053',\n",
              " '00536',\n",
              " '00536667',\n",
              " '0053667',\n",
              " '0054',\n",
              " '00546667',\n",
              " '0054667',\n",
              " '0055',\n",
              " '0056',\n",
              " '005625',\n",
              " '0056s',\n",
              " '005x',\n",
              " '006',\n",
              " '0062',\n",
              " '006235',\n",
              " '00638',\n",
              " '0064',\n",
              " '0065',\n",
              " '0066',\n",
              " '00661128608',\n",
              " '0067',\n",
              " '007',\n",
              " '007009346',\n",
              " '0072',\n",
              " '0072x',\n",
              " '0074',\n",
              " '0075',\n",
              " '0075722351',\n",
              " '0078',\n",
              " '0078125',\n",
              " '0078a',\n",
              " '0079',\n",
              " '00792',\n",
              " '008',\n",
              " '00816',\n",
              " '0083',\n",
              " '0085',\n",
              " '00864',\n",
              " '0087',\n",
              " '009',\n",
              " '0090',\n",
              " '0092',\n",
              " '009346',\n",
              " '0094',\n",
              " '009518',\n",
              " '009765',\n",
              " '00n',\n",
              " '00pm',\n",
              " '00x',\n",
              " '00x10',\n",
              " '00y',\n",
              " '01',\n",
              " '010',\n",
              " '010171173',\n",
              " '0102',\n",
              " '01024',\n",
              " '0103',\n",
              " '011',\n",
              " '0112',\n",
              " '0119',\n",
              " '012',\n",
              " '0121',\n",
              " '01215',\n",
              " '0122',\n",
              " '0123',\n",
              " '01234',\n",
              " '01246',\n",
              " '0125',\n",
              " '01275l',\n",
              " '0128',\n",
              " '0129',\n",
              " '013',\n",
              " '0130',\n",
              " '01305134263',\n",
              " '0133',\n",
              " '013799',\n",
              " '0138',\n",
              " '01391744',\n",
              " '0139174447',\n",
              " '014',\n",
              " '0144',\n",
              " '0145',\n",
              " '0146',\n",
              " '0147m',\n",
              " '01499',\n",
              " '015',\n",
              " '0150',\n",
              " '01528',\n",
              " '01528g',\n",
              " '01533',\n",
              " '015636',\n",
              " '0158',\n",
              " '01587',\n",
              " '0159',\n",
              " '016',\n",
              " '01614',\n",
              " '01622',\n",
              " '01666',\n",
              " '01666666666',\n",
              " '0167',\n",
              " '017',\n",
              " '0174533',\n",
              " '0175',\n",
              " '0175x',\n",
              " '0176',\n",
              " '018',\n",
              " '01818',\n",
              " '01818181',\n",
              " '01842',\n",
              " '01875',\n",
              " '0193',\n",
              " '019335',\n",
              " '0196',\n",
              " '0198',\n",
              " '01h',\n",
              " '01l',\n",
              " '01m',\n",
              " '01v',\n",
              " '01x',\n",
              " '01x10',\n",
              " '02',\n",
              " '020',\n",
              " '0200000004',\n",
              " '0201',\n",
              " '020175',\n",
              " '0202',\n",
              " '0204',\n",
              " '021',\n",
              " '0215',\n",
              " '021741',\n",
              " '022',\n",
              " '022140857',\n",
              " '0225',\n",
              " '0229',\n",
              " '02297',\n",
              " '022x10',\n",
              " '023',\n",
              " '0234',\n",
              " '0235',\n",
              " '023789',\n",
              " '0238',\n",
              " '0239',\n",
              " '024',\n",
              " '0244',\n",
              " '0248',\n",
              " '024x',\n",
              " '025',\n",
              " '0250',\n",
              " '0254',\n",
              " '0255',\n",
              " '0259',\n",
              " '025a',\n",
              " '025l',\n",
              " '025lx0',\n",
              " '026',\n",
              " '02602',\n",
              " '0264',\n",
              " '0267',\n",
              " '026706',\n",
              " '0267x',\n",
              " '027',\n",
              " '0275',\n",
              " '0275847',\n",
              " '0276',\n",
              " '0277',\n",
              " '028',\n",
              " '0282',\n",
              " '0283',\n",
              " '0288',\n",
              " '029',\n",
              " '0290',\n",
              " '0292',\n",
              " '02c',\n",
              " '02s',\n",
              " '02t',\n",
              " '02v',\n",
              " '02x',\n",
              " '02x10',\n",
              " '02xc',\n",
              " '03',\n",
              " '030',\n",
              " '0302',\n",
              " '030206675085',\n",
              " '03020668',\n",
              " '03076',\n",
              " '031',\n",
              " '0312',\n",
              " '03125',\n",
              " '0313',\n",
              " '0314',\n",
              " '03153',\n",
              " '03153873',\n",
              " '0318',\n",
              " '032',\n",
              " '0325',\n",
              " '0325x',\n",
              " '032914611',\n",
              " '032914611xe26',\n",
              " '032914612',\n",
              " '03294611',\n",
              " '033',\n",
              " '03333336',\n",
              " '03338',\n",
              " '03361345',\n",
              " '034',\n",
              " '035',\n",
              " '035184',\n",
              " '035274',\n",
              " '0353',\n",
              " '03564',\n",
              " '0356727009',\n",
              " '0357',\n",
              " '035x',\n",
              " '036',\n",
              " '036717063',\n",
              " '036l',\n",
              " '037',\n",
              " '037037037',\n",
              " '037282215',\n",
              " '0372822712',\n",
              " '037805782',\n",
              " '037x10',\n",
              " '038',\n",
              " '0380',\n",
              " '0385',\n",
              " '039',\n",
              " '0390625',\n",
              " '0395',\n",
              " '03e',\n",
              " '03x',\n",
              " '03x4',\n",
              " '03x40000',\n",
              " '03y',\n",
              " '04',\n",
              " '040',\n",
              " '0401',\n",
              " '0408',\n",
              " '04085704',\n",
              " '0408x',\n",
              " '041',\n",
              " '0410',\n",
              " '0414',\n",
              " '0417',\n",
              " '041875',\n",
              " '042',\n",
              " '0421',\n",
              " '04210867',\n",
              " '0426',\n",
              " '0429',\n",
              " '0430',\n",
              " '0430j',\n",
              " '04375',\n",
              " '0439',\n",
              " '044',\n",
              " '0441',\n",
              " '0441x',\n",
              " '04490',\n",
              " '045',\n",
              " '046',\n",
              " '0468',\n",
              " '047',\n",
              " '0472',\n",
              " '0476',\n",
              " '047kg',\n",
              " '048',\n",
              " '0485',\n",
              " '0488',\n",
              " '048m',\n",
              " '048x100000',\n",
              " '049',\n",
              " '04939015',\n",
              " '0498',\n",
              " '04987',\n",
              " '049874375',\n",
              " '049875',\n",
              " '04987562',\n",
              " '0498756211208903',\n",
              " '049875625',\n",
              " '04c',\n",
              " '04g',\n",
              " '04j',\n",
              " '04m',\n",
              " '04x',\n",
              " '04x10',\n",
              " '04x3',\n",
              " '04y',\n",
              " '05',\n",
              " '050',\n",
              " '0500',\n",
              " '0500000',\n",
              " '0501',\n",
              " '050902',\n",
              " '0518',\n",
              " '052',\n",
              " '0525',\n",
              " '05263158',\n",
              " '0529',\n",
              " '05293',\n",
              " '053',\n",
              " '054',\n",
              " '05428571',\n",
              " '05464',\n",
              " '0548',\n",
              " '0548036651',\n",
              " '055',\n",
              " '0552',\n",
              " '055201',\n",
              " '055319964e26',\n",
              " '0555',\n",
              " '05555',\n",
              " '055x',\n",
              " '056',\n",
              " '056253',\n",
              " '05669',\n",
              " '057',\n",
              " '058',\n",
              " '05a',\n",
              " '05am',\n",
              " '05b',\n",
              " '05e6',\n",
              " '05g',\n",
              " '05kg',\n",
              " '05l',\n",
              " '05mol',\n",
              " '05n',\n",
              " '05pm',\n",
              " '05x',\n",
              " '05x10',\n",
              " '05x1000',\n",
              " '05y',\n",
              " '06',\n",
              " '060',\n",
              " '0619298',\n",
              " '062',\n",
              " '0625',\n",
              " '0627',\n",
              " '063',\n",
              " '06357449016',\n",
              " '063s',\n",
              " '064',\n",
              " '06410',\n",
              " '0644',\n",
              " '065',\n",
              " '066',\n",
              " '0661',\n",
              " '0666',\n",
              " '066666',\n",
              " '0666666',\n",
              " '06666666',\n",
              " '0667',\n",
              " '066x',\n",
              " '067',\n",
              " '06766917',\n",
              " '06785',\n",
              " '068',\n",
              " '06808694',\n",
              " '0688',\n",
              " '0689',\n",
              " '069',\n",
              " '0694',\n",
              " '06c',\n",
              " '06j',\n",
              " '06to',\n",
              " '06x',\n",
              " '06x1',\n",
              " '06x10',\n",
              " '06x5',\n",
              " '06xc',\n",
              " '07',\n",
              " '070',\n",
              " '0711',\n",
              " '0714',\n",
              " '072',\n",
              " '072l',\n",
              " '074',\n",
              " '075',\n",
              " '0755',\n",
              " '076',\n",
              " '0765',\n",
              " '077',\n",
              " '078',\n",
              " '0780',\n",
              " '078125',\n",
              " '07875',\n",
              " '078grams',\n",
              " '07918',\n",
              " '0796327',\n",
              " '07x',\n",
              " '07y',\n",
              " '08',\n",
              " '080',\n",
              " '080x',\n",
              " '081',\n",
              " '08206',\n",
              " '082191781',\n",
              " '0825',\n",
              " '0825x',\n",
              " '083',\n",
              " '0833',\n",
              " '0834088',\n",
              " '0837',\n",
              " '08375',\n",
              " '08385573',\n",
              " '085',\n",
              " '085x',\n",
              " '0864',\n",
              " '0869659721',\n",
              " '0871557427',\n",
              " '0873l',\n",
              " '0875',\n",
              " '088',\n",
              " '088888888888889',\n",
              " '088y',\n",
              " '089',\n",
              " '08909695',\n",
              " '089575856',\n",
              " '0896641780644119',\n",
              " '0896641781',\n",
              " '08991983',\n",
              " '08a',\n",
              " '08s',\n",
              " '08t',\n",
              " '08x',\n",
              " '08x0',\n",
              " '09',\n",
              " '0906',\n",
              " '0909',\n",
              " '091',\n",
              " '0912',\n",
              " '092',\n",
              " '0925',\n",
              " '0926',\n",
              " '0938',\n",
              " '09380689767',\n",
              " '094',\n",
              " '09475',\n",
              " '095',\n",
              " '0953',\n",
              " '09595',\n",
              " '095x',\n",
              " '096',\n",
              " '09648',\n",
              " '0969',\n",
              " '097',\n",
              " '0973355',\n",
              " '0974x10',\n",
              " '0975',\n",
              " '098',\n",
              " '0986',\n",
              " '0986764365345221145675886787532146890',\n",
              " '09898',\n",
              " '098x1000',\n",
              " '0990009',\n",
              " '099021',\n",
              " '09999999',\n",
              " '0999999999',\n",
              " '09pi',\n",
              " '09s',\n",
              " '09x10',\n",
              " '09z',\n",
              " '0a',\n",
              " '0c',\n",
              " '0cosx',\n",
              " '0degc',\n",
              " '0e',\n",
              " '0f',\n",
              " '0h',\n",
              " '0hms',\n",
              " '0i',\n",
              " '0into',\n",
              " '0is',\n",
              " '0j',\n",
              " '0k',\n",
              " '0kg',\n",
              " '0km',\n",
              " '0l',\n",
              " '0m',\n",
              " '0ml',\n",
              " '0mod1',\n",
              " '0mol',\n",
              " '0n',\n",
              " '0no',\n",
              " '0pi',\n",
              " '0r',\n",
              " '0s',\n",
              " '0th',\n",
              " '0times',\n",
              " '0timesa',\n",
              " '0w',\n",
              " '0what',\n",
              " '0x',\n",
              " '0x0',\n",
              " '0x1',\n",
              " '0x10',\n",
              " '0x200',\n",
              " '0x5',\n",
              " '0xd',\n",
              " '0y',\n",
              " '0z',\n",
              " '0³',\n",
              " '0ºc',\n",
              " '10',\n",
              " '100',\n",
              " '1000',\n",
              " '10000',\n",
              " '100000',\n",
              " '1000000',\n",
              " '1000000000',\n",
              " '1000000005488',\n",
              " '10000000363926596383643946x0',\n",
              " '10000090',\n",
              " '100000x',\n",
              " '10000m',\n",
              " '10000x',\n",
              " '10000x500',\n",
              " '1000cc',\n",
              " '1000cm3',\n",
              " '1000j',\n",
              " '1000k',\n",
              " '1000kg',\n",
              " '1000kgs',\n",
              " '1000m',\n",
              " '1000ma',\n",
              " '1000ml',\n",
              " '1000n',\n",
              " '1000o',\n",
              " '1000s',\n",
              " '1000seconds',\n",
              " '1000tanx',\n",
              " '1000w',\n",
              " '1000x',\n",
              " '1000x0',\n",
              " '1001',\n",
              " '1003',\n",
              " '1004',\n",
              " '1005',\n",
              " '1005291',\n",
              " '1005x',\n",
              " '1007',\n",
              " '1008',\n",
              " '10080',\n",
              " '100a',\n",
              " '100and80',\n",
              " '100baloons',\n",
              " '100c',\n",
              " '100cm',\n",
              " '100degc',\n",
              " '100degree',\n",
              " '100j',\n",
              " '100k',\n",
              " '100km',\n",
              " '100ko',\n",
              " '100m',\n",
              " '100mi',\n",
              " '100miles',\n",
              " '100ml',\n",
              " '100n',\n",
              " '100pi',\n",
              " '100plus',\n",
              " '100r',\n",
              " '100s',\n",
              " '100sin76',\n",
              " '100t',\n",
              " '100t1',\n",
              " '100t2',\n",
              " '100th',\n",
              " '100times',\n",
              " '100v',\n",
              " '100w',\n",
              " '100x',\n",
              " '100x0',\n",
              " '100x10',\n",
              " '100x100',\n",
              " '100x1000',\n",
              " '100x2',\n",
              " '100xy',\n",
              " '100y',\n",
              " '100yx',\n",
              " '100ºc',\n",
              " '101',\n",
              " '1010',\n",
              " '101088',\n",
              " '1011',\n",
              " '101234',\n",
              " '1013',\n",
              " '101325',\n",
              " '1015',\n",
              " '10192',\n",
              " '102',\n",
              " '1020',\n",
              " '10204',\n",
              " '102041',\n",
              " '1021',\n",
              " '1024',\n",
              " '1025',\n",
              " '1029',\n",
              " '102cm',\n",
              " '103',\n",
              " '1030',\n",
              " '10303',\n",
              " '10319',\n",
              " '103194',\n",
              " '1031940',\n",
              " '1032',\n",
              " '1034',\n",
              " '10388238',\n",
              " '1039',\n",
              " '103divided',\n",
              " '103x2',\n",
              " '104',\n",
              " '1040',\n",
              " '1042894217',\n",
              " '1043',\n",
              " '104391',\n",
              " '1046',\n",
              " '10472',\n",
              " '1048576',\n",
              " '1049',\n",
              " '105',\n",
              " '1050',\n",
              " '1052',\n",
              " '105263157895',\n",
              " '1056',\n",
              " '105875',\n",
              " '10599',\n",
              " '105and',\n",
              " '106',\n",
              " '1060',\n",
              " '1064',\n",
              " '1066667',\n",
              " '106⁰',\n",
              " '107',\n",
              " '1070',\n",
              " '1070k',\n",
              " '1071',\n",
              " '1073',\n",
              " '10764',\n",
              " '1078',\n",
              " '108',\n",
              " '1080',\n",
              " '10800',\n",
              " '108000',\n",
              " '10800kgm',\n",
              " '1081',\n",
              " '10825',\n",
              " '1084',\n",
              " '1087',\n",
              " '1089',\n",
              " '108pi',\n",
              " '108x',\n",
              " '108y4',\n",
              " '109',\n",
              " '1092',\n",
              " '10a',\n",
              " '10a2',\n",
              " '10ab',\n",
              " '10atm',\n",
              " '10b',\n",
              " '10base',\n",
              " '10c',\n",
              " '10c2',\n",
              " '10c3',\n",
              " '10c8',\n",
              " '10c9',\n",
              " '10cm',\n",
              " '10cos',\n",
              " '10cosx',\n",
              " '10cubed',\n",
              " '10d',\n",
              " '10divide',\n",
              " '10dl',\n",
              " '10e',\n",
              " '10f',\n",
              " '10ft',\n",
              " '10g',\n",
              " '10gms',\n",
              " '10h',\n",
              " '10hours',\n",
              " '10i',\n",
              " '10inches',\n",
              " '10j',\n",
              " '10k',\n",
              " '10km',\n",
              " '10l',\n",
              " '10m',\n",
              " '10meters',\n",
              " '10mg',\n",
              " '10min',\n",
              " '10mins',\n",
              " '10ml',\n",
              " '10mm',\n",
              " '10mq',\n",
              " '10n',\n",
              " '10o',\n",
              " '10p',\n",
              " '10p3',\n",
              " '10p4',\n",
              " '10pi',\n",
              " '10q',\n",
              " '10r',\n",
              " '10root',\n",
              " '10root3',\n",
              " '10rt',\n",
              " '10s',\n",
              " '10sqrt',\n",
              " '10t',\n",
              " '10th',\n",
              " '10the',\n",
              " '10tx',\n",
              " '10u',\n",
              " '10unitsbosbthe',\n",
              " '10v',\n",
              " '10w',\n",
              " '10x',\n",
              " '10x0',\n",
              " '10x1',\n",
              " '10x10',\n",
              " '10x10x10',\n",
              " '10x10x3',\n",
              " '10x11',\n",
              " '10x14',\n",
              " '10x2',\n",
              " '10x20',\n",
              " '10x2x3',\n",
              " '10x3',\n",
              " '10x5',\n",
              " '10x6',\n",
              " '10x9',\n",
              " '10x9x8x7',\n",
              " '10xd',\n",
              " '10xsqrt',\n",
              " '10xy',\n",
              " '10x²',\n",
              " '10x³',\n",
              " '10y',\n",
              " '10yellow',\n",
              " '10yx',\n",
              " '10z',\n",
              " '10²',\n",
              " '10³',\n",
              " '10⁹',\n",
              " '11',\n",
              " '110',\n",
              " '1100',\n",
              " '11000',\n",
              " '110000',\n",
              " '1100000000000',\n",
              " '1102',\n",
              " '1103',\n",
              " '11040',\n",
              " '11045',\n",
              " '11050',\n",
              " '11050cm',\n",
              " '11061251483',\n",
              " '11080',\n",
              " '110degrees',\n",
              " '110e',\n",
              " '110in',\n",
              " '110mol',\n",
              " '110v',\n",
              " '110x',\n",
              " '111',\n",
              " '1110',\n",
              " '1111',\n",
              " '11111',\n",
              " '1111111',\n",
              " '1113',\n",
              " '112',\n",
              " '1120',\n",
              " '11200',\n",
              " '1120k',\n",
              " '1121',\n",
              " '11232',\n",
              " '112360',\n",
              " '1125',\n",
              " '1127',\n",
              " '112u',\n",
              " '113',\n",
              " '1134',\n",
              " '1137',\n",
              " '11392',\n",
              " '11393320',\n",
              " '114',\n",
              " '1140',\n",
              " '114000',\n",
              " '1141',\n",
              " '11424',\n",
              " '11432',\n",
              " '1146',\n",
              " '11460',\n",
              " '114x',\n",
              " '115',\n",
              " '1150',\n",
              " '1150000',\n",
              " '1152',\n",
              " '115369722',\n",
              " '11536972238',\n",
              " '1155',\n",
              " '1156',\n",
              " '1157',\n",
              " '115825',\n",
              " '115x',\n",
              " '116',\n",
              " '1161',\n",
              " '11666',\n",
              " '11666667',\n",
              " '1167',\n",
              " '116i',\n",
              " '117',\n",
              " '1170',\n",
              " '1170ml',\n",
              " '1171',\n",
              " '1171392',\n",
              " '1172',\n",
              " '1175',\n",
              " '1176',\n",
              " '11781',\n",
              " '118',\n",
              " '1180',\n",
              " '1183',\n",
              " '1184',\n",
              " '11847',\n",
              " '11880',\n",
              " '1189',\n",
              " '1189x',\n",
              " '119',\n",
              " '1190000',\n",
              " '119125',\n",
              " '1199125',\n",
              " '119925',\n",
              " '11a',\n",
              " '11am',\n",
              " '11b',\n",
              " '11c5',\n",
              " '11cm',\n",
              " '11e',\n",
              " '11from',\n",
              " '11h',\n",
              " '11i',\n",
              " '11k',\n",
              " '11m',\n",
              " '11mpg',\n",
              " '11n',\n",
              " '11p4',\n",
              " '11pi',\n",
              " '11qt',\n",
              " '11r',\n",
              " '11radical5',\n",
              " '11root6',\n",
              " '11s',\n",
              " '11tan',\n",
              " '11th',\n",
              " '11u',\n",
              " '11v',\n",
              " '11w',\n",
              " '11x',\n",
              " '11x1',\n",
              " '11x10x9x8x7x6',\n",
              " '11x11',\n",
              " '11x2',\n",
              " '11x2x3x7',\n",
              " '11x3',\n",
              " '11x3x2x2',\n",
              " '11x4',\n",
              " ...]"
            ]
          },
          "metadata": {
            "tags": []
          },
          "execution_count": 21
        }
      ]
    },
    {
      "cell_type": "markdown",
      "metadata": {
        "id": "mY_MofCF7QgI",
        "colab_type": "text"
      },
      "source": [
        "### **Otra opción es utilizar HashingVectorizer**\n",
        "\n",
        "Una opción a la utilización de CountVectorizer es utilizar el método 'HashingVectorizer' ya que utiliza menos menoria y es escalable a grandes conjuntos de datos. Usa un truco de hash para encontrar el nombre de la cadena del token para presentar la asignación de índices. Esto significa que usa muy poca memoria y escala a grandes conjuntos de datos, ya que no necesita almacenar todo el vocabulario y es más rápido de seleccionar y ajustar, ya que no hay ningún estado. Sin embargo, no hay transformación inversa (de vector a texto), puede haber colisiones y no hay ponderación de frecuencia de documento inversa.\n",
        "\n",
        " Referencia: https://learning.oreilly.com/library/view/applied-text-analysis/9781491963036/ch04.html#ATAP04"
      ]
    },
    {
      "cell_type": "markdown",
      "metadata": {
        "id": "spOtm3dC-r1v",
        "colab_type": "text"
      },
      "source": [
        "###**Vectorizamos el texto con el método HashingVectorizer()**\n",
        "\n",
        "### Utilizando el método HashingVectorizer() convertiremos el texto de X_train en vectores numéricos."
      ]
    },
    {
      "cell_type": "code",
      "metadata": {
        "id": "VMV8dX9C7PPh",
        "colab_type": "code",
        "colab": {
          "base_uri": "https://localhost:8080/",
          "height": 67
        },
        "outputId": "f3dbab20-fe06-483b-bad2-721286d9ec31"
      },
      "source": [
        "from sklearn.feature_extraction.text import HashingVectorizer\n",
        "\n",
        "vectorizer3 = HashingVectorizer(n_features=2**4)\n",
        "x_trainhv = vectorizer3.fit_transform(X_train)\n",
        "print('Dimensión de la matriz dispersa \\n.')\n",
        "print(x_trainhv.shape)"
      ],
      "execution_count": 22,
      "outputs": [
        {
          "output_type": "stream",
          "text": [
            "Dimensión de la matriz dispersa \n",
            ".\n",
            "(13943, 16)\n"
          ],
          "name": "stdout"
        }
      ]
    },
    {
      "cell_type": "markdown",
      "metadata": {
        "id": "Sexlck_U-s9s",
        "colab_type": "text"
      },
      "source": [
        "### Utilizando el método HashingVectorizer() convertiremos el texto de X_test en vectores numéricos."
      ]
    },
    {
      "cell_type": "code",
      "metadata": {
        "id": "5VxQYhM1-tco",
        "colab_type": "code",
        "colab": {
          "base_uri": "https://localhost:8080/",
          "height": 67
        },
        "outputId": "03bc279b-dfbe-4bd9-d153-870ea2a04ade"
      },
      "source": [
        "vectorizer3 = HashingVectorizer(n_features=2**4)\n",
        "x_testhv = vectorizer3.fit_transform(X_test)\n",
        "print('Dimensión de la matriz dispersa \\n.')\n",
        "print(x_testhv.shape)"
      ],
      "execution_count": 23,
      "outputs": [
        {
          "output_type": "stream",
          "text": [
            "Dimensión de la matriz dispersa \n",
            ".\n",
            "(3486, 16)\n"
          ],
          "name": "stdout"
        }
      ]
    },
    {
      "cell_type": "markdown",
      "metadata": {
        "id": "xELj8gFRKKBJ",
        "colab_type": "text"
      },
      "source": [
        "#**Clasificadores**"
      ]
    },
    {
      "cell_type": "markdown",
      "metadata": {
        "id": "1SYmBI8Ho0Nz",
        "colab_type": "text"
      },
      "source": [
        "## **Árboles de Decisión**\n",
        "Se crea el objeto del modelo y se imprimen los parametros por defecto que posee el modelo. Se fija la semilla para hacer reproducible el experimento."
      ]
    },
    {
      "cell_type": "markdown",
      "metadata": {
        "id": "1Woi0KQbA9Ky",
        "colab_type": "text"
      },
      "source": [
        "### Arboles de decisión con countVectorizer()"
      ]
    },
    {
      "cell_type": "code",
      "metadata": {
        "id": "Rz6BFWI3ozbD",
        "colab_type": "code",
        "colab": {
          "base_uri": "https://localhost:8080/",
          "height": 268
        },
        "outputId": "cdd155f4-78c8-43c6-c174-1bbd6fc706f3"
      },
      "source": [
        "arbol_decision = DecisionTreeClassifier(random_state = 42) # para que coincida con el random_state elegido para SGD\n",
        "\n",
        "print('Parámetros utilizados: \\n', np.array(list(arbol_decision.get_params(deep=False).items())))"
      ],
      "execution_count": 24,
      "outputs": [
        {
          "output_type": "stream",
          "text": [
            "Parámetros utilizados: \n",
            " [['ccp_alpha' 0.0]\n",
            " ['class_weight' None]\n",
            " ['criterion' 'gini']\n",
            " ['max_depth' None]\n",
            " ['max_features' None]\n",
            " ['max_leaf_nodes' None]\n",
            " ['min_impurity_decrease' 0.0]\n",
            " ['min_impurity_split' None]\n",
            " ['min_samples_leaf' 1]\n",
            " ['min_samples_split' 2]\n",
            " ['min_weight_fraction_leaf' 0.0]\n",
            " ['presort' 'deprecated']\n",
            " ['random_state' 42]\n",
            " ['splitter' 'best']]\n"
          ],
          "name": "stdout"
        }
      ]
    },
    {
      "cell_type": "markdown",
      "metadata": {
        "id": "3zsb59tnBe4x",
        "colab_type": "text"
      },
      "source": [
        "### **Entrenamiento**\n",
        "\n",
        "El modelo es entrenado con los parámetros que posee la implementación por defecto, dicho proceso consume el conjunto de datos de entrenamiento y su correspondiente referencia."
      ]
    },
    {
      "cell_type": "code",
      "metadata": {
        "id": "82I5mdScBZjM",
        "colab_type": "code",
        "colab": {
          "base_uri": "https://localhost:8080/",
          "height": 117
        },
        "outputId": "aeabfeef-af79-40a9-e142-f90a6c7a45a7"
      },
      "source": [
        "arbol_decision.fit(x_traincv, y_train)"
      ],
      "execution_count": 25,
      "outputs": [
        {
          "output_type": "execute_result",
          "data": {
            "text/plain": [
              "DecisionTreeClassifier(ccp_alpha=0.0, class_weight=None, criterion='gini',\n",
              "                       max_depth=None, max_features=None, max_leaf_nodes=None,\n",
              "                       min_impurity_decrease=0.0, min_impurity_split=None,\n",
              "                       min_samples_leaf=1, min_samples_split=2,\n",
              "                       min_weight_fraction_leaf=0.0, presort='deprecated',\n",
              "                       random_state=42, splitter='best')"
            ]
          },
          "metadata": {
            "tags": []
          },
          "execution_count": 25
        }
      ]
    },
    {
      "cell_type": "markdown",
      "metadata": {
        "id": "I3W_Q7ndBZK5",
        "colab_type": "text"
      },
      "source": [
        "### **Predicción con el conjuto de datos de entrenamiento y test**\n",
        "\n",
        "\n",
        "Se lleva a cabo el proceso de predicción tomando como entrada al modelo\n",
        "\n",
        "- El conjunto de datos de entrenamiento\n",
        "- El conjunto de datos de test"
      ]
    },
    {
      "cell_type": "code",
      "metadata": {
        "id": "4sGz7nZhCNL1",
        "colab_type": "code",
        "colab": {}
      },
      "source": [
        "#1. Predicción con el conjunto de datos de entrenamiento\n",
        "y_train_pred_arbolD= arbol_decision.predict(x_traincv)\n",
        "y_train_pred_arbolDp = arbol_decision.predict_proba(x_traincv)"
      ],
      "execution_count": 26,
      "outputs": []
    },
    {
      "cell_type": "code",
      "metadata": {
        "id": "RmHs2RHn4Q6N",
        "colab_type": "code",
        "colab": {
          "base_uri": "https://localhost:8080/",
          "height": 336
        },
        "outputId": "f821b8d9-4e71-4a9e-b396-5f1122905cf3"
      },
      "source": [
        "#1. Predicción con el conjunto de datos de test\n",
        "y_test_pred_arbolDcv  = arbol_decision.predict(x_testcv)\n",
        "y_test_pred_arbolDpCv = arbol_decision.predict_proba(x_testcv)"
      ],
      "execution_count": 27,
      "outputs": [
        {
          "output_type": "error",
          "ename": "ValueError",
          "evalue": "ignored",
          "traceback": [
            "\u001b[0;31m---------------------------------------------------------------------------\u001b[0m",
            "\u001b[0;31mValueError\u001b[0m                                Traceback (most recent call last)",
            "\u001b[0;32m<ipython-input-27-d447f4ce6d58>\u001b[0m in \u001b[0;36m<module>\u001b[0;34m()\u001b[0m\n\u001b[1;32m      1\u001b[0m \u001b[0;31m#1. Predicción con el conjunto de datos de test\u001b[0m\u001b[0;34m\u001b[0m\u001b[0;34m\u001b[0m\u001b[0;34m\u001b[0m\u001b[0m\n\u001b[0;32m----> 2\u001b[0;31m \u001b[0my_test_pred_arbolDcv\u001b[0m  \u001b[0;34m=\u001b[0m \u001b[0marbol_decision\u001b[0m\u001b[0;34m.\u001b[0m\u001b[0mpredict\u001b[0m\u001b[0;34m(\u001b[0m\u001b[0mx_testcv\u001b[0m\u001b[0;34m)\u001b[0m\u001b[0;34m\u001b[0m\u001b[0;34m\u001b[0m\u001b[0m\n\u001b[0m\u001b[1;32m      3\u001b[0m \u001b[0my_test_pred_arbolDpCv\u001b[0m \u001b[0;34m=\u001b[0m \u001b[0marbol_decision\u001b[0m\u001b[0;34m.\u001b[0m\u001b[0mpredict_proba\u001b[0m\u001b[0;34m(\u001b[0m\u001b[0mx_testcv\u001b[0m\u001b[0;34m)\u001b[0m\u001b[0;34m\u001b[0m\u001b[0;34m\u001b[0m\u001b[0m\n",
            "\u001b[0;32m/usr/local/lib/python3.6/dist-packages/sklearn/tree/_classes.py\u001b[0m in \u001b[0;36mpredict\u001b[0;34m(self, X, check_input)\u001b[0m\n\u001b[1;32m    417\u001b[0m         \"\"\"\n\u001b[1;32m    418\u001b[0m         \u001b[0mcheck_is_fitted\u001b[0m\u001b[0;34m(\u001b[0m\u001b[0mself\u001b[0m\u001b[0;34m)\u001b[0m\u001b[0;34m\u001b[0m\u001b[0;34m\u001b[0m\u001b[0m\n\u001b[0;32m--> 419\u001b[0;31m         \u001b[0mX\u001b[0m \u001b[0;34m=\u001b[0m \u001b[0mself\u001b[0m\u001b[0;34m.\u001b[0m\u001b[0m_validate_X_predict\u001b[0m\u001b[0;34m(\u001b[0m\u001b[0mX\u001b[0m\u001b[0;34m,\u001b[0m \u001b[0mcheck_input\u001b[0m\u001b[0;34m)\u001b[0m\u001b[0;34m\u001b[0m\u001b[0;34m\u001b[0m\u001b[0m\n\u001b[0m\u001b[1;32m    420\u001b[0m         \u001b[0mproba\u001b[0m \u001b[0;34m=\u001b[0m \u001b[0mself\u001b[0m\u001b[0;34m.\u001b[0m\u001b[0mtree_\u001b[0m\u001b[0;34m.\u001b[0m\u001b[0mpredict\u001b[0m\u001b[0;34m(\u001b[0m\u001b[0mX\u001b[0m\u001b[0;34m)\u001b[0m\u001b[0;34m\u001b[0m\u001b[0;34m\u001b[0m\u001b[0m\n\u001b[1;32m    421\u001b[0m         \u001b[0mn_samples\u001b[0m \u001b[0;34m=\u001b[0m \u001b[0mX\u001b[0m\u001b[0;34m.\u001b[0m\u001b[0mshape\u001b[0m\u001b[0;34m[\u001b[0m\u001b[0;36m0\u001b[0m\u001b[0;34m]\u001b[0m\u001b[0;34m\u001b[0m\u001b[0;34m\u001b[0m\u001b[0m\n",
            "\u001b[0;32m/usr/local/lib/python3.6/dist-packages/sklearn/tree/_classes.py\u001b[0m in \u001b[0;36m_validate_X_predict\u001b[0;34m(self, X, check_input)\u001b[0m\n\u001b[1;32m    389\u001b[0m                              \u001b[0;34m\"match the input. Model n_features is %s and \"\u001b[0m\u001b[0;34m\u001b[0m\u001b[0;34m\u001b[0m\u001b[0m\n\u001b[1;32m    390\u001b[0m                              \u001b[0;34m\"input n_features is %s \"\u001b[0m\u001b[0;34m\u001b[0m\u001b[0;34m\u001b[0m\u001b[0m\n\u001b[0;32m--> 391\u001b[0;31m                              % (self.n_features_, n_features))\n\u001b[0m\u001b[1;32m    392\u001b[0m \u001b[0;34m\u001b[0m\u001b[0m\n\u001b[1;32m    393\u001b[0m         \u001b[0;32mreturn\u001b[0m \u001b[0mX\u001b[0m\u001b[0;34m\u001b[0m\u001b[0;34m\u001b[0m\u001b[0m\n",
            "\u001b[0;31mValueError\u001b[0m: Number of features of the model must match the input. Model n_features is 33560 and input n_features is 15520 "
          ]
        }
      ]
    },
    {
      "cell_type": "markdown",
      "metadata": {
        "id": "KcnDTiHqCoUV",
        "colab_type": "text"
      },
      "source": [
        "### **Verificamos la accuracy obtenida.**\n",
        "\n",
        "### Accuracy con train"
      ]
    },
    {
      "cell_type": "code",
      "metadata": {
        "id": "XrW3Ya05CnCl",
        "colab_type": "code",
        "colab": {
          "base_uri": "https://localhost:8080/",
          "height": 33
        },
        "outputId": "da399c18-28ff-4364-fab4-f89b5ac74199"
      },
      "source": [
        "print ('Accuracy: %d ' % ((np.sum(y_train == y_train_pred_arbolD))/float(y_train.size)*100))"
      ],
      "execution_count": 28,
      "outputs": [
        {
          "output_type": "stream",
          "text": [
            "Accuracy: 99 \n"
          ],
          "name": "stdout"
        }
      ]
    },
    {
      "cell_type": "markdown",
      "metadata": {
        "id": "LaDZT-MbC7YD",
        "colab_type": "text"
      },
      "source": [
        "### Accuracy con test"
      ]
    },
    {
      "cell_type": "code",
      "metadata": {
        "id": "ZxXxBEjPAqVR",
        "colab_type": "code",
        "colab": {}
      },
      "source": [
        "print ('Accuracy: %d ' % ((np.sum(y_test == y_test_pred_arbolD))/float(y_test.size)*100))"
      ],
      "execution_count": null,
      "outputs": []
    },
    {
      "cell_type": "code",
      "metadata": {
        "id": "8L1CEf_8DWWH",
        "colab_type": "code",
        "colab": {
          "base_uri": "https://localhost:8080/",
          "height": 50
        },
        "outputId": "6ef08a3d-bc49-47bf-c3df-279d0f418435"
      },
      "source": [
        "print('Profundidad máxima del árbol:', arbol_decision.get_depth())\n",
        "print('Cantidad máxima de hojas:', arbol_decision.get_n_leaves())"
      ],
      "execution_count": null,
      "outputs": [
        {
          "output_type": "stream",
          "text": [
            "Profundidad máxima del árbol: 72\n",
            "Cantidad máxima de hojas: 1415\n"
          ],
          "name": "stdout"
        }
      ]
    },
    {
      "cell_type": "code",
      "metadata": {
        "id": "IfmoXkXEAmcn",
        "colab_type": "code",
        "colab": {}
      },
      "source": [
        "# Print the classification report\n",
        "print(metrics.classification_report(y_test, y_test_pred_arbolDcv))"
      ],
      "execution_count": null,
      "outputs": []
    },
    {
      "cell_type": "markdown",
      "metadata": {
        "id": "y8AF78Dao1vS",
        "colab_type": "text"
      },
      "source": [
        "### **Arboles de decisión con HashingVectorizer**"
      ]
    },
    {
      "cell_type": "code",
      "metadata": {
        "id": "DOZ_j89wo1BW",
        "colab_type": "code",
        "colab": {
          "base_uri": "https://localhost:8080/",
          "height": 268
        },
        "outputId": "193c0e1b-31a8-4895-ba69-0f2b369056a4"
      },
      "source": [
        "arbol_decision2 = DecisionTreeClassifier(random_state = 42) # para que coincida con el random_state elegido para SGD\n",
        "\n",
        "print('Parámetros utilizados: \\n', np.array(list(arbol_decision.get_params(deep=False).items())))"
      ],
      "execution_count": 31,
      "outputs": [
        {
          "output_type": "stream",
          "text": [
            "Parámetros utilizados: \n",
            " [['ccp_alpha' 0.0]\n",
            " ['class_weight' None]\n",
            " ['criterion' 'gini']\n",
            " ['max_depth' None]\n",
            " ['max_features' None]\n",
            " ['max_leaf_nodes' None]\n",
            " ['min_impurity_decrease' 0.0]\n",
            " ['min_impurity_split' None]\n",
            " ['min_samples_leaf' 1]\n",
            " ['min_samples_split' 2]\n",
            " ['min_weight_fraction_leaf' 0.0]\n",
            " ['presort' 'deprecated']\n",
            " ['random_state' 42]\n",
            " ['splitter' 'best']]\n"
          ],
          "name": "stdout"
        }
      ]
    },
    {
      "cell_type": "code",
      "metadata": {
        "id": "TE6eJuEBEOV5",
        "colab_type": "code",
        "colab": {
          "base_uri": "https://localhost:8080/",
          "height": 117
        },
        "outputId": "e9611c2e-1049-403e-d1cc-69100fef6561"
      },
      "source": [
        "arbol_decision2.fit(x_trainhv, y_train)"
      ],
      "execution_count": 32,
      "outputs": [
        {
          "output_type": "execute_result",
          "data": {
            "text/plain": [
              "DecisionTreeClassifier(ccp_alpha=0.0, class_weight=None, criterion='gini',\n",
              "                       max_depth=None, max_features=None, max_leaf_nodes=None,\n",
              "                       min_impurity_decrease=0.0, min_impurity_split=None,\n",
              "                       min_samples_leaf=1, min_samples_split=2,\n",
              "                       min_weight_fraction_leaf=0.0, presort='deprecated',\n",
              "                       random_state=42, splitter='best')"
            ]
          },
          "metadata": {
            "tags": []
          },
          "execution_count": 32
        }
      ]
    },
    {
      "cell_type": "code",
      "metadata": {
        "id": "01iFKdolE6h7",
        "colab_type": "code",
        "colab": {
          "base_uri": "https://localhost:8080/",
          "height": 369
        },
        "outputId": "3c067787-c470-489d-a0ee-273f5cda6dc1"
      },
      "source": [
        "#1. Predicción con el conjunto de datos de entrenamiento\n",
        "y_train_pred_arbolDHv = arbol_decision.predict(x_trainhv)\n",
        "y_train_pred_arbolpHv = arbol_decision.predict_proba(x_trainhv)\n",
        "\n",
        "#1. Predicción con el conjunto de datos de test\n",
        "y_test_pred_arbolDHv  = arbol_decision.predict(x_testhv)\n",
        "y_test_pred_arbolDpHv = arbol_decision.predict_proba(x_testhv)"
      ],
      "execution_count": 33,
      "outputs": [
        {
          "output_type": "error",
          "ename": "ValueError",
          "evalue": "ignored",
          "traceback": [
            "\u001b[0;31m---------------------------------------------------------------------------\u001b[0m",
            "\u001b[0;31mValueError\u001b[0m                                Traceback (most recent call last)",
            "\u001b[0;32m<ipython-input-33-7dee8f252b80>\u001b[0m in \u001b[0;36m<module>\u001b[0;34m()\u001b[0m\n\u001b[1;32m      1\u001b[0m \u001b[0;31m#1. Predicción con el conjunto de datos de entrenamiento\u001b[0m\u001b[0;34m\u001b[0m\u001b[0;34m\u001b[0m\u001b[0;34m\u001b[0m\u001b[0m\n\u001b[0;32m----> 2\u001b[0;31m \u001b[0my_train_pred_arbolDHv\u001b[0m \u001b[0;34m=\u001b[0m \u001b[0marbol_decision\u001b[0m\u001b[0;34m.\u001b[0m\u001b[0mpredict\u001b[0m\u001b[0;34m(\u001b[0m\u001b[0mx_trainhv\u001b[0m\u001b[0;34m)\u001b[0m\u001b[0;34m\u001b[0m\u001b[0;34m\u001b[0m\u001b[0m\n\u001b[0m\u001b[1;32m      3\u001b[0m \u001b[0my_train_pred_arbolpHv\u001b[0m \u001b[0;34m=\u001b[0m \u001b[0marbol_decision\u001b[0m\u001b[0;34m.\u001b[0m\u001b[0mpredict_proba\u001b[0m\u001b[0;34m(\u001b[0m\u001b[0mx_trainhv\u001b[0m\u001b[0;34m)\u001b[0m\u001b[0;34m\u001b[0m\u001b[0;34m\u001b[0m\u001b[0m\n\u001b[1;32m      4\u001b[0m \u001b[0;34m\u001b[0m\u001b[0m\n\u001b[1;32m      5\u001b[0m \u001b[0;31m#1. Predicción con el conjunto de datos de test\u001b[0m\u001b[0;34m\u001b[0m\u001b[0;34m\u001b[0m\u001b[0;34m\u001b[0m\u001b[0m\n",
            "\u001b[0;32m/usr/local/lib/python3.6/dist-packages/sklearn/tree/_classes.py\u001b[0m in \u001b[0;36mpredict\u001b[0;34m(self, X, check_input)\u001b[0m\n\u001b[1;32m    417\u001b[0m         \"\"\"\n\u001b[1;32m    418\u001b[0m         \u001b[0mcheck_is_fitted\u001b[0m\u001b[0;34m(\u001b[0m\u001b[0mself\u001b[0m\u001b[0;34m)\u001b[0m\u001b[0;34m\u001b[0m\u001b[0;34m\u001b[0m\u001b[0m\n\u001b[0;32m--> 419\u001b[0;31m         \u001b[0mX\u001b[0m \u001b[0;34m=\u001b[0m \u001b[0mself\u001b[0m\u001b[0;34m.\u001b[0m\u001b[0m_validate_X_predict\u001b[0m\u001b[0;34m(\u001b[0m\u001b[0mX\u001b[0m\u001b[0;34m,\u001b[0m \u001b[0mcheck_input\u001b[0m\u001b[0;34m)\u001b[0m\u001b[0;34m\u001b[0m\u001b[0;34m\u001b[0m\u001b[0m\n\u001b[0m\u001b[1;32m    420\u001b[0m         \u001b[0mproba\u001b[0m \u001b[0;34m=\u001b[0m \u001b[0mself\u001b[0m\u001b[0;34m.\u001b[0m\u001b[0mtree_\u001b[0m\u001b[0;34m.\u001b[0m\u001b[0mpredict\u001b[0m\u001b[0;34m(\u001b[0m\u001b[0mX\u001b[0m\u001b[0;34m)\u001b[0m\u001b[0;34m\u001b[0m\u001b[0;34m\u001b[0m\u001b[0m\n\u001b[1;32m    421\u001b[0m         \u001b[0mn_samples\u001b[0m \u001b[0;34m=\u001b[0m \u001b[0mX\u001b[0m\u001b[0;34m.\u001b[0m\u001b[0mshape\u001b[0m\u001b[0;34m[\u001b[0m\u001b[0;36m0\u001b[0m\u001b[0;34m]\u001b[0m\u001b[0;34m\u001b[0m\u001b[0;34m\u001b[0m\u001b[0m\n",
            "\u001b[0;32m/usr/local/lib/python3.6/dist-packages/sklearn/tree/_classes.py\u001b[0m in \u001b[0;36m_validate_X_predict\u001b[0;34m(self, X, check_input)\u001b[0m\n\u001b[1;32m    389\u001b[0m                              \u001b[0;34m\"match the input. Model n_features is %s and \"\u001b[0m\u001b[0;34m\u001b[0m\u001b[0;34m\u001b[0m\u001b[0m\n\u001b[1;32m    390\u001b[0m                              \u001b[0;34m\"input n_features is %s \"\u001b[0m\u001b[0;34m\u001b[0m\u001b[0;34m\u001b[0m\u001b[0m\n\u001b[0;32m--> 391\u001b[0;31m                              % (self.n_features_, n_features))\n\u001b[0m\u001b[1;32m    392\u001b[0m \u001b[0;34m\u001b[0m\u001b[0m\n\u001b[1;32m    393\u001b[0m         \u001b[0;32mreturn\u001b[0m \u001b[0mX\u001b[0m\u001b[0;34m\u001b[0m\u001b[0;34m\u001b[0m\u001b[0m\n",
            "\u001b[0;31mValueError\u001b[0m: Number of features of the model must match the input. Model n_features is 33560 and input n_features is 16 "
          ]
        }
      ]
    },
    {
      "cell_type": "code",
      "metadata": {
        "id": "_bxb65YVBGms",
        "colab_type": "code",
        "colab": {}
      },
      "source": [
        "#Accuracy con train\n",
        "\n",
        "print ('Accuracy con train: %d ' % ((np.sum(y_train == y_train_pred_arbolDHv))/float(y_train.size)*100))"
      ],
      "execution_count": null,
      "outputs": []
    },
    {
      "cell_type": "code",
      "metadata": {
        "id": "8pSSYgcAFDkT",
        "colab_type": "code",
        "colab": {
          "base_uri": "https://localhost:8080/",
          "height": 33
        },
        "outputId": "ad0ef388-c4e3-44ce-952a-f2bba714d269"
      },
      "source": [
        "#Accuracy con test\n",
        "print ('Accuracy con test: %d ' % ((np.sum(y_test == y_test_pred_arbolDHv))/float(y_test.size)*100))"
      ],
      "execution_count": null,
      "outputs": [
        {
          "output_type": "stream",
          "text": [
            "Accuracy con test: 70 \n"
          ],
          "name": "stdout"
        }
      ]
    },
    {
      "cell_type": "code",
      "metadata": {
        "id": "EhQRQnVvEA2S",
        "colab_type": "code",
        "colab": {
          "base_uri": "https://localhost:8080/",
          "height": 50
        },
        "outputId": "9c417363-b80d-4bef-f9b4-7e322dcb454b"
      },
      "source": [
        "print('Profundidad máxima del árbol:', arbol_decision.get_depth())\n",
        "print('Cantidad máxima de hojas:', arbol_decision.get_n_leaves())"
      ],
      "execution_count": 35,
      "outputs": [
        {
          "output_type": "stream",
          "text": [
            "Profundidad máxima del árbol: 72\n",
            "Cantidad máxima de hojas: 1415\n"
          ],
          "name": "stdout"
        }
      ]
    },
    {
      "cell_type": "code",
      "metadata": {
        "id": "Hw77HjkvIIXg",
        "colab_type": "code",
        "colab": {
          "base_uri": "https://localhost:8080/",
          "height": 178
        },
        "outputId": "2d7f941e-c0a9-4eba-8819-73c758a3fd3a"
      },
      "source": [
        "# Print the classification report\n",
        "print(metrics.classification_report(y_test, y_test_pred_arbolDHv))"
      ],
      "execution_count": 36,
      "outputs": [
        {
          "output_type": "error",
          "ename": "NameError",
          "evalue": "ignored",
          "traceback": [
            "\u001b[0;31m---------------------------------------------------------------------------\u001b[0m",
            "\u001b[0;31mNameError\u001b[0m                                 Traceback (most recent call last)",
            "\u001b[0;32m<ipython-input-36-ca833e797318>\u001b[0m in \u001b[0;36m<module>\u001b[0;34m()\u001b[0m\n\u001b[1;32m      1\u001b[0m \u001b[0;31m# Print the classification report\u001b[0m\u001b[0;34m\u001b[0m\u001b[0;34m\u001b[0m\u001b[0;34m\u001b[0m\u001b[0m\n\u001b[0;32m----> 2\u001b[0;31m \u001b[0mprint\u001b[0m\u001b[0;34m(\u001b[0m\u001b[0mmetrics\u001b[0m\u001b[0;34m.\u001b[0m\u001b[0mclassification_report\u001b[0m\u001b[0;34m(\u001b[0m\u001b[0my_test\u001b[0m\u001b[0;34m,\u001b[0m \u001b[0my_test_pred_arbolDHv\u001b[0m\u001b[0;34m)\u001b[0m\u001b[0;34m)\u001b[0m\u001b[0;34m\u001b[0m\u001b[0;34m\u001b[0m\u001b[0m\n\u001b[0m",
            "\u001b[0;31mNameError\u001b[0m: name 'metrics' is not defined"
          ]
        }
      ]
    },
    {
      "cell_type": "code",
      "metadata": {
        "id": "bawsFEVS0kG6",
        "colab_type": "code",
        "colab": {}
      },
      "source": [
        "# definimos los parámetros\n",
        "param_grid = {\n",
        "  'analyzer': ['word'],\n",
        "  'e': np.arange(1,4),\n",
        "  'max_df': [0.0, 1.0],    #cuando trabajamos con flotante nos referimos a la proporción máxima de aparición/frecuencia de un determinado término \n",
        "  'min_df':[0.0, 1.0]}\n"
      ],
      "execution_count": null,
      "outputs": []
    },
    {
      "cell_type": "markdown",
      "metadata": {
        "id": "grkVpGnHwiUj",
        "colab_type": "text"
      },
      "source": [
        "EXTRAS"
      ]
    },
    {
      "cell_type": "markdown",
      "metadata": {
        "id": "hISsO0Xw4tbG",
        "colab_type": "text"
      },
      "source": [
        "### **Naive-Bayes con CountVectorizer**\n",
        "Baseline con Naive-Bayes"
      ]
    },
    {
      "cell_type": "code",
      "metadata": {
        "id": "uEaNLotBntXi",
        "colab_type": "code",
        "colab": {
          "base_uri": "https://localhost:8080/",
          "height": 33
        },
        "outputId": "8fb41ced-3437-443a-9139-abb53e43ca00"
      },
      "source": [
        "from sklearn.naive_bayes import MultinomialNB\n",
        "\n",
        "model = MultinomialNB(alpha=0.0, class_prior=[0.4, 0.6])\n",
        "y_train=y_train.astype('int')\n",
        "model.fit(x_traincv, y_train)\n",
        "\n",
        "#clf = MultinomialNB().fit(X_train_tfidf, datos_curados.student_rating_cat)"
      ],
      "execution_count": 38,
      "outputs": [
        {
          "output_type": "execute_result",
          "data": {
            "text/plain": [
              "MultinomialNB(alpha=0.0, class_prior=[0.4, 0.6], fit_prior=True)"
            ]
          },
          "metadata": {
            "tags": []
          },
          "execution_count": 38
        }
      ]
    },
    {
      "cell_type": "code",
      "metadata": {
        "id": "L1V1pMK2GMHY",
        "colab_type": "code",
        "colab": {}
      },
      "source": [
        "predicted =model.predict(x_testcv)"
      ],
      "execution_count": null,
      "outputs": []
    },
    {
      "cell_type": "markdown",
      "metadata": {
        "id": "UiTKN-4QOSYm",
        "colab_type": "text"
      },
      "source": [
        "##**Análisis del comportamiento de CountVectorizer y**"
      ]
    },
    {
      "cell_type": "markdown",
      "metadata": {
        "colab_type": "text",
        "id": "ho8-VPl5O54B"
      },
      "source": [
        "### Con el objetivo de visualizar lo que hace CountVectorizer exploraremos sus hiperparámetros **min_df, max_df** y **ngram-range.**"
      ]
    },
    {
      "cell_type": "markdown",
      "metadata": {
        "colab_type": "text",
        "id": "S-xEwUQIPBtI"
      },
      "source": [
        "Es decir, si min_df es 0.005, todas las palabras que representen menos de un 0,5% de las palabras totales serán descartadas. Por el otro lado, si max_df es 0.35, todas las palabras que representen más de un 35% del total de palabras serán descartadas. Visualizar las palabras que serían descartadas dentro de este rango y describir cómo son."
      ]
    },
    {
      "cell_type": "code",
      "metadata": {
        "colab_type": "code",
        "id": "lEkf109LPH37",
        "colab": {
          "base_uri": "https://localhost:8080/",
          "height": 84
        },
        "outputId": "1bda9162-f87a-4a22-f03e-cddd609cdd77"
      },
      "source": [
        "# palabras que representen menos de un 0,5% de las palabras totales\n",
        "vectorizer_min = CountVectorizer(min_df= 0.0, max_df= 0.005, ngram_range= (1,1))\n",
        "X_4 = vectorizer_min.fit_transform(datos_curados['tokens'])  #Learn the vocabulary dictionary and return document-term matrix.\n",
        "# ¿cuál es la dimensión de la matriz dispersa?\n",
        "print('Dimensión de la matriz dispersa \\n.')\n",
        "X_4  #o X.shape"
      ],
      "execution_count": 40,
      "outputs": [
        {
          "output_type": "stream",
          "text": [
            "Dimensión de la matriz dispersa \n",
            ".\n"
          ],
          "name": "stdout"
        },
        {
          "output_type": "execute_result",
          "data": {
            "text/plain": [
              "<17429x35766 sparse matrix of type '<class 'numpy.int64'>'\n",
              "\twith 175718 stored elements in Compressed Sparse Row format>"
            ]
          },
          "metadata": {
            "tags": []
          },
          "execution_count": 40
        }
      ]
    },
    {
      "cell_type": "markdown",
      "metadata": {
        "id": "Pk-vzE0dTIzN",
        "colab_type": "text"
      },
      "source": [
        "**Gráfico**"
      ]
    },
    {
      "cell_type": "code",
      "metadata": {
        "id": "Tpb2PkuRWo8m",
        "colab_type": "code",
        "colab": {
          "base_uri": "https://localhost:8080/",
          "height": 389
        },
        "outputId": "927fec23-49ac-4697-f9db-bcf90aab5f35"
      },
      "source": [
        "import yellowbrick\n",
        "from yellowbrick.text import FreqDistVisualizer\n",
        "plt.figure(figsize=(10,6))\n",
        "features = vectorizer_min.get_feature_names()\n",
        "visualizer = FreqDistVisualizer(features=features)\n",
        "visualizer.fit(X_4)\n",
        "visualizer.poof()"
      ],
      "execution_count": 42,
      "outputs": [
        {
          "output_type": "display_data",
          "data": {
            "image/png": "[encoded data removed]",
            "text/plain": [
              "<Figure size 720x432 with 1 Axes>"
            ]
          },
          "metadata": {
            "tags": []
          }
        }
      ]
    },
    {
      "cell_type": "markdown",
      "metadata": {
        "id": "z4-lldFMMBZl",
        "colab_type": "text"
      },
      "source": [
        "### **Bolsa de palabras resultantes**"
      ]
    },
    {
      "cell_type": "code",
      "metadata": {
        "id": "kGycYDGgWK0P",
        "colab_type": "code",
        "colab": {
          "base_uri": "https://localhost:8080/",
          "height": 84
        },
        "outputId": "6e4c3106-b238-4e2d-dfe5-4dabd51aad0b"
      },
      "source": [
        "# palabras que representen más de un 35% del total de palabras\n",
        "vectorizer_max = CountVectorizer(min_df= 0.35)\n",
        "#vectorizer = CountVectorizer(min_df= 0.005, max_df= 0.35)\n",
        "X_5 = vectorizer_max.fit_transform(datos_curados['tokens'])   #Learn the vocabulary dictionary and return document-term matrix.\n",
        "# ¿cuál es la dimensión de la matriz dispersa?\n",
        "print('Dimensión de la matriz dispersa \\n.')\n",
        "X_5 #o X.shape"
      ],
      "execution_count": 44,
      "outputs": [
        {
          "output_type": "stream",
          "text": [
            "Dimensión de la matriz dispersa \n",
            ".\n"
          ],
          "name": "stdout"
        },
        {
          "output_type": "execute_result",
          "data": {
            "text/plain": [
              "<17429x128 sparse matrix of type '<class 'numpy.int64'>'\n",
              "\twith 1408383 stored elements in Compressed Sparse Row format>"
            ]
          },
          "metadata": {
            "tags": []
          },
          "execution_count": 44
        }
      ]
    },
    {
      "cell_type": "markdown",
      "metadata": {
        "colab_type": "text",
        "id": "doe0QjoJP0P_"
      },
      "source": [
        "### **Bolsa de palabras resultantes**"
      ]
    },
    {
      "cell_type": "code",
      "metadata": {
        "id": "T3t3v7TLDX1-",
        "colab_type": "code",
        "colab": {}
      },
      "source": [
        "vectorizer_max.get_features_names()"
      ],
      "execution_count": null,
      "outputs": []
    },
    {
      "cell_type": "markdown",
      "metadata": {
        "id": "R06ull845npg",
        "colab_type": "text"
      },
      "source": [
        "**Gráfico**"
      ]
    },
    {
      "cell_type": "code",
      "metadata": {
        "id": "jrqNz2Dl5qfd",
        "colab_type": "code",
        "colab": {
          "base_uri": "https://localhost:8080/",
          "height": 362
        },
        "outputId": "1fbc0dfd-4104-429a-b311-d028cf5a2b1a"
      },
      "source": [
        "import yellowbrick\n",
        "from yellowbrick.text import FreqDistVisualizer\n",
        "features = vectorizer_max.get_feature_names()\n",
        "visualizer = FreqDistVisualizer(features=features)\n",
        "visualizer.fit(X_5)\n",
        "visualizer.poof()"
      ],
      "execution_count": 46,
      "outputs": [
        {
          "output_type": "display_data",
          "data": {
            "image/png": "[encoded data removed]",
            "text/plain": [
              "<Figure size 576x396 with 1 Axes>"
            ]
          },
          "metadata": {
            "tags": []
          }
        }
      ]
    },
    {
      "cell_type": "markdown",
      "metadata": {
        "id": "_8JFAmmNmBNu",
        "colab_type": "text"
      },
      "source": [
        "### **Cálculo de tf y tf–idf para unigramas**\n",
        "\n",
        "El **tf** es la frecuencia de términos en un documento y el **idf** es la frecuencia inversa de un término en el conjunto de documentos. Antes de calcula dicha frecuencia, necesito vectorizar. "
      ]
    },
    {
      "cell_type": "markdown",
      "metadata": {
        "id": "cgQTGlUtUQLb",
        "colab_type": "text"
      },
      "source": [
        "**Aplico countVectorizer con unigramas**\n",
        "\n",
        "Por defecto, trabaja con unigramas por lo tanto, no es necesario especificar el parámetro: ngram_range=(1, 1). "
      ]
    },
    {
      "cell_type": "code",
      "metadata": {
        "id": "3YBy2qBGUQho",
        "colab_type": "code",
        "colab": {
          "base_uri": "https://localhost:8080/",
          "height": 84
        },
        "outputId": "4a579451-b3ba-4a44-cecf-f5e35d70526d"
      },
      "source": [
        "unigrama_vectorizer = CountVectorizer(min_df=1)  #dejamos de lado las palabras de frecuencia 1\n",
        "X_1 = unigrama_vectorizer.fit_transform(datos_curados['tokens'])\n",
        "# ¿cuál es la dimensión de la matriz dispersa?\n",
        "print('Dimensión de la matriz dispersa \\n.')\n",
        "X_1  #o X.shape"
      ],
      "execution_count": 47,
      "outputs": [
        {
          "output_type": "stream",
          "text": [
            "Dimensión de la matriz dispersa \n",
            ".\n"
          ],
          "name": "stdout"
        },
        {
          "output_type": "execute_result",
          "data": {
            "text/plain": [
              "<17429x37727 sparse matrix of type '<class 'numpy.int64'>'\n",
              "\twith 3025484 stored elements in Compressed Sparse Row format>"
            ]
          },
          "metadata": {
            "tags": []
          },
          "execution_count": 47
        }
      ]
    },
    {
      "cell_type": "code",
      "metadata": {
        "id": "8EKaUEXkjHvP",
        "colab_type": "code",
        "colab": {
          "base_uri": "https://localhost:8080/",
          "height": 33
        },
        "outputId": "f1ffc53a-a8f3-4895-841d-af96f7648239"
      },
      "source": [
        "from sklearn.feature_extraction.text import TfidfTransformer\n",
        "tfidf_transformer = TfidfTransformer()\n",
        "X_tfidf = tfidf_transformer.fit_transform(X_1)\n",
        "#print('Tamaño de la matriz',X_tfidf.shape)\n",
        "print(\"Longitud del vector:\", len(X_tfidf.toarray()[0]))\n"
      ],
      "execution_count": 48,
      "outputs": [
        {
          "output_type": "stream",
          "text": [
            "Longitud del vector: 37727\n"
          ],
          "name": "stdout"
        }
      ]
    },
    {
      "cell_type": "code",
      "metadata": {
        "id": "6FLxnY5tcgXm",
        "colab_type": "code",
        "colab": {
          "base_uri": "https://localhost:8080/",
          "height": 33
        },
        "outputId": "b3520f8b-6aea-4f89-e913-6a00ed743e58"
      },
      "source": [
        " print(len(X_tfidf.toarray()[0]))"
      ],
      "execution_count": 49,
      "outputs": [
        {
          "output_type": "stream",
          "text": [
            "37727\n"
          ],
          "name": "stdout"
        }
      ]
    },
    {
      "cell_type": "code",
      "metadata": {
        "id": "1yQ9fzx-yeeB",
        "colab_type": "code",
        "colab": {
          "base_uri": "https://localhost:8080/",
          "height": 167
        },
        "outputId": "612c426f-5860-4125-a0bc-d5d17a178225"
      },
      "source": [
        "print('Valores de la matriz con el cálculo de tf-idf \\n')\n",
        "print(X_tfidf.toarray())"
      ],
      "execution_count": 50,
      "outputs": [
        {
          "output_type": "stream",
          "text": [
            "Valores de la matriz con el cálculo de tf-idf \n",
            "\n",
            "[[0.         0.         0.         ... 0.         0.         0.        ]\n",
            " [0.         0.         0.         ... 0.         0.         0.        ]\n",
            " [0.         0.         0.         ... 0.         0.         0.        ]\n",
            " ...\n",
            " [0.13823712 0.         0.         ... 0.         0.         0.        ]\n",
            " [0.         0.         0.         ... 0.         0.         0.        ]\n",
            " [0.         0.         0.         ... 0.         0.         0.        ]]\n"
          ],
          "name": "stdout"
        }
      ]
    },
    {
      "cell_type": "markdown",
      "metadata": {
        "id": "WQ4INgXpTeOh",
        "colab_type": "text"
      },
      "source": [
        "**Aplico countVectorizer con bigramas**\n",
        "\n",
        "En este caso, es necesario especificar el parámetro ngram_range=(2, 2)."
      ]
    },
    {
      "cell_type": "code",
      "metadata": {
        "id": "Bsz5uPzow36C",
        "colab_type": "code",
        "colab": {
          "base_uri": "https://localhost:8080/",
          "height": 84
        },
        "outputId": "d3350091-24d2-4750-9bb3-3c569608b6b3"
      },
      "source": [
        "bigrama_vectorizer = CountVectorizer(ngram_range=(2, 2), min_df=1)  # dejamos de lado las palabras de frecuencia 1\n",
        "X_2 = bigrama_vectorizer.fit_transform(datos_curados['tokens'])\n",
        "# ¿cuál es la dimensión de la matriz dispersa?\n",
        "print('Dimensión de la matriz dispersa \\n.')\n",
        "X_2  #o X.shape\n"
      ],
      "execution_count": 51,
      "outputs": [
        {
          "output_type": "stream",
          "text": [
            "Dimensión de la matriz dispersa \n",
            ".\n"
          ],
          "name": "stdout"
        },
        {
          "output_type": "execute_result",
          "data": {
            "text/plain": [
              "<17429x661257 sparse matrix of type '<class 'numpy.int64'>'\n",
              "\twith 6851280 stored elements in Compressed Sparse Row format>"
            ]
          },
          "metadata": {
            "tags": []
          },
          "execution_count": 51
        }
      ]
    },
    {
      "cell_type": "code",
      "metadata": {
        "id": "aX4hcLQdDL0b",
        "colab_type": "code",
        "colab": {}
      },
      "source": [
        "print(bigrama_vectorizer.get_feature_names())    #Array mapping from feature integer indices to feature name.\n",
        "print('Valores del vector')\n",
        "print(X_2.toarray())"
      ],
      "execution_count": null,
      "outputs": []
    },
    {
      "cell_type": "markdown",
      "metadata": {
        "id": "sEFVXJ1nxoI2",
        "colab_type": "text"
      },
      "source": [
        "###**Cálculo de tf y tf–idf para bigramas**"
      ]
    },
    {
      "cell_type": "code",
      "metadata": {
        "id": "irYm3nvnzAmX",
        "colab_type": "code",
        "colab": {}
      },
      "source": [
        "tfidf_transformer = TfidfTransformer()\n",
        "X_2_tfidf = tfidf_transformer.fit_transform(X_2)\n",
        "print('Tamaño de la matriz',X_2_tfidf.shape)\n",
        ".shape\n",
        "\n",
        "print(\"Longitud del vector:\", len(X_2_tfidf.toarray()[0]))\n"
      ],
      "execution_count": null,
      "outputs": []
    },
    {
      "cell_type": "code",
      "metadata": {
        "id": "bKXJWN5iT9x-",
        "colab_type": "code",
        "colab": {}
      },
      "source": [
        "print('Valores de la matriz con el cálculo de tf-idf \\n')\n",
        "print(X_2_tfidf.toarray())"
      ],
      "execution_count": null,
      "outputs": []
    },
    {
      "cell_type": "markdown",
      "metadata": {
        "id": "Z1GOh_UTIz8c",
        "colab_type": "text"
      },
      "source": [
        "### **Referencias**\n",
        "\n",
        "[Método CountVectorizer](https://scikit-learn.org/stable/modules/generated/sklearn.feature_extraction.text.CountVectorizer.html#sklearn.feature_extraction.text.CountVectorizer)\n",
        "\n",
        "[Método TfidfVectorizer](https://scikit-learn.org/stable/modules/generated/sklearn.feature_extraction.text.TfidfVectorizer.html#sklearn.feature_extraction.text.TfidfVectorizer)\n",
        "\n",
        "\n",
        "\n",
        "[Método TfidfTransformer()](https://scikit-learn.org/stable/modules/generated/sklearn.feature_extraction.text.TfidfTransformer.html#sklearn.feature_extraction.text.TfidfTransformer)\n",
        "\n",
        "[Repo sobre Applied Text Analysis with Python](https://github.com/foxbook/atap\n",
        ")\n",
        "\n",
        "Vectorización:\n",
        "\n",
        "https://learning.oreilly.com/library/view/applied-text-analysis/9781491963036/ch04.html#ATAP04\n",
        "\n",
        "https://learning.oreilly.com/library/view/applied-text-analysis/9781491963036/\n",
        " https://github.com/foxbook/atap/blob/master/snippets/ch04/vectorization.py\n",
        "\n",
        "[Ejemplo de aplicación de CountVectorizer()](https://github.com/shreyans29/thesemicolon/blob/master/Text%20Analytics%20CV.ipynb)\n",
        "\n",
        "\n",
        "\n",
        "\n"
      ]
    }
  ]
}