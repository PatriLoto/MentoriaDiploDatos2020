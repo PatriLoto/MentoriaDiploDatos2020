{
 "cells": [
  {
   "cell_type": "markdown",
   "metadata": {
    "colab_type": "text",
    "id": "x6rcF4vg7CTX"
   },
   "source": [
    "# **Práctico 3 y 4 (parte 5): De palabras a números**"
   ]
  },
  {
   "cell_type": "markdown",
   "metadata": {},
   "source": [
    "### Tabla de Contenidos\n",
    "1. [Consigna](#1.-Consigna)\n",
    "2. [Inicialización del entorno](#2.-Inicialización-del-entorno)\n",
    "3. [Carga de datos y limpieza](#3.-Carga-de-datos-y-limpieza)\n",
    "4. [Selección de las columnas de interés](#4.-Selección-de-las-columnas-de-interés)\n",
    "5. [Vectorización](#5.-Vectorización)\n",
    "6. [Inspección del resultado de la vectorización](#6.-Inspección-del-resultado-de-la-vectorización)\n",
    "7. [División y normalización de los datos](#7.-División-y-normalización-de-los-datos)\n",
    "8. [Predicción usando árboles de decisión](#8.-Predicción-usando-árboles-de-decisión)\n",
    "9. [Predicción usando Naive Bayes](#9.-Predicción-usando-Naive-Bayes)\n",
    "10. [Exploración de hiperparámetros de CountVectorizer](#10.-Exploración-de-hiperparámetros-de-CountVectorizer)\n",
    "11. [Conclusiones](#11.-Conclusiones)\n"
   ]
  },
  {
   "cell_type": "markdown",
   "metadata": {
    "colab_type": "text",
    "id": "x6rcF4vg7CTX"
   },
   "source": [
    "## 1. Consigna\n",
    "\n",
    "Los algoritmos de aprendizaje automático trabajan con espacios vectoriales (es decir, con muchos números). Entonces al trabajar con Procesamiento de Lenguaje Natural se plantea la cuestión de cómo representar texto con números. Hay muchas maneras de hacer esto y es un campo que sigue evolucionando con el tiempo. Una opción muy básica es asignarle a cada palabra que aparece en nuestro dataset un número según el orden en el que aparecen. Luego, una oración es un vector de índices de esas palabras. Pero esto tiene varios problemas. Entre ellos, los algoritmos de aprendizaje automático también requieren que los vectores tengan una longitud fija, con lo cual hay que recortar la oración o agregarle ceros al final (es decir, hacer padding). Por eso un enfoque clásico para representar texto es el Bag Of Words: un vector de bits del tamaño de todo nuestro vocabulario que tiene un uno si la palabra está en la oración y un 0 si no está. Este enfoque también se conoce como One Hot Vector. \n",
    "\n",
    "Referencias: \n",
    "1. https://es.wikipedia.org/wiki/Modelo_bolsa_de_palabras \n",
    "\n",
    "2. https://scikit-learn.org/stable/modules/feature_extraction.html#text-feature-extraction\n",
    "\n",
    "3. https://towardsdatascience.com/the-magic-behind-embedding-models-part-1-974d539f21fd\n",
    "\n",
    "Para la implementación podrían usar Spacy, como se usó para la tokenización. Sin embargo creo que va a ser más sencillo para uds usar la libreria CountVectorizer que implementa el Bag Of Words de forma eficiente considerando que es una representación esparsa. Esta sugerencia es porque uds ya vienen usando sklearn.\n",
    "\n",
    "Con el objetivo de visualizar lo que hace CountVectorizer vamos a explorar sus hiperparámetros min_df, max_df y ngram-range. Observar cómo cambia el tamaño del vector.\n",
    "\n",
    "Los parámetros min_df y max_df que se corresponden con min y max document frequency. Ámbos toman valores entre 0 y 1 y estipulan el rango de frecuencia de aparición de una palabra dentro de un documento que vamos a aceptar. Es decir, si min_df es 0.005, todas las palabras que representen menos de un 0,5% de las palabras totales serán descartadas. Por el otro lado, si max_df es 0.35, todas las palabras que representen más de un 35% del total de palabras serán descartadas. Visualizar las palabras que serían descartadas dentro de este rango y describir cómo son. \n",
    "\n",
    "El parámetro ngram_range calcula la frecuencia de ngramas. Resulta útil para descubrir frases o expresiones comunes (además de las palabras comunes). Además, en combinación con el parámetro \"analyzer\" se pueden usar como ngramas de palabras o de caracteres.\n",
    "\n",
    "Referencias: \n",
    "\n",
    "4. https://scikit-learn.org/stable/modules/generated/sklearn.feature_extraction.text.CountVectorizer.html\n",
    "\n",
    "5. De palabras a vectores por DOT CVS: https://www.youtube.com/watch?v=Tg1MjMIVArc\n",
    "\n",
    "\n",
    "NOTA: Como el tamaño del vector (es decir, el vocabulario) debe ser igual para el entrenamiento como para el test y el dev, tenemos que vectorizar todos los dataset de la misma forma. "
   ]
  },
  {
   "cell_type": "markdown",
   "metadata": {
    "colab_type": "text",
    "id": "u7fp8NQEywxo"
   },
   "source": [
    "## 2. Inicialización del entorno"
   ]
  },
  {
   "cell_type": "code",
   "execution_count": 87,
   "metadata": {
    "colab": {},
    "colab_type": "code",
    "id": "7KdM25aVtlis"
   },
   "outputs": [],
   "source": [
    "#Librerías \n",
    "import warnings\n",
    "warnings.filterwarnings(\"ignore\")\n",
    "\n",
    "import os\n",
    "import numpy as np\n",
    "import pandas as pd\n",
    "from ast import literal_eval\n",
    "import re\n",
    "import itertools\n",
    "\n",
    "# Para gráficos\n",
    "import matplotlib.pyplot as plt\n",
    "import seaborn as sns\n",
    "from scipy import stats\n",
    "from yellowbrick.text import FreqDistVisualizer\n",
    "\n",
    "# Para dividir el dataset en train  y test\n",
    "from sklearn.model_selection import train_test_split\n",
    "from sklearn import model_selection\n",
    "\n",
    "# Para tratamiento de texto\n",
    "from sklearn.feature_extraction.text import CountVectorizer\n",
    "\n",
    "# Para el cálculo de tf y tf–idf \n",
    "from sklearn.feature_extraction.text import TfidfTransformer\n",
    "\n",
    "# Algoritmo del Árbol de Decisión\n",
    "from sklearn.tree import (DecisionTreeClassifier, plot_tree)\n",
    "\n",
    "# Para utilizar Naive-Bayes para la clasificación\n",
    "from sklearn.naive_bayes import MultinomialNB\n",
    "\n",
    "# Para utilizar el algoritmo del gradiente descendiente\n",
    "from sklearn.linear_model import SGDClassifier\n",
    "\n",
    "# Para calcular métricas\n",
    "from sklearn.metrics import (accuracy_score, precision_score, recall_score,\n",
    "                             f1_score, classification_report) \n",
    "\n",
    "# Para vectorizar los tokens\n",
    "from sklearn.feature_extraction.text import CountVectorizer"
   ]
  },
  {
   "cell_type": "markdown",
   "metadata": {
    "colab_type": "text",
    "id": "dgnkYkv-jdb2"
   },
   "source": [
    "## 3. Carga de datos y limpieza\n",
    "\n",
    "El archivo **curated_data_para_nlp.csv** se genera a partir del archivo yup_messages_preprocessed.csv y datadump-20150801-20171219.csv y se cura para aplicar sobre el mismo técnicas de procesamiento del lenguaje natural."
   ]
  },
  {
   "cell_type": "code",
   "execution_count": 100,
   "metadata": {},
   "outputs": [],
   "source": [
    "# Desde Colab\n",
    "\n",
    "#from google.colab import files   # para poder leer archivos que están en mi pc\n",
    "#uploaded = files.upload()"
   ]
  },
  {
   "cell_type": "code",
   "execution_count": 101,
   "metadata": {},
   "outputs": [],
   "source": [
    "# Desde el entorno local\n",
    "\n",
    "filename = 'yup_curated_data.csv'\n",
    "datos_curados = pd.read_csv(os.path.join('..', 'dataset', filename))"
   ]
  },
  {
   "cell_type": "code",
   "execution_count": 102,
   "metadata": {
    "colab": {
     "base_uri": "https://localhost:8080/",
     "height": 67
    },
    "colab_type": "code",
    "id": "_-8CJXZJpeTr",
    "outputId": "faf0a24a-b2aa-46b8-8c3e-94d7a28d8778"
   },
   "outputs": [
    {
     "name": "stdout",
     "output_type": "stream",
     "text": [
      "\n",
      "Dimensiones del dataset\n",
      "\n",
      "Filas: 17429\n",
      "Columnas: 22\n"
     ]
    }
   ],
   "source": [
    "# datos_curados= pd.read_csv('curated_data_para_nlp.csv')\n",
    "\n",
    "print ('\\nDimensiones del dataset\\n')\n",
    "print ('Filas: {}'.format(datos_curados.shape[0]))\n",
    "print ('Columnas: {}'.format(datos_curados.shape[1]))"
   ]
  },
  {
   "cell_type": "markdown",
   "metadata": {},
   "source": [
    "#### **Limpieza: Remoción de las sesiones con pocos turnos del estudiante o del tutor**\n",
    "\n",
    "Por considerarse que no se ha llevado a cabo un intercambio significativo se remueven las sesiones con menos de 3 turnos del estudiante o del tutor"
   ]
  },
  {
   "cell_type": "code",
   "execution_count": 103,
   "metadata": {},
   "outputs": [
    {
     "name": "stdout",
     "output_type": "stream",
     "text": [
      "\n",
      "Se remueven 1124 sesiones con menos de 3 turnos del estudiante o del tutor\n",
      "\n"
     ]
    }
   ],
   "source": [
    "n_short_sessions = len(datos_curados[(datos_curados.n_msg_tutor < 3) | (datos_curados.n_msg_student < 3)])\n",
    "datos_curados = datos_curados.drop(datos_curados[(datos_curados.n_msg_tutor < 3) | (datos_curados.n_msg_student < 3)].index)\n",
    "\n",
    "print('\\nSe remueven {} sesiones con menos de 3 turnos del estudiante o del tutor\\n'.format(n_short_sessions))"
   ]
  },
  {
   "cell_type": "markdown",
   "metadata": {},
   "source": [
    "#### **Limpieza: Remoción de las sesiones con la columna de tokens del estudiante o del tutor nula**\n",
    "\n",
    "Se remueven aquellos diálogos sin información en las columnas de tokens del tutor o del estudiante"
   ]
  },
  {
   "cell_type": "code",
   "execution_count": 104,
   "metadata": {},
   "outputs": [
    {
     "name": "stdout",
     "output_type": "stream",
     "text": [
      "\n",
      "Se remueven 0 sesiones sin tokens del tutor\n",
      "\n",
      "Se remueven 0 sesiones sin tokens del estudiante\n",
      "\n",
      "Dimensiones del dataset\n",
      "\n",
      "Filas: 16305\n",
      "Columnas: 22\n"
     ]
    }
   ],
   "source": [
    "n_null_token_tutor = datos_curados['tokens_tutor'].isnull().sum()\n",
    "n_null_token_student = datos_curados['tokens_student'].isnull().sum()\n",
    "datos_curados = datos_curados.dropna(subset=['tokens_tutor','tokens_student'])\n",
    "print('\\nSe remueven {} sesiones sin tokens del tutor'.format(n_null_token_tutor))\n",
    "print('\\nSe remueven {} sesiones sin tokens del estudiante'.format(n_null_token_student))\n",
    "\n",
    "\n",
    "print ('\\nDimensiones del dataset\\n')\n",
    "print ('Filas: {}'.format(datos_curados.shape[0]))\n",
    "print ('Columnas: {}'.format(datos_curados.shape[1]))"
   ]
  },
  {
   "cell_type": "markdown",
   "metadata": {
    "colab_type": "text",
    "id": "32UzcdMC7xrb"
   },
   "source": [
    "#### **Limpieza: Unificación de las expresiones algebraicas bajo el tag math**"
   ]
  },
  {
   "cell_type": "code",
   "execution_count": 105,
   "metadata": {
    "colab": {},
    "colab_type": "code",
    "id": "X_Y6ZcqE8RkS"
   },
   "outputs": [],
   "source": [
    "datos_curados['tokens_tutor'] = datos_curados.tokens_tutor.apply(lambda x: literal_eval(x))\n",
    "datos_curados['tokens_student'] = datos_curados.tokens_student.apply(lambda x: literal_eval(x))"
   ]
  },
  {
   "cell_type": "code",
   "execution_count": 106,
   "metadata": {
    "colab": {},
    "colab_type": "code",
    "id": "CM81yIV37yKv"
   },
   "outputs": [],
   "source": [
    "# Los unigramas que contienen al menos un dígito y al menos un operador algebraico se unifican bajo el tag <math> \n",
    "# usando una expresión regular\n",
    "\n",
    "r = re.compile('((?=.*[0-9])(?=.*[%\\/\\(\\)\\^\\\\\\+\\-\\*\\=]))^.*')\n",
    "datos_curados['tokens_tutor'] = datos_curados.tokens_tutor.apply(lambda x: ['<math>' if r.match(w) else w for w in x])\n",
    "datos_curados['tokens_student'] = datos_curados.tokens_student.apply(lambda x: ['<math>' if r.match(w) else w for w in x])"
   ]
  },
  {
   "cell_type": "code",
   "execution_count": 107,
   "metadata": {},
   "outputs": [],
   "source": [
    "datos_curados['tokens_tutor'] = datos_curados.tokens_tutor.apply(lambda x: str(x)[1:-1])\n",
    "datos_curados['tokens_student'] = datos_curados.tokens_student.apply(lambda x: str(x)[1:-1])"
   ]
  },
  {
   "cell_type": "markdown",
   "metadata": {
    "colab_type": "text",
    "id": "rlXvB-UdvnMW"
   },
   "source": [
    "#### **Primeras filas de la columna 'tokens_tutor', la cual contiene texto de interés para el análisis.**"
   ]
  },
  {
   "cell_type": "code",
   "execution_count": 108,
   "metadata": {
    "colab": {
     "base_uri": "https://localhost:8080/",
     "height": 117
    },
    "colab_type": "code",
    "id": "dGbLRxcuuZ23",
    "outputId": "5cd4d929-449a-4a78-daf4-7189a730727a"
   },
   "outputs": [
    {
     "data": {
      "text/plain": [
       "0    'Hey', 'Robert', '!', 'Welcome', 'to', 'Yup', ...\n",
       "1    '', 'Hello', 'Sophie', ',', 'Welcome', 'to', '...\n",
       "2    'Hello', 'Illuminati', '.', ':)', 'Welcome', '...\n",
       "3    'Hi', 'there', 'Domingo', '!', 'Welcome', 'to'...\n",
       "4    'Hello', '', 'Jasmyn', '', ':)', 'Welcome', 't...\n",
       "Name: tokens_tutor, dtype: object"
      ]
     },
     "execution_count": 108,
     "metadata": {},
     "output_type": "execute_result"
    }
   ],
   "source": [
    "datos_curados['tokens_tutor'].head()"
   ]
  },
  {
   "cell_type": "markdown",
   "metadata": {
    "colab_type": "text",
    "id": "rfTV7xxZvxRT"
   },
   "source": [
    "#### **Primeras filas de la columna 'tokens_student', la cual contiene texto de interés para el análisis.**"
   ]
  },
  {
   "cell_type": "code",
   "execution_count": 109,
   "metadata": {
    "colab": {
     "base_uri": "https://localhost:8080/",
     "height": 117
    },
    "colab_type": "code",
    "id": "ijtpsuAixYbU",
    "outputId": "25d4a9c4-b87c-4a5b-e387-3e415dbe9a8a"
   },
   "outputs": [
    {
     "data": {
      "text/plain": [
       "0    '<url>', 'I', \"'ve\", 'only', 'tried', 'simplif...\n",
       "1    '<url>', 'hello', 'I', 'was', 'confused', 'wit...\n",
       "2    '<url>', 'Hello', 'All', 'three', 'Yes', ':)',...\n",
       "3    '<url>', 'Okz', 'no', 'problem', 'Yes', 'that'...\n",
       "4    '<url>', 'thank', 'you', '!', ':)', 'no', 'pro...\n",
       "Name: tokens_student, dtype: object"
      ]
     },
     "execution_count": 109,
     "metadata": {},
     "output_type": "execute_result"
    }
   ],
   "source": [
    "datos_curados['tokens_student'].head()"
   ]
  },
  {
   "cell_type": "markdown",
   "metadata": {
    "colab_type": "text",
    "id": "W9npQWwEzvwf"
   },
   "source": [
    "## 4. Selección de las columnas de interés\n",
    "\n",
    "- `tokens_student`: texto de los turnos del estudiante.\n",
    "- `tokens_tutor`: texto de los turnos del tutor.\n",
    "- `student_rating_cat`: columna calculada a partir de la calificación asignada por el alumno a la sesión: '0 - Negativa', '1 - Positiva'"
   ]
  },
  {
   "cell_type": "code",
   "execution_count": 167,
   "metadata": {
    "colab": {
     "base_uri": "https://localhost:8080/",
     "height": 33
    },
    "colab_type": "code",
    "id": "SffGkvZWzRb6",
    "outputId": "9753192e-ca02-44f6-e031-a8813fd5af2d"
   },
   "outputs": [
    {
     "name": "stdout",
     "output_type": "stream",
     "text": [
      "Longitud de df_X: 16305  y Longitud de df_y: 16305\n"
     ]
    }
   ],
   "source": [
    "#datos_curados['tokens'] = datos_curados['tokens_tutor'] +', '+ datos_curados['tokens_student']\n",
    "#df_X=datos_curados['tokens']\n",
    "\n",
    "df_X=datos_curados['tokens_tutor']\n",
    "\n",
    "#df_X=datos_curados['tokens_student']\n",
    "\n",
    "df_y=datos_curados['student_rating_cat'] \n",
    "print('Longitud de df_X:', len(df_X), ' y Longitud de df_y:', len(df_y))"
   ]
  },
  {
   "cell_type": "markdown",
   "metadata": {},
   "source": [
    "## **Bolsa de palabras para clasificación**"
   ]
  },
  {
   "cell_type": "markdown",
   "metadata": {},
   "source": [
    "## 5. Vectorización\n",
    "\n",
    "Utilizando el objeto CountVectorizer convertimos el texto en vectores numéricos."
   ]
  },
  {
   "cell_type": "code",
   "execution_count": 151,
   "metadata": {},
   "outputs": [
    {
     "name": "stdout",
     "output_type": "stream",
     "text": [
      "Dimensión de la matriz dispersa \n",
      "\n"
     ]
    },
    {
     "data": {
      "text/plain": [
       "(16305, 35743)"
      ]
     },
     "execution_count": 151,
     "metadata": {},
     "output_type": "execute_result"
    }
   ],
   "source": [
    "# trabajamos con CountVectorizer sin parámetros por defecto\n",
    "\n",
    "vectorizer = CountVectorizer()\n",
    "X_cv = vectorizer.fit_transform(df_X)         \n",
    "\n",
    "# Dimensión de la matriz dispersa\n",
    "print('Dimensión de la matriz dispersa \\n')\n",
    "X_cv.shape"
   ]
  },
  {
   "cell_type": "markdown",
   "metadata": {},
   "source": [
    "## 6. Inspección del resultado de la vectorización"
   ]
  },
  {
   "cell_type": "markdown",
   "metadata": {},
   "source": [
    "#### **Vocabulario**"
   ]
  },
  {
   "cell_type": "code",
   "execution_count": 152,
   "metadata": {},
   "outputs": [
    {
     "data": {
      "text/plain": [
       "{'hey': 17828,\n",
       " 'robert': 28148,\n",
       " 'welcome': 34337,\n",
       " 'to': 32369,\n",
       " 'yup': 35501,\n",
       " 'am': 7679,\n",
       " 'looking': 21294,\n",
       " 'over': 24715,\n",
       " 'your': 35429,\n",
       " 'problem': 26244,\n",
       " 've': 33779,\n",
       " 'reviewed': 27921,\n",
       " 'on': 24290,\n",
       " 'finding': 15926,\n",
       " 'the': 31853,\n",
       " 'domain': 13894,\n",
       " 'of': 24019,\n",
       " 'square': 30337,\n",
       " 'root': 28213,\n",
       " 'function': 16520}"
      ]
     },
     "execution_count": 152,
     "metadata": {},
     "output_type": "execute_result"
    }
   ],
   "source": [
    "# Primeros 20 elementos del vocabulario\n",
    "dict(itertools.islice(vectorizer.vocabulary_.items(), 20))"
   ]
  },
  {
   "cell_type": "markdown",
   "metadata": {
    "colab_type": "text",
    "id": "bDcxHUJkD-DV"
   },
   "source": [
    "#### **Valores de la matriz dispersa**"
   ]
  },
  {
   "cell_type": "code",
   "execution_count": 153,
   "metadata": {
    "colab": {
     "base_uri": "https://localhost:8080/",
     "height": 134
    },
    "colab_type": "code",
    "id": "YsV-NETRv9yD",
    "outputId": "dfeb561a-c0ef-49b3-92d5-82e7b1d7914a"
   },
   "outputs": [
    {
     "name": "stdout",
     "output_type": "stream",
     "text": [
      "[[0 0 0 ... 0 0 0]\n",
      " [0 0 0 ... 0 0 0]\n",
      " [0 0 0 ... 0 0 0]\n",
      " ...\n",
      " [0 0 0 ... 0 0 0]\n",
      " [2 0 0 ... 0 0 0]\n",
      " [0 0 0 ... 0 0 0]]\n"
     ]
    }
   ],
   "source": [
    "# imprimimos lo valores de la matriz dispersa\n",
    "print(X_cv.toarray())"
   ]
  },
  {
   "cell_type": "markdown",
   "metadata": {
    "colab_type": "text",
    "id": "LR5ib8DpCeEf"
   },
   "source": [
    "#### **Valores de los primeros features**"
   ]
  },
  {
   "cell_type": "code",
   "execution_count": 154,
   "metadata": {
    "colab": {
     "base_uri": "https://localhost:8080/",
     "height": 1000
    },
    "colab_type": "code",
    "id": "UON9P_dLCLmo",
    "outputId": "7a8e968a-0ad7-4a5b-9916-49b39bfdeffb"
   },
   "outputs": [
    {
     "data": {
      "text/plain": [
       "['00',\n",
       " '000',\n",
       " '0000',\n",
       " '000000',\n",
       " '0000000',\n",
       " '000000000',\n",
       " '0000000000000000000000004',\n",
       " '0000000000000000000004',\n",
       " '00000000001',\n",
       " '000000000035',\n",
       " '0000000001',\n",
       " '000000000667',\n",
       " '000000001',\n",
       " '00000000227',\n",
       " '00000001',\n",
       " '000000010',\n",
       " '00000004290224',\n",
       " '0000001',\n",
       " '000000227',\n",
       " '000000333']"
      ]
     },
     "execution_count": 154,
     "metadata": {},
     "output_type": "execute_result"
    }
   ],
   "source": [
    "# Valores de los 20 primeros features\n",
    "vectorizer.get_feature_names()[:20]"
   ]
  },
  {
   "cell_type": "markdown",
   "metadata": {
    "colab_type": "text",
    "id": "wpNVjkU8wYf-"
   },
   "source": [
    "## 7. División y normalización de los datos\n",
    "\n",
    "1. El conjunto de datos es dividido en datos de entrada o alimentación y en la referencia o target al cual debe apuntar el clasificador al momento de predecir.\n",
    "\n",
    "2. Se divide nuevamente al conjunto de datos en datos de entrenamiento o train y datos de evaluación o test, cada uno de ellos con su correspondiente referencia o target."
   ]
  },
  {
   "cell_type": "code",
   "execution_count": 155,
   "metadata": {
    "colab": {
     "base_uri": "https://localhost:8080/",
     "height": 33
    },
    "colab_type": "code",
    "id": "O76sbPMKt366",
    "outputId": "4e4176c8-c755-4158-f6c9-7f510ea48769"
   },
   "outputs": [
    {
     "name": "stdout",
     "output_type": "stream",
     "text": [
      "\n",
      "Longitud del conjunto de entrenamiento: 13044\n",
      "Longitud del conjunto de test: 3261\n"
     ]
    }
   ],
   "source": [
    "# División entre instancias y etiquetas\n",
    "X, y = X_cv, df_y     \n",
    "\n",
    "# división entre entrenamiento y evaluación\n",
    "X_train, X_test, y_train, y_test = train_test_split(X, y, test_size=0.2, random_state=0)\n",
    "print('\\nLongitud del conjunto de entrenamiento: {}'.format(X_train.shape[0]))\n",
    "print('Longitud del conjunto de test: {}'.format(X_test.shape[0]))"
   ]
  },
  {
   "cell_type": "markdown",
   "metadata": {
    "colab_type": "text",
    "id": "1Woi0KQbA9Ky"
   },
   "source": [
    "## 8. Predicción usando árboles de decisión"
   ]
  },
  {
   "cell_type": "markdown",
   "metadata": {},
   "source": [
    "#### **Árbol de decisión**"
   ]
  },
  {
   "cell_type": "code",
   "execution_count": 156,
   "metadata": {
    "colab": {
     "base_uri": "https://localhost:8080/",
     "height": 268
    },
    "colab_type": "code",
    "id": "Rz6BFWI3ozbD",
    "outputId": "cdd155f4-78c8-43c6-c174-1bbd6fc706f3"
   },
   "outputs": [
    {
     "name": "stdout",
     "output_type": "stream",
     "text": [
      "Parámetros utilizados: \n",
      " [['ccp_alpha' 0.0]\n",
      " ['class_weight' None]\n",
      " ['criterion' 'gini']\n",
      " ['max_depth' None]\n",
      " ['max_features' None]\n",
      " ['max_leaf_nodes' None]\n",
      " ['min_impurity_decrease' 0.0]\n",
      " ['min_impurity_split' None]\n",
      " ['min_samples_leaf' 1]\n",
      " ['min_samples_split' 2]\n",
      " ['min_weight_fraction_leaf' 0.0]\n",
      " ['presort' 'deprecated']\n",
      " ['random_state' 42]\n",
      " ['splitter' 'best']]\n"
     ]
    }
   ],
   "source": [
    "arbol_decision = DecisionTreeClassifier(random_state = 42) # para que coincida con el random_state elegido para SGD\n",
    "print('Parámetros utilizados: \\n', np.array(list(arbol_decision.get_params(deep=False).items())))"
   ]
  },
  {
   "cell_type": "markdown",
   "metadata": {
    "colab_type": "text",
    "id": "3zsb59tnBe4x"
   },
   "source": [
    "#### **Entrenamiento**\n",
    "\n",
    "El modelo es entrenado con los parámetros que posee la implementación por defecto, dicho proceso consume el conjunto de datos de entrenamiento y su correspondiente referencia."
   ]
  },
  {
   "cell_type": "code",
   "execution_count": 157,
   "metadata": {
    "colab": {
     "base_uri": "https://localhost:8080/",
     "height": 117
    },
    "colab_type": "code",
    "id": "82I5mdScBZjM",
    "outputId": "aeabfeef-af79-40a9-e142-f90a6c7a45a7"
   },
   "outputs": [
    {
     "data": {
      "text/plain": [
       "DecisionTreeClassifier(random_state=42)"
      ]
     },
     "execution_count": 157,
     "metadata": {},
     "output_type": "execute_result"
    }
   ],
   "source": [
    "arbol_decision.fit(X_train, y_train)"
   ]
  },
  {
   "cell_type": "markdown",
   "metadata": {
    "colab_type": "text",
    "id": "I3W_Q7ndBZK5"
   },
   "source": [
    "#### **Predicción con el conjuto de datos de entrenamiento y test**\n",
    "\n",
    "\n",
    "Se lleva a cabo el proceso de predicción tomando como entrada al modelo\n",
    "\n",
    "- El conjunto de datos de entrenamiento\n",
    "- El conjunto de datos de test"
   ]
  },
  {
   "cell_type": "code",
   "execution_count": 158,
   "metadata": {
    "colab": {},
    "colab_type": "code",
    "id": "4sGz7nZhCNL1"
   },
   "outputs": [],
   "source": [
    "#1. Predicción con el conjunto de datos de entrenamiento\n",
    "y_train_pred_arbolD = arbol_decision.predict(X_train)\n",
    "y_train_pred_arbolDp = arbol_decision.predict_proba(X_train)"
   ]
  },
  {
   "cell_type": "code",
   "execution_count": 159,
   "metadata": {
    "colab": {
     "base_uri": "https://localhost:8080/",
     "height": 336
    },
    "colab_type": "code",
    "id": "RmHs2RHn4Q6N",
    "outputId": "f821b8d9-4e71-4a9e-b396-5f1122905cf3"
   },
   "outputs": [],
   "source": [
    "#1. Predicción con el conjunto de datos de test\n",
    "y_test_pred_arbolD  = arbol_decision.predict(X_test)\n",
    "y_test_pred_arbolDp = arbol_decision.predict_proba(X_test)"
   ]
  },
  {
   "cell_type": "markdown",
   "metadata": {
    "colab_type": "text",
    "id": "KcnDTiHqCoUV"
   },
   "source": [
    "#### **Verificamos la accuracy obtenida.**\n",
    "\n",
    "#### Accuracy con train"
   ]
  },
  {
   "cell_type": "code",
   "execution_count": 160,
   "metadata": {
    "colab": {
     "base_uri": "https://localhost:8080/",
     "height": 33
    },
    "colab_type": "code",
    "id": "XrW3Ya05CnCl",
    "outputId": "da399c18-28ff-4364-fab4-f89b5ac74199"
   },
   "outputs": [
    {
     "name": "stdout",
     "output_type": "stream",
     "text": [
      "Accuracy: 100 \n"
     ]
    }
   ],
   "source": [
    "print ('Accuracy: %d ' % ((np.sum(y_train == y_train_pred_arbolD))/float(y_train.size)*100))"
   ]
  },
  {
   "cell_type": "markdown",
   "metadata": {
    "colab_type": "text",
    "id": "LaDZT-MbC7YD"
   },
   "source": [
    "#### Accuracy con test"
   ]
  },
  {
   "cell_type": "code",
   "execution_count": 161,
   "metadata": {
    "colab": {},
    "colab_type": "code",
    "id": "ZxXxBEjPAqVR"
   },
   "outputs": [
    {
     "name": "stdout",
     "output_type": "stream",
     "text": [
      "Accuracy: 77 \n"
     ]
    }
   ],
   "source": [
    "print ('Accuracy: %d ' % ((np.sum(y_test == y_test_pred_arbolD))/float(y_test.size)*100))"
   ]
  },
  {
   "cell_type": "code",
   "execution_count": 162,
   "metadata": {
    "colab": {
     "base_uri": "https://localhost:8080/",
     "height": 50
    },
    "colab_type": "code",
    "id": "8L1CEf_8DWWH",
    "outputId": "6ef08a3d-bc49-47bf-c3df-279d0f418435"
   },
   "outputs": [
    {
     "name": "stdout",
     "output_type": "stream",
     "text": [
      "Profundidad máxima del árbol: 85\n",
      "Cantidad máxima de hojas: 1276\n"
     ]
    }
   ],
   "source": [
    "print('Profundidad máxima del árbol:', arbol_decision.get_depth())\n",
    "print('Cantidad máxima de hojas:', arbol_decision.get_n_leaves())"
   ]
  },
  {
   "cell_type": "code",
   "execution_count": 163,
   "metadata": {
    "colab": {},
    "colab_type": "code",
    "id": "IfmoXkXEAmcn"
   },
   "outputs": [
    {
     "name": "stdout",
     "output_type": "stream",
     "text": [
      "              precision    recall  f1-score   support\n",
      "\n",
      "           0       0.38      0.33      0.35       616\n",
      "           1       0.85      0.88      0.86      2645\n",
      "\n",
      "    accuracy                           0.77      3261\n",
      "   macro avg       0.61      0.60      0.61      3261\n",
      "weighted avg       0.76      0.77      0.77      3261\n",
      "\n"
     ]
    }
   ],
   "source": [
    "# Classification report\n",
    "print(classification_report(y_test, y_test_pred_arbolD))"
   ]
  },
  {
   "cell_type": "markdown",
   "metadata": {},
   "source": [
    "## 9. Predicción usando Naive Bayes"
   ]
  },
  {
   "cell_type": "code",
   "execution_count": 164,
   "metadata": {},
   "outputs": [
    {
     "data": {
      "text/plain": [
       "MultinomialNB(alpha=0.0, class_prior=[0.3, 0.7])"
      ]
     },
     "execution_count": 164,
     "metadata": {},
     "output_type": "execute_result"
    }
   ],
   "source": [
    "# \n",
    "naive_bayes = MultinomialNB(alpha=0.0, class_prior=[0.3, 0.7])\n",
    "naive_bayes.fit(X_train, y_train)"
   ]
  },
  {
   "cell_type": "code",
   "execution_count": 165,
   "metadata": {},
   "outputs": [],
   "source": [
    "y_train_pred_NB = naive_bayes.predict(X_train)\n",
    "y_test_pred_NB = naive_bayes.predict(X_test)"
   ]
  },
  {
   "cell_type": "code",
   "execution_count": 166,
   "metadata": {},
   "outputs": [
    {
     "name": "stdout",
     "output_type": "stream",
     "text": [
      "              precision    recall  f1-score   support\n",
      "\n",
      "           0       0.41      0.47      0.44       616\n",
      "           1       0.87      0.84      0.86      2645\n",
      "\n",
      "    accuracy                           0.77      3261\n",
      "   macro avg       0.64      0.66      0.65      3261\n",
      "weighted avg       0.79      0.77      0.78      3261\n",
      "\n"
     ]
    }
   ],
   "source": [
    "print(classification_report(y_test, y_test_pred_NB))"
   ]
  },
  {
   "cell_type": "markdown",
   "metadata": {},
   "source": [
    "## 10. Exploración de hiperparámetros de CountVectorizer\n",
    "\n",
    "Con el objetivo de visualizar lo que hace CountVectorizer exploraremos sus hiperparámetros `min_df`, `max_df` y `ngram-range`"
   ]
  },
  {
   "cell_type": "markdown",
   "metadata": {},
   "source": [
    "#### **Tokens de baja frecuencia.**"
   ]
  },
  {
   "cell_type": "code",
   "execution_count": 181,
   "metadata": {},
   "outputs": [
    {
     "name": "stdout",
     "output_type": "stream",
     "text": [
      "Dimensión de la matriz dispersa \n",
      "\n"
     ]
    },
    {
     "data": {
      "text/plain": [
       "(16305, 22855)"
      ]
     },
     "execution_count": 181,
     "metadata": {},
     "output_type": "execute_result"
    }
   ],
   "source": [
    "# palabras que representen menos de un 0,5% de las palabras totales\n",
    "vectorizer_min = CountVectorizer(min_df= 0.0, max_df= 0.005, ngram_range= (1,1))\n",
    "X_min = vectorizer_min.fit_transform(df_X)\n",
    "\n",
    "# ¿cuál es la dimensión de la matriz dispersa?\n",
    "print('Dimensión de la matriz dispersa \\n')\n",
    "X_min.shape"
   ]
  },
  {
   "cell_type": "code",
   "execution_count": 177,
   "metadata": {},
   "outputs": [
    {
     "data": {
      "image/png": "[encoded data removed]",
      "text/plain": [
       "<Figure size 720x1008 with 1 Axes>"
      ]
     },
     "metadata": {},
     "output_type": "display_data"
    },
    {
     "data": {
      "text/plain": [
       "<matplotlib.axes._subplots.AxesSubplot at 0x7fd69e0741d0>"
      ]
     },
     "execution_count": 177,
     "metadata": {},
     "output_type": "execute_result"
    }
   ],
   "source": [
    "plt.figure(figsize=(10,14))\n",
    "features = vectorizer_min.get_feature_names()\n",
    "visualizer = FreqDistVisualizer(features=features)\n",
    "visualizer.fit(X_min)\n",
    "visualizer.poof()"
   ]
  },
  {
   "cell_type": "code",
   "execution_count": 180,
   "metadata": {},
   "outputs": [
    {
     "name": "stdout",
     "output_type": "stream",
     "text": [
      "              precision    recall  f1-score   support\n",
      "\n",
      "           0       0.31      0.34      0.33       616\n",
      "           1       0.84      0.83      0.84      2645\n",
      "\n",
      "    accuracy                           0.74      3261\n",
      "   macro avg       0.58      0.58      0.58      3261\n",
      "weighted avg       0.74      0.74      0.74      3261\n",
      "\n"
     ]
    }
   ],
   "source": [
    "# Predicción usando Naive Bayes\n",
    "X, y = X_min, df_y     \n",
    "X_train, X_test, y_train, y_test = train_test_split(X, y, test_size=0.2, random_state=0)\n",
    "naive_bayes.fit(X_train, y_train)\n",
    "y_train_pred_NB = naive_bayes.predict(X_train)\n",
    "y_test_pred_NB = naive_bayes.predict(X_test)\n",
    "print(classification_report(y_test, y_test_pred_NB))"
   ]
  },
  {
   "cell_type": "markdown",
   "metadata": {
    "colab_type": "text",
    "id": "z4-lldFMMBZl"
   },
   "source": [
    "#### **Tokens de alta frecuencia**"
   ]
  },
  {
   "cell_type": "code",
   "execution_count": 186,
   "metadata": {
    "colab": {
     "base_uri": "https://localhost:8080/",
     "height": 84
    },
    "colab_type": "code",
    "id": "kGycYDGgWK0P",
    "outputId": "6e4c3106-b238-4e2d-dfe5-4dabd51aad0b"
   },
   "outputs": [
    {
     "name": "stdout",
     "output_type": "stream",
     "text": [
      "Dimensión de la matriz dispersa \n",
      ".\n"
     ]
    },
    {
     "data": {
      "text/plain": [
       "(16305, 111)"
      ]
     },
     "execution_count": 186,
     "metadata": {},
     "output_type": "execute_result"
    }
   ],
   "source": [
    "# palabras que representen más de un 35% del total de palabras\n",
    "vectorizer_max = CountVectorizer(min_df= 0.30)\n",
    "#vectorizer = CountVectorizer(min_df= 0.005, max_df= 0.35)\n",
    "X_max = vectorizer_max.fit_transform(df_X)\n",
    "# ¿cuál es la dimensión de la matriz dispersa?\n",
    "print('Dimensión de la matriz dispersa \\n.')\n",
    "X_max.shape #o X.shape"
   ]
  },
  {
   "cell_type": "code",
   "execution_count": 188,
   "metadata": {},
   "outputs": [
    {
     "data": {
      "image/png": "[encoded data removed]",
      "text/plain": [
       "<Figure size 720x1008 with 1 Axes>"
      ]
     },
     "metadata": {},
     "output_type": "display_data"
    },
    {
     "data": {
      "text/plain": [
       "<matplotlib.axes._subplots.AxesSubplot at 0x7fd69fdbef10>"
      ]
     },
     "execution_count": 188,
     "metadata": {},
     "output_type": "execute_result"
    }
   ],
   "source": [
    "plt.figure(figsize=(10,14))\n",
    "features = vectorizer_max.get_feature_names()\n",
    "visualizer = FreqDistVisualizer(features=features)\n",
    "visualizer.fit(X_max)\n",
    "visualizer.poof()"
   ]
  },
  {
   "cell_type": "code",
   "execution_count": 187,
   "metadata": {},
   "outputs": [
    {
     "name": "stdout",
     "output_type": "stream",
     "text": [
      "              precision    recall  f1-score   support\n",
      "\n",
      "           0       0.31      0.71      0.43       616\n",
      "           1       0.90      0.63      0.75      2645\n",
      "\n",
      "    accuracy                           0.65      3261\n",
      "   macro avg       0.61      0.67      0.59      3261\n",
      "weighted avg       0.79      0.65      0.69      3261\n",
      "\n"
     ]
    }
   ],
   "source": [
    "# Predicción usando Naive Bayes\n",
    "X, y = X_max, df_y     \n",
    "X_train, X_test, y_train, y_test = train_test_split(X, y, test_size=0.2, random_state=0)\n",
    "naive_bayes.fit(X_train, y_train)\n",
    "y_train_pred_NB = naive_bayes.predict(X_train)\n",
    "y_test_pred_NB = naive_bayes.predict(X_test)\n",
    "print(classification_report(y_test, y_test_pred_NB))"
   ]
  },
  {
   "cell_type": "markdown",
   "metadata": {
    "colab_type": "text",
    "id": "_8JFAmmNmBNu"
   },
   "source": [
    "### **Cálculo de tf y tf–idf para unigramas**\n",
    "\n",
    "El **tf** es la frecuencia de términos en un documento y el **idf** es la frecuencia inversa de un término en el conjunto de documentos. Antes de calcula dicha frecuencia, necesito vectorizar. "
   ]
  },
  {
   "cell_type": "markdown",
   "metadata": {
    "colab_type": "text",
    "id": "cgQTGlUtUQLb"
   },
   "source": [
    "**Aplico countVectorizer con unigramas**\n",
    "\n",
    "Por defecto, trabaja con unigramas por lo tanto, no es necesario especificar el parámetro: ngram_range=(1, 1). "
   ]
  },
  {
   "cell_type": "code",
   "execution_count": 32,
   "metadata": {
    "colab": {
     "base_uri": "https://localhost:8080/",
     "height": 84
    },
    "colab_type": "code",
    "id": "3YBy2qBGUQho",
    "outputId": "4a579451-b3ba-4a44-cecf-f5e35d70526d"
   },
   "outputs": [
    {
     "name": "stdout",
     "output_type": "stream",
     "text": [
      "Dimensión de la matriz dispersa \n",
      ".\n"
     ]
    },
    {
     "data": {
      "text/plain": [
       "<16305x24475 sparse matrix of type '<class 'numpy.int64'>'\n",
       "\twith 946735 stored elements in Compressed Sparse Row format>"
      ]
     },
     "execution_count": 32,
     "metadata": {},
     "output_type": "execute_result"
    }
   ],
   "source": [
    "unigrama_vectorizer = CountVectorizer(min_df=1)  #dejamos de lado las palabras de frecuencia 1\n",
    "X_1 = unigrama_vectorizer.fit_transform(df_X)\n",
    "# ¿cuál es la dimensión de la matriz dispersa?\n",
    "print('Dimensión de la matriz dispersa \\n.')\n",
    "X_1  #o X.shape"
   ]
  },
  {
   "cell_type": "code",
   "execution_count": 33,
   "metadata": {
    "colab": {
     "base_uri": "https://localhost:8080/",
     "height": 33
    },
    "colab_type": "code",
    "id": "8EKaUEXkjHvP",
    "outputId": "f1ffc53a-a8f3-4895-841d-af96f7648239"
   },
   "outputs": [
    {
     "name": "stdout",
     "output_type": "stream",
     "text": [
      "Longitud del vector: 24475\n"
     ]
    }
   ],
   "source": [
    "from sklearn.feature_extraction.text import TfidfTransformer\n",
    "tfidf_transformer = TfidfTransformer()\n",
    "X_tfidf = tfidf_transformer.fit_transform(X_1)\n",
    "#print('Tamaño de la matriz',X_tfidf.shape)\n",
    "print(\"Longitud del vector:\", len(X_tfidf.toarray()[0]))\n"
   ]
  },
  {
   "cell_type": "code",
   "execution_count": null,
   "metadata": {
    "colab": {
     "base_uri": "https://localhost:8080/",
     "height": 33
    },
    "colab_type": "code",
    "id": "6FLxnY5tcgXm",
    "outputId": "b3520f8b-6aea-4f89-e913-6a00ed743e58"
   },
   "outputs": [],
   "source": [
    " print(len(X_tfidf.toarray()[0]))"
   ]
  },
  {
   "cell_type": "code",
   "execution_count": null,
   "metadata": {
    "colab": {
     "base_uri": "https://localhost:8080/",
     "height": 167
    },
    "colab_type": "code",
    "id": "1yQ9fzx-yeeB",
    "outputId": "612c426f-5860-4125-a0bc-d5d17a178225"
   },
   "outputs": [],
   "source": [
    "print('Valores de la matriz con el cálculo de tf-idf \\n')\n",
    "print(X_tfidf.toarray())"
   ]
  },
  {
   "cell_type": "markdown",
   "metadata": {
    "colab_type": "text",
    "id": "WQ4INgXpTeOh"
   },
   "source": [
    "#### **Bigramas**\n",
    "\n",
    "En este caso, es necesario especificar el parámetro ngram_range=(2, 2)."
   ]
  },
  {
   "cell_type": "code",
   "execution_count": 204,
   "metadata": {
    "colab": {
     "base_uri": "https://localhost:8080/",
     "height": 84
    },
    "colab_type": "code",
    "id": "Bsz5uPzow36C",
    "outputId": "d3350091-24d2-4750-9bb3-3c569608b6b3"
   },
   "outputs": [
    {
     "name": "stdout",
     "output_type": "stream",
     "text": [
      "Dimensión de la matriz dispersa \n",
      ".\n"
     ]
    },
    {
     "data": {
      "text/plain": [
       "(16305, 470552)"
      ]
     },
     "execution_count": 204,
     "metadata": {},
     "output_type": "execute_result"
    }
   ],
   "source": [
    "vectorizer_bigrama = CountVectorizer(ngram_range=(1, 2), min_df=1)  # dejamos de lado las palabras de frecuencia 1\n",
    "X_bigrama = vectorizer_bigrama.fit_transform(df_X)\n",
    "print('Dimensión de la matriz dispersa \\n.')\n",
    "X_bigrama.shape  #o X.shape"
   ]
  },
  {
   "cell_type": "code",
   "execution_count": 205,
   "metadata": {
    "colab": {},
    "colab_type": "code",
    "id": "aX4hcLQdDL0b"
   },
   "outputs": [
    {
     "name": "stdout",
     "output_type": "stream",
     "text": [
      "['10 pieces', '10 please', '10 plug', '10 plus', '10 pm', '10 points', '10 positive', '10 pound', '10 pounds', '10 power', '10 powers', '10 pr', '10 precisely', '10 q1', '10 questions', '10 rad', '10 raise', '10 raised', '10 recall', '10 red']\n"
     ]
    },
    {
     "data": {
      "text/plain": [
       "{'hey': 196433,\n",
       " 'robert': 345066,\n",
       " 'welcome': 446874,\n",
       " 'to': 415513,\n",
       " 'yup': 468928,\n",
       " 'am': 45178,\n",
       " 'looking': 245651,\n",
       " 'over': 302133,\n",
       " 'your': 467463,\n",
       " 'problem': 320960,\n",
       " 've': 439022,\n",
       " 'reviewed': 342880,\n",
       " 'on': 290321,\n",
       " 'finding': 160003,\n",
       " 'the': 397372,\n",
       " 'domain': 133347,\n",
       " 'of': 283726,\n",
       " 'square': 376188,\n",
       " 'root': 345602,\n",
       " 'function': 172534}"
      ]
     },
     "execution_count": 205,
     "metadata": {},
     "output_type": "execute_result"
    }
   ],
   "source": [
    "print(vectorizer_bigrama.get_feature_names()[2000:2020])\n",
    "dict(itertools.islice(vectorizer_bigrama.vocabulary_.items(), 20))\n",
    "#print('Valores del vector')\n",
    "# print(X_2.toarray()) "
   ]
  },
  {
   "cell_type": "code",
   "execution_count": 206,
   "metadata": {},
   "outputs": [
    {
     "name": "stdout",
     "output_type": "stream",
     "text": [
      "              precision    recall  f1-score   support\n",
      "\n",
      "           0       0.56      0.25      0.35       616\n",
      "           1       0.85      0.95      0.90      2645\n",
      "\n",
      "    accuracy                           0.82      3261\n",
      "   macro avg       0.70      0.60      0.62      3261\n",
      "weighted avg       0.79      0.82      0.79      3261\n",
      "\n"
     ]
    }
   ],
   "source": [
    "# Predicción usando Naive Bayes\n",
    "X, y = X_bigrama, df_y     \n",
    "X_train, X_test, y_train, y_test = train_test_split(X, y, test_size=0.2, random_state=0)\n",
    "naive_bayes.fit(X_train, y_train)\n",
    "y_train_pred_NB = naive_bayes.predict(X_train)\n",
    "y_test_pred_NB = naive_bayes.predict(X_test)\n",
    "print(classification_report(y_test, y_test_pred_NB))"
   ]
  },
  {
   "cell_type": "markdown",
   "metadata": {
    "colab_type": "text",
    "id": "sEFVXJ1nxoI2"
   },
   "source": [
    "###**Cálculo de tf y tf–idf para bigramas**"
   ]
  },
  {
   "cell_type": "markdown",
   "metadata": {
    "colab_type": "text",
    "id": "WQ4INgXpTeOh"
   },
   "source": [
    "#### **Trigramas**\n",
    "\n",
    "En este caso, es necesario especificar el parámetro ngram_range=(3, 3)."
   ]
  },
  {
   "cell_type": "code",
   "execution_count": 201,
   "metadata": {
    "colab": {
     "base_uri": "https://localhost:8080/",
     "height": 84
    },
    "colab_type": "code",
    "id": "Bsz5uPzow36C",
    "outputId": "d3350091-24d2-4750-9bb3-3c569608b6b3"
   },
   "outputs": [
    {
     "name": "stdout",
     "output_type": "stream",
     "text": [
      "Dimensión de la matriz dispersa \n",
      ".\n"
     ]
    },
    {
     "data": {
      "text/plain": [
       "(16305, 2123887)"
      ]
     },
     "execution_count": 201,
     "metadata": {},
     "output_type": "execute_result"
    }
   ],
   "source": [
    "vectorizer_trigrama = CountVectorizer(ngram_range=(1, 3), min_df=1)  # dejamos de lado las palabras de frecuencia 1\n",
    "X_trigrama = vectorizer_trigrama.fit_transform(df_X)\n",
    "print('Dimensión de la matriz dispersa \\n.')\n",
    "X_trigrama.shape  #o X.shape"
   ]
  },
  {
   "cell_type": "code",
   "execution_count": 202,
   "metadata": {
    "colab": {},
    "colab_type": "code",
    "id": "aX4hcLQdDL0b"
   },
   "outputs": [
    {
     "name": "stdout",
     "output_type": "stream",
     "text": [
      "['036717063', '036717063 x10', '036717063 x10 20', '036864', '036864 by', '036864 by so', '036864 yes', '036864 yes this', '037x10', '037x10 math', '037x10 math yes', '039', '039 per', '039 per cubic', '03x', '03x 035x', '03x 035x is', '03x and', '03x and the', '03x ok']\n"
     ]
    },
    {
     "data": {
      "text/plain": [
       "{'hey': 784867,\n",
       " 'robert': 1452186,\n",
       " 'welcome': 1986788,\n",
       " 'to': 1819667,\n",
       " 'yup': 2118527,\n",
       " 'am': 138680,\n",
       " 'looking': 1008843,\n",
       " 'over': 1284421,\n",
       " 'your': 2109565,\n",
       " 'problem': 1353715,\n",
       " 've': 1942020,\n",
       " 'reviewed': 1440112,\n",
       " 'on': 1223861,\n",
       " 'finding': 611232,\n",
       " 'the': 1681392,\n",
       " 'domain': 504474,\n",
       " 'of': 1175438,\n",
       " 'square': 1582232,\n",
       " 'root': 1453455,\n",
       " 'function': 672891}"
      ]
     },
     "execution_count": 202,
     "metadata": {},
     "output_type": "execute_result"
    }
   ],
   "source": [
    "print(vectorizer_trigrama.get_feature_names()[2000:2020])\n",
    "dict(itertools.islice(vectorizer_trigrama.vocabulary_.items(), 20))\n",
    "#print('Valores del vector')\n",
    "# print(X_2.toarray()) "
   ]
  },
  {
   "cell_type": "code",
   "execution_count": 203,
   "metadata": {},
   "outputs": [
    {
     "name": "stdout",
     "output_type": "stream",
     "text": [
      "              precision    recall  f1-score   support\n",
      "\n",
      "           0       0.58      0.19      0.29       616\n",
      "           1       0.84      0.97      0.90      2645\n",
      "\n",
      "    accuracy                           0.82      3261\n",
      "   macro avg       0.71      0.58      0.59      3261\n",
      "weighted avg       0.79      0.82      0.78      3261\n",
      "\n"
     ]
    }
   ],
   "source": [
    "# Predicción usando Naive Bayes\n",
    "X, y = X_trigrama, df_y     \n",
    "X_train, X_test, y_train, y_test = train_test_split(X, y, test_size=0.2, random_state=0)\n",
    "naive_bayes.fit(X_train, y_train)\n",
    "y_train_pred_NB = naive_bayes.predict(X_train)\n",
    "y_test_pred_NB = naive_bayes.predict(X_test)\n",
    "print(classification_report(y_test, y_test_pred_NB))"
   ]
  },
  {
   "cell_type": "code",
   "execution_count": 42,
   "metadata": {
    "colab": {},
    "colab_type": "code",
    "id": "irYm3nvnzAmX"
   },
   "outputs": [],
   "source": [
    "tfidf_transformer = TfidfTransformer()\n",
    "X_2_tfidf = tfidf_transformer.fit_transform(X_2)\n",
    "#print('Tamaño de la matriz',X_2_tfidf.shape)\n",
    "\n",
    "#print(\"Longitud del vector:\", len(X_2_tfidf.toarray()[0]))\n"
   ]
  },
  {
   "cell_type": "code",
   "execution_count": 44,
   "metadata": {
    "colab": {},
    "colab_type": "code",
    "id": "bKXJWN5iT9x-"
   },
   "outputs": [],
   "source": [
    "# print('Valores de la matriz con el cálculo de tf-idf \\n')\n",
    "#print(X_2_tfidf.toarray())"
   ]
  },
  {
   "cell_type": "markdown",
   "metadata": {},
   "source": [
    "## 11. Conclusiones\n",
    "\n",
    "Usando los tokens del tutor se obtuvo mejor desempeño en la detección de la clase minoritaria que usando todos los tokens y usando los tokens del estudiante\n",
    "\n",
    "Es interesante ver como usando pocos tokens de alta frecuencia se logran mejores resultados en la predicción de la clase minoritaria que usando muchos tokens de baja frecuencia\n",
    "\n",
    "Si se utilizan bigramas o trigramas de forma excluyente el desempeño en la detección de la clase minotritaria disminuye, sin embargo al incluir unigramas y bigramas de forma conjunta el desempeño general aumenta"
   ]
  },
  {
   "cell_type": "markdown",
   "metadata": {
    "colab_type": "text",
    "id": "Z1GOh_UTIz8c"
   },
   "source": [
    "### **Referencias**\n",
    "\n",
    "[Método CountVectorizer](https://scikit-learn.org/stable/modules/generated/sklearn.feature_extraction.text.CountVectorizer.html#sklearn.feature_extraction.text.CountVectorizer)\n",
    "\n",
    "[Método TfidfVectorizer](https://scikit-learn.org/stable/modules/generated/sklearn.feature_extraction.text.TfidfVectorizer.html#sklearn.feature_extraction.text.TfidfVectorizer)\n",
    "\n",
    "\n",
    "\n",
    "[Método TfidfTransformer()](https://scikit-learn.org/stable/modules/generated/sklearn.feature_extraction.text.TfidfTransformer.html#sklearn.feature_extraction.text.TfidfTransformer)\n",
    "\n",
    "[Repo sobre Applied Text Analysis with Python](https://github.com/foxbook/atap\n",
    ")\n",
    "\n",
    "Vectorización:\n",
    "\n",
    "https://learning.oreilly.com/library/view/applied-text-analysis/9781491963036/ch04.html#ATAP04\n",
    "\n",
    "https://learning.oreilly.com/library/view/applied-text-analysis/9781491963036/\n",
    " https://github.com/foxbook/atap/blob/master/snippets/ch04/vectorization.py\n",
    "\n",
    "[Ejemplo de aplicación de CountVectorizer()](https://github.com/shreyans29/thesemicolon/blob/master/Text%20Analytics%20CV.ipynb)\n",
    "\n",
    "\n",
    "\n",
    "\n"
   ]
  },
  {
   "cell_type": "code",
   "execution_count": null,
   "metadata": {},
   "outputs": [],
   "source": []
  }
 ],
 "metadata": {
  "colab": {
   "collapsed_sections": [],
   "name": "Practico_3y4_part_5.ipynb",
   "provenance": []
  },
  "kernelspec": {
   "display_name": "Python 3",
   "language": "python",
   "name": "python3"
  },
  "language_info": {
   "codemirror_mode": {
    "name": "ipython",
    "version": 3
   },
   "file_extension": ".py",
   "mimetype": "text/x-python",
   "name": "python",
   "nbconvert_exporter": "python",
   "pygments_lexer": "ipython3",
   "version": "3.7.6"
  }
 },
 "nbformat": 4,
 "nbformat_minor": 4
}
