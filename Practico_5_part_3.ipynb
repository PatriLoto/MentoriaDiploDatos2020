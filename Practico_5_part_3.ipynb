{
 "cells": [
  {
   "cell_type": "markdown",
   "metadata": {
    "colab_type": "text",
    "id": "x6rcF4vg7CTX"
   },
   "source": [
    "# **Práctico 5 (Parte 3): Cargar y explorar word embeddings pre-entrenados**"
   ]
  },
  {
   "cell_type": "markdown",
   "metadata": {
    "colab_type": "text",
    "id": "J_dxHHb1qUxR"
   },
   "source": [
    "### Tabla de Contenidos\n",
    "1. [Consigna](#1.-Consigna)\n",
    "2. [Inicialización del entorno](#2.-Inicialización-del-entorno)\n",
    "3. [Carga de word embeddings pre entrenados con GloVe](#3.-Carga-de-word-embeddings-pre-entrenados-con-GloVe)\n",
    "4. [Carga de datos de los dialogos](#4.-Carga-de-datos-de-los-dialogos)\n",
    "5. [Palabras no presentes en el modelo pre entrenado](#5.-Palabras-no-presentes-en-el-modelo-pre-entrenado)\n",
    "6. [Selección de vocabulario aleatorio](#6.-Selección-de-vocabulario-aleatorio)\n",
    "7. [Exploración de palabras por similitud](#7.-Exploración-de-palabras-por-similitud)\n",
    "8. [Visualización](#8.-Visualización)\n",
    "9. [Observaciones](#9.-Observaciones)"
   ]
  },
  {
   "cell_type": "markdown",
   "metadata": {
    "colab_type": "text",
    "id": "x_Fn8cRWqUxU"
   },
   "source": [
    "## 1. Consigna\n",
    "\n",
    "En este ejercicio cargarán y explorarán word embeddings preentrenados, les recomiendo Glove usando la función most_similar y variando el valor de topn. Un tutorial sobre cómo hacerlo pueden encontrarse acá:\n",
    "\n",
    "https://machinelearningmastery.com/develop-word-embeddings-python-gensim/\n",
    "\n",
    "Mostrar ejemplos usando most_similar que les resulten interesantes."
   ]
  },
  {
   "cell_type": "markdown",
   "metadata": {
    "colab_type": "text",
    "id": "u7fp8NQEywxo"
   },
   "source": [
    "## 2. Inicialización del entorno"
   ]
  },
  {
   "cell_type": "code",
   "execution_count": 1,
   "metadata": {
    "colab": {},
    "colab_type": "code",
    "id": "7KdM25aVtlis"
   },
   "outputs": [],
   "source": [
    "#Librerías \n",
    "import warnings\n",
    "warnings.filterwarnings(\"ignore\")\n",
    "\n",
    "import os\n",
    "import numpy as np\n",
    "import pandas as pd\n",
    "import re\n",
    "from ast import literal_eval\n",
    "import itertools\n",
    "import random\n",
    "\n",
    "# Para vectorizar los tokens\n",
    "from sklearn.feature_extraction.text import CountVectorizer\n",
    "\n",
    "# Embeddings\n",
    "from gensim.models import Word2Vec, KeyedVectors\n",
    "from gensim.scripts.glove2word2vec import glove2word2vec\n",
    "\n",
    "# Reducción de dimensionalidad\n",
    "from sklearn.decomposition import PCA\n",
    "\n",
    "# Gráficos\n",
    "import matplotlib.pyplot as plt"
   ]
  },
  {
   "cell_type": "markdown",
   "metadata": {
    "colab_type": "text",
    "id": "AXA7dA7CC2Pc"
   },
   "source": [
    "## 3. Carga de word embeddings pre entrenados con GloVe "
   ]
  },
  {
   "cell_type": "markdown",
   "metadata": {
    "colab_type": "text",
    "id": "dgnkYkv-jdb2"
   },
   "source": [
    "Inicialmente vamos a explorar uno de los vectores de palabras preentrenados de dominio público disponibles en el website de GloVe de la Universidad de Stanford [https://nlp.stanford.edu/projects/glove/](https://nlp.stanford.edu/projects/glove/)\n",
    "\n",
    "El archivo `glove.6B.zip` tiene las siguientes características: \n",
    "\n",
    "* Origen: Wikipedia 2014 + Gigaword 5 \n",
    "* 6 mil millones de tokens\n",
    "* Vocabulario: 400K  \n",
    "* Minúsculas\n",
    "* Vectores de 50d, 100d, 200d, & 300d \n",
    "* 822 MB \n"
   ]
  },
  {
   "cell_type": "code",
   "execution_count": 2,
   "metadata": {
    "colab": {},
    "colab_type": "code",
    "id": "xHx-TQAfqUxo"
   },
   "outputs": [
    {
     "data": {
      "text/plain": [
       "(400000, 100)"
      ]
     },
     "execution_count": 2,
     "metadata": {},
     "output_type": "execute_result"
    }
   ],
   "source": [
    "data_dir = os.path.join('..', 'dataset')\n",
    "\n",
    "#1 Archivo de entrada: GloVe\n",
    "glove_input_file = 'glove.6B.100d.txt'\n",
    "glove_input_file_full = os.path.join(data_dir, glove_input_file)\n",
    "\n",
    "#2 Archivo de salida: Word2Vec \n",
    "word2vec_output_file = 'glove.6B.100d.txt.word2vec'\n",
    "word2vec_output_file_full = os.path.join(data_dir, word2vec_output_file)\n",
    "\n",
    "#3 Conversión\n",
    "glove2word2vec(glove_input_file_full, word2vec_output_file_full)"
   ]
  },
  {
   "cell_type": "code",
   "execution_count": 3,
   "metadata": {
    "colab": {},
    "colab_type": "code",
    "id": "BrMzpxJDqUxu"
   },
   "outputs": [],
   "source": [
    "#4 Carga del modelo\n",
    "model = KeyedVectors.load_word2vec_format(word2vec_output_file_full, binary=False)"
   ]
  },
  {
   "cell_type": "code",
   "execution_count": 4,
   "metadata": {},
   "outputs": [
    {
     "name": "stdout",
     "output_type": "stream",
     "text": [
      "\n",
      "Tamaño del vocabulario del modelo GloVe: 400000 palabras\n"
     ]
    }
   ],
   "source": [
    "#5 Tamaño del vocabulario\n",
    "print('\\nTamaño del vocabulario del modelo GloVe: {} palabras'.format(len(list(model.wv.vocab))))"
   ]
  },
  {
   "cell_type": "markdown",
   "metadata": {},
   "source": [
    "## 4. Carga de datos de los dialogos"
   ]
  },
  {
   "cell_type": "markdown",
   "metadata": {},
   "source": [
    "Nos interesa utilizar el modelo preentrenado para nuestro problema específico. Con ese objetivo cargamos los datos de los dialogos entre tutores y estudiantes para explorar el comportamiento con ese vocabulario particular "
   ]
  },
  {
   "cell_type": "code",
   "execution_count": 5,
   "metadata": {},
   "outputs": [
    {
     "name": "stdout",
     "output_type": "stream",
     "text": [
      "Nos quedamos con un vocabulario de 1845 palabras provenientes de 16305 dialogos\n"
     ]
    }
   ],
   "source": [
    "#1 Carga de los datos de los dialogos\n",
    "filename = 'yup_curated_data.csv'\n",
    "datos_curados = pd.read_csv(os.path.join('..', 'dataset', filename))\n",
    "\n",
    "#2 Remoción de las sesiones de pocos dialogos\n",
    "n_short_sessions = len(datos_curados[(datos_curados.n_msg_tutor < 3) | (datos_curados.n_msg_student < 3)])\n",
    "datos_curados = datos_curados.drop(datos_curados[(datos_curados.n_msg_tutor < 3) | (datos_curados.n_msg_student < 3)].index)\n",
    "\n",
    "#3 Remoción de los dialogos sin contenido\n",
    "n_null_token_tutor = datos_curados['tokens_tutor'].isnull().sum()\n",
    "n_null_token_student = datos_curados['tokens_student'].isnull().sum()\n",
    "datos_curados = datos_curados.dropna(subset=['tokens_tutor','tokens_student'])\n",
    "\n",
    "datos_curados['tokens_tutor'] = datos_curados.tokens_tutor.apply(lambda x: literal_eval(x))\n",
    "datos_curados['tokens_student'] = datos_curados.tokens_student.apply(lambda x: literal_eval(x))\n",
    "\n",
    "#4 Utilizamos expresiones regulares para unificar los unigramas bajo el tag <math>\n",
    "r = re.compile('((?=.*[0-9])(?=.*[%\\/\\(\\)\\^\\\\\\+\\-\\*\\=]))^.*')\n",
    "datos_curados['tokens_tutor'] = datos_curados.tokens_tutor.apply(lambda x: ['<math>' if r.match(w) else w for w in x])\n",
    "datos_curados['tokens_student'] = datos_curados.tokens_student.apply(lambda x: ['<math>' if r.match(w) else w for w in x])\n",
    "\n",
    "datos_curados['tokens_tutor'] = datos_curados.tokens_tutor.apply(lambda x: str(x)[1:-1])\n",
    "datos_curados['tokens_student'] = datos_curados.tokens_student.apply(lambda x: str(x)[1:-1])\n",
    "\n",
    "#5 Unimos loa díalogos del tutor y del estudiante para vectorizarlos\n",
    "datos_curados['tokens'] = datos_curados['tokens_tutor'] +', '+ datos_curados['tokens_student']\n",
    "tokens = datos_curados['tokens']\n",
    "\n",
    "#6 Utilizamos la técnica de Bag Of Words para reunir un vocabulario del cual exceptuamos:\n",
    "#  * Los tokens de más baja frecuencia\n",
    "#  * Los tokens de más alta frecuencia \n",
    "vectorizer_dialogos = CountVectorizer(min_df= 0.005, max_df= 0.35)\n",
    "bow = vectorizer_dialogos.fit_transform(tokens)         \n",
    "\n",
    "print('Nos quedamos con un vocabulario de {} palabras provenientes de {} dialogos'\n",
    "      .format(len(vectorizer_dialogos.vocabulary_),len(datos_curados)))"
   ]
  },
  {
   "cell_type": "markdown",
   "metadata": {},
   "source": [
    "## 5. Palabras no presentes en el modelo pre-entrenado\n",
    "\n",
    "Las palabras que no están incluidas en el modelo GloVe provocan una excepción cuando tratamos de procesarlas, por lo tanto debemos excluirlas del vocabulario con el que vamos a trabajar en el embedding.\n",
    "\n",
    "Primero vamos a cuantificar y explorar cuantas y cuales de nuestras palabras no están en el modelo. Para tener una idea del impacto de esta limitación en el procesamiento"
   ]
  },
  {
   "cell_type": "code",
   "execution_count": 7,
   "metadata": {},
   "outputs": [
    {
     "name": "stdout",
     "output_type": "stream",
     "text": [
      "\n",
      "El vocabulario de trabajo tiene 1823 palabras.\n",
      "Hay 22 palabras que no se encuentran en el modelo: \n",
      "\n",
      "['2pi', '2y', 'alrighty', 'camuyot', 'candaza', 'chalabe', 'dudic', 'factorize', 'idk', 'jasmyn', 'kamireddy', 'nvm', 'ohhhhh', 'pemdas', 'sinx', 'sqrt', 'uf04a', 'usharani', 'vavilakolanu', 'xymines', 'yess', 'yupppppp']\n"
     ]
    }
   ],
   "source": [
    "vocabulario  = [p for p in vectorizer_dialogos.get_feature_names() if p in model.wv.vocab]\n",
    "palabras_no_presentes  = [p for p in vectorizer_dialogos.get_feature_names() if p not in model.wv.vocab]\n",
    "print('\\nEl vocabulario de trabajo tiene {} palabras.'\n",
    "      .format(len(vocabulario)))\n",
    "print('Hay {} palabras que no se encuentran en el modelo: \\n\\n{}'\n",
    "      .format(len(palabras_no_presentes), palabras_no_presentes))"
   ]
  },
  {
   "cell_type": "markdown",
   "metadata": {},
   "source": [
    "## 6. Selección de vocabulario aleatorio"
   ]
  },
  {
   "cell_type": "markdown",
   "metadata": {},
   "source": [
    "Vamos a seleccionar un vocabulario aleatorio proveniente de los dialogos en el cual vamos a realizar una exploración más detallada. A continuación eliminaremos aquellas palabras seleccionadas al azar que no estén en el modelo"
   ]
  },
  {
   "cell_type": "code",
   "execution_count": 8,
   "metadata": {},
   "outputs": [
    {
     "name": "stdout",
     "output_type": "stream",
     "text": [
      "['easiest', 'behave', 'differently', 'end', 'off', 'pretty', 'relates', 'participate', 'choices', 'series', 'costs', 'np', 'applied', 'spot', 'questions', 'normal', 'signs', '95', '200', 'derivatives', '5x', 'wrong', 'corresponds', 'surely', 'most', 'honest', 'regarding', 'involved', 'recap', 'outer', 'tried', 'proportion', 'tricky', 'very', 'sounds', 'noticed', 'negative', 'specifically', 'closed', 'shorter']\n"
     ]
    }
   ],
   "source": [
    "#1 Elegimos 40 palabras al azar\n",
    "vocabulario_aleatorio = random.sample(vectorizer_dialogos.get_feature_names(), 40)\n",
    "print(vocabulario_aleatorio)"
   ]
  },
  {
   "cell_type": "code",
   "execution_count": 9,
   "metadata": {},
   "outputs": [
    {
     "name": "stdout",
     "output_type": "stream",
     "text": [
      "\n",
      "Se descartaron 0 palabras que no se encuentran en el modelo: \n",
      "\n",
      "[]\n"
     ]
    }
   ],
   "source": [
    "# Eliminamos las palabras que no están en el modelo\n",
    "vocabulario_descartado  = [p for p in vocabulario_aleatorio if p not in model.wv.vocab]\n",
    "vocabulario_aleatorio  = [p for p in vocabulario_aleatorio if p in model.wv.vocab]\n",
    "print('\\nSe descartaron {} palabras que no se encuentran en el modelo: \\n\\n{}'\n",
    "      .format(len(vocabulario_descartado), vocabulario_descartado))"
   ]
  },
  {
   "cell_type": "markdown",
   "metadata": {},
   "source": [
    "## 7. Exploración de palabras por similitud"
   ]
  },
  {
   "cell_type": "markdown",
   "metadata": {},
   "source": [
    "Exploraremos algunos aspectos de nuestro vocabulario utilizando la capacidad del embedding de evaluar la similitud y aspectos relacionados.\n",
    "\n",
    "Consignamos las primeras 6 palabras del vocabulario seleccionado y para cada una de ellas listamos los 5 vocablos mas similares con el score asociado. Conservamos esas palabras para poder visualizarlas en una etapa posterior"
   ]
  },
  {
   "cell_type": "code",
   "execution_count": 10,
   "metadata": {},
   "outputs": [
    {
     "name": "stdout",
     "output_type": "stream",
     "text": [
      "\n",
      "Palabras similares a la palabra: easiest (top 5)\n",
      "\n",
      "    Palabra     Score\n",
      "0  simplest  0.722343\n",
      "1  quickest  0.701262\n",
      "2  cheapest  0.695884\n",
      "3    safest  0.676764\n",
      "4    surest  0.672536\n",
      "\n",
      "Palabras similares a la palabra: behave (top 5)\n",
      "\n",
      "       Palabra     Score\n",
      "0     behaving  0.741276\n",
      "1        react  0.724627\n",
      "2  differently  0.718077\n",
      "3      behaved  0.711391\n",
      "4      behaves  0.678375\n",
      "\n",
      "Palabras similares a la palabra: differently (top 5)\n",
      "\n",
      "         Palabra     Score\n",
      "0         behave  0.718077\n",
      "1    accordingly  0.681942\n",
      "2          quite  0.667570\n",
      "3  appropriately  0.660741\n",
      "4      similarly  0.659674\n",
      "\n",
      "Palabras similares a la palabra: end (top 5)\n",
      "\n",
      "     Palabra     Score\n",
      "0      start  0.821355\n",
      "1  beginning  0.820850\n",
      "2     ending  0.817008\n",
      "3       next  0.816699\n",
      "4       this  0.802477\n",
      "\n",
      "Palabras similares a la palabra: off (top 5)\n",
      "\n",
      "  Palabra     Score\n",
      "0     out  0.872350\n",
      "1    away  0.861234\n",
      "2    back  0.847204\n",
      "3    down  0.831271\n",
      "4      up  0.826282\n",
      "\n",
      "Palabras similares a la palabra: pretty (top 5)\n",
      "\n",
      "  Palabra     Score\n",
      "0   quite  0.867712\n",
      "1  really  0.847952\n",
      "2    very  0.833362\n",
      "3     're  0.815122\n",
      "4     too  0.811054\n"
     ]
    }
   ],
   "source": [
    "grupos_similares = []\n",
    "for p in range(6):\n",
    "    palabras_similares = model.most_similar(vocabulario_aleatorio[p],topn=5)\n",
    "    df_ms = pd.DataFrame(palabras_similares)\n",
    "    grupos_similares.extend(list(df_ms[0]))\n",
    "    grupos_similares.append(vocabulario_aleatorio[p])\n",
    "    df_ms.columns = ['Palabra','Score']\n",
    "    print('\\nPalabras similares a la palabra: {} (top 5)\\n'.format(vocabulario_aleatorio[p]))\n",
    "    print(df_ms)"
   ]
  },
  {
   "cell_type": "markdown",
   "metadata": {},
   "source": [
    "#### Exploramos el grado de similitud de 20 pares de palabras tomados aleatoriamente"
   ]
  },
  {
   "cell_type": "code",
   "execution_count": 11,
   "metadata": {},
   "outputs": [
    {
     "data": {
      "text/html": [
       "<div>\n",
       "<style scoped>\n",
       "    .dataframe tbody tr th:only-of-type {\n",
       "        vertical-align: middle;\n",
       "    }\n",
       "\n",
       "    .dataframe tbody tr th {\n",
       "        vertical-align: top;\n",
       "    }\n",
       "\n",
       "    .dataframe thead th {\n",
       "        text-align: right;\n",
       "    }\n",
       "</style>\n",
       "<table border=\"1\" class=\"dataframe\">\n",
       "  <thead>\n",
       "    <tr style=\"text-align: right;\">\n",
       "      <th></th>\n",
       "      <th>Palabra 1</th>\n",
       "      <th>Palabra 2</th>\n",
       "      <th>Similitud</th>\n",
       "    </tr>\n",
       "  </thead>\n",
       "  <tbody>\n",
       "    <tr>\n",
       "      <th>0</th>\n",
       "      <td>share</td>\n",
       "      <td>subtracting</td>\n",
       "      <td>0.214663</td>\n",
       "    </tr>\n",
       "    <tr>\n",
       "      <th>1</th>\n",
       "      <td>better</td>\n",
       "      <td>constants</td>\n",
       "      <td>0.017237</td>\n",
       "    </tr>\n",
       "    <tr>\n",
       "      <th>2</th>\n",
       "      <td>actual</td>\n",
       "      <td>purpose</td>\n",
       "      <td>0.603986</td>\n",
       "    </tr>\n",
       "    <tr>\n",
       "      <th>3</th>\n",
       "      <td>below</td>\n",
       "      <td>efforts</td>\n",
       "      <td>0.204654</td>\n",
       "    </tr>\n",
       "    <tr>\n",
       "      <th>4</th>\n",
       "      <td>extend</td>\n",
       "      <td>excited</td>\n",
       "      <td>0.075700</td>\n",
       "    </tr>\n",
       "    <tr>\n",
       "      <th>5</th>\n",
       "      <td>pledge</td>\n",
       "      <td>considered</td>\n",
       "      <td>0.289408</td>\n",
       "    </tr>\n",
       "    <tr>\n",
       "      <th>6</th>\n",
       "      <td>followed</td>\n",
       "      <td>handing</td>\n",
       "      <td>0.331117</td>\n",
       "    </tr>\n",
       "    <tr>\n",
       "      <th>7</th>\n",
       "      <td>improper</td>\n",
       "      <td>looking</td>\n",
       "      <td>0.224932</td>\n",
       "    </tr>\n",
       "    <tr>\n",
       "      <th>8</th>\n",
       "      <td>common</td>\n",
       "      <td>assume</td>\n",
       "      <td>0.396045</td>\n",
       "    </tr>\n",
       "    <tr>\n",
       "      <th>9</th>\n",
       "      <td>been</td>\n",
       "      <td>mixed</td>\n",
       "      <td>0.430794</td>\n",
       "    </tr>\n",
       "    <tr>\n",
       "      <th>10</th>\n",
       "      <td>upper</td>\n",
       "      <td>beyond</td>\n",
       "      <td>0.461864</td>\n",
       "    </tr>\n",
       "    <tr>\n",
       "      <th>11</th>\n",
       "      <td>keep</td>\n",
       "      <td>ill</td>\n",
       "      <td>0.428801</td>\n",
       "    </tr>\n",
       "    <tr>\n",
       "      <th>12</th>\n",
       "      <td>unable</td>\n",
       "      <td>section</td>\n",
       "      <td>0.276662</td>\n",
       "    </tr>\n",
       "    <tr>\n",
       "      <th>13</th>\n",
       "      <td>faster</td>\n",
       "      <td>hey</td>\n",
       "      <td>0.200760</td>\n",
       "    </tr>\n",
       "    <tr>\n",
       "      <th>14</th>\n",
       "      <td>combined</td>\n",
       "      <td>input</td>\n",
       "      <td>0.350584</td>\n",
       "    </tr>\n",
       "    <tr>\n",
       "      <th>15</th>\n",
       "      <td>50</td>\n",
       "      <td>trick</td>\n",
       "      <td>0.224691</td>\n",
       "    </tr>\n",
       "    <tr>\n",
       "      <th>16</th>\n",
       "      <td>ap</td>\n",
       "      <td>independent</td>\n",
       "      <td>0.287100</td>\n",
       "    </tr>\n",
       "    <tr>\n",
       "      <th>17</th>\n",
       "      <td>studying</td>\n",
       "      <td>faster</td>\n",
       "      <td>0.263726</td>\n",
       "    </tr>\n",
       "    <tr>\n",
       "      <th>18</th>\n",
       "      <td>filled</td>\n",
       "      <td>drawing</td>\n",
       "      <td>0.482146</td>\n",
       "    </tr>\n",
       "    <tr>\n",
       "      <th>19</th>\n",
       "      <td>object</td>\n",
       "      <td>assumed</td>\n",
       "      <td>0.388934</td>\n",
       "    </tr>\n",
       "  </tbody>\n",
       "</table>\n",
       "</div>"
      ],
      "text/plain": [
       "   Palabra 1    Palabra 2  Similitud\n",
       "0      share  subtracting   0.214663\n",
       "1     better    constants   0.017237\n",
       "2     actual      purpose   0.603986\n",
       "3      below      efforts   0.204654\n",
       "4     extend      excited   0.075700\n",
       "5     pledge   considered   0.289408\n",
       "6   followed      handing   0.331117\n",
       "7   improper      looking   0.224932\n",
       "8     common       assume   0.396045\n",
       "9       been        mixed   0.430794\n",
       "10     upper       beyond   0.461864\n",
       "11      keep          ill   0.428801\n",
       "12    unable      section   0.276662\n",
       "13    faster          hey   0.200760\n",
       "14  combined        input   0.350584\n",
       "15        50        trick   0.224691\n",
       "16        ap  independent   0.287100\n",
       "17  studying       faster   0.263726\n",
       "18    filled      drawing   0.482146\n",
       "19    object      assumed   0.388934"
      ]
     },
     "execution_count": 11,
     "metadata": {},
     "output_type": "execute_result"
    }
   ],
   "source": [
    "palabra0,palabra1,l_similitud = [],[],[]\n",
    "for i in range(20):\n",
    "    muestra = random.sample(vocabulario, 2)\n",
    "    similitud = model.similarity(muestra[0], muestra[1])\n",
    "    palabra0.append(muestra[0])\n",
    "    palabra1.append(muestra[1])\n",
    "    l_similitud.append(similitud)\n",
    "    \n",
    "    \n",
    "s_palabras = {'Palabra 1': palabra0,\n",
    "        'Palabra 2': palabra1,\n",
    "        'Similitud': l_similitud\n",
    "        }\n",
    "\n",
    "df_similitud = pd.DataFrame(s_palabras, columns = ['Palabra 1', 'Palabra 2', 'Similitud'])  \n",
    "df_similitud"
   ]
  },
  {
   "cell_type": "markdown",
   "metadata": {},
   "source": [
    "#### Buscamos la palabra más disimil del conjunto\n",
    "\n",
    "El método `doesnt_match` obtiene la palabra más disimil usando la distancia coseno. Retorna la palabra con la máxima distancia coseno con respecto a las distancia coseno de todas las palabras del conjunto"
   ]
  },
  {
   "cell_type": "code",
   "execution_count": 12,
   "metadata": {},
   "outputs": [
    {
     "name": "stdout",
     "output_type": "stream",
     "text": [
      "['easiest', 'behave', 'differently', 'end', 'off', 'pretty', 'relates', 'participate', 'choices', 'series', 'costs', 'np', 'applied', 'spot', 'questions', 'normal', 'signs', '95', '200', 'derivatives', '5x', 'wrong', 'corresponds', 'surely', 'most', 'honest', 'regarding', 'involved', 'recap', 'outer', 'tried', 'proportion', 'tricky', 'very', 'sounds', 'noticed', 'negative', 'specifically', 'closed', 'shorter']\n",
      "\n",
      "La palabra más disimil del conjunto es: 5x\n"
     ]
    }
   ],
   "source": [
    "palabra_disimil = model.doesnt_match(vocabulario_aleatorio)\n",
    "print (vocabulario_aleatorio)\n",
    "print('\\nLa palabra más disimil del conjunto es: {}'.format(palabra_disimil))"
   ]
  },
  {
   "cell_type": "markdown",
   "metadata": {},
   "source": [
    "## 8. Visualización"
   ]
  },
  {
   "cell_type": "markdown",
   "metadata": {},
   "source": [
    "#### Visualizamos el conjunto seleccionado aleatoriamente\n",
    "\n",
    "Utilizamos PCA para proyectar el conjunto con el objeto de visualizarlo "
   ]
  },
  {
   "cell_type": "code",
   "execution_count": 13,
   "metadata": {},
   "outputs": [
    {
     "data": {
      "image/png": "[encoded data removed]",
      "text/plain": [
       "<Figure size 864x864 with 1 Axes>"
      ]
     },
     "metadata": {
      "needs_background": "light"
     },
     "output_type": "display_data"
    }
   ],
   "source": [
    "X = model[vocabulario_aleatorio]\n",
    "pca = PCA(n_components=2)\n",
    "result = pca.fit_transform(X)\n",
    "\n",
    "\n",
    "plt.figure(figsize=(12, 12))\n",
    "plt.scatter(result[:, 0], result[:, 1])\n",
    "words = list(vocabulario_aleatorio)\n",
    "for i, word in enumerate(words):\n",
    "    plt.annotate(word, xy=(result[i, 0]+0.05, result[i, 1]))\n",
    "plt.show()\n"
   ]
  },
  {
   "cell_type": "markdown",
   "metadata": {},
   "source": [
    "#### Visualizamos los conjuntos de palabras similares\n",
    "\n",
    "Utilizando distintos colores para cada grupo, visualizamos el conjunto de palabras obtenidas utilizando `most_similar` con el objeto de ver como se agrupan sus proyecciones"
   ]
  },
  {
   "cell_type": "code",
   "execution_count": 14,
   "metadata": {},
   "outputs": [
    {
     "data": {
      "image/png": "[encoded data removed]",
      "text/plain": [
       "<Figure size 864x864 with 1 Axes>"
      ]
     },
     "metadata": {
      "needs_background": "light"
     },
     "output_type": "display_data"
    }
   ],
   "source": [
    "X = model[grupos_similares]\n",
    "pca = PCA(n_components=2)\n",
    "result = pca.fit_transform(X)\n",
    "\n",
    "colors = [\"m\",\"c\", \"b\", \"g\",\"y\",\"r\"]\n",
    "\n",
    "plt.figure(figsize=(12, 12))\n",
    "#plt.scatter(result[:, 0], result[:, 1], color=next(colors))\n",
    "words = list(grupos_similares)\n",
    "for i, word in enumerate(words):\n",
    "    plt.scatter(result[i:, 0], result[i:, 1], color=colors[i//6])\n",
    "    plt.annotate(word, xy=(result[i, 0]+0.05, result[i, 1]))\n",
    "plt.show()\n"
   ]
  },
  {
   "cell_type": "markdown",
   "metadata": {},
   "source": [
    "## 9. Observaciones\n",
    "\n",
    "Una de las limitaciones que a priori parecía evidente en el modelo pre entrenado que es la imposibilidad de utilizar tokens del vocabulario del dominio que no existen en el modelo, parece no tener un impacto tan grande medido en cantidad de palabras. \n",
    "Por supuesto que también hay otro aspecto que no hemos abordado aquí que es el hecho de que el embedding ha sido entrenado con un corpus en el que la relación entre las palabras no es la misma que en nuestro problema, por tanto es esperable que elementos como la utilización del lenguaje coloquial no aparezcan consideradas correctamente en el modelo pre entrenado"
   ]
  }
 ],
 "metadata": {
  "colab": {
   "collapsed_sections": [],
   "name": "Practico_3y4_part_5.ipynb",
   "provenance": []
  },
  "kernelspec": {
   "display_name": "Python 3",
   "language": "python",
   "name": "python3"
  },
  "language_info": {
   "codemirror_mode": {
    "name": "ipython",
    "version": 3
   },
   "file_extension": ".py",
   "mimetype": "text/x-python",
   "name": "python",
   "nbconvert_exporter": "python",
   "pygments_lexer": "ipython3",
   "version": "3.7.6"
  }
 },
 "nbformat": 4,
 "nbformat_minor": 4
}
