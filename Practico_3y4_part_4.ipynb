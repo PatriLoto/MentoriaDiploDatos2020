{
 "cells": [
  {
   "cell_type": "markdown",
   "metadata": {
    "colab_type": "text",
    "id": "e4MTtFCcXFKg"
   },
   "source": [
    "# **Practico 3 y 4 (parte 4): Balance de clases**\n",
    "\n",
    "### Tabla de Contenidos\n",
    "1. [Consigna](#1.-Consigna)\n",
    "2. [Inicialización del entorno](#2.-Inicialización-del-entorno)\n",
    "3. [Carga de datos](#3.-Carga-de-datos)\n",
    "4. [Análisis del balance de clases](#4.-Análisis-del-balance-de-clases)\n",
    "5. [División y normalización de los datos](#5.-División-y-normalización-de-los-datos)\n",
    "6. [Baseline](#6.-Baseline)\n",
    "7. [Penalizar la clase mayoritaria mediante hiperparámetro](#7.-Penalizar-la-clase-mayoritaria-mediante-hiperparámetro)\n",
    "8. [Undersampling en la clase mayoritaria](#8.-Undersampling-en-la-clase-mayoritaria)\n",
    "9. [Oversampling de la clase minoritaria](#9.-Oversampling-de-la-clase-minoritaria)\n",
    "10. [Combinación de undersampling y oversampling: SMOTE-Tomek](#10.-Combinación-de-undersampling-y-oversampling:-SMOTE-Tomek)\n",
    "11. [Comparación y conclusiones](#11.-Comparación-y-conclusiones)\n",
    "\n",
    "## 1. Consigna\n",
    "\n",
    "### **Ejercicio 4 de preparación: Balance de clases**\n",
    "​\n",
    "Queremos analizar el balance de nuestras clases. Para eso, analizamos cuántos diálogos caen en cada clase que predicen nuestros modelos. Enunciar claramente cuáles son las clases y si están o no balanceadas. \n",
    "​\n",
    "Si la distribución es muy desigual resulta dificil aplicar técnicas como el subsampling porque nos quedaríamos con muy pocos datos de entrenamiento, o el oversampling porque para que las clases queden parejas, deberíamos repetir un mismo diálogo muchas veces.\n",
    "​\n",
    "Si la distribución no es tan desigual, hacer subsampling de diálogos completos y guardarlos como un nuevo dataset. A partir de ahora, todos los experimentos que corran deberán correrlos también para este nuevo corpus con sus clases balanceadas. Luego vamos a comparar los resultados obtenidos con y sin balanceo de clases\n",
    "​"
   ]
  },
  {
   "cell_type": "markdown",
   "metadata": {},
   "source": [
    "## 2. Inicialización del entorno\n",
    "\n",
    "### **Librería: imbalanced-learn**\n",
    "\n",
    "Usaremos [imbalanced-learn](https://imbalanced-learn.readthedocs.io/en/stable/) una librería que permite realizar under-sampling y over-sampling con distintos métodos y es compatible con scikit-learn"
   ]
  },
  {
   "cell_type": "code",
   "execution_count": 1,
   "metadata": {},
   "outputs": [],
   "source": [
    "#pip install -U imbalanced-learn\n",
    "\n",
    "from imblearn.under_sampling import NearMiss\n",
    "from imblearn.over_sampling import RandomOverSampler\n",
    "from imblearn.combine import SMOTETomek\n",
    "from imblearn.ensemble import BalancedBaggingClassifier"
   ]
  },
  {
   "cell_type": "markdown",
   "metadata": {
    "colab_type": "text",
    "id": "e4MTtFCcXFKg"
   },
   "source": [
    "### **Inclusión de las otras librerias y módulos**"
   ]
  },
  {
   "cell_type": "code",
   "execution_count": 2,
   "metadata": {
    "colab": {},
    "colab_type": "code",
    "id": "7KdM25aVtlis"
   },
   "outputs": [],
   "source": [
    "#Librerías \n",
    "import warnings\n",
    "warnings.filterwarnings(\"ignore\")\n",
    "\n",
    "import os\n",
    "import numpy as np\n",
    "import pandas as pd\n",
    "import pandas.util.testing as tm\n",
    "# Para gráficos\n",
    "import matplotlib.pyplot as plt\n",
    "import seaborn as sns\n",
    "from seaborn import heatmap\n",
    "from scipy import stats\n",
    "from collections import Counter\n",
    "\n",
    "\n",
    "# Para dividir el dataset en train  y test\n",
    "from sklearn.model_selection import train_test_split\n",
    "from sklearn import model_selection\n",
    "\n",
    "# Gradiente Descendente\n",
    "from sklearn.linear_model import SGDClassifier\n",
    "# Algoritmo del Árbol de Decisión\n",
    "from sklearn.tree import (DecisionTreeClassifier, plot_tree)\n",
    "\n",
    "# Métricas\n",
    "from sklearn.metrics import (confusion_matrix, classification_report)\n",
    "\n",
    "# Para la Normalización \n",
    "from sklearn.preprocessing import StandardScaler\n",
    "\n",
    "#Colors\n",
    "BLUE   = '#5DADE2'\n",
    "RED    = '#ff7043'\n",
    "ORANGE = '#F5B041'\n",
    "GREEN  = '#58D68D'\n",
    "YELLOW = '#F4D03F'\n",
    "\n",
    "# Utiles\n",
    "from utiles import basic_metrics\n",
    "from utiles import plot_cm\n",
    "from utiles import plot_roc_pr\n",
    "\n",
    "# Classes\n",
    "classes = ['0 - Negativa', '1 - Positiva']"
   ]
  },
  {
   "cell_type": "markdown",
   "metadata": {},
   "source": [
    "### **Funciones**\n",
    "\n",
    "Definimos algunas funciones que nos permitirán correr el modelo, evaluarlo e informar los resultados para cada estrategia abordada para tratar el caso de los datos desbalanc"
   ]
  },
  {
   "cell_type": "code",
   "execution_count": 3,
   "metadata": {},
   "outputs": [],
   "source": [
    "# Entrena el modelo y retorna el modelo entrenado\n",
    "def entrenar_modelo(X_train, X_test, y_train, y_test):\n",
    "    dt = DecisionTreeClassifier(random_state=42)\n",
    "    dt.fit(X_train, y_train)\n",
    "    return dt\n",
    "\n",
    "# Entrena el modelo con ponderación para las clases\n",
    "def entrenar_modelo_ponderado(X_train, X_test, y_train, y_test, weights):\n",
    "    dt = DecisionTreeClassifier(random_state=42, class_weight=weights)\n",
    "    dt.fit(X_train, y_train)\n",
    "    return dt\n",
    "\n",
    "# Informa los reultados obtenidos mediante la matriz de confusión (heatmap) y classification_report\n",
    "def informar_resultados(y_test, pred_y):\n",
    "    conf_matrix = confusion_matrix(y_test, pred_y)\n",
    "    plt.figure(figsize=(6, 6))\n",
    "    sns.heatmap(conf_matrix, xticklabels=classes, yticklabels=classes, annot=True, fmt=\"d\", cmap='Greens', linecolor='black', linewidths=1, square=True, cbar=False);\n",
    "    plt.title(\"Confusion matrix\")\n",
    "    plt.ylabel('Real')\n",
    "    plt.xlabel('Predicción')\n",
    "    plt.show()\n",
    "    print (classification_report(y_test, pred_y))\n",
    "\n",
    "# Muestra la distribución despues de cambiar el muestreo\n",
    "def mostrar_distribucion(y_train, y_train_res):\n",
    "    print (\"\\nDistribución antes de cambiar el muestreo:\")\n",
    "    for key, value in Counter(y_train).items():\n",
    "        print('\\tClase {}: '.format(key), value)\n",
    "    print (\"\\n\")\n",
    "    print (\"Distribución después de cambiar el muestreo:\")\n",
    "    for key, value in Counter(y_train_res).items():\n",
    "        print('\\tClase {}: '.format(key), value)\n",
    "    print (\"\\n\")\n"
   ]
  },
  {
   "cell_type": "markdown",
   "metadata": {
    "colab_type": "text",
    "id": "5mH3jOggYXRS"
   },
   "source": [
    "## 3. Carga de datos\n",
    "\n",
    "El archivo `yup_curated_data.csv` se genera a partir del archivo `yup_messages_preprocessed.csv` y `datadump-20150801-20171219.csv` y se cura para se utilizado en el presente notebook."
   ]
  },
  {
   "cell_type": "code",
   "execution_count": 4,
   "metadata": {
    "colab": {},
    "colab_type": "code",
    "id": "nVEW_Reeu4XC"
   },
   "outputs": [],
   "source": [
    "filename = 'yup_curated_data.csv'  \n",
    "datos_curados = pd.read_csv(os.path.join('..', 'dataset', filename))\n",
    "datos_curados = datos_curados.drop(['tokens_tutor', 'tokens_student'], axis=1)"
   ]
  },
  {
   "cell_type": "markdown",
   "metadata": {},
   "source": [
    "## 4. Análisis del balance de clases"
   ]
  },
  {
   "cell_type": "code",
   "execution_count": 5,
   "metadata": {},
   "outputs": [
    {
     "name": "stdout",
     "output_type": "stream",
     "text": [
      "\n",
      "Cantidad de sesiones: 17429\n",
      "\n",
      "Sesiones calificadas Negativas (clase 0): 3598\n",
      "\n",
      "Sesiones calificadas Positivas (clase 1): 13831\n",
      "\n",
      "Relación entre la clase minoritaria y mayoritaria: 26.01%\n",
      "\n"
     ]
    }
   ],
   "source": [
    "print(\"\\nCantidad de sesiones: {}\\n\".format(datos_curados.shape[0]))\n",
    "print(\"Sesiones calificadas Negativas (clase 0): {}\\n\"\n",
    "      .format(pd.value_counts(datos_curados['student_rating_cat'])[0]))\n",
    "print(\"Sesiones calificadas Positivas (clase 1): {}\\n\"\n",
    "      .format(pd.value_counts(datos_curados['student_rating_cat'])[1]))\n",
    "print(\"Relación entre la clase minoritaria y mayoritaria: {:.2%}\\n\"\n",
    "      .format(pd.value_counts(datos_curados['student_rating_cat'])[0]\n",
    "              /pd.value_counts(datos_curados['student_rating_cat'])[1]))"
   ]
  },
  {
   "cell_type": "code",
   "execution_count": 6,
   "metadata": {},
   "outputs": [
    {
     "data": {
      "image/png": "[encoded data removed]",
      "text/plain": [
       "<Figure size 864x432 with 1 Axes>"
      ]
     },
     "metadata": {
      "needs_background": "light"
     },
     "output_type": "display_data"
    }
   ],
   "source": [
    "plt.figure(figsize=(12, 6))\n",
    "count_student_rating = pd.value_counts(datos_curados['student_rating_cat'], sort = True)\n",
    "count_student_rating.plot(kind = 'bar', rot=0)\n",
    "plt.xticks(range(2), ['1 - Positiva', '0 - Negativa'])\n",
    "plt.title(\"Balance de Clases\")\n",
    "plt.xlabel(\"Clase\")\n",
    "plt.ylabel(\"Sesiones calificadas\");\n",
    "plt.show()"
   ]
  },
  {
   "cell_type": "markdown",
   "metadata": {
    "colab_type": "text",
    "id": "wpNVjkU8wYf-"
   },
   "source": [
    "## 5. División y normalización de los datos\n",
    "1. El conjunto de datos es dividido en datos de entrada o alimentación y en la referencia o target al cual debe apuntar el clasificador al momento de predecir.\n",
    "\n",
    "1. Se divide nuevamente al conjunto de datos en datos de entrenamiento o train y  datos de evaluación o test, cada uno de ellos con su correspondiente referencia o target."
   ]
  },
  {
   "cell_type": "code",
   "execution_count": 7,
   "metadata": {
    "colab": {},
    "colab_type": "code",
    "id": "O76sbPMKt366"
   },
   "outputs": [],
   "source": [
    "#1. División entre datos de entrada y referencia o target\n",
    "X, y = datos_curados.iloc[:, :-1], datos_curados.student_rating_cat\n",
    "\n",
    "#2. División entre entrenamiento y evaluación\n",
    "X_train, X_test, y_train, y_test = train_test_split(X, y, test_size=0.2, random_state=0)"
   ]
  },
  {
   "cell_type": "markdown",
   "metadata": {
    "colab_type": "text",
    "id": "g9UGuV5giFES"
   },
   "source": [
    "Se crea el objeto del modelo y se imprimen los parametros por defecto que posee el modelo. Se fija la semilla para hacer reproducible el experimento."
   ]
  },
  {
   "cell_type": "markdown",
   "metadata": {},
   "source": [
    "## 6. Baseline\n",
    "\n",
    "Como baseline usaremos un modelo de Decision Tree con los hiperparámetros por defecto. Este constituirá la referencia para comparar con los resultados obtenidos al tratar de abordar el problema del desbalanceo de clases mediante distintas estrategias."
   ]
  },
  {
   "cell_type": "code",
   "execution_count": 8,
   "metadata": {},
   "outputs": [
    {
     "data": {
      "image/png": "[encoded data removed]",
      "text/plain": [
       "<Figure size 432x432 with 1 Axes>"
      ]
     },
     "metadata": {
      "needs_background": "light"
     },
     "output_type": "display_data"
    },
    {
     "name": "stdout",
     "output_type": "stream",
     "text": [
      "              precision    recall  f1-score   support\n",
      "\n",
      "           0       0.35      0.37      0.36       699\n",
      "           1       0.84      0.83      0.83      2787\n",
      "\n",
      "    accuracy                           0.74      3486\n",
      "   macro avg       0.60      0.60      0.60      3486\n",
      "weighted avg       0.74      0.74      0.74      3486\n",
      "\n"
     ]
    }
   ],
   "source": [
    "#1. Entrenamos el modelo con los valores por defecto\n",
    "modelo = entrenar_modelo(X_train, X_test, y_train, y_test)\n",
    "\n",
    "#2. Obtenemos las predicciones para el conjunto de evaluación \n",
    "y_pred = modelo.predict(X_test)\n",
    "\n",
    "#3. Informamos los resultados\n",
    "informar_resultados(y_test, y_pred)"
   ]
  },
  {
   "cell_type": "markdown",
   "metadata": {},
   "source": [
    "## 7. Penalizar la clase mayoritaria mediante hiperparámetro\n",
    "\n",
    "Sin intervenir en en conjunto de datos, intentaremos penalizar la diferencia de clases mediante el hiperparámetro `class_weight` que admiten algunos modelos de scikit-learn"
   ]
  },
  {
   "cell_type": "code",
   "execution_count": 9,
   "metadata": {},
   "outputs": [
    {
     "data": {
      "image/png": "[encoded data removed]",
      "text/plain": [
       "<Figure size 432x432 with 1 Axes>"
      ]
     },
     "metadata": {
      "needs_background": "light"
     },
     "output_type": "display_data"
    },
    {
     "name": "stdout",
     "output_type": "stream",
     "text": [
      "              precision    recall  f1-score   support\n",
      "\n",
      "           0       0.31      0.31      0.31       699\n",
      "           1       0.83      0.82      0.82      2787\n",
      "\n",
      "    accuracy                           0.72      3486\n",
      "   macro avg       0.57      0.57      0.57      3486\n",
      "weighted avg       0.72      0.72      0.72      3486\n",
      "\n"
     ]
    }
   ],
   "source": [
    "#1. Entrenamos el modelo usando class_wight \n",
    "modelo = entrenar_modelo_ponderado(X_train, X_test, y_train, y_test, weights = {0:0.8, 1:0.2})\n",
    "\n",
    "#2. Obtenemos las predicciones para el conjunto de evaluación \n",
    "y_pred = modelo.predict(X_test)\n",
    "\n",
    "#3. Informamos los resultados\n",
    "informar_resultados(y_test, y_pred)"
   ]
  },
  {
   "cell_type": "markdown",
   "metadata": {},
   "source": [
    "## 8. Undersampling en la clase mayoritaria\n",
    "\n",
    "Vamos a reducir la cantidad de muestras de la clase mayoritaria. Existen varias alternativas para realizar [under-sampling](https://imbalanced-learn.readthedocs.io/en/stable/under_sampling.html?highlight=under-sampling#), en este caso usaremos el método [NearMiss](https://imbalanced-learn.readthedocs.io/en/stable/generated/imblearn.under_sampling.NearMiss.html#imblearn.under_sampling.NearMiss)"
   ]
  },
  {
   "cell_type": "code",
   "execution_count": 10,
   "metadata": {},
   "outputs": [
    {
     "name": "stdout",
     "output_type": "stream",
     "text": [
      "\n",
      "Distribución antes de cambiar el muestreo:\n",
      "\tClase 0:  2899\n",
      "\tClase 1:  11044\n",
      "\n",
      "\n",
      "Distribución después de cambiar el muestreo:\n",
      "\tClase 0:  2899\n",
      "\tClase 1:  9663\n",
      "\n",
      "\n"
     ]
    },
    {
     "data": {
      "image/png": "[encoded data removed]",
      "text/plain": [
       "<Figure size 432x432 with 1 Axes>"
      ]
     },
     "metadata": {
      "needs_background": "light"
     },
     "output_type": "display_data"
    },
    {
     "name": "stdout",
     "output_type": "stream",
     "text": [
      "              precision    recall  f1-score   support\n",
      "\n",
      "           0       0.29      0.44      0.35       699\n",
      "           1       0.84      0.72      0.78      2787\n",
      "\n",
      "    accuracy                           0.67      3486\n",
      "   macro avg       0.56      0.58      0.56      3486\n",
      "weighted avg       0.73      0.67      0.69      3486\n",
      "\n"
     ]
    }
   ],
   "source": [
    "#1 Subsampling usando NearMiss\n",
    "under_sampling = NearMiss(sampling_strategy=0.3, n_neighbors=3, version=2)\n",
    "X_train_res, y_train_res = under_sampling.fit_sample(X_train, y_train)\n",
    " \n",
    "#2 Mostramos la distribución de los datos de entrenamiento antes y despúes del proceso\n",
    "mostrar_distribucion (y_train, y_train_res)\n",
    "\n",
    "#3. Entrenamos el modelo usando class_wight \n",
    "modelo = entrenar_modelo(X_train_res, X_test, y_train_res, y_test)\n",
    "\n",
    "#4. Obtenemos las predicciones para el conjunto de evaluación \n",
    "y_pred = modelo.predict(X_test)\n",
    "\n",
    "#5. Informamos los resultados\n",
    "informar_resultados(y_test, y_pred)"
   ]
  },
  {
   "cell_type": "markdown",
   "metadata": {},
   "source": [
    "## 9. Oversampling de la clase minoritaria\n",
    "\n",
    "Esta alternativa consiste en agregar muestras sintéticas a la clase minoritaria. Usaremos el método [RandomOverSampler](https://imbalanced-learn.readthedocs.io/en/stable/generated/imblearn.over_sampling.RandomOverSampler.html?highlight=randomoversampling)"
   ]
  },
  {
   "cell_type": "code",
   "execution_count": 11,
   "metadata": {},
   "outputs": [
    {
     "name": "stdout",
     "output_type": "stream",
     "text": [
      "\n",
      "Distribución antes de cambiar el muestreo:\n",
      "\tClase 0:  2899\n",
      "\tClase 1:  11044\n",
      "\n",
      "\n",
      "Distribución después de cambiar el muestreo:\n",
      "\tClase 0:  5522\n",
      "\tClase 1:  11044\n",
      "\n",
      "\n"
     ]
    },
    {
     "data": {
      "image/png": "[encoded data removed]",
      "text/plain": [
       "<Figure size 432x432 with 1 Axes>"
      ]
     },
     "metadata": {
      "needs_background": "light"
     },
     "output_type": "display_data"
    },
    {
     "name": "stdout",
     "output_type": "stream",
     "text": [
      "              precision    recall  f1-score   support\n",
      "\n",
      "           0       0.30      0.34      0.32       699\n",
      "           1       0.83      0.81      0.82      2787\n",
      "\n",
      "    accuracy                           0.71      3486\n",
      "   macro avg       0.57      0.57      0.57      3486\n",
      "weighted avg       0.72      0.71      0.72      3486\n",
      "\n"
     ]
    }
   ],
   "source": [
    "#1 Oversampling usando RandoOverSampler\n",
    "over_sampling =  RandomOverSampler(sampling_strategy=0.5)\n",
    "X_train_res, y_train_res = over_sampling.fit_sample(X_train, y_train)\n",
    " \n",
    "#2 Mostramos la distribución de los datos de entrenamiento antes y despúes del proceso\n",
    "mostrar_distribucion (y_train, y_train_res)\n",
    "\n",
    "#3. Entrenamos el modelo usando class_wight \n",
    "modelo = entrenar_modelo(X_train_res, X_test, y_train_res, y_test)\n",
    "\n",
    "#4. Obtenemos las predicciones para el conjunto de evaluación \n",
    "y_pred = modelo.predict(X_test)\n",
    "\n",
    "#5. Informamos los resultados\n",
    "informar_resultados(y_test, y_pred)"
   ]
  },
  {
   "cell_type": "markdown",
   "metadata": {},
   "source": [
    "## 10. Combinación de undersampling y oversampling: SMOTE-Tomek\n",
    "\n",
    "Usaremos el método [SMOTETomek](https://imbalanced-learn.readthedocs.io/en/stable/generated/imblearn.combine.SMOTETomek.html?highlight=smotetomek) para combinar **over-sampling** y **under-sampling**\n"
   ]
  },
  {
   "cell_type": "code",
   "execution_count": 12,
   "metadata": {},
   "outputs": [
    {
     "name": "stdout",
     "output_type": "stream",
     "text": [
      "\n",
      "Distribución antes de cambiar el muestreo:\n",
      "\tClase 0:  2899\n",
      "\tClase 1:  11044\n",
      "\n",
      "\n",
      "Distribución después de cambiar el muestreo:\n",
      "\tClase 1:  10118\n",
      "\tClase 0:  4596\n",
      "\n",
      "\n"
     ]
    },
    {
     "data": {
      "image/png": "[encoded data removed]",
      "text/plain": [
       "<Figure size 432x432 with 1 Axes>"
      ]
     },
     "metadata": {
      "needs_background": "light"
     },
     "output_type": "display_data"
    },
    {
     "name": "stdout",
     "output_type": "stream",
     "text": [
      "              precision    recall  f1-score   support\n",
      "\n",
      "           0       0.31      0.37      0.34       699\n",
      "           1       0.83      0.79      0.81      2787\n",
      "\n",
      "    accuracy                           0.71      3486\n",
      "   macro avg       0.57      0.58      0.58      3486\n",
      "weighted avg       0.73      0.71      0.72      3486\n",
      "\n"
     ]
    }
   ],
   "source": [
    "#1 Combinación de over y under sampling usando SMOTE-Tomek\n",
    "combinacion = SMOTETomek(sampling_strategy=0.5)\n",
    "X_train_res, y_train_res = combinacion.fit_sample(X_train, y_train)\n",
    " \n",
    "#2 Mostramos la distribución de los datos de entrenamiento antes y despúes del proceso\n",
    "mostrar_distribucion (y_train, y_train_res)\n",
    "\n",
    "#3. Entrenamos el modelo usando class_wight \n",
    "modelo = entrenar_modelo(X_train_res, X_test, y_train_res, y_test)\n",
    "\n",
    "#4. Obtenemos las predicciones para el conjunto de evaluación \n",
    "y_pred = modelo.predict(X_test)\n",
    "\n",
    "#5. Informamos los resultados\n",
    "informar_resultados(y_test, y_pred)"
   ]
  },
  {
   "cell_type": "markdown",
   "metadata": {
    "colab_type": "text",
    "id": "DNdz4uqapWWT"
   },
   "source": [
    "## 11. Comparación y conclusiones\n",
    "\n",
    "\n"
   ]
  },
  {
   "cell_type": "markdown",
   "metadata": {},
   "source": [
    "A partir de la comparación de las métricas obtenidas sobre el conjunto de evaluación se observa que la aplicación de estas estrategias no ha resultado en un beneficio significativo."
   ]
  }
 ],
 "metadata": {
  "colab": {
   "collapsed_sections": [],
   "name": "Practico_3y4_part_3.ipynb",
   "provenance": []
  },
  "kernelspec": {
   "display_name": "Python 3.7.6 64-bit ('diplodatos': conda)",
   "language": "python",
   "name": "python37664bitdiplodatoscondab950ef8857c54437935552465fc88aed"
  },
  "language_info": {
   "codemirror_mode": {
    "name": "ipython",
    "version": 3
   },
   "file_extension": ".py",
   "mimetype": "text/x-python",
   "name": "python",
   "nbconvert_exporter": "python",
   "pygments_lexer": "ipython3",
   "version": "3.7.6"
  }
 },
 "nbformat": 4,
 "nbformat_minor": 4
}
