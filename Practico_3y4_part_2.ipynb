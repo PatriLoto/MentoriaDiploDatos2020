{
 "cells": [
  {
   "cell_type": "markdown",
   "metadata": {},
   "source": [
    "# Practico 3 y 4 (parte 2)\n",
    "## Inclusion de librerias y módulos"
   ]
  },
  {
   "cell_type": "code",
   "execution_count": 1,
   "metadata": {},
   "outputs": [],
   "source": [
    "# Inclusion de librerias y módulos\n",
    "import os\n",
    "import numpy as np\n",
    "import matplotlib.pyplot as plt\n",
    "import pandas as pd\n",
    "import seaborn as sns\n",
    "from scipy import stats\n",
    "\n",
    "# Separación\n",
    "from sklearn.model_selection import train_test_split\n",
    "\n",
    "# Gradiente Descendente\n",
    "from sklearn.linear_model import SGDClassifier\n",
    "\n",
    "# Árbol de Decisión\n",
    "# from sklearn.tree import DecisionTreeClassifier, plot_tree\n",
    "\n",
    "# Validación Cruzada de HP en grilla.\n",
    "from sklearn.model_selection import GridSearchCV\n",
    "\n",
    "# Normalización\n",
    "from sklearn.preprocessing import StandardScaler\n",
    "\n",
    "# Utiles\n",
    "from utiles import basic_metrics\n",
    "from utiles import plot_cm\n",
    "from utiles import plot_roc_pr\n",
    "\n",
    "# Colores\n",
    "BLUE   = '#5DADE2'\n",
    "RED    = '#ff7043'\n",
    "ORANGE = '#F5B041'\n",
    "GREEN  = '#58D68D'\n",
    "YELLOW = '#F4D03F'\n",
    "\n",
    "# Plot axes y legends parambs\n",
    "plt.rcParams[\"axes.labelweight\"]   = \"bold\"\n",
    "plt.rcParams[\"axes.titleweight\"]   = \"bold\"\n",
    "plt.rcParams[\"legend.shadow\"]      = True\n",
    "plt.rcParams[\"figure.titleweight\"] = \"bold\""
   ]
  },
  {
   "cell_type": "markdown",
   "metadata": {},
   "source": [
    "## Carga, división y normalización de los datos\n",
    "\n",
    "1. El archivo `yup_curated_data.csv` se genera a partir del archivo `yup_messages_preprocessed.csv` y `datadump-20150801-20171219.csv` y se cura para se utilizado en el presente notebook.\n",
    "\n",
    "2. El conjunto de datos es dividido en el conjunto de datos de entrada o alimentacion y en la referencia o target al que debe apuntar el clasificador al momento de predecir.\n",
    "\n",
    "3. En la segunda instancia de separación se divide el conjunto de datos en conjunto de datos de entrenamiento y conjunto de datos de test, cada uno de ellos con su correspondiente referencia o target.\n",
    "\n",
    "4. Los conjuntos de datos, train y test, son normalizados para favofrecer el proceso de convergencia del modelo. Se remueve media y normaliza varianza a valor unitario. [StandardScaler](https://scikit-learn.org/stable/modules/generated/sklearn.preprocessing.StandardScaler.html)\n"
   ]
  },
  {
   "cell_type": "code",
   "execution_count": 2,
   "metadata": {},
   "outputs": [],
   "source": [
    "#1. Carga del conjunto de datos curados\n",
    "filename = 'yup_curated_data.csv'\n",
    "dataset = pd.read_csv(os.path.join('..', 'dataset', filename))\n",
    "\n",
    "#2. Dividimos entre entrada y referencia o target\n",
    "X, y = dataset.iloc[:, :-1], dataset.student_rating_cat\n",
    "\n",
    "#3. Division entre train y test\n",
    "X_train, X_test, y_train, y_test = train_test_split(X, y, test_size=0.2, random_state=0)\n",
    "\n",
    "#4. Normalizamos los datos para mejorar convergencia\n",
    "StdScaler = StandardScaler()\n",
    "StdScaler.fit(X_train)\n",
    "X_train = StdScaler.transform(X_train)\n",
    "X_test  = StdScaler.transform(X_test)"
   ]
  },
  {
   "cell_type": "markdown",
   "metadata": {},
   "source": [
    "## **Ejercicio 2.1: Clasificador Stochastic Gradient Descent**\n",
    "\n",
    "Se crea el objeto del modelo y se imprimen los parametros por defecto que posee el modelo."
   ]
  },
  {
   "cell_type": "code",
   "execution_count": 3,
   "metadata": {},
   "outputs": [
    {
     "name": "stdout",
     "output_type": "stream",
     "text": [
      "Parámetros utilizados: \n",
      " [['alpha' 0.0001]\n",
      " ['average' False]\n",
      " ['class_weight' None]\n",
      " ['early_stopping' False]\n",
      " ['epsilon' 0.1]\n",
      " ['eta0' 0.0]\n",
      " ['fit_intercept' True]\n",
      " ['l1_ratio' 0.15]\n",
      " ['learning_rate' 'optimal']\n",
      " ['loss' 'hinge']\n",
      " ['max_iter' 1000]\n",
      " ['n_iter_no_change' 5]\n",
      " ['n_jobs' None]\n",
      " ['penalty' 'l2']\n",
      " ['power_t' 0.5]\n",
      " ['random_state' 42]\n",
      " ['shuffle' True]\n",
      " ['tol' 0.001]\n",
      " ['validation_fraction' 0.1]\n",
      " ['verbose' 0]\n",
      " ['warm_start' False]]\n"
     ]
    }
   ],
   "source": [
    "SGD = SGDClassifier(random_state=42)\n",
    "\n",
    "print('Parámetros utilizados: \\n', np.array(list(SGD.get_params(deep=False).items())))"
   ]
  },
  {
   "cell_type": "markdown",
   "metadata": {},
   "source": [
    "### Entrenamiento\n",
    "\n",
    "El modelo es entrenado con los parametros que posee la implementación por defecto. El mencionado proceso consume el conjunto de datos de entrenamiento y su correspondiente referencia."
   ]
  },
  {
   "cell_type": "code",
   "execution_count": 4,
   "metadata": {},
   "outputs": [
    {
     "data": {
      "text/plain": [
       "SGDClassifier(random_state=42)"
      ]
     },
     "execution_count": 4,
     "metadata": {},
     "output_type": "execute_result"
    }
   ],
   "source": [
    "SGD.fit(X_train, y_train)"
   ]
  },
  {
   "cell_type": "markdown",
   "metadata": {},
   "source": [
    "### Predicción con el conjuto de datos de entrenamient y test\n",
    "\n",
    "Se lleva a cabo el proceso de prediccion tomando como entrada al modelo\n",
    "\n",
    "1. El conjunto de datos de entrenamiento\n",
    "2. El conjunto de datos de test"
   ]
  },
  {
   "cell_type": "code",
   "execution_count": 5,
   "metadata": {},
   "outputs": [],
   "source": [
    "#1. Predicción con el conjunto de datos de entrenamiento\n",
    "y_train_SGD = SGD.predict(X_train)\n",
    "y_train_SGDp = SGD.decision_function(X_train)\n",
    "\n",
    "#2. Predicción con el conjunto de datos de test\n",
    "y_test_SGD = SGD.predict(X_test)\n",
    "y_test_SGDp = SGD.decision_function(X_test)"
   ]
  },
  {
   "cell_type": "markdown",
   "metadata": {},
   "source": [
    "#### Se imprimen las métricas de desempeño\n",
    "\n",
    "* Accuracy\n",
    "* Precision\n",
    "* Recall\n",
    "* F1-score\n",
    "* Matriz de confusión"
   ]
  },
  {
   "cell_type": "code",
   "execution_count": 6,
   "metadata": {},
   "outputs": [
    {
     "name": "stdout",
     "output_type": "stream",
     "text": [
      "************************************************************\n",
      "Métricas Train:\n",
      "              precision    recall  f1-score   support\n",
      "\n",
      "           0      0.706     0.153     0.252      2899\n",
      "           1      0.816     0.983     0.892     11044\n",
      "\n",
      "    accuracy                          0.811     13943\n",
      "   macro avg      0.761     0.568     0.572     13943\n",
      "weighted avg      0.793     0.811     0.759     13943\n",
      "\n",
      "Confusion Matrix: \n",
      "[[  444  2455]\n",
      " [  185 10859]]\n",
      "------------------------------------------------------------\n",
      "Métricas Test:\n",
      "              precision    recall  f1-score   support\n",
      "\n",
      "           0      0.669     0.119     0.202       699\n",
      "           1      0.817     0.985     0.893      2787\n",
      "\n",
      "    accuracy                          0.812      3486\n",
      "   macro avg      0.743     0.552     0.547      3486\n",
      "weighted avg      0.787     0.812     0.755      3486\n",
      "\n",
      "Confusion Matrix: \n",
      "[[  83  616]\n",
      " [  41 2746]]\n",
      "------------------------------------------------------------\n"
     ]
    }
   ],
   "source": [
    "print('************************************************************')\n",
    "cm_train = basic_metrics(y_train, y_train_SGD, 'Train')\n",
    "print('------------------------------------------------------------')\n",
    "cm_test = basic_metrics(y_test, y_test_SGD, 'Test')\n",
    "print('------------------------------------------------------------')"
   ]
  },
  {
   "cell_type": "markdown",
   "metadata": {},
   "source": [
    "### Matrices de confusion para conjunto de entrenamiento y prueba"
   ]
  },
  {
   "cell_type": "code",
   "execution_count": 7,
   "metadata": {},
   "outputs": [
    {
     "data": {
      "image/png": "[encoded data removed]",
      "text/plain": [
       "<Figure size 720x432 with 1 Axes>"
      ]
     },
     "metadata": {
      "needs_background": "light"
     },
     "output_type": "display_data"
    },
    {
     "data": {
      "image/png": "[encoded data removed]",
      "text/plain": [
       "<Figure size 720x432 with 1 Axes>"
      ]
     },
     "metadata": {
      "needs_background": "light"
     },
     "output_type": "display_data"
    }
   ],
   "source": [
    "# Train Matriz de confusion\n",
    "plot_cm(cm_train, figsize=(10,6), title='Train', cmap='Blues');\n",
    "\n",
    "# Test Matriz de confusion\n",
    "plot_cm(cm_test, figsize=(10,6), title='Test', cmap='Blues');"
   ]
  },
  {
   "cell_type": "markdown",
   "metadata": {},
   "source": [
    "### Curvas ROC y Precission vs. Recall para conjuto de entrenamiento y prueba\n",
    "\n",
    "Una herramienta de análisis complementaria, global e independiente es la [curva ROC](https://es.wikipedia.org/wiki/Curva_ROC), del Inglés Receiver Operating Characteristic, que permite comparar desempeño de diferentes modelos respecto al ideal y al peor caso de operación. Es necesario destacar que también es posible utilizar las curvas ROC para comparar desemeño entre diferentes modelos. En particular, se emplea el área bajo la curva (AUC) ROC como la medida cuantificada de desempeño. Algunas convensione asumen lo siguiente\n",
    "\n",
    "|Rango del AUC| Desempeño cuantificado|\n",
    "|---|---|\n",
    "| \\[0.5\\] | Aleatorio [1]|\n",
    "| \\[0.5, 0.6 ) | Malo |\n",
    "| \\[0.6, 0.75) | Regular|\n",
    "| \\[0.75, 0.9) | Bueno|\n",
    "| \\[0.9, 0.97) | Muy bueno|\n",
    "| \\[0.97, 1) | Excelente|\n",
    "\n",
    "[1]: Es como lanzar una moneda.\n",
    "\n",
    "La curva de [precision vs. recall](https://scikit-learn.org/stable/auto_examples/model_selection/plot_precision_recall.html#sphx-glr-auto-examples-model-selection-plot-precision-recall-py) is una medida util del éxito en la predicción cuando las clases no son balanceadas. Esta curva muestra la relación de compromiso entre ámbas métricas para diferentes umbrales. Mientras mayor sea el área debajo de la curva, esto indica mayor precision y recall en donde la primera se relaciona inversamente proporcional a la tasa de falsos positivos mientras que la segunda lo hace tambien en forma inversamente proporcional con la tasa de falsos negativos.\n",
    "\n",
    "#### Analisis\n",
    "\n",
    "De acuerdo a lo mencionado, a partir de la curva de ROC podemos concluir que el desempeño de nuestro modelo es **Regular** y que incurre en falsos positivos como se observa en la disminucion de la precision.\n"
   ]
  },
  {
   "cell_type": "code",
   "execution_count": 8,
   "metadata": {},
   "outputs": [
    {
     "data": {
      "image/png": "[encoded data removed]",
      "text/plain": [
       "<Figure size 1008x432 with 2 Axes>"
      ]
     },
     "metadata": {
      "needs_background": "light"
     },
     "output_type": "display_data"
    }
   ],
   "source": [
    "# plot_roc_pr(y_train, y_train_SGD, y_train_SGDp, Title='Train', x_text=0.4, y_text=0.2, size_text=12, size=(14,6), ms=15, colorR=RED, colorP=BLUE, label=None);\n",
    "plot_roc_pr(y_test , y_test_SGD , y_test_SGDp , Title='Test' , x_text=0.4, y_text=0.2, size_text=12, size=(14,6), ms=15, colorR=RED, colorP=BLUE, label=None);"
   ]
  },
  {
   "cell_type": "markdown",
   "metadata": {},
   "source": [
    "## **Ejercicio 2.2: Ajuste de Hiperparámetros**\n",
    "\n",
    "Fijamos el aprámetro `penalty` en *elasticnet* con el objetivo de barrer el parámetro `l1_ratio` en el rango 0 a 1 lo que nos permite evaluar `penalty` desde *L2* a *L1* pasando por los valores intermedios."
   ]
  },
  {
   "cell_type": "code",
   "execution_count": 9,
   "metadata": {},
   "outputs": [],
   "source": [
    "SGD = SGDClassifier(penalty='elasticnet', random_state=42)"
   ]
  },
  {
   "cell_type": "markdown",
   "metadata": {},
   "source": [
    "#### Opciones de parámetros"
   ]
  },
  {
   "cell_type": "code",
   "execution_count": 10,
   "metadata": {},
   "outputs": [],
   "source": [
    "param_grid_GD2 = [\n",
    "  {'learning_rate': ['constant', 'adaptive'],\n",
    "          'loss': ['hinge', 'log', 'modified_huber', 'squared_hinge'],\n",
    "          'l1_ratio': list(np.linspace(0, 1, 11))+[0.15], #Para que exista el Default\n",
    "          'alpha': np.logspace(-5, 0, 6),\n",
    "          'eta0': np.logspace(-5, 0, 6)\n",
    "          },\n",
    "  {'learning_rate': ['optimal'],\n",
    "          'loss': ['hinge', 'log', 'modified_huber', 'squared_hinge'],\n",
    "          'l1_ratio': list(np.linspace(0, 1, 11))+[0.15], #Para que exista el Default\n",
    "          'alpha': np.logspace(-5, 0, 6),\n",
    "          'eta0': [0] #No utilizado al ser Optimal\n",
    "          }\n",
    "]"
   ]
  },
  {
   "cell_type": "markdown",
   "metadata": {},
   "source": [
    "#### Utilizamos grid-search con 5-fold cross-validation\n",
    "\n",
    "Se van a ralizar 5 pliegues de datos para validación cruzada y se van reportar las siguientes métricas de desempeño:\n",
    "\n",
    "* *accuracy*\n",
    "* *precision_weighted*\n",
    "* *recall_weighted*\n",
    "* *f1_weighted*\n",
    "\n",
    "y se instruye a `GridSearchCV` para que utilice todos los nucleos disponibles en el procesador empleado."
   ]
  },
  {
   "cell_type": "code",
   "execution_count": 11,
   "metadata": {},
   "outputs": [
    {
     "name": "stdout",
     "output_type": "stream",
     "text": [
      "Fitting 5 folds for each of 3744 candidates, totalling 18720 fits\n"
     ]
    },
    {
     "name": "stderr",
     "output_type": "stream",
     "text": [
      "[Parallel(n_jobs=-1)]: Using backend LokyBackend with 4 concurrent workers.\n",
      "[Parallel(n_jobs=-1)]: Done  17 tasks      | elapsed:    2.6s\n",
      "[Parallel(n_jobs=-1)]: Done  90 tasks      | elapsed:    6.7s\n",
      "[Parallel(n_jobs=-1)]: Done 213 tasks      | elapsed:   11.7s\n",
      "[Parallel(n_jobs=-1)]: Done 384 tasks      | elapsed:   18.6s\n",
      "[Parallel(n_jobs=-1)]: Done 710 tasks      | elapsed:   28.2s\n",
      "[Parallel(n_jobs=-1)]: Done 1248 tasks      | elapsed:   42.1s\n",
      "[Parallel(n_jobs=-1)]: Done 1886 tasks      | elapsed:  1.0min\n",
      "[Parallel(n_jobs=-1)]: Done 2620 tasks      | elapsed:  1.8min\n",
      "[Parallel(n_jobs=-1)]: Done 3238 tasks      | elapsed:  2.5min\n",
      "[Parallel(n_jobs=-1)]: Done 4168 tasks      | elapsed:  3.1min\n",
      "[Parallel(n_jobs=-1)]: Done 4785 tasks      | elapsed:  3.8min\n",
      "[Parallel(n_jobs=-1)]: Done 5348 tasks      | elapsed:  4.6min\n",
      "[Parallel(n_jobs=-1)]: Done 5961 tasks      | elapsed:  5.4min\n",
      "[Parallel(n_jobs=-1)]: Done 6936 tasks      | elapsed:  6.1min\n",
      "[Parallel(n_jobs=-1)]: Done 8089 tasks      | elapsed:  7.3min\n",
      "[Parallel(n_jobs=-1)]: Done 8848 tasks      | elapsed:  8.4min\n",
      "[Parallel(n_jobs=-1)]: Done 10166 tasks      | elapsed:  9.5min\n",
      "[Parallel(n_jobs=-1)]: Done 11880 tasks      | elapsed: 11.2min\n",
      "[Parallel(n_jobs=-1)]: Done 13694 tasks      | elapsed: 12.7min\n",
      "[Parallel(n_jobs=-1)]: Done 15604 tasks      | elapsed: 14.3min\n",
      "[Parallel(n_jobs=-1)]: Done 17614 tasks      | elapsed: 16.3min\n",
      "[Parallel(n_jobs=-1)]: Done 18720 out of 18720 | elapsed: 19.0min finished\n"
     ]
    }
   ],
   "source": [
    "GSCV = GridSearchCV(SGD, param_grid_GD2, cv=5, scoring=['accuracy', 'precision_weighted', 'recall_weighted', 'f1_weighted'], refit=False, n_jobs=-1, verbose=4)\n",
    "GSCV.fit(X_train, y_train);"
   ]
  },
  {
   "cell_type": "markdown",
   "metadata": {},
   "source": [
    "Los resultados son formateados en un dataframe de pandas para poder encontrar las opciones más convenientes."
   ]
  },
  {
   "cell_type": "code",
   "execution_count": 12,
   "metadata": {},
   "outputs": [
    {
     "data": {
      "text/plain": [
       "Index(['mean_fit_time', 'std_fit_time', 'mean_score_time', 'std_score_time',\n",
       "       'param_alpha', 'param_eta0', 'param_l1_ratio', 'param_learning_rate',\n",
       "       'param_loss', 'params', 'split0_test_accuracy', 'split1_test_accuracy',\n",
       "       'split2_test_accuracy', 'split3_test_accuracy', 'split4_test_accuracy',\n",
       "       'mean_test_accuracy', 'std_test_accuracy', 'rank_test_accuracy',\n",
       "       'split0_test_precision_weighted', 'split1_test_precision_weighted',\n",
       "       'split2_test_precision_weighted', 'split3_test_precision_weighted',\n",
       "       'split4_test_precision_weighted', 'mean_test_precision_weighted',\n",
       "       'std_test_precision_weighted', 'rank_test_precision_weighted',\n",
       "       'split0_test_recall_weighted', 'split1_test_recall_weighted',\n",
       "       'split2_test_recall_weighted', 'split3_test_recall_weighted',\n",
       "       'split4_test_recall_weighted', 'mean_test_recall_weighted',\n",
       "       'std_test_recall_weighted', 'rank_test_recall_weighted',\n",
       "       'split0_test_f1_weighted', 'split1_test_f1_weighted',\n",
       "       'split2_test_f1_weighted', 'split3_test_f1_weighted',\n",
       "       'split4_test_f1_weighted', 'mean_test_f1_weighted',\n",
       "       'std_test_f1_weighted', 'rank_test_f1_weighted'],\n",
       "      dtype='object')"
      ]
     },
     "execution_count": 12,
     "metadata": {},
     "output_type": "execute_result"
    }
   ],
   "source": [
    "# Pasamos a DF los Resultados\n",
    "Res_GSCV = pd.DataFrame(GSCV.cv_results_)\n",
    "\n",
    "# Salvamos los resultados para analizarlos fuera del notebook\n",
    "# Res_GSCV.to_csv('./results_to_analyze.csv')\n",
    "\n",
    "# Imprimimos las columnas para tener una guia de los datos diponibles.\n",
    "Res_GSCV.columns"
   ]
  },
  {
   "cell_type": "code",
   "execution_count": 13,
   "metadata": {},
   "outputs": [
    {
     "data": {
      "text/html": [
       "<div>\n",
       "<style scoped>\n",
       "    .dataframe tbody tr th:only-of-type {\n",
       "        vertical-align: middle;\n",
       "    }\n",
       "\n",
       "    .dataframe tbody tr th {\n",
       "        vertical-align: top;\n",
       "    }\n",
       "\n",
       "    .dataframe thead th {\n",
       "        text-align: right;\n",
       "    }\n",
       "</style>\n",
       "<table border=\"1\" class=\"dataframe\">\n",
       "  <thead>\n",
       "    <tr style=\"text-align: right;\">\n",
       "      <th></th>\n",
       "      <th>mean_fit_time</th>\n",
       "      <th>std_fit_time</th>\n",
       "      <th>mean_score_time</th>\n",
       "      <th>std_score_time</th>\n",
       "      <th>param_alpha</th>\n",
       "      <th>param_eta0</th>\n",
       "      <th>param_l1_ratio</th>\n",
       "      <th>param_learning_rate</th>\n",
       "      <th>param_loss</th>\n",
       "      <th>params</th>\n",
       "      <th>...</th>\n",
       "      <th>std_test_recall_weighted</th>\n",
       "      <th>rank_test_recall_weighted</th>\n",
       "      <th>split0_test_f1_weighted</th>\n",
       "      <th>split1_test_f1_weighted</th>\n",
       "      <th>split2_test_f1_weighted</th>\n",
       "      <th>split3_test_f1_weighted</th>\n",
       "      <th>split4_test_f1_weighted</th>\n",
       "      <th>mean_test_f1_weighted</th>\n",
       "      <th>std_test_f1_weighted</th>\n",
       "      <th>rank_test_f1_weighted</th>\n",
       "    </tr>\n",
       "  </thead>\n",
       "  <tbody>\n",
       "    <tr>\n",
       "      <th>0</th>\n",
       "      <td>0.198520</td>\n",
       "      <td>0.011682</td>\n",
       "      <td>0.016736</td>\n",
       "      <td>0.004490</td>\n",
       "      <td>1e-05</td>\n",
       "      <td>1e-05</td>\n",
       "      <td>0</td>\n",
       "      <td>constant</td>\n",
       "      <td>hinge</td>\n",
       "      <td>{'alpha': 1e-05, 'eta0': 1e-05, 'l1_ratio': 0....</td>\n",
       "      <td>...</td>\n",
       "      <td>0.002291</td>\n",
       "      <td>1501</td>\n",
       "      <td>0.744311</td>\n",
       "      <td>0.749892</td>\n",
       "      <td>0.753939</td>\n",
       "      <td>0.744939</td>\n",
       "      <td>0.757062</td>\n",
       "      <td>0.750029</td>\n",
       "      <td>0.004967</td>\n",
       "      <td>1728</td>\n",
       "    </tr>\n",
       "    <tr>\n",
       "      <th>1</th>\n",
       "      <td>0.351748</td>\n",
       "      <td>0.008676</td>\n",
       "      <td>0.011326</td>\n",
       "      <td>0.003329</td>\n",
       "      <td>1e-05</td>\n",
       "      <td>1e-05</td>\n",
       "      <td>0</td>\n",
       "      <td>constant</td>\n",
       "      <td>log</td>\n",
       "      <td>{'alpha': 1e-05, 'eta0': 1e-05, 'l1_ratio': 0....</td>\n",
       "      <td>...</td>\n",
       "      <td>0.004075</td>\n",
       "      <td>31</td>\n",
       "      <td>0.755878</td>\n",
       "      <td>0.757872</td>\n",
       "      <td>0.768967</td>\n",
       "      <td>0.760270</td>\n",
       "      <td>0.771888</td>\n",
       "      <td>0.762975</td>\n",
       "      <td>0.006310</td>\n",
       "      <td>12</td>\n",
       "    </tr>\n",
       "    <tr>\n",
       "      <th>2</th>\n",
       "      <td>0.110239</td>\n",
       "      <td>0.031757</td>\n",
       "      <td>0.012520</td>\n",
       "      <td>0.003457</td>\n",
       "      <td>1e-05</td>\n",
       "      <td>1e-05</td>\n",
       "      <td>0</td>\n",
       "      <td>constant</td>\n",
       "      <td>modified_huber</td>\n",
       "      <td>{'alpha': 1e-05, 'eta0': 1e-05, 'l1_ratio': 0....</td>\n",
       "      <td>...</td>\n",
       "      <td>0.003659</td>\n",
       "      <td>1114</td>\n",
       "      <td>0.749383</td>\n",
       "      <td>0.752591</td>\n",
       "      <td>0.760827</td>\n",
       "      <td>0.753869</td>\n",
       "      <td>0.765310</td>\n",
       "      <td>0.756396</td>\n",
       "      <td>0.005816</td>\n",
       "      <td>788</td>\n",
       "    </tr>\n",
       "    <tr>\n",
       "      <th>3</th>\n",
       "      <td>0.077449</td>\n",
       "      <td>0.003474</td>\n",
       "      <td>0.010016</td>\n",
       "      <td>0.000564</td>\n",
       "      <td>1e-05</td>\n",
       "      <td>1e-05</td>\n",
       "      <td>0</td>\n",
       "      <td>constant</td>\n",
       "      <td>squared_hinge</td>\n",
       "      <td>{'alpha': 1e-05, 'eta0': 1e-05, 'l1_ratio': 0....</td>\n",
       "      <td>...</td>\n",
       "      <td>0.003523</td>\n",
       "      <td>956</td>\n",
       "      <td>0.749629</td>\n",
       "      <td>0.753273</td>\n",
       "      <td>0.760827</td>\n",
       "      <td>0.753869</td>\n",
       "      <td>0.764918</td>\n",
       "      <td>0.756503</td>\n",
       "      <td>0.005552</td>\n",
       "      <td>660</td>\n",
       "    </tr>\n",
       "    <tr>\n",
       "      <th>4</th>\n",
       "      <td>0.176032</td>\n",
       "      <td>0.031920</td>\n",
       "      <td>0.020053</td>\n",
       "      <td>0.009550</td>\n",
       "      <td>1e-05</td>\n",
       "      <td>1e-05</td>\n",
       "      <td>0</td>\n",
       "      <td>adaptive</td>\n",
       "      <td>hinge</td>\n",
       "      <td>{'alpha': 1e-05, 'eta0': 1e-05, 'l1_ratio': 0....</td>\n",
       "      <td>...</td>\n",
       "      <td>0.002224</td>\n",
       "      <td>1645</td>\n",
       "      <td>0.744311</td>\n",
       "      <td>0.749892</td>\n",
       "      <td>0.753939</td>\n",
       "      <td>0.744939</td>\n",
       "      <td>0.757230</td>\n",
       "      <td>0.750062</td>\n",
       "      <td>0.005015</td>\n",
       "      <td>1710</td>\n",
       "    </tr>\n",
       "    <tr>\n",
       "      <th>...</th>\n",
       "      <td>...</td>\n",
       "      <td>...</td>\n",
       "      <td>...</td>\n",
       "      <td>...</td>\n",
       "      <td>...</td>\n",
       "      <td>...</td>\n",
       "      <td>...</td>\n",
       "      <td>...</td>\n",
       "      <td>...</td>\n",
       "      <td>...</td>\n",
       "      <td>...</td>\n",
       "      <td>...</td>\n",
       "      <td>...</td>\n",
       "      <td>...</td>\n",
       "      <td>...</td>\n",
       "      <td>...</td>\n",
       "      <td>...</td>\n",
       "      <td>...</td>\n",
       "      <td>...</td>\n",
       "      <td>...</td>\n",
       "      <td>...</td>\n",
       "    </tr>\n",
       "    <tr>\n",
       "      <th>3739</th>\n",
       "      <td>1.112755</td>\n",
       "      <td>1.337203</td>\n",
       "      <td>0.009735</td>\n",
       "      <td>0.001339</td>\n",
       "      <td>1</td>\n",
       "      <td>0</td>\n",
       "      <td>1</td>\n",
       "      <td>optimal</td>\n",
       "      <td>squared_hinge</td>\n",
       "      <td>{'alpha': 1.0, 'eta0': 0, 'l1_ratio': 1.0, 'le...</td>\n",
       "      <td>...</td>\n",
       "      <td>0.033868</td>\n",
       "      <td>3285</td>\n",
       "      <td>0.705710</td>\n",
       "      <td>0.700127</td>\n",
       "      <td>0.700127</td>\n",
       "      <td>0.700024</td>\n",
       "      <td>0.700518</td>\n",
       "      <td>0.701301</td>\n",
       "      <td>0.002211</td>\n",
       "      <td>2988</td>\n",
       "    </tr>\n",
       "    <tr>\n",
       "      <th>3740</th>\n",
       "      <td>0.040021</td>\n",
       "      <td>0.002647</td>\n",
       "      <td>0.016159</td>\n",
       "      <td>0.008779</td>\n",
       "      <td>1</td>\n",
       "      <td>0</td>\n",
       "      <td>0.15</td>\n",
       "      <td>optimal</td>\n",
       "      <td>hinge</td>\n",
       "      <td>{'alpha': 1.0, 'eta0': 0, 'l1_ratio': 0.15, 'l...</td>\n",
       "      <td>...</td>\n",
       "      <td>0.000124</td>\n",
       "      <td>2626</td>\n",
       "      <td>0.700127</td>\n",
       "      <td>0.700127</td>\n",
       "      <td>0.700127</td>\n",
       "      <td>0.700024</td>\n",
       "      <td>0.700518</td>\n",
       "      <td>0.700184</td>\n",
       "      <td>0.000171</td>\n",
       "      <td>3009</td>\n",
       "    </tr>\n",
       "    <tr>\n",
       "      <th>3741</th>\n",
       "      <td>0.055200</td>\n",
       "      <td>0.004449</td>\n",
       "      <td>0.012850</td>\n",
       "      <td>0.004327</td>\n",
       "      <td>1</td>\n",
       "      <td>0</td>\n",
       "      <td>0.15</td>\n",
       "      <td>optimal</td>\n",
       "      <td>log</td>\n",
       "      <td>{'alpha': 1.0, 'eta0': 0, 'l1_ratio': 0.15, 'l...</td>\n",
       "      <td>...</td>\n",
       "      <td>0.000124</td>\n",
       "      <td>2626</td>\n",
       "      <td>0.700127</td>\n",
       "      <td>0.700127</td>\n",
       "      <td>0.700127</td>\n",
       "      <td>0.700024</td>\n",
       "      <td>0.700518</td>\n",
       "      <td>0.700184</td>\n",
       "      <td>0.000171</td>\n",
       "      <td>3009</td>\n",
       "    </tr>\n",
       "    <tr>\n",
       "      <th>3742</th>\n",
       "      <td>0.056064</td>\n",
       "      <td>0.010282</td>\n",
       "      <td>0.011500</td>\n",
       "      <td>0.001470</td>\n",
       "      <td>1</td>\n",
       "      <td>0</td>\n",
       "      <td>0.15</td>\n",
       "      <td>optimal</td>\n",
       "      <td>modified_huber</td>\n",
       "      <td>{'alpha': 1.0, 'eta0': 0, 'l1_ratio': 0.15, 'l...</td>\n",
       "      <td>...</td>\n",
       "      <td>0.001051</td>\n",
       "      <td>2598</td>\n",
       "      <td>0.706908</td>\n",
       "      <td>0.700983</td>\n",
       "      <td>0.702687</td>\n",
       "      <td>0.700024</td>\n",
       "      <td>0.700518</td>\n",
       "      <td>0.702224</td>\n",
       "      <td>0.002508</td>\n",
       "      <td>2971</td>\n",
       "    </tr>\n",
       "    <tr>\n",
       "      <th>3743</th>\n",
       "      <td>0.226988</td>\n",
       "      <td>0.242408</td>\n",
       "      <td>0.010634</td>\n",
       "      <td>0.002513</td>\n",
       "      <td>1</td>\n",
       "      <td>0</td>\n",
       "      <td>0.15</td>\n",
       "      <td>optimal</td>\n",
       "      <td>squared_hinge</td>\n",
       "      <td>{'alpha': 1.0, 'eta0': 0, 'l1_ratio': 0.15, 'l...</td>\n",
       "      <td>...</td>\n",
       "      <td>0.000374</td>\n",
       "      <td>2611</td>\n",
       "      <td>0.700983</td>\n",
       "      <td>0.700983</td>\n",
       "      <td>0.702687</td>\n",
       "      <td>0.700024</td>\n",
       "      <td>0.700518</td>\n",
       "      <td>0.701039</td>\n",
       "      <td>0.000897</td>\n",
       "      <td>2993</td>\n",
       "    </tr>\n",
       "  </tbody>\n",
       "</table>\n",
       "<p>3744 rows × 42 columns</p>\n",
       "</div>"
      ],
      "text/plain": [
       "      mean_fit_time  std_fit_time  mean_score_time  std_score_time  \\\n",
       "0          0.198520      0.011682         0.016736        0.004490   \n",
       "1          0.351748      0.008676         0.011326        0.003329   \n",
       "2          0.110239      0.031757         0.012520        0.003457   \n",
       "3          0.077449      0.003474         0.010016        0.000564   \n",
       "4          0.176032      0.031920         0.020053        0.009550   \n",
       "...             ...           ...              ...             ...   \n",
       "3739       1.112755      1.337203         0.009735        0.001339   \n",
       "3740       0.040021      0.002647         0.016159        0.008779   \n",
       "3741       0.055200      0.004449         0.012850        0.004327   \n",
       "3742       0.056064      0.010282         0.011500        0.001470   \n",
       "3743       0.226988      0.242408         0.010634        0.002513   \n",
       "\n",
       "     param_alpha param_eta0 param_l1_ratio param_learning_rate  \\\n",
       "0          1e-05      1e-05              0            constant   \n",
       "1          1e-05      1e-05              0            constant   \n",
       "2          1e-05      1e-05              0            constant   \n",
       "3          1e-05      1e-05              0            constant   \n",
       "4          1e-05      1e-05              0            adaptive   \n",
       "...          ...        ...            ...                 ...   \n",
       "3739           1          0              1             optimal   \n",
       "3740           1          0           0.15             optimal   \n",
       "3741           1          0           0.15             optimal   \n",
       "3742           1          0           0.15             optimal   \n",
       "3743           1          0           0.15             optimal   \n",
       "\n",
       "          param_loss                                             params  ...  \\\n",
       "0              hinge  {'alpha': 1e-05, 'eta0': 1e-05, 'l1_ratio': 0....  ...   \n",
       "1                log  {'alpha': 1e-05, 'eta0': 1e-05, 'l1_ratio': 0....  ...   \n",
       "2     modified_huber  {'alpha': 1e-05, 'eta0': 1e-05, 'l1_ratio': 0....  ...   \n",
       "3      squared_hinge  {'alpha': 1e-05, 'eta0': 1e-05, 'l1_ratio': 0....  ...   \n",
       "4              hinge  {'alpha': 1e-05, 'eta0': 1e-05, 'l1_ratio': 0....  ...   \n",
       "...              ...                                                ...  ...   \n",
       "3739   squared_hinge  {'alpha': 1.0, 'eta0': 0, 'l1_ratio': 1.0, 'le...  ...   \n",
       "3740           hinge  {'alpha': 1.0, 'eta0': 0, 'l1_ratio': 0.15, 'l...  ...   \n",
       "3741             log  {'alpha': 1.0, 'eta0': 0, 'l1_ratio': 0.15, 'l...  ...   \n",
       "3742  modified_huber  {'alpha': 1.0, 'eta0': 0, 'l1_ratio': 0.15, 'l...  ...   \n",
       "3743   squared_hinge  {'alpha': 1.0, 'eta0': 0, 'l1_ratio': 0.15, 'l...  ...   \n",
       "\n",
       "      std_test_recall_weighted  rank_test_recall_weighted  \\\n",
       "0                     0.002291                       1501   \n",
       "1                     0.004075                         31   \n",
       "2                     0.003659                       1114   \n",
       "3                     0.003523                        956   \n",
       "4                     0.002224                       1645   \n",
       "...                        ...                        ...   \n",
       "3739                  0.033868                       3285   \n",
       "3740                  0.000124                       2626   \n",
       "3741                  0.000124                       2626   \n",
       "3742                  0.001051                       2598   \n",
       "3743                  0.000374                       2611   \n",
       "\n",
       "      split0_test_f1_weighted  split1_test_f1_weighted  \\\n",
       "0                    0.744311                 0.749892   \n",
       "1                    0.755878                 0.757872   \n",
       "2                    0.749383                 0.752591   \n",
       "3                    0.749629                 0.753273   \n",
       "4                    0.744311                 0.749892   \n",
       "...                       ...                      ...   \n",
       "3739                 0.705710                 0.700127   \n",
       "3740                 0.700127                 0.700127   \n",
       "3741                 0.700127                 0.700127   \n",
       "3742                 0.706908                 0.700983   \n",
       "3743                 0.700983                 0.700983   \n",
       "\n",
       "      split2_test_f1_weighted  split3_test_f1_weighted  \\\n",
       "0                    0.753939                 0.744939   \n",
       "1                    0.768967                 0.760270   \n",
       "2                    0.760827                 0.753869   \n",
       "3                    0.760827                 0.753869   \n",
       "4                    0.753939                 0.744939   \n",
       "...                       ...                      ...   \n",
       "3739                 0.700127                 0.700024   \n",
       "3740                 0.700127                 0.700024   \n",
       "3741                 0.700127                 0.700024   \n",
       "3742                 0.702687                 0.700024   \n",
       "3743                 0.702687                 0.700024   \n",
       "\n",
       "      split4_test_f1_weighted  mean_test_f1_weighted  std_test_f1_weighted  \\\n",
       "0                    0.757062               0.750029              0.004967   \n",
       "1                    0.771888               0.762975              0.006310   \n",
       "2                    0.765310               0.756396              0.005816   \n",
       "3                    0.764918               0.756503              0.005552   \n",
       "4                    0.757230               0.750062              0.005015   \n",
       "...                       ...                    ...                   ...   \n",
       "3739                 0.700518               0.701301              0.002211   \n",
       "3740                 0.700518               0.700184              0.000171   \n",
       "3741                 0.700518               0.700184              0.000171   \n",
       "3742                 0.700518               0.702224              0.002508   \n",
       "3743                 0.700518               0.701039              0.000897   \n",
       "\n",
       "      rank_test_f1_weighted  \n",
       "0                      1728  \n",
       "1                        12  \n",
       "2                       788  \n",
       "3                       660  \n",
       "4                      1710  \n",
       "...                     ...  \n",
       "3739                   2988  \n",
       "3740                   3009  \n",
       "3741                   3009  \n",
       "3742                   2971  \n",
       "3743                   2993  \n",
       "\n",
       "[3744 rows x 42 columns]"
      ]
     },
     "execution_count": 13,
     "metadata": {},
     "output_type": "execute_result"
    }
   ],
   "source": [
    "Res_GSCV"
   ]
  },
  {
   "cell_type": "markdown",
   "metadata": {},
   "source": [
    "### Tomamos los parámetros de los modelos para la mejor de cada métrica\n",
    "\n",
    "A los fines del análisis tomamos los parámetros de los modelos que mejor desempeño presentan para cada una de las métricas. Luego entrenamos un modelo para cada juego de parámetros a los fines de obtener mayor de talle de su desempeño. Finalemente seleccionaremos el model de mejor `F1-score` dado que no tenemos ninguna otra restricción definida y dicha métrica represnta un mayor compromiso de precision y recall.\n"
   ]
  },
  {
   "cell_type": "code",
   "execution_count": 14,
   "metadata": {},
   "outputs": [
    {
     "name": "stdout",
     "output_type": "stream",
     "text": [
      "Parametros para las mejores metricas:\n",
      "Accu: 0.81, params: {'alpha': 1e-05, 'eta0': 1e-05, 'l1_ratio': 0.8, 'learning_rate': 'constant', 'loss': 'log'}\n",
      "Prec: 0.81, params: {'alpha': 1.0, 'eta0': 1.0, 'l1_ratio': 0.15, 'learning_rate': 'adaptive', 'loss': 'modified_huber'}\n",
      "Reca: 0.81, params: {'alpha': 1e-05, 'eta0': 1e-05, 'l1_ratio': 0.8, 'learning_rate': 'constant', 'loss': 'log'}\n",
      "F1  : 0.76, params: {'alpha': 1e-05, 'eta0': 0, 'l1_ratio': 0.0, 'learning_rate': 'optimal', 'loss': 'log'}\n",
      "\n"
     ]
    }
   ],
   "source": [
    "best_accuracy = Res_GSCV.loc[Res_GSCV.rank_test_accuracy.idxmin()]\n",
    "best_precision = Res_GSCV.loc[Res_GSCV.rank_test_precision_weighted.idxmin()]\n",
    "best_recall = Res_GSCV.loc[Res_GSCV.rank_test_recall_weighted.idxmin()]\n",
    "best_f1 = Res_GSCV.loc[Res_GSCV.rank_test_f1_weighted.idxmin()]\n",
    "\n",
    "print('Parametros para las mejores metricas:\\n'\n",
    "      f'Accu: {best_accuracy.mean_test_accuracy:.2f}, params: {best_accuracy.params}\\n'\n",
    "      f'Prec: {best_precision.mean_test_precision_weighted:.2f}, params: {best_precision.params}\\n'\n",
    "      f'Reca: {best_recall.mean_test_recall_weighted:.2f}, params: {best_recall.params}\\n'\n",
    "     f'F1  : {best_f1.mean_test_f1_weighted:.2f}, params: {best_f1.params}\\n'\n",
    "     )"
   ]
  },
  {
   "cell_type": "markdown",
   "metadata": {},
   "source": [
    "### Entrenamos un modelo con la mejor configuración para cada métrica"
   ]
  },
  {
   "cell_type": "code",
   "execution_count": 15,
   "metadata": {},
   "outputs": [],
   "source": [
    "SGD_accu = SGDClassifier(**best_accuracy.params, penalty='elasticnet', random_state=42)\n",
    "SGD_prec = SGDClassifier(**best_precision.params, penalty='elasticnet', random_state=42)\n",
    "SGD_reca = SGDClassifier(**best_recall.params, penalty='elasticnet', random_state=42)\n",
    "SGD_f1  = SGDClassifier(**best_f1.params, penalty='elasticnet', random_state=42)\n",
    "\n",
    "SGD_accu.fit(X_train, y_train);\n",
    "SGD_prec.fit(X_train, y_train);\n",
    "SGD_reca.fit(X_train, y_train);\n",
    "SGD_f1.fit(X_train, y_train);"
   ]
  },
  {
   "cell_type": "markdown",
   "metadata": {},
   "source": [
    "#### Corremos los modelos con el conjunto de entrenamiento y prueba"
   ]
  },
  {
   "cell_type": "code",
   "execution_count": 16,
   "metadata": {},
   "outputs": [],
   "source": [
    "y_pred_accu_train = SGD_accu.predict(X_train)\n",
    "y_pred_accu_test  =  SGD_accu.predict(X_test)\n",
    "\n",
    "y_pred_prec_train = SGD_prec.predict(X_train)\n",
    "y_pred_prec_test  = SGD_prec.predict(X_test)\n",
    "\n",
    "y_pred_reca_train = SGD_reca.predict(X_train)\n",
    "y_pred_reca_test =  SGD_reca.predict(X_test)\n",
    "\n",
    "y_pred_f1_train = SGD_f1.predict(X_train)\n",
    "y_pred_f1_test =  SGD_f1.predict(X_test)\n",
    "y_test_f1_testp = SGD_f1.decision_function(X_test)"
   ]
  },
  {
   "cell_type": "markdown",
   "metadata": {},
   "source": [
    "#### Se imprimen las métricas de desempeño para cada modelo\n",
    "\n",
    "* Accuracy\n",
    "* Precision\n",
    "* Recall\n",
    "* F1-score\n",
    "* Matriz de confusión"
   ]
  },
  {
   "cell_type": "code",
   "execution_count": 17,
   "metadata": {},
   "outputs": [
    {
     "name": "stdout",
     "output_type": "stream",
     "text": [
      "************************************************************\n",
      "Métricas Accuracy Train:\n",
      "              precision    recall  f1-score   support\n",
      "\n",
      "           0      0.697     0.167     0.269      2899\n",
      "           1      0.818     0.981     0.892     11044\n",
      "\n",
      "    accuracy                          0.812     13943\n",
      "   macro avg      0.758     0.574     0.581     13943\n",
      "weighted avg      0.793     0.812     0.763     13943\n",
      "\n",
      "Confusion Matrix: \n",
      "[[  484  2415]\n",
      " [  210 10834]]\n",
      "------------------------------------------------------------\n",
      "Métricas Accuracy Test:\n",
      "              precision    recall  f1-score   support\n",
      "\n",
      "           0      0.685     0.140     0.233       699\n",
      "           1      0.820     0.984     0.895      2787\n",
      "\n",
      "    accuracy                          0.815      3486\n",
      "   macro avg      0.753     0.562     0.564      3486\n",
      "weighted avg      0.793     0.815     0.762      3486\n",
      "\n",
      "Confusion Matrix: \n",
      "[[  98  601]\n",
      " [  45 2742]]\n",
      "------------------------------------------------------------\n",
      "\n",
      "\n",
      "************************************************************\n",
      "Métricas Precision Train:\n",
      "              precision    recall  f1-score   support\n",
      "\n",
      "           0      0.865     0.016     0.030      2899\n",
      "           1      0.795     0.999     0.885     11044\n",
      "\n",
      "    accuracy                          0.795     13943\n",
      "   macro avg      0.830     0.507     0.458     13943\n",
      "weighted avg      0.809     0.795     0.708     13943\n",
      "\n",
      "Confusion Matrix: \n",
      "[[   45  2854]\n",
      " [    7 11037]]\n",
      "------------------------------------------------------------\n",
      "Métricas Precision Test:\n",
      "              precision    recall  f1-score   support\n",
      "\n",
      "           0      0.900     0.013     0.025       699\n",
      "           1      0.801     1.000     0.890      2787\n",
      "\n",
      "    accuracy                          0.802      3486\n",
      "   macro avg      0.851     0.506     0.458      3486\n",
      "weighted avg      0.821     0.802     0.716      3486\n",
      "\n",
      "Confusion Matrix: \n",
      "[[   9  690]\n",
      " [   1 2786]]\n",
      "------------------------------------------------------------\n",
      "\n",
      "\n",
      "************************************************************\n",
      "Métricas Recall Train:\n",
      "              precision    recall  f1-score   support\n",
      "\n",
      "           0      0.697     0.167     0.269      2899\n",
      "           1      0.818     0.981     0.892     11044\n",
      "\n",
      "    accuracy                          0.812     13943\n",
      "   macro avg      0.758     0.574     0.581     13943\n",
      "weighted avg      0.793     0.812     0.763     13943\n",
      "\n",
      "Confusion Matrix: \n",
      "[[  484  2415]\n",
      " [  210 10834]]\n",
      "------------------------------------------------------------\n",
      "Métricas Recall Test:\n",
      "              precision    recall  f1-score   support\n",
      "\n",
      "           0      0.685     0.140     0.233       699\n",
      "           1      0.820     0.984     0.895      2787\n",
      "\n",
      "    accuracy                          0.815      3486\n",
      "   macro avg      0.753     0.562     0.564      3486\n",
      "weighted avg      0.793     0.815     0.762      3486\n",
      "\n",
      "Confusion Matrix: \n",
      "[[  98  601]\n",
      " [  45 2742]]\n",
      "------------------------------------------------------------\n",
      "\n",
      "\n",
      "************************************************************\n",
      "Métricas F1 Train:\n",
      "              precision    recall  f1-score   support\n",
      "\n",
      "           0      0.450     0.410     0.429      2899\n",
      "           1      0.849     0.868     0.858     11044\n",
      "\n",
      "    accuracy                          0.773     13943\n",
      "   macro avg      0.649     0.639     0.644     13943\n",
      "weighted avg      0.766     0.773     0.769     13943\n",
      "\n",
      "Confusion Matrix: \n",
      "[[1188 1711]\n",
      " [1453 9591]]\n",
      "------------------------------------------------------------\n",
      "Métricas F1 Test:\n",
      "              precision    recall  f1-score   support\n",
      "\n",
      "           0      0.453     0.406     0.428       699\n",
      "           1      0.855     0.877     0.866      2787\n",
      "\n",
      "    accuracy                          0.783      3486\n",
      "   macro avg      0.654     0.642     0.647      3486\n",
      "weighted avg      0.774     0.783     0.778      3486\n",
      "\n",
      "Confusion Matrix: \n",
      "[[ 284  415]\n",
      " [ 343 2444]]\n",
      "------------------------------------------------------------\n",
      "\n",
      "\n"
     ]
    }
   ],
   "source": [
    "# Accuracy\n",
    "print('************************************************************')\n",
    "cm_train_accu = basic_metrics(y_train, y_pred_accu_train, 'Accuracy Train')\n",
    "print('------------------------------------------------------------')\n",
    "cm_test_accu = basic_metrics(y_test, y_pred_accu_test, 'Accuracy Test')\n",
    "print('------------------------------------------------------------\\n\\n')\n",
    "\n",
    "# Precission\n",
    "print('************************************************************')\n",
    "cm_train_prec = basic_metrics(y_train, y_pred_prec_train, 'Precision Train')\n",
    "print('------------------------------------------------------------')\n",
    "cm_test_prec = basic_metrics(y_test, y_pred_prec_test, 'Precision Test')\n",
    "print('------------------------------------------------------------\\n\\n')\n",
    "\n",
    "# Recall\n",
    "print('************************************************************')\n",
    "cm_train_reca = basic_metrics(y_train, y_pred_reca_train, 'Recall Train')\n",
    "print('------------------------------------------------------------')\n",
    "cm_test_reca = basic_metrics(y_test, y_pred_reca_test, 'Recall Test')\n",
    "print('------------------------------------------------------------\\n\\n')\n",
    "\n",
    "# F1-score\n",
    "print('************************************************************')\n",
    "cm_train_f1 = basic_metrics(y_train, y_pred_f1_train, 'F1 Train')\n",
    "print('------------------------------------------------------------')\n",
    "cm_test_f1 = basic_metrics(y_test, y_pred_f1_test, 'F1 Test')\n",
    "print('------------------------------------------------------------\\n\\n')"
   ]
  },
  {
   "cell_type": "markdown",
   "metadata": {},
   "source": [
    "#### Matriz de confusión para el modelo con mejor F1-score\n",
    "\n",
    "Tomamos este modelo debido a que es el que tiene mejor balance de precision y recall\n",
    "\n",
    "$\n",
    "F_1 = \\frac{2}{\\mathrm{recall}^{-1} + \\mathrm{precision}^{-1}} = 2 \\cdot \\frac{\\mathrm{precision} \\cdot \\mathrm{recall}}{\\mathrm{precision} + \\mathrm{recall}} = \\frac{\\mathrm tp}{\\mathrm{tp} + \\frac12 (\\mathrm{fp} + \\mathrm{fn}) } \n",
    "$"
   ]
  },
  {
   "cell_type": "code",
   "execution_count": 18,
   "metadata": {},
   "outputs": [
    {
     "data": {
      "image/png": "[encoded data removed]",
      "text/plain": [
       "<Figure size 720x432 with 1 Axes>"
      ]
     },
     "metadata": {
      "needs_background": "light"
     },
     "output_type": "display_data"
    },
    {
     "data": {
      "image/png": "[encoded data removed]",
      "text/plain": [
       "<Figure size 720x432 with 1 Axes>"
      ]
     },
     "metadata": {
      "needs_background": "light"
     },
     "output_type": "display_data"
    }
   ],
   "source": [
    "# Train Matriz de confusion\n",
    "plot_cm(cm_train_f1, figsize=(10,6), title='Best F1 Score Train', cmap='Blues');\n",
    "\n",
    "# Test Matriz de confusion\n",
    "plot_cm(cm_test_f1, figsize=(10,6), title='Best F1 Score Test', cmap='Blues');"
   ]
  },
  {
   "cell_type": "markdown",
   "metadata": {},
   "source": [
    "#### Curvas ROC y Precission vs. Recall para conjuto de entrenamiento y prueba\n",
    "\n",
    "No se observa una mejora en el AUC, sin embargo, el modelo tiene un mejor equilibrio de precision y recall."
   ]
  },
  {
   "cell_type": "code",
   "execution_count": 19,
   "metadata": {},
   "outputs": [
    {
     "data": {
      "image/png": "[encoded data removed]",
      "text/plain": [
       "<Figure size 1008x432 with 2 Axes>"
      ]
     },
     "metadata": {
      "needs_background": "light"
     },
     "output_type": "display_data"
    }
   ],
   "source": [
    "# plot_roc_pr(y_train, y_pred_f1_train, Title='Best F1 Train', x_text=0.4, y_text=0.2, size_text=12, size=(14,6), ms=15, colorR=ORANGE, colorP=GREEN, label=None);\n",
    "plot_roc_pr(y_test,  y_pred_f1_test, y_test_f1_testp, Title='Best F1 Test',  x_text=0.4, y_text=0.2, size_text=12, size=(14,6), ms=15, colorR=ORANGE, colorP=GREEN, label=None);"
   ]
  }
 ],
 "metadata": {
  "kernelspec": {
   "display_name": "Python 3.7.6 64-bit ('diplo': venv)",
   "language": "python",
   "name": "python37664bitdiplovenvc8f1cc3d26344ed08febef30f9915ee6"
  },
  "language_info": {
   "codemirror_mode": {
    "name": "ipython",
    "version": 3
   },
   "file_extension": ".py",
   "mimetype": "text/x-python",
   "name": "python",
   "nbconvert_exporter": "python",
   "pygments_lexer": "ipython3",
   "version": "3.8.5"
  }
 },
 "nbformat": 4,
 "nbformat_minor": 4
}
