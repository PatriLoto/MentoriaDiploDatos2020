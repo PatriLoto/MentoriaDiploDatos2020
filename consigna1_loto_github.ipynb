{
  "nbformat": 4,
  "nbformat_minor": 0,
  "metadata": {
    "colab": {
      "name": "mentoria_consigna1_loto.ipynb",
      "provenance": [],
      "collapsed_sections": []
    },
    "kernelspec": {
      "name": "python3",
      "display_name": "Python 3"
    }
  },
  "cells": [
    {
      "cell_type": "code",
      "metadata": {
        "id": "_Lhb0LhKVXgh",
        "colab_type": "code",
        "colab": {}
      },
      "source": [
        "C2K = list()\n",
        "C2K.append('session_id')\n",
        "C2K.append('tutor_id')\n",
        "C2K.append('student_id')\n",
        "C2K.append('timestamp')\n",
        "C2K.append('feedback_score')\n",
        "C2K.append('wait_time')\n",
        "C2K.append('ended_by_reason')\n",
        "C2K.append('session_category')\n",
        "C2K.append('consolidated_session_category')\n",
        "C2K.append('student_complained')\n",
        "C2K.append('student_complaint_clarity')\n",
        "C2K.append('student_complaint_speed')\n",
        "C2K.append('student_complaint_subject')\n",
        "C2K.append('student_complaint_other')\n",
        "C2K.append('session_tag_cheating')\n",
        "C2K.append('session_tag_inappropriate')\n",
        "C2K.append('session_tag_other_subject')\n",
        "C2K.append('session_tag_no_material')\n",
        "C2K.append('session_tag_student_left')\n",
        "C2K.append('session_tag_student_not_engaging')\n",
        "C2K.append('session_tag_used_whiteboard')\n",
        "C2K.append('student_rating')\n",
        "C2K.append('length_of_session')\n",
        "C2K.append('avg_tutor_response_time')\n",
        "C2K.append('max_tutor_response_time')\n",
        "C2K.append('subject')\n",
        "C2K.append('subtopic')\n",
        "C2K.append('rubric_version')\n",
        "C2K.append('tutor_gender')\n",
        "C2K.append('tutor_international_name')\n",
        "C2K.append('tutor_fired')\n",
        "C2K.append('tutor_math_exam_score')\n",
        "C2K.append('tutor_physics_exam_score')\n",
        "C2K.append('tutor_chemistry_exam_score')\n",
        "C2K.append('tutor_last_sign_in_country')\n",
        "C2K.append('tutor_age')\n",
        "C2K.append('student_platform')\n",
        "C2K.append('student_app_version')\n",
        "C2K.append('student_transactions_amount')"
      ],
      "execution_count": 1,
      "outputs": []
    },
    {
      "cell_type": "code",
      "metadata": {
        "id": "GzRIOFzc9Y9w",
        "colab_type": "code",
        "colab": {}
      },
      "source": [
        "# dict es una estructura  de datos denominada dictionary,permite construir valores de clave,valor\n",
        "T2F = dict()\n",
        "T2F['tutor_id'] = pd.Int64Dtype()\n",
        "T2F['timestamp'] = 'datetime64[ns, UTC]'\n",
        "T2F['student_rating'] = pd.Int64Dtype()\n",
        "T2F['tutor_fired'] = bool\n",
        "T2F['tutor_age'] = pd.Int64Dtype()"
      ],
      "execution_count": 2,
      "outputs": []
    },
    {
      "cell_type": "code",
      "metadata": {
        "id": "3MvWHFcbTegM",
        "colab_type": "code",
        "colab": {
          "base_uri": "https://localhost:8080/",
          "height": 72
        },
        "outputId": "bdb42543-2f0b-40cb-dc8b-f1903457fd6b"
      },
      "source": [
        "# importación de las librerías\n",
        "import os\n",
        "import pandas as pd\n",
        "import numpy as np\n",
        "import matplotlib.pyplot as plt\n",
        "import seaborn as sns"
      ],
      "execution_count": 3,
      "outputs": [
        {
          "output_type": "stream",
          "text": [
            "/usr/local/lib/python3.6/dist-packages/statsmodels/tools/_testing.py:19: FutureWarning: pandas.util.testing is deprecated. Use the functions in the public API at pandas.testing instead.\n",
            "  import pandas.util.testing as tm\n"
          ],
          "name": "stderr"
        }
      ]
    },
    {
      "cell_type": "code",
      "metadata": {
        "colab_type": "code",
        "id": "vz-jH8T_Uk2c",
        "colab": {
          "resources": {
            "http://localhost:8080/nbextensions/google.colab/files.js": {
              "data": "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",
              "ok": true,
              "headers": [
                [
                  "content-type",
                  "application/javascript"
                ]
              ],
              "status": 200,
              "status_text": ""
            }
          },
          "base_uri": "https://localhost:8080/",
          "height": 90
        },
        "outputId": "9ca3a20b-57d3-4879-9c0e-3b57749c3c34"
      },
      "source": [
        "from google.colab import files\n",
        "\n",
        "uploaded = files.upload()\n",
        "\n",
        "for fn in uploaded.keys():\n",
        "  print('User uploaded file \"{name}\" with length {length} bytes'.format(\n",
        "      name=fn, length=len(uploaded[fn])))"
      ],
      "execution_count": 4,
      "outputs": [
        {
          "output_type": "display_data",
          "data": {
            "text/html": [
              "\n",
              "     <input type=\"file\" id=\"files-b8488fc9-3b4c-4450-9c63-55920e83b5ea\" name=\"files[]\" multiple disabled\n",
              "        style=\"border:none\" />\n",
              "     <output id=\"result-b8488fc9-3b4c-4450-9c63-55920e83b5ea\">\n",
              "      Upload widget is only available when the cell has been executed in the\n",
              "      current browser session. Please rerun this cell to enable.\n",
              "      </output>\n",
              "      <script src=\"/nbextensions/google.colab/files.js\"></script> "
            ],
            "text/plain": [
              "<IPython.core.display.HTML object>"
            ]
          },
          "metadata": {
            "tags": []
          }
        },
        {
          "output_type": "stream",
          "text": [
            "Saving datadump.csv to datadump.csv\n",
            "User uploaded file \"datadump.csv\" with length 24493459 bytes\n"
          ],
          "name": "stdout"
        }
      ]
    },
    {
      "cell_type": "code",
      "metadata": {
        "id": "gIp2zpCnVVMi",
        "colab_type": "code",
        "colab": {
          "base_uri": "https://localhost:8080/",
          "height": 89
        },
        "outputId": "0dbde124-be8f-47d5-e808-8ecad3f2ab16"
      },
      "source": [
        "\n",
        "df = pd.read_csv('datadump.csv')\n",
        "display(df.shape)"
      ],
      "execution_count": 5,
      "outputs": [
        {
          "output_type": "stream",
          "text": [
            "/usr/local/lib/python3.6/dist-packages/IPython/core/interactiveshell.py:2718: DtypeWarning: Columns (27,71,72,73,74,75,76,77,78,79,80,81,82,83,84,85,86,87,88,89,90,91,92,93,94,95,96,97,98,99,100,101,102,103,104,105,106,107,108,109,110) have mixed types.Specify dtype option on import or set low_memory=False.\n",
            "  interactivity=interactivity, compiler=compiler, result=result)\n"
          ],
          "name": "stderr"
        },
        {
          "output_type": "display_data",
          "data": {
            "text/plain": [
              "(63265, 111)"
            ]
          },
          "metadata": {
            "tags": []
          }
        }
      ]
    },
    {
      "cell_type": "markdown",
      "metadata": {
        "id": "ftgUjiRm_MOv",
        "colab_type": "text"
      },
      "source": [
        "Preprocesamiento o curación de la metadata\n"
      ]
    },
    {
      "cell_type": "code",
      "metadata": {
        "id": "xxUpfpNA7U3y",
        "colab_type": "code",
        "colab": {
          "base_uri": "https://localhost:8080/",
          "height": 34
        },
        "outputId": "6275a607-a4ae-4b3c-f199-c544f12aea92"
      },
      "source": [
        "# Remuevo espacios al inicio y final del nombre de la columna\n",
        "df.columns = [column.strip() for column in df.columns]\n",
        "\n",
        "# Tomo solo las columnas que vamos a necesitar\n",
        "df = df[C2K]\n",
        "\n",
        "# Se corrigen los tipos de los datos \n",
        "df = df.astype(T2F)\n",
        "\n",
        "display(df.shape)"
      ],
      "execution_count": 6,
      "outputs": [
        {
          "output_type": "display_data",
          "data": {
            "text/plain": [
              "(63265, 39)"
            ]
          },
          "metadata": {
            "tags": []
          }
        }
      ]
    },
    {
      "cell_type": "markdown",
      "metadata": {
        "id": "g0fWINMCBH5s",
        "colab_type": "text"
      },
      "source": [
        "Descripción inicial de los datos\n"
      ]
    },
    {
      "cell_type": "code",
      "metadata": {
        "id": "JjRcPYM3-cfw",
        "colab_type": "code",
        "colab": {
          "base_uri": "https://localhost:8080/",
          "height": 69
        },
        "outputId": "5c11ad3a-05e2-4fca-8b60-8bfd67b9b5b9"
      },
      "source": [
        "# Obtenemos la cantidad de filas con tutor sin identificación (tutor_id nulo)\n",
        "nrows_tutor_nan  = df['tutor_id'].isnull().sum()\n",
        "\n",
        "# Cantidad de filas total\n",
        "nrows = df.shape[0]\n",
        "\n",
        "# Cantidad de tutores identificados\n",
        "n_tutors = df.dropna(subset=['tutor_id'])['tutor_id'].unique().shape[0]\n",
        "\n",
        "\n",
        "print ('Cantidad de filas con tutor no identificado: {} de {}'.format(nrows_tutor_nan,nrows))\n",
        "print ('Porcentaje de filas con tutor identificado: {:.2%}'.format(1 - nrows_tutor_nan/nrows))\n",
        "print ('Cantidad de tutores (identificados): {}'.format(n_tutors))"
      ],
      "execution_count": 7,
      "outputs": [
        {
          "output_type": "stream",
          "text": [
            "Cantidad de filas con tutor no identificado: 4749 de 63265\n",
            "Porcentaje de filas con tutor identificado: 92.49%\n",
            "Cantidad de tutores (identificados): 149\n"
          ],
          "name": "stdout"
        }
      ]
    },
    {
      "cell_type": "markdown",
      "metadata": {
        "id": "QNN10Al3EeFb",
        "colab_type": "text"
      },
      "source": [
        "Caracterización de los tutores por sexo"
      ]
    },
    {
      "cell_type": "code",
      "metadata": {
        "id": "XCYINSHWElwk",
        "colab_type": "code",
        "colab": {
          "base_uri": "https://localhost:8080/",
          "height": 408
        },
        "outputId": "e6b5c85e-2b62-439c-c99e-b76916fc4bf5"
      },
      "source": [
        "#1\n",
        "df_tutors = df.dropna(subset=['tutor_id'])[['tutor_id', 'tutor_gender', 'tutor_age','tutor_last_sign_in_country']]\n",
        "df_tutors\n"
      ],
      "execution_count": 8,
      "outputs": [
        {
          "output_type": "execute_result",
          "data": {
            "text/html": [
              "<div>\n",
              "<style scoped>\n",
              "    .dataframe tbody tr th:only-of-type {\n",
              "        vertical-align: middle;\n",
              "    }\n",
              "\n",
              "    .dataframe tbody tr th {\n",
              "        vertical-align: top;\n",
              "    }\n",
              "\n",
              "    .dataframe thead th {\n",
              "        text-align: right;\n",
              "    }\n",
              "</style>\n",
              "<table border=\"1\" class=\"dataframe\">\n",
              "  <thead>\n",
              "    <tr style=\"text-align: right;\">\n",
              "      <th></th>\n",
              "      <th>tutor_id</th>\n",
              "      <th>tutor_gender</th>\n",
              "      <th>tutor_age</th>\n",
              "      <th>tutor_last_sign_in_country</th>\n",
              "    </tr>\n",
              "  </thead>\n",
              "  <tbody>\n",
              "    <tr>\n",
              "      <th>0</th>\n",
              "      <td>18172</td>\n",
              "      <td>male</td>\n",
              "      <td>52</td>\n",
              "      <td>IN</td>\n",
              "    </tr>\n",
              "    <tr>\n",
              "      <th>1</th>\n",
              "      <td>283248</td>\n",
              "      <td>male</td>\n",
              "      <td>19</td>\n",
              "      <td>USA</td>\n",
              "    </tr>\n",
              "    <tr>\n",
              "      <th>2</th>\n",
              "      <td>8593</td>\n",
              "      <td>male</td>\n",
              "      <td>52</td>\n",
              "      <td>IN</td>\n",
              "    </tr>\n",
              "    <tr>\n",
              "      <th>3</th>\n",
              "      <td>283248</td>\n",
              "      <td>male</td>\n",
              "      <td>19</td>\n",
              "      <td>USA</td>\n",
              "    </tr>\n",
              "    <tr>\n",
              "      <th>4</th>\n",
              "      <td>43182</td>\n",
              "      <td>female</td>\n",
              "      <td>42</td>\n",
              "      <td>IN</td>\n",
              "    </tr>\n",
              "    <tr>\n",
              "      <th>...</th>\n",
              "      <td>...</td>\n",
              "      <td>...</td>\n",
              "      <td>...</td>\n",
              "      <td>...</td>\n",
              "    </tr>\n",
              "    <tr>\n",
              "      <th>63260</th>\n",
              "      <td>279250</td>\n",
              "      <td>male</td>\n",
              "      <td>22</td>\n",
              "      <td>PH</td>\n",
              "    </tr>\n",
              "    <tr>\n",
              "      <th>63261</th>\n",
              "      <td>24352</td>\n",
              "      <td>male</td>\n",
              "      <td>52</td>\n",
              "      <td>IN</td>\n",
              "    </tr>\n",
              "    <tr>\n",
              "      <th>63262</th>\n",
              "      <td>34864</td>\n",
              "      <td>male</td>\n",
              "      <td>52</td>\n",
              "      <td>IN</td>\n",
              "    </tr>\n",
              "    <tr>\n",
              "      <th>63263</th>\n",
              "      <td>710855</td>\n",
              "      <td>NaN</td>\n",
              "      <td>29</td>\n",
              "      <td>PH</td>\n",
              "    </tr>\n",
              "    <tr>\n",
              "      <th>63264</th>\n",
              "      <td>680521</td>\n",
              "      <td>NaN</td>\n",
              "      <td>20</td>\n",
              "      <td>PH</td>\n",
              "    </tr>\n",
              "  </tbody>\n",
              "</table>\n",
              "<p>58516 rows × 4 columns</p>\n",
              "</div>"
            ],
            "text/plain": [
              "       tutor_id tutor_gender  tutor_age tutor_last_sign_in_country\n",
              "0         18172         male         52                         IN\n",
              "1        283248         male         19                        USA\n",
              "2          8593         male         52                         IN\n",
              "3        283248         male         19                        USA\n",
              "4         43182       female         42                         IN\n",
              "...         ...          ...        ...                        ...\n",
              "63260    279250         male         22                         PH\n",
              "63261     24352         male         52                         IN\n",
              "63262     34864         male         52                         IN\n",
              "63263    710855          NaN         29                         PH\n",
              "63264    680521          NaN         20                         PH\n",
              "\n",
              "[58516 rows x 4 columns]"
            ]
          },
          "metadata": {
            "tags": []
          },
          "execution_count": 8
        }
      ]
    },
    {
      "cell_type": "code",
      "metadata": {
        "id": "iuSlVfDXFWnJ",
        "colab_type": "code",
        "colab": {}
      },
      "source": [
        ""
      ],
      "execution_count": 8,
      "outputs": []
    },
    {
      "cell_type": "markdown",
      "metadata": {
        "id": "-l-Zw_95v7F6",
        "colab_type": "text"
      },
      "source": [
        "Elimino los que tienen NA en el sexo del tutor y elimino los duplicados\n"
      ]
    },
    {
      "cell_type": "code",
      "metadata": {
        "id": "nwSdyEDzF898",
        "colab_type": "code",
        "colab": {
          "base_uri": "https://localhost:8080/",
          "height": 34
        },
        "outputId": "498473ed-7f22-49f7-dbfe-41dbceaf00e6"
      },
      "source": [
        "#2 \n",
        "df_tutors_by_gender = df_tutors.dropna(subset=['tutor_gender'])  #eliminó los que tienen NA en el campo sexo\n",
        "df_tutors_by_gender = df_tutors_by_gender.drop_duplicates().sort_values(by='tutor_id')  #elimino los duplicados\n",
        "df_tutors_by_gender\n",
        "\n",
        "df_tutors_by_gender.shape[0]"
      ],
      "execution_count": 9,
      "outputs": [
        {
          "output_type": "execute_result",
          "data": {
            "text/plain": [
              "136"
            ]
          },
          "metadata": {
            "tags": []
          },
          "execution_count": 9
        }
      ]
    },
    {
      "cell_type": "markdown",
      "metadata": {
        "id": "-se3YCkgHdAM",
        "colab_type": "text"
      },
      "source": [
        "**Gráfico con cantidad de tutores por sexo**"
      ]
    },
    {
      "cell_type": "code",
      "metadata": {
        "id": "pFFTeJIFHehO",
        "colab_type": "code",
        "colab": {
          "base_uri": "https://localhost:8080/",
          "height": 414
        },
        "outputId": "aeaa7281-e238-4c31-e37b-f99c122603bd"
      },
      "source": [
        "color_palette = ('#9ccfb1','#713580')\n",
        "fig1, ax1 = plt.subplots(figsize=(8,6))\n",
        "sns.countplot(x = df_tutors_by_gender['tutor_gender'], palette='Set2')\n",
        "plt.title('Cantidad de Tutores por sexo', fontsize=16)\n",
        "plt.xlabel('Sexo', fontsize=14)\n",
        "plt.ylabel('Cantidad', fontsize=14)\n",
        "plt.xticks(fontsize=14)\n",
        "plt.yticks(fontsize=14)\n",
        "sns.despine()\n",
        "plt.show()\n",
        "\n",
        "\n",
        "#sns.barplot(x=x, y=y1, palette=\"rocket\", ax=ax1)\n",
        "#ax1.axhline(0, color=\"k\", clip_on=False)\n",
        "#ax1.set_ylabel(\"Sequential\")"
      ],
      "execution_count": 43,
      "outputs": [
        {
          "output_type": "display_data",
          "data": {
            "image/png": "[encoded data removed]",
            "text/plain": [
              "<Figure size 576x432 with 1 Axes>"
            ]
          },
          "metadata": {
            "tags": [],
            "needs_background": "light"
          }
        }
      ]
    },
    {
      "cell_type": "code",
      "metadata": {
        "id": "PRT9B4flKNmP",
        "colab_type": "code",
        "colab": {
          "base_uri": "https://localhost:8080/",
          "height": 104
        },
        "outputId": "b1e79149-0cdb-42b7-fc4d-faa4d62eed99"
      },
      "source": [
        "import pandas as pd\n",
        "# promedio de edad por sexo\n",
        "average_age_x_sex= df_tutors_by_gender.groupby('tutor_gender').tutor_age.mean()\n",
        "# mediana\n",
        "median_age_x_sex= df_tutors_by_gender.groupby('tutor_gender').tutor_age.median()\n",
        "#print(median_age_x_sex)\n",
        "# moda, ¿Mayormente cuál es la edad de tutores hombres y cuál de mujeres? \n",
        "moda_male= df_tutors_by_gender[(df_tutors_by_gender.tutor_gender == 'male')].tutor_age.mode()\n",
        "moda_female= df_tutors_by_gender[(df_tutors_by_gender.tutor_gender == 'female')].tutor_age.mode()\n",
        "#moda_age_x_sex= df_tutors_by_gender.groupby('tutor_gender').tutor_age.mode()\n",
        "\n",
        "\n",
        "print('El Promedio de edad de tutores por sexo es para mujeres de:', round(average_age_x_sex.iloc[0],1), 'y para hombres de:', round(average_age_x_sex.iloc[1],1), 'años.')\n",
        "print('\\nLa mediana respecto a la edad para tutores hombres es', round(median_age_x_sex.iloc[1],1), 'y para mujeres:',round(median_age_x_sex.iloc[0],1),'años.')\n",
        "print('\\nModa en cuanto a la edad de tutores por sexo para hombres:', round(moda_male.iloc[0],1), 'y para mujeres:',round(moda_female.iloc[0],1),'años.')\n"
      ],
      "execution_count": 54,
      "outputs": [
        {
          "output_type": "stream",
          "text": [
            "El Promedio de edad de tutores por sexo es para mujeres de: 31.7 y para hombres de: 28.1 años.\n",
            "\n",
            "La mediana respecto a la edad para tutores hombres es 23 y para mujeres: 27 años.\n",
            "\n",
            "Moda en cuanto a la edad de tutores por sexo para hombres: 22 y para mujeres: 52 años.\n"
          ],
          "name": "stdout"
        }
      ]
    },
    {
      "cell_type": "markdown",
      "metadata": {
        "id": "R7-lVxLrRB7U",
        "colab_type": "text"
      },
      "source": [
        "**Porcentaje de tutores por sexo**\n",
        "\n",
        "\n",
        "\n"
      ]
    },
    {
      "cell_type": "code",
      "metadata": {
        "id": "UDfyxoWrMDhk",
        "colab_type": "code",
        "colab": {}
      },
      "source": [
        "total= df_tutors_by_gender.tutor_id.count()\n",
        "\n",
        "\n",
        "n_male= df_tutors_by_gender[(df_tutors_by_gender.tutor_gender == 'male')].tutor_id.count()\n",
        "n_female= df_tutors_by_gender[(df_tutors_by_gender.tutor_gender == 'female')].tutor_id.count()\n",
        "\n",
        "print ('Cantidad de tutores hombres: {}'.format(n_male))\n",
        "print ('Cantidad de tutores mujeres: {}'.format(n_female))\n",
        "\n",
        "print ('Porcentaje de tutores hombres: {:.2%}'.format(n_male/total))\n",
        "print ('Porcentaje de tutores mujeres: {:.2%}'.format(n_female/total))"
      ],
      "execution_count": null,
      "outputs": []
    },
    {
      "cell_type": "markdown",
      "metadata": {
        "id": "re2Y_B2oRJtK",
        "colab_type": "text"
      },
      "source": [
        "Luego de eliminar del dataset los tutores cuyo sexo no estaba imputado, se evidencia que de un total de 136 tutores más del 60 % son hombres y que la edad promedio de estos es de 28 años, mientras que de las mujeres es 32 años. Al calcular la mediana también se evidencia que los tutores hombres son más jovenes que sus colegas mujeres. Además, si tenemos  en cuenta la moda hay más hombres de 22 años, y más mujeres 52."
      ]
    },
    {
      "cell_type": "markdown",
      "metadata": {
        "id": "1TijHzE7uZq6",
        "colab_type": "text"
      },
      "source": [
        "**Caracterización de los tutores: Distribución geográfica**\n",
        "1. Importamos la librería necesaria para estandarizar el nombre y códigos de los países\n",
        "1. Removemos las filas con información nula en country \n",
        "1. Removemos las filas con información no definida ('--') en country\n",
        "1. Agregamos una columna con el código y el nombre del país normalizados\n",
        "1.Totalizamos por pais\n",
        "\n",
        "\n"
      ]
    },
    {
      "cell_type": "code",
      "metadata": {
        "id": "YRsFu3EivwOS",
        "colab_type": "code",
        "colab": {
          "base_uri": "https://localhost:8080/",
          "height": 52
        },
        "outputId": "2c7231a6-0939-4ed0-8c13-3855eb239069"
      },
      "source": [
        "\n",
        "!pip install -q pycountry   #para instalar paquete faltante\n",
        "import pycountry as pyco\n"
      ],
      "execution_count": 48,
      "outputs": [
        {
          "output_type": "stream",
          "text": [
            "\u001b[K     |████████████████████████████████| 10.0MB 3.3MB/s \n",
            "\u001b[?25h  Building wheel for pycountry (setup.py) ... \u001b[?25l\u001b[?25hdone\n"
          ],
          "name": "stdout"
        }
      ]
    },
    {
      "cell_type": "code",
      "metadata": {
        "id": "eL-UZc_Pucxa",
        "colab_type": "code",
        "colab": {
          "base_uri": "https://localhost:8080/",
          "height": 52
        },
        "outputId": "8d621879-47dd-4744-d242-a6c2b3c986b0"
      },
      "source": [
        "# 2 Removemos las filas con información nula en country\n",
        "df_tutors_by_country = df_tutors.dropna(how='any',subset=['tutor_last_sign_in_country'],axis=0)\n",
        "df_tutors_by_country = df_tutors_by_country.drop_duplicates().sort_values(by='tutor_id')\n",
        "\n",
        "# 3 Removemos las filas con información no definida ('--') en country\n",
        "df_tutors_by_country =  df_tutors_by_country[df_tutors['tutor_last_sign_in_country']!='--']\n",
        "\n",
        "# 4\n",
        "df_tutors_by_country['country'] = df_tutors_by_country.apply(lambda row: (pyco.countries.lookup(row.tutor_last_sign_in_country)).name, axis = 1) \n",
        "df_tutors_by_country['country_alpha_3'] = df_tutors_by_country.apply(lambda row: (pyco.countries.lookup(row.tutor_last_sign_in_country)).alpha_3, axis = 1) \n",
        "df_tutors_by_country['country_alpha_2'] = df_tutors_by_country.apply(lambda row: (pyco.countries.lookup(row.tutor_last_sign_in_country)).alpha_2, axis = 1) \n",
        "\n",
        "# 5\n",
        "df_tutors_by_country = df_tutors_by_country [['country','country_alpha_2','country_alpha_3', 'tutor_gender', 'tutor_id']]\n",
        "df_tutors_by_country['count'] = df_tutors_by_country.groupby('country')['country'].transform('count')\n",
        "df_tutors_by_country = df_tutors_by_country.drop_duplicates().sort_values(by='country')"
      ],
      "execution_count": 49,
      "outputs": [
        {
          "output_type": "stream",
          "text": [
            "/usr/local/lib/python3.6/dist-packages/ipykernel_launcher.py:6: UserWarning: Boolean Series key will be reindexed to match DataFrame index.\n",
            "  \n"
          ],
          "name": "stderr"
        }
      ]
    },
    {
      "cell_type": "markdown",
      "metadata": {
        "id": "q85d_4za8MNl",
        "colab_type": "text"
      },
      "source": [
        "**Caracterización de tutores por país y sexo.**"
      ]
    },
    {
      "cell_type": "code",
      "metadata": {
        "id": "eaO4HGxN1Liq",
        "colab_type": "code",
        "colab": {
          "base_uri": "https://localhost:8080/",
          "height": 415
        },
        "outputId": "898cb946-7313-4c6a-83ba-67edb03cf6dd"
      },
      "source": [
        "#average_age_x_sex= df_tutors_by_gender.groupby('country').tutor_age.mean()\n",
        "tutores_x_pais_sexo= df_tutors_by_country.groupby(['country', 'tutor_gender'])[['tutor_id']].count()\n",
        "print(tutores_x_pais_sexo)\n",
        "\n"
      ],
      "execution_count": 50,
      "outputs": [
        {
          "output_type": "stream",
          "text": [
            "                                     tutor_id\n",
            "country                tutor_gender          \n",
            "Argentina              male                 1\n",
            "Bosnia and Herzegovina female               1\n",
            "Canada                 male                 1\n",
            "Colombia               male                 1\n",
            "Croatia                male                 1\n",
            "France                 female               1\n",
            "Ghana                  male                 1\n",
            "Hungary                male                 1\n",
            "India                  female               5\n",
            "                       male                16\n",
            "Jamaica                female               1\n",
            "                       male                 1\n",
            "Korea, Republic of     female               1\n",
            "Pakistan               male                 2\n",
            "Philippines            female               6\n",
            "                       male                12\n",
            "Singapore              male                 1\n",
            "United Kingdom         male                 3\n",
            "United States          female              24\n",
            "                       male                46\n",
            "Viet Nam               female               2\n"
          ],
          "name": "stdout"
        }
      ]
    },
    {
      "cell_type": "markdown",
      "metadata": {
        "id": "yl_i5BwX5RLW",
        "colab_type": "text"
      },
      "source": [
        "De acuerdo al cálculo anterior podemos observar que en los 10 primeros países con mayor concentración de tutores existe una brecha entre hombres y mujeres. Si tomamos los tres primeros países con mayor cantidad de tutores: Estados Unidos(con 24 muj. y 46 hombres), Filipinas (muj. 6 y hom. 12) e India (con 5 muj. y 16 hombres) vemos como las mujeres representan aproximadamente tan solo entre el 23% y 34 % del total de tutores. "
      ]
    },
    {
      "cell_type": "markdown",
      "metadata": {
        "id": "-xl0xeIT9BbQ",
        "colab_type": "text"
      },
      "source": [
        ""
      ]
    }
  ]
}