{
 "cells": [
  {
   "cell_type": "markdown",
   "metadata": {
    "colab_type": "text",
    "id": "x6rcF4vg7CTX"
   },
   "source": [
    "# **Práctico 5 (Parte 1): Descripción de los datos y la tarea**"
   ]
  },
  {
   "cell_type": "markdown",
   "metadata": {
    "colab_type": "text",
    "id": "J_dxHHb1qUxR"
   },
   "source": [
    "### Tabla de Contenidos\n",
    "1. [Consigna](#1.-Consigna)\n",
    "2. [Respuestas](#2.-Respuestas)"
   ]
  },
  {
   "cell_type": "markdown",
   "metadata": {
    "colab_type": "text",
    "id": "x_Fn8cRWqUxU"
   },
   "source": [
    "## 1. Consigna\n",
    "\n",
    "Responder las siguientes preguntas *sin mirar* el resto del práctico:\n",
    "\n",
    "0. Ir a leer 15 ejemplos de diálogos clasificados de forma negativa y 5 positivos y copiar palabras, frases o describir otras características que les llamaron la atención en los diálogos negativos.\n",
    "1. ¿Qué esperan ver en los clusters de palabras? \n",
    "2. ¿Cómo les parece que se evaluará el modelo que generen?\n",
    "3. ¿Cuál les parece que debe ser la duración mínima de un diálogo para poder predecir la satisfacción del estudiante? ¿Piensan que la duración del diálogo les puede servir para predecir la satisfacción?\n",
    "4. Del primer cuarto, segundo cuarto, tercer cuarto y cuarto cuarto de los diálogos, ¿cuál les parece que puede ser más informativo para predecir la satisfacción del estudiante?\n",
    "5. El modelo que tienen en mente ¿están seguros que no usa las etiquetas hasta el final?\n",
    "\n",
    "**No es necesario escribir código para responder estas preguntas.**"
   ]
  },
  {
   "cell_type": "markdown",
   "metadata": {
    "colab_type": "text",
    "id": "u7fp8NQEywxo"
   },
   "source": [
    "## 2. Respuestas"
   ]
  },
  {
   "cell_type": "markdown",
   "metadata": {},
   "source": [
    "1. En los clusters de palabras se espera que aparezca un agrupamiento entre algunas de ellas que tienen connotación negativa o de desaprobación.\n",
    "2. \n",
    "3. No nos parece que la longitud de los dialogos pueda servir para predecir la satisfacción del estudiante, sí que en los dialogos de mayor duración se pueden encontrar elementos que permitan predecirla mejor.\n",
    "4. Creemos que en la última cuarta parte, que es la del cierre del dialogo puede ser la que proporcione más información sobre la condición del dialogo\n",
    "5. No usaremos las etiquetas como parte del proceso de entrenamiento del modelo. Recién serán usadas en la etapa de evaluación"
   ]
  }
 ],
 "metadata": {
  "colab": {
   "collapsed_sections": [],
   "name": "Practico_3y4_part_5.ipynb",
   "provenance": []
  },
  "kernelspec": {
   "display_name": "Python 3",
   "language": "python",
   "name": "python3"
  },
  "language_info": {
   "codemirror_mode": {
    "name": "ipython",
    "version": 3
   },
   "file_extension": ".py",
   "mimetype": "text/x-python",
   "name": "python",
   "nbconvert_exporter": "python",
   "pygments_lexer": "ipython3",
   "version": "3.7.6"
  }
 },
 "nbformat": 4,
 "nbformat_minor": 4
}
