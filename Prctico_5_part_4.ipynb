{
 "metadata": {
  "language_info": {
   "codemirror_mode": {
    "name": "ipython",
    "version": 3
   },
   "file_extension": ".py",
   "mimetype": "text/x-python",
   "name": "python",
   "nbconvert_exporter": "python",
   "pygments_lexer": "ipython3",
   "version": "3.7.0-final"
  },
  "orig_nbformat": 2,
  "kernelspec": {
   "name": "Python 3.7.0 64-bit ('diplo': venv)",
   "display_name": "Python 3.7.0 64-bit ('diplo': venv)",
   "metadata": {
    "interpreter": {
     "hash": "c0558758b2c20aded1bec288d8b5d95f0ce82cc10523c91486ccff78ac667d20"
    }
   }
  }
 },
 "nbformat": 4,
 "nbformat_minor": 2,
 "cells": [
  {
   "source": [
    "# Practico 5 (parte 4)\n",
    "\n",
    "## Entrenar word embeddings\n",
    "\n",
    "## Importación de módulos y librerías"
   ],
   "cell_type": "markdown",
   "metadata": {}
  },
  {
   "cell_type": "code",
   "execution_count": 1,
   "metadata": {},
   "outputs": [],
   "source": [
    "# Inclusion de librerias y módulos\n",
    "import os\n",
    "import numpy as np\n",
    "import matplotlib.pyplot as plt\n",
    "import pandas as pd\n",
    "import seaborn as sns\n",
    "\n",
    "# Usamos las stopwords definidas en nltk más algunas propias\n",
    "from nltk.corpus import stopwords\n",
    "\n",
    "stopwords = stopwords.words('english') + [',', \"’\", '.', ':', '-', ';']\n",
    "\n",
    "# Algunas utilidades\n",
    "from utiles import print_some_info\n",
    "\n",
    "# Nos permite convertir str a list\n",
    "from ast import literal_eval\n",
    "\n",
    "# Colores\n",
    "BLUE   = '#5DADE2'\n",
    "RED    = '#ff7043'\n",
    "ORANGE = '#F5B041'\n",
    "GREEN  = '#58D68D'\n",
    "YELLOW = '#F4D03F'\n",
    "pltcolors = [BLUE, RED, ORANGE, GREEN, YELLOW]\n",
    "\n",
    "# Plot axes y legends parambs\n",
    "plt.rcParams[\"axes.labelweight\"]   = \"bold\"\n",
    "plt.rcParams[\"axes.titleweight\"]   = \"bold\"\n",
    "plt.rcParams[\"legend.shadow\"]      = True\n",
    "plt.rcParams[\"figure.titleweight\"] = \"bold\"\n",
    "\n",
    "data_dir = os.path.join('..', 'dataset')"
   ]
  },
  {
   "source": [
    "## Lectura del archivo de mensajes\n",
    "Utilizamos unicamente el archivo de mensajes dado que vamos a entrenar un word embeding como word2vec. Entendemos que para el propósito del análisis y por que no estamos empleando ningún modelo de clasificación o regresión podemos usar el conjunto de datos completo."
   ],
   "cell_type": "markdown",
   "metadata": {}
  },
  {
   "cell_type": "code",
   "execution_count": 2,
   "metadata": {
    "tags": []
   },
   "outputs": [
    {
     "output_type": "stream",
     "name": "stdout",
     "text": "El conjunto de datos utilizado es dev_yup_messages_preprocessed.csv\nEl conjunto de datos posee 234375 filas y 6 columnas\n&lt;class &#39;pandas.core.frame.DataFrame&#39;&gt;\nRangeIndex: 234375 entries, 0 to 234374\nData columns (total 6 columns):\n #   Column        Non-Null Count   Dtype \n---  ------        --------------   ----- \n 0   session_id    234375 non-null  int64 \n 1   created_at    234375 non-null  object\n 2   sent_from     234375 non-null  object\n 3   sent_to       234375 non-null  object\n 4   content_type  234375 non-null  object\n 5   text          234375 non-null  object\ndtypes: int64(1), object(5)\nmemory usage: 10.7+ MB\nNone\n"
    }
   ],
   "source": [
    "filename = 'dev_yup_messages_preprocessed.csv'\n",
    "df = pd.read_csv(os.path.join(data_dir, filename))\n",
    "\n",
    "print(f'El conjunto de datos utilizado es {filename}')\n",
    "print_some_info(df)\n"
   ]
  },
  {
   "cell_type": "code",
   "execution_count": 3,
   "metadata": {},
   "outputs": [],
   "source": [
    "import re\n",
    "import emot\n",
    "from emot.emo_unicode import UNICODE_EMO, EMOTICONS\n",
    "\n",
    "# Funcion para convertir emojis a palabras\n",
    "def convert_emojis(text):\n",
    "    text0 = [t for t in re.findall(r'\\\\x..\\\\x..\\\\x..\\\\x..', str(text.encode()))]\n",
    "    text0 = [''.join(t.split('\\\\x')[1:]) for t in text0]\n",
    "    text0 = [bytes.fromhex(t).decode() for t in text0 if t[0]=='f']\n",
    "    text0 = [UNICODE_EMO[t] for t in text0 if t in UNICODE_EMO]\n",
    "    text0 = ' '.join(text0)\n",
    "    return text0 if text0 else text\n",
    "\n",
    "# Funcion para convertir emoticones a palabras\n",
    "OUREMOTIC = dict([(e, f\":{EMOTICONS[e].lower().split(',')[0].replace('or ','').replace(' ','_')}:\") for e in EMOTICONS.keys()])\n",
    "def convert_emoticons(text):\n",
    "    try:\n",
    "        text0 = emot.emoticons(text)\n",
    "        if text0['flag']:\n",
    "            return ':'+text0['mean'][0].replace(' ', '_').lower()+':'\n",
    "        return text\n",
    "    except Exception as e:\n",
    "        return text"
   ]
  },
  {
   "cell_type": "code",
   "execution_count": 5,
   "metadata": {
    "tags": []
   },
   "outputs": [
    {
     "output_type": "stream",
     "name": "stdout",
     "text": "El conjunto de datos posee 210242 filas y 3 columnas\n&lt;class &#39;pandas.core.frame.DataFrame&#39;&gt;\nInt64Index: 210242 entries, 0 to 234374\nData columns (total 3 columns):\n #   Column      Non-Null Count   Dtype \n---  ------      --------------   ----- \n 0   session_id  210242 non-null  int64 \n 1   sent_from   210242 non-null  object\n 2   text        210242 non-null  object\ndtypes: int64(1), object(2)\nmemory usage: 6.4+ MB\nNone\n"
    }
   ],
   "source": [
    "#1. Tomamos solo las columnas que nos pueden servir. Esto es preliminar, podríamos tomar solo `text`\n",
    "dfclean = df[['session_id', 'sent_from', 'text']]\n",
    "\n",
    "#2. Tomamos solo las filas que sean tutor o student a partir de la columna `sent_from`\n",
    "dfclean = dfclean[dfclean.sent_from.isin(['student', 'tutor'])]\n",
    "\n",
    "#3. Convertimos a lista de strings el contenido de la columna text\n",
    "dfclean['text'] = dfclean.text.apply(lambda x: literal_eval(x))\n",
    "\n",
    "#4. Se sustituyen emojis por tokens \n",
    "dfclean['text'] = dfclean.text.apply(lambda x: [convert_emojis(w) for w in x])\n",
    "\n",
    "#5. Se sustituyen emoticones por palabras\n",
    "## No lo vamos a tratar por ahora por que requiere de un mejor tratamiento. Los parentesis, llaves y corchetes parece que el uso regular afecta al manejo del emoticon. \n",
    "# dfclean['text'] = dfclean.text.apply(lambda x: [convert_emoticons(w) for w in x])\n",
    "\n",
    "#6. Convernitimos a minúsculas para unificar el tratamiento\n",
    "dfclean['text'] = dfclean.text.apply(lambda x: [w.lower() for w in x])\n",
    "\n",
    "#7. Removemos las stopwords\n",
    "dfclean['text'] = dfclean.text.apply(lambda x: [w for w in x if w not in stopwords])\n",
    "\n",
    "print_some_info(dfclean)"
   ]
  },
  {
   "cell_type": "code",
   "execution_count": 8,
   "metadata": {
    "tags": []
   },
   "outputs": [
    {
     "output_type": "execute_result",
     "data": {
      "text/plain": "    session_id sent_from                                               text\n0       299895     tutor                          [welcome, yup, jasmyn, !]\n1       299895     tutor                        [may, help, math, today, ?]\n3       299899   student                                            [&lt;url&gt;]\n5       299899     tutor                     [hello, luke, welcome, yup, !]\n6       299899     tutor                                 [looking, problem]\n7       299899   student     [36sqrt2, throwing, beginning, solve, problem]\n8       299899   student     [36sqrt2, throwing, beginning, solve, problem]\n9       299899     tutor  [okay, worries, let, &#39;s, work, problem, together]\n10      299899   student  [math, complete, 30, 60, 90, triangle, theorem...\n11      299899   student  [math, complete, 30, 60, 90, triangle, theorem...\n12      299899     tutor  [looks, like, struggling, solving, special, ri...\n13      299899     tutor                              [would, like, try, ?]\n14      299899   student                           [&#39;m, confused, 36*sqrt2]\n15      299899     tutor                   [&#39;ll, help, arrive, solution, !]\n16      299899     tutor  [remember, participate, order, finish, faster,...\n17      299899   student                         [qt, =, x, qs, =, x*sqrt3]\n18      299899     tutor                                        [excellent]\n19      299899   student                             [x, 36*sqrt2/sqrt3, ?]\n20      299899   student                             [x, 36*sqrt2/sqrt3, ?]\n21      299899     tutor                              [yes, excellent, job]\n22      299899     tutor                             [set, equation, would]\n23      299899   student                                          [x=29.39]\n24      299899     tutor             [xsqrt(3, ), =, 60sqrt(2, ), right, ?]\n25      299899     tutor            [would, keep, fraction, rationalize, ?]\n26      299899   student                                              [yes]\n27      299899   student                                              [yes]\n28      299899   student                                   [36sqrt2sqrt3/3]\n29      299899   student                                   [36sqrt2sqrt3/3]\n30      299899     tutor                                       [great, job]\n31      299899   student                                     [12sqrt2sqrt3]\n32      299899   student                                     [12sqrt2sqrt3]\n33      299899     tutor                                        [excellent]\n34      299899     tutor  [use, root, properties, sqrt(a, ), ×, sqrt(b, ...\n35      299899   student                                            [sqrt6]\n36      299899   student                                            [sqrt6]\n37      299899     tutor                             [x., would, qt, st, ?]\n38      299899   student                                          [12sqrt6]\n39      299899   student                                          [24sqrt6]\n40      299899   student                                          [24sqrt6]\n41      299899     tutor                                       [great, job]\n42      299899     tutor          [far, qt=12sqrt(6, ), ts, st=24sqrt(6, )]\n43      299899     tutor                                    [next, step, ?]\n44      299899   student        [find, side, lengths, triangle, 45, 45, 90]\n45      299899     tutor                                           [yes, ?]\n46      299899   student                                [side, lengths, 36]\n47      299899   student                                [side, lengths, 36]\n48      299899     tutor                                          [perfect]\n49      299899   student                              [perimeter, 160.1816]\n50      299899     tutor                   [give, minute, check, please, ?]\n51      299899     tutor                                               [:)]",
      "text/html": "<div>\n<style scoped>\n    .dataframe tbody tr th:only-of-type {\n        vertical-align: middle;\n    }\n\n    .dataframe tbody tr th {\n        vertical-align: top;\n    }\n\n    .dataframe thead th {\n        text-align: right;\n    }\n</style>\n<table border=\"1\" class=\"dataframe\">\n  <thead>\n    <tr style=\"text-align: right;\">\n      <th></th>\n      <th>session_id</th>\n      <th>sent_from</th>\n      <th>text</th>\n    </tr>\n  </thead>\n  <tbody>\n    <tr>\n      <th>0</th>\n      <td>299895</td>\n      <td>tutor</td>\n      <td>[welcome, yup, jasmyn, !]</td>\n    </tr>\n    <tr>\n      <th>1</th>\n      <td>299895</td>\n      <td>tutor</td>\n      <td>[may, help, math, today, ?]</td>\n    </tr>\n    <tr>\n      <th>3</th>\n      <td>299899</td>\n      <td>student</td>\n      <td>[&lt;url&gt;]</td>\n    </tr>\n    <tr>\n      <th>5</th>\n      <td>299899</td>\n      <td>tutor</td>\n      <td>[hello, luke, welcome, yup, !]</td>\n    </tr>\n    <tr>\n      <th>6</th>\n      <td>299899</td>\n      <td>tutor</td>\n      <td>[looking, problem]</td>\n    </tr>\n    <tr>\n      <th>7</th>\n      <td>299899</td>\n      <td>student</td>\n      <td>[36sqrt2, throwing, beginning, solve, problem]</td>\n    </tr>\n    <tr>\n      <th>8</th>\n      <td>299899</td>\n      <td>student</td>\n      <td>[36sqrt2, throwing, beginning, solve, problem]</td>\n    </tr>\n    <tr>\n      <th>9</th>\n      <td>299899</td>\n      <td>tutor</td>\n      <td>[okay, worries, let, 's, work, problem, together]</td>\n    </tr>\n    <tr>\n      <th>10</th>\n      <td>299899</td>\n      <td>student</td>\n      <td>[math, complete, 30, 60, 90, triangle, theorem...</td>\n    </tr>\n    <tr>\n      <th>11</th>\n      <td>299899</td>\n      <td>student</td>\n      <td>[math, complete, 30, 60, 90, triangle, theorem...</td>\n    </tr>\n    <tr>\n      <th>12</th>\n      <td>299899</td>\n      <td>tutor</td>\n      <td>[looks, like, struggling, solving, special, ri...</td>\n    </tr>\n    <tr>\n      <th>13</th>\n      <td>299899</td>\n      <td>tutor</td>\n      <td>[would, like, try, ?]</td>\n    </tr>\n    <tr>\n      <th>14</th>\n      <td>299899</td>\n      <td>student</td>\n      <td>['m, confused, 36*sqrt2]</td>\n    </tr>\n    <tr>\n      <th>15</th>\n      <td>299899</td>\n      <td>tutor</td>\n      <td>['ll, help, arrive, solution, !]</td>\n    </tr>\n    <tr>\n      <th>16</th>\n      <td>299899</td>\n      <td>tutor</td>\n      <td>[remember, participate, order, finish, faster,...</td>\n    </tr>\n    <tr>\n      <th>17</th>\n      <td>299899</td>\n      <td>student</td>\n      <td>[qt, =, x, qs, =, x*sqrt3]</td>\n    </tr>\n    <tr>\n      <th>18</th>\n      <td>299899</td>\n      <td>tutor</td>\n      <td>[excellent]</td>\n    </tr>\n    <tr>\n      <th>19</th>\n      <td>299899</td>\n      <td>student</td>\n      <td>[x, 36*sqrt2/sqrt3, ?]</td>\n    </tr>\n    <tr>\n      <th>20</th>\n      <td>299899</td>\n      <td>student</td>\n      <td>[x, 36*sqrt2/sqrt3, ?]</td>\n    </tr>\n    <tr>\n      <th>21</th>\n      <td>299899</td>\n      <td>tutor</td>\n      <td>[yes, excellent, job]</td>\n    </tr>\n    <tr>\n      <th>22</th>\n      <td>299899</td>\n      <td>tutor</td>\n      <td>[set, equation, would]</td>\n    </tr>\n    <tr>\n      <th>23</th>\n      <td>299899</td>\n      <td>student</td>\n      <td>[x=29.39]</td>\n    </tr>\n    <tr>\n      <th>24</th>\n      <td>299899</td>\n      <td>tutor</td>\n      <td>[xsqrt(3, ), =, 60sqrt(2, ), right, ?]</td>\n    </tr>\n    <tr>\n      <th>25</th>\n      <td>299899</td>\n      <td>tutor</td>\n      <td>[would, keep, fraction, rationalize, ?]</td>\n    </tr>\n    <tr>\n      <th>26</th>\n      <td>299899</td>\n      <td>student</td>\n      <td>[yes]</td>\n    </tr>\n    <tr>\n      <th>27</th>\n      <td>299899</td>\n      <td>student</td>\n      <td>[yes]</td>\n    </tr>\n    <tr>\n      <th>28</th>\n      <td>299899</td>\n      <td>student</td>\n      <td>[36sqrt2sqrt3/3]</td>\n    </tr>\n    <tr>\n      <th>29</th>\n      <td>299899</td>\n      <td>student</td>\n      <td>[36sqrt2sqrt3/3]</td>\n    </tr>\n    <tr>\n      <th>30</th>\n      <td>299899</td>\n      <td>tutor</td>\n      <td>[great, job]</td>\n    </tr>\n    <tr>\n      <th>31</th>\n      <td>299899</td>\n      <td>student</td>\n      <td>[12sqrt2sqrt3]</td>\n    </tr>\n    <tr>\n      <th>32</th>\n      <td>299899</td>\n      <td>student</td>\n      <td>[12sqrt2sqrt3]</td>\n    </tr>\n    <tr>\n      <th>33</th>\n      <td>299899</td>\n      <td>tutor</td>\n      <td>[excellent]</td>\n    </tr>\n    <tr>\n      <th>34</th>\n      <td>299899</td>\n      <td>tutor</td>\n      <td>[use, root, properties, sqrt(a, ), ×, sqrt(b, ...</td>\n    </tr>\n    <tr>\n      <th>35</th>\n      <td>299899</td>\n      <td>student</td>\n      <td>[sqrt6]</td>\n    </tr>\n    <tr>\n      <th>36</th>\n      <td>299899</td>\n      <td>student</td>\n      <td>[sqrt6]</td>\n    </tr>\n    <tr>\n      <th>37</th>\n      <td>299899</td>\n      <td>tutor</td>\n      <td>[x., would, qt, st, ?]</td>\n    </tr>\n    <tr>\n      <th>38</th>\n      <td>299899</td>\n      <td>student</td>\n      <td>[12sqrt6]</td>\n    </tr>\n    <tr>\n      <th>39</th>\n      <td>299899</td>\n      <td>student</td>\n      <td>[24sqrt6]</td>\n    </tr>\n    <tr>\n      <th>40</th>\n      <td>299899</td>\n      <td>student</td>\n      <td>[24sqrt6]</td>\n    </tr>\n    <tr>\n      <th>41</th>\n      <td>299899</td>\n      <td>tutor</td>\n      <td>[great, job]</td>\n    </tr>\n    <tr>\n      <th>42</th>\n      <td>299899</td>\n      <td>tutor</td>\n      <td>[far, qt=12sqrt(6, ), ts, st=24sqrt(6, )]</td>\n    </tr>\n    <tr>\n      <th>43</th>\n      <td>299899</td>\n      <td>tutor</td>\n      <td>[next, step, ?]</td>\n    </tr>\n    <tr>\n      <th>44</th>\n      <td>299899</td>\n      <td>student</td>\n      <td>[find, side, lengths, triangle, 45, 45, 90]</td>\n    </tr>\n    <tr>\n      <th>45</th>\n      <td>299899</td>\n      <td>tutor</td>\n      <td>[yes, ?]</td>\n    </tr>\n    <tr>\n      <th>46</th>\n      <td>299899</td>\n      <td>student</td>\n      <td>[side, lengths, 36]</td>\n    </tr>\n    <tr>\n      <th>47</th>\n      <td>299899</td>\n      <td>student</td>\n      <td>[side, lengths, 36]</td>\n    </tr>\n    <tr>\n      <th>48</th>\n      <td>299899</td>\n      <td>tutor</td>\n      <td>[perfect]</td>\n    </tr>\n    <tr>\n      <th>49</th>\n      <td>299899</td>\n      <td>student</td>\n      <td>[perimeter, 160.1816]</td>\n    </tr>\n    <tr>\n      <th>50</th>\n      <td>299899</td>\n      <td>tutor</td>\n      <td>[give, minute, check, please, ?]</td>\n    </tr>\n    <tr>\n      <th>51</th>\n      <td>299899</td>\n      <td>tutor</td>\n      <td>[:)]</td>\n    </tr>\n  </tbody>\n</table>\n</div>"
     },
     "metadata": {},
     "execution_count": 8
    }
   ],
   "source": [
    "dfclean.head(50)"
   ]
  },
  {
   "cell_type": "code",
   "execution_count": 31,
   "metadata": {
    "tags": []
   },
   "outputs": [
    {
     "output_type": "stream",
     "name": "stdout",
     "text": "[&#39;Alright&#39;, &#39;👌&#39;]\n[&#39;Hi&#39;, &#39;👋&#39;]\n[&#39;Hi&#39;, &#39;👋&#39;]\n[&#39;👍&#39;, &#39;Okay&#39;, &#39;!&#39;]\n[&#39;Picture&#39;, &#39;😄&#39;]\n[&#39;Nothing&#39;, &#39;😂&#39;]\n"
    }
   ],
   "source": [
    "print(df.loc[195289].text)\n",
    "print(df.loc[18686].text)\n",
    "print(df.loc[28969].text)\n",
    "print(df.loc[43681].text)\n",
    "print(df.loc[32716].text)\n",
    "print(df.loc[25706].text)"
   ]
  },
  {
   "cell_type": "code",
   "execution_count": 37,
   "metadata": {
    "tags": []
   },
   "outputs": [
    {
     "output_type": "stream",
     "name": "stdout",
     "text": "[&#39;Alright&#39;, &#39;:OK_hand:&#39;]\n[&#39;Hi&#39;, &#39;:waving_hand:&#39;]\n[&#39;Hi&#39;, &#39;:waving_hand:&#39;]\n[&#39;:thumbs_up:&#39;, &#39;Okay&#39;, &#39;!&#39;]\n[&#39;Picture&#39;, &#39;:smiling_face_with_open_mouth_&amp;_smiling_eyes:&#39;]\n[&#39;Nothing&#39;, &#39;:face_with_tears_of_joy:&#39;]\n"
    }
   ],
   "source": [
    "print(dfclean.loc[195289].text)\n",
    "print(dfclean.loc[18686].text)\n",
    "print(dfclean.loc[28969].text)\n",
    "print(dfclean.loc[43681].text)\n",
    "print(dfclean.loc[32716].text)\n",
    "print(dfclean.loc[25706].text)"
   ]
  },
  {
   "cell_type": "code",
   "execution_count": 57,
   "metadata": {
    "tags": []
   },
   "outputs": [
    {
     "output_type": "execute_result",
     "data": {
      "text/plain": "[&#39;Hello&#39;, &#39;:happy_face_or_smiley:&#39;, &#39;:happy_face_smiley:&#39;]"
     },
     "metadata": {},
     "execution_count": 57
    }
   ],
   "source": [
    "def convert_emoticons(text):\n",
    "    text0 = emot.emoticons(text)\n",
    "    if text0['flag']:\n",
    "        return ':'+text0['mean'][0].replace(' ', '_').lower()+':'\n",
    "    return text\n",
    "\n",
    "text = [\"Hello\", \":-]\", \":-)\"]\n",
    "[convert_emoticons(t) for t in text]\n"
   ]
  },
  {
   "cell_type": "code",
   "execution_count": 3,
   "metadata": {
    "tags": []
   },
   "outputs": [
    {
     "output_type": "execute_result",
     "data": {
      "text/plain": "[&#39;i&#39;,\n &#39;me&#39;,\n &#39;my&#39;,\n &#39;myself&#39;,\n &#39;we&#39;,\n &#39;our&#39;,\n &#39;ours&#39;,\n &#39;ourselves&#39;,\n &#39;you&#39;,\n &quot;you&#39;re&quot;,\n &quot;you&#39;ve&quot;,\n &quot;you&#39;ll&quot;,\n &quot;you&#39;d&quot;,\n &#39;your&#39;,\n &#39;yours&#39;,\n &#39;yourself&#39;,\n &#39;yourselves&#39;,\n &#39;he&#39;,\n &#39;him&#39;,\n &#39;his&#39;,\n &#39;himself&#39;,\n &#39;she&#39;,\n &quot;she&#39;s&quot;,\n &#39;her&#39;,\n &#39;hers&#39;,\n &#39;herself&#39;,\n &#39;it&#39;,\n &quot;it&#39;s&quot;,\n &#39;its&#39;,\n &#39;itself&#39;,\n &#39;they&#39;,\n &#39;them&#39;,\n &#39;their&#39;,\n &#39;theirs&#39;,\n &#39;themselves&#39;,\n &#39;what&#39;,\n &#39;which&#39;,\n &#39;who&#39;,\n &#39;whom&#39;,\n &#39;this&#39;,\n &#39;that&#39;,\n &quot;that&#39;ll&quot;,\n &#39;these&#39;,\n &#39;those&#39;,\n &#39;am&#39;,\n &#39;is&#39;,\n &#39;are&#39;,\n &#39;was&#39;,\n &#39;were&#39;,\n &#39;be&#39;,\n &#39;been&#39;,\n &#39;being&#39;,\n &#39;have&#39;,\n &#39;has&#39;,\n &#39;had&#39;,\n &#39;having&#39;,\n &#39;do&#39;,\n &#39;does&#39;,\n &#39;did&#39;,\n &#39;doing&#39;,\n &#39;a&#39;,\n &#39;an&#39;,\n &#39;the&#39;,\n &#39;and&#39;,\n &#39;but&#39;,\n &#39;if&#39;,\n &#39;or&#39;,\n &#39;because&#39;,\n &#39;as&#39;,\n &#39;until&#39;,\n &#39;while&#39;,\n &#39;of&#39;,\n &#39;at&#39;,\n &#39;by&#39;,\n &#39;for&#39;,\n &#39;with&#39;,\n &#39;about&#39;,\n &#39;against&#39;,\n &#39;between&#39;,\n &#39;into&#39;,\n &#39;through&#39;,\n &#39;during&#39;,\n &#39;before&#39;,\n &#39;after&#39;,\n &#39;above&#39;,\n &#39;below&#39;,\n &#39;to&#39;,\n &#39;from&#39;,\n &#39;up&#39;,\n &#39;down&#39;,\n &#39;in&#39;,\n &#39;out&#39;,\n &#39;on&#39;,\n &#39;off&#39;,\n &#39;over&#39;,\n &#39;under&#39;,\n &#39;again&#39;,\n &#39;further&#39;,\n &#39;then&#39;,\n &#39;once&#39;,\n &#39;here&#39;,\n &#39;there&#39;,\n &#39;when&#39;,\n &#39;where&#39;,\n &#39;why&#39;,\n &#39;how&#39;,\n &#39;all&#39;,\n &#39;any&#39;,\n &#39;both&#39;,\n &#39;each&#39;,\n &#39;few&#39;,\n &#39;more&#39;,\n &#39;most&#39;,\n &#39;other&#39;,\n &#39;some&#39;,\n &#39;such&#39;,\n &#39;no&#39;,\n &#39;nor&#39;,\n &#39;not&#39;,\n &#39;only&#39;,\n &#39;own&#39;,\n &#39;same&#39;,\n &#39;so&#39;,\n &#39;than&#39;,\n &#39;too&#39;,\n &#39;very&#39;,\n &#39;s&#39;,\n &#39;t&#39;,\n &#39;can&#39;,\n &#39;will&#39;,\n &#39;just&#39;,\n &#39;don&#39;,\n &quot;don&#39;t&quot;,\n &#39;should&#39;,\n &quot;should&#39;ve&quot;,\n &#39;now&#39;,\n &#39;d&#39;,\n &#39;ll&#39;,\n &#39;m&#39;,\n &#39;o&#39;,\n &#39;re&#39;,\n &#39;ve&#39;,\n &#39;y&#39;,\n &#39;ain&#39;,\n &#39;aren&#39;,\n &quot;aren&#39;t&quot;,\n &#39;couldn&#39;,\n &quot;couldn&#39;t&quot;,\n &#39;didn&#39;,\n &quot;didn&#39;t&quot;,\n &#39;doesn&#39;,\n &quot;doesn&#39;t&quot;,\n &#39;hadn&#39;,\n &quot;hadn&#39;t&quot;,\n &#39;hasn&#39;,\n &quot;hasn&#39;t&quot;,\n &#39;haven&#39;,\n &quot;haven&#39;t&quot;,\n &#39;isn&#39;,\n &quot;isn&#39;t&quot;,\n &#39;ma&#39;,\n &#39;mightn&#39;,\n &quot;mightn&#39;t&quot;,\n &#39;mustn&#39;,\n &quot;mustn&#39;t&quot;,\n &#39;needn&#39;,\n &quot;needn&#39;t&quot;,\n &#39;shan&#39;,\n &quot;shan&#39;t&quot;,\n &#39;shouldn&#39;,\n &quot;shouldn&#39;t&quot;,\n &#39;wasn&#39;,\n &quot;wasn&#39;t&quot;,\n &#39;weren&#39;,\n &quot;weren&#39;t&quot;,\n &#39;won&#39;,\n &quot;won&#39;t&quot;,\n &#39;wouldn&#39;,\n &quot;wouldn&#39;t&quot;,\n &#39;,&#39;,\n &#39;’&#39;,\n &#39;.&#39;,\n &#39;:&#39;,\n &#39;-&#39;,\n &#39;;&#39;]"
     },
     "metadata": {},
     "execution_count": 3
    }
   ],
   "source": [
    "stopwords"
   ]
  }
 ]
}