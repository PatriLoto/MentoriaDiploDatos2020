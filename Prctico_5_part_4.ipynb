{
 "metadata": {
  "language_info": {
   "codemirror_mode": {
    "name": "ipython",
    "version": 3
   },
   "file_extension": ".py",
   "mimetype": "text/x-python",
   "name": "python",
   "nbconvert_exporter": "python",
   "pygments_lexer": "ipython3",
   "version": "3.7.0-final"
  },
  "orig_nbformat": 2,
  "kernelspec": {
   "name": "Python 3.7.0 64-bit",
   "display_name": "Python 3.7.0 64-bit",
   "metadata": {
    "interpreter": {
     "hash": "c0558758b2c20aded1bec288d8b5d95f0ce82cc10523c91486ccff78ac667d20"
    }
   }
  }
 },
 "nbformat": 4,
 "nbformat_minor": 2,
 "cells": [
  {
   "source": [
    "# Practico 5 (parte 4)\n",
    "\n",
    "## Entrenar word embeddings\n",
    "\n",
    "## Importación de módulos y librerías"
   ],
   "cell_type": "markdown",
   "metadata": {}
  },
  {
   "cell_type": "code",
   "execution_count": 1,
   "metadata": {},
   "outputs": [],
   "source": [
    "# Inclusion de librerias y módulos\n",
    "import os\n",
    "import numpy as np\n",
    "import matplotlib.pyplot as plt\n",
    "import pandas as pd\n",
    "import seaborn as sns\n",
    "import nltk\n",
    "\n",
    "# Algunas utilidades\n",
    "from utiles import print_some_info\n",
    "\n",
    "# Nos permite convertir str a list\n",
    "from ast import literal_eval\n",
    "\n",
    "# Colores\n",
    "BLUE   = '#5DADE2'\n",
    "RED    = '#ff7043'\n",
    "ORANGE = '#F5B041'\n",
    "GREEN  = '#58D68D'\n",
    "YELLOW = '#F4D03F'\n",
    "pltcolors = [BLUE, RED, ORANGE, GREEN, YELLOW]\n",
    "\n",
    "# Plot axes y legends parambs\n",
    "plt.rcParams[\"axes.labelweight\"]   = \"bold\"\n",
    "plt.rcParams[\"axes.titleweight\"]   = \"bold\"\n",
    "plt.rcParams[\"legend.shadow\"]      = True\n",
    "plt.rcParams[\"figure.titleweight\"] = \"bold\"\n",
    "\n",
    "data_dir = os.path.join('..', 'dataset')"
   ]
  },
  {
   "source": [
    "## Lectura del archivo de mensajes\n",
    "Utilizamos unicamente el archivo de mensajes dado que vamos a entrenar un word embeding como word2vec. Entendemos que para el propósito del análisis y por que no estamos empleando ningún modelo de clasificación o regresión podemos usar el conjunto de datos completo."
   ],
   "cell_type": "markdown",
   "metadata": {}
  },
  {
   "cell_type": "code",
   "execution_count": 2,
   "metadata": {
    "tags": []
   },
   "outputs": [
    {
     "output_type": "stream",
     "name": "stdout",
     "text": "El conjunto de datos utilizado es dev_yup_messages_preprocessed.csv\nEl conjunto de datos posee 234375 filas y 6 columnas\n&lt;class &#39;pandas.core.frame.DataFrame&#39;&gt;\nRangeIndex: 234375 entries, 0 to 234374\nData columns (total 6 columns):\n #   Column        Non-Null Count   Dtype \n---  ------        --------------   ----- \n 0   session_id    234375 non-null  int64 \n 1   created_at    234375 non-null  object\n 2   sent_from     234375 non-null  object\n 3   sent_to       234375 non-null  object\n 4   content_type  234375 non-null  object\n 5   text          234375 non-null  object\ndtypes: int64(1), object(5)\nmemory usage: 10.7+ MB\nNone\n"
    }
   ],
   "source": [
    "filename = 'dev_yup_messages_preprocessed.csv'\n",
    "df = pd.read_csv(os.path.join(data_dir, filename))\n",
    "\n",
    "print(f'El conjunto de datos utilizado es {filename}')\n",
    "print_some_info(df)\n"
   ]
  },
  {
   "cell_type": "code",
   "execution_count": 33,
   "metadata": {},
   "outputs": [],
   "source": [
    "import re\n",
    "from emot.emo_unicode import UNICODE_EMO, EMOTICONS\n",
    "def convert_emojis(text):\n",
    "    text0 = [t for t in re.findall(r'\\\\x..\\\\x..\\\\x..\\\\x..', str(text.encode()))]\n",
    "    text0 = [''.join(t.split('\\\\x')[1:]) for t in text0]\n",
    "    text0 = [bytes.fromhex(t).decode() for t in text0 if t[0]=='f']\n",
    "    text0 = [UNICODE_EMO[t] for t in text0 if t in UNICODE_EMO]\n",
    "    text0 = ' '.join(text0)\n",
    "    return text0 if text0 else text"
   ]
  },
  {
   "cell_type": "code",
   "execution_count": 6,
   "metadata": {
    "tags": []
   },
   "outputs": [
    {
     "output_type": "execute_result",
     "data": {
      "text/plain": "        session_id sent_from  \\\n0           299895     tutor   \n1           299895     tutor   \n3           299899   student   \n5           299899     tutor   \n6           299899     tutor   \n...            ...       ...   \n234370      326164   student   \n234371      326164     tutor   \n234372      326164   student   \n234373      326164     tutor   \n234374      326164   student   \n\n                                                     text  \n0                        [Welcome, to, Yup, ,, Jasmyn, !]  \n1       [How, may, I, help, you, with, your, math, tod...  \n3                                                 [&lt;url&gt;]  \n5                   [Hello, Luke, ,, welcome, to, Yup, !]  \n6                [I, am, looking, over, your, problem, .]  \n...                                                   ...  \n234370  [And, then, I, distribute, what, s, in, the, p...  \n234371                                           [Yep, !]  \n234372                               [I, m, almost, done]  \n234373  [Okay, !, Send, me, a, pic, of, your, work, wh...  \n234374                                            [&lt;url&gt;]  \n\n[210242 rows x 3 columns]",
      "text/html": "<div>\n<style scoped>\n    .dataframe tbody tr th:only-of-type {\n        vertical-align: middle;\n    }\n\n    .dataframe tbody tr th {\n        vertical-align: top;\n    }\n\n    .dataframe thead th {\n        text-align: right;\n    }\n</style>\n<table border=\"1\" class=\"dataframe\">\n  <thead>\n    <tr style=\"text-align: right;\">\n      <th></th>\n      <th>session_id</th>\n      <th>sent_from</th>\n      <th>text</th>\n    </tr>\n  </thead>\n  <tbody>\n    <tr>\n      <th>0</th>\n      <td>299895</td>\n      <td>tutor</td>\n      <td>[Welcome, to, Yup, ,, Jasmyn, !]</td>\n    </tr>\n    <tr>\n      <th>1</th>\n      <td>299895</td>\n      <td>tutor</td>\n      <td>[How, may, I, help, you, with, your, math, tod...</td>\n    </tr>\n    <tr>\n      <th>3</th>\n      <td>299899</td>\n      <td>student</td>\n      <td>[&lt;url&gt;]</td>\n    </tr>\n    <tr>\n      <th>5</th>\n      <td>299899</td>\n      <td>tutor</td>\n      <td>[Hello, Luke, ,, welcome, to, Yup, !]</td>\n    </tr>\n    <tr>\n      <th>6</th>\n      <td>299899</td>\n      <td>tutor</td>\n      <td>[I, am, looking, over, your, problem, .]</td>\n    </tr>\n    <tr>\n      <th>...</th>\n      <td>...</td>\n      <td>...</td>\n      <td>...</td>\n    </tr>\n    <tr>\n      <th>234370</th>\n      <td>326164</td>\n      <td>student</td>\n      <td>[And, then, I, distribute, what, s, in, the, p...</td>\n    </tr>\n    <tr>\n      <th>234371</th>\n      <td>326164</td>\n      <td>tutor</td>\n      <td>[Yep, !]</td>\n    </tr>\n    <tr>\n      <th>234372</th>\n      <td>326164</td>\n      <td>student</td>\n      <td>[I, m, almost, done]</td>\n    </tr>\n    <tr>\n      <th>234373</th>\n      <td>326164</td>\n      <td>tutor</td>\n      <td>[Okay, !, Send, me, a, pic, of, your, work, wh...</td>\n    </tr>\n    <tr>\n      <th>234374</th>\n      <td>326164</td>\n      <td>student</td>\n      <td>[&lt;url&gt;]</td>\n    </tr>\n  </tbody>\n</table>\n<p>210242 rows × 3 columns</p>\n</div>"
     },
     "metadata": {},
     "execution_count": 6
    }
   ],
   "source": [
    "#1. Tomamos solo las columnas que nos pueden servir. Esto es preliminar, podríamos tomar solo `text`\n",
    "dfclean = df[['session_id', 'sent_from', 'text']]\n",
    "\n",
    "#2. Tomamos solo las filas que sean tutor o student a partir de la columna `sent_from`\n",
    "dfclean = dfclean[dfclean.sent_from.isin(['student', 'tutor'])]\n",
    "\n",
    "#3. Convertimos a lista de strings el contenido de la columna text\n",
    "dfclean['text'] = dfclean.text.apply(lambda x: literal_eval(x))\n",
    "\n",
    "dfclean\n",
    "\n",
    "# 4 emojis\n",
    "\n",
    "# 5 emoticones\n",
    "\n",
    "# 6 minusculas\n",
    "\n",
    "# 7 stopwords"
   ]
  },
  {
   "cell_type": "code",
   "execution_count": 36,
   "metadata": {
    "tags": []
   },
   "outputs": [
    {
     "output_type": "execute_result",
     "data": {
      "text/plain": "229384                               [I, got, 0.6986768577]\n213374                                    [I, &#39;m, confused]\n145736           [Ok, ., Can, you, send, me, the, graph, ?]\n231519          [Remember, 400, workers, take, 8, years, .]\n205763         [Awesome, :), You, got, that, one, quick, !]\n194814                                  [No, thank, you, !]\n121124                                              [which]\n201946                                              [27/38]\n151405                                  [Is, this, correct]\n38630                                               [&lt;url&gt;]\n176333                                [but, what, about, y]\n60441     [If, ONE, box, A, contains, 100, g, of, COCO, ...\n9683                                         [I, mean, yes]\n166701                                      [Well, done, !]\n152863                                              [&lt;url&gt;]\n69848                      [so, how, do, i, write, that, ?]\n160616                                     [denominator, *]\n64501     [It, &#39;s, okay, !, :), We, will, work, on, this...\n61383                        [Still, have, more, questions]\n150049                                               [150h]\nName: text, dtype: object"
     },
     "metadata": {},
     "execution_count": 36
    }
   ],
   "source": [
    "dfclean.text.sample(20)\n"
   ]
  },
  {
   "cell_type": "code",
   "execution_count": 35,
   "metadata": {},
   "outputs": [
    {
     "output_type": "execute_result",
     "data": {
      "text/plain": "[&#39;Not&#39;,\n &#39;much&#39;,\n &#39;at&#39;,\n &#39;all&#39;,\n &#39;I&#39;,\n &#39;did&#39;,\n &quot;n&#39;t&quot;,\n &#39;know&#39;,\n &#39;how&#39;,\n &#39;to&#39;,\n &#39;do&#39;,\n &#39;this&#39;,\n &#39;problem&#39;,\n &#39;so&#39;,\n &#39;I&#39;,\n &#39;need&#39;,\n &#39;ur&#39;,\n &#39;help&#39;]"
     },
     "metadata": {},
     "execution_count": 35
    }
   ],
   "source": [
    "[convert_emojis(i) for i in dfclean.loc[148142].text]"
   ]
  },
  {
   "cell_type": "code",
   "execution_count": null,
   "metadata": {},
   "outputs": [],
   "source": []
  }
 ]
}