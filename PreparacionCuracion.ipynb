{
 "cells": [
  {
   "cell_type": "markdown",
   "metadata": {},
   "source": [
    "# Preparación y curación de los datos"
   ]
  },
  {
   "cell_type": "markdown",
   "metadata": {},
   "source": [
    "---\n",
    "## Convenciones\n",
    "\n",
    "### Dataframes principales\n",
    "\n",
    "`msg_df` dataframe de mensajes\n",
    "\n",
    "`md_df` dataframe de metadata\n",
    "\n",
    "`agg_msg_df` dataframe de mensajes totalizado\n",
    "\n",
    "`res_df` dataframe resultante del merge del dataframe de metadata y el dataframe de mensajes totalizado\n",
    "\n",
    "### Prefijos de columnas nuevas\n",
    "\n",
    "`n_` cantidad count\n",
    "\n",
    "`n_words` cantidad de palabras\n",
    "\n",
    "`avg_` promedio\n",
    "\n",
    "---\n"
   ]
  },
  {
   "cell_type": "markdown",
   "metadata": {},
   "source": [
    "## Imports"
   ]
  },
  {
   "cell_type": "code",
   "execution_count": 1,
   "metadata": {},
   "outputs": [],
   "source": [
    "import os\n",
    "import pandas as pd\n",
    "import numpy as np\n",
    "import matplotlib.pyplot as plt\n",
    "import math\n",
    "\n",
    "from ast import literal_eval\n",
    "from collections import Counter\n",
    "\n",
    "import re\n",
    "\n",
    "from type_to_fix import T2F"
   ]
  },
  {
   "cell_type": "markdown",
   "metadata": {},
   "source": [
    "## Columnas de la metadata a incluir en el resultado\n",
    "\n",
    "**Nota:**\n",
    "*Incluidas en la notebook para que sean facilmente \"comentables\"*"
   ]
  },
  {
   "cell_type": "code",
   "execution_count": 2,
   "metadata": {},
   "outputs": [],
   "source": [
    "C2K = list()\n",
    "C2K.append('session_id')\n",
    "C2K.append('tutor_id')\n",
    "C2K.append('student_id')\n",
    "C2K.append('timestamp')\n",
    "C2K.append('feedback_score')\n",
    "C2K.append('wait_time')\n",
    "C2K.append('ended_by_reason')\n",
    "C2K.append('session_category')\n",
    "C2K.append('consolidated_session_category')\n",
    "C2K.append('student_complained')\n",
    "C2K.append('student_complaint_clarity')\n",
    "C2K.append('student_complaint_speed')\n",
    "C2K.append('student_complaint_subject')\n",
    "C2K.append('student_complaint_other')\n",
    "C2K.append('session_tag_cheating')\n",
    "C2K.append('session_tag_inappropriate')\n",
    "C2K.append('session_tag_other_subject')\n",
    "C2K.append('session_tag_no_material')\n",
    "C2K.append('session_tag_student_left')\n",
    "C2K.append('session_tag_student_not_engaging')\n",
    "C2K.append('session_tag_used_whiteboard')\n",
    "C2K.append('student_rating')\n",
    "C2K.append('length_of_session')\n",
    "C2K.append('avg_tutor_response_time')\n",
    "C2K.append('max_tutor_response_time')\n",
    "C2K.append('subject')\n",
    "C2K.append('subtopic')\n",
    "# C2K.append('rubric_version')\n",
    "C2K.append('tutor_gender')\n",
    "C2K.append('tutor_international_name')\n",
    "C2K.append('tutor_fired')\n",
    "C2K.append('tutor_math_exam_score')\n",
    "C2K.append('tutor_physics_exam_score')\n",
    "C2K.append('tutor_chemistry_exam_score')\n",
    "C2K.append('tutor_last_sign_in_country')\n",
    "C2K.append('tutor_age')\n",
    "#C2K.append('student_platform')\n",
    "#C2K.append('student_app_version')\n",
    "#C2K.append('student_transactions_amount')\n"
   ]
  },
  {
   "cell_type": "markdown",
   "metadata": {},
   "source": [
    "## Carga de archivos CSV de origen\n",
    "\n",
    "**Nota:**\n",
    "*Descomentar el archivo de mensajes necesario*"
   ]
  },
  {
   "cell_type": "code",
   "execution_count": 3,
   "metadata": {},
   "outputs": [
    {
     "name": "stdout",
     "output_type": "stream",
     "text": [
      "\n",
      "Dimensiones del dataset de mensajes\n",
      "Filas: 1574069\n",
      "Columnas: 6\n",
      "Cantidad de sesiones:  25693\n",
      "Cantidad de turnos: 1574069\n",
      "Cantidad de turnos del tutor: 810024\n",
      "Cantidad de turnos del estudiante: 601453\n",
      "\n",
      "Dimensiones del dataset de metadata\n",
      "Filas: 63265\n",
      "Columnas: 35\n",
      "Cantidad de sesiones:  63265\n"
     ]
    }
   ],
   "source": [
    "data_dir = os.path.join('..', 'dataset')\n",
    "\n",
    "# dataset de mensajes\n",
    "msg_data_file_name = 'dev_yup_messages_preprocessed.csv'\n",
    "#msg_data_file_name = 'train_yup_messages_preprocessed.csv'\n",
    "#msg_data_file_name = 'test_yup_messages_preprocessed.csv'\n",
    "#msg_data_file_name = 'yup_messages_preprocessed.csv'\n",
    "\n",
    "msg_full_data_file_name = os.path.join(data_dir, msg_data_file_name)\n",
    "msg_df = pd.read_csv(msg_full_data_file_name)\n",
    "msg_df = msg_df.astype({'created_at': 'datetime64[ns, UTC]'})\n",
    "\n",
    "# dataset de metadata\n",
    "md_data_file_name = 'datadump-20150801-20171219.csv'\n",
    "md_full_data_file_name = os.path.join(data_dir, md_data_file_name)\n",
    "md_df = pd.read_csv(md_full_data_file_name, low_memory=False)\n",
    "\n",
    "# dataset de metadata\n",
    "md_df.columns = [column.strip() for column in md_df.columns]\n",
    "md_df = md_df[C2K]\n",
    "md_df = md_df.astype(T2F)\n",
    "\n",
    "# Caracterización del dataset de mensajes\n",
    "print ('\\nDimensiones del dataset de mensajes')\n",
    "print ('Filas: {}'.format(msg_df.shape[0]))\n",
    "print ('Columnas: {}'.format(msg_df.shape[1]))\n",
    "print ('Cantidad de sesiones: ', msg_df['session_id'].nunique())\n",
    "print ('Cantidad de turnos: {}'.format(msg_df.shape[0]))\n",
    "print ('Cantidad de turnos del tutor: {}'.format(len(msg_df[msg_df.sent_from=='tutor'])))\n",
    "print ('Cantidad de turnos del estudiante: {}'.format(len(msg_df[msg_df.sent_from=='student'])))\n",
    "\n",
    "# Caracterización del dataset de metadata\n",
    "print ('\\nDimensiones del dataset de metadata')\n",
    "print ('Filas: {}'.format(md_df.shape[0]))\n",
    "print ('Columnas: {}'.format(md_df.shape[1]))\n",
    "print ('Cantidad de sesiones: ', md_df['session_id'].nunique())"
   ]
  },
  {
   "cell_type": "markdown",
   "metadata": {},
   "source": [
    "## Cálculo de la longitud de los mensajes y features derivadas de éstas"
   ]
  },
  {
   "cell_type": "code",
   "execution_count": 4,
   "metadata": {},
   "outputs": [],
   "source": [
    "# Cálculo de las longitudes de los mensajes (cantidad de palabas)\n",
    "\n",
    "msg_df['tokens'] = msg_df.text.apply(lambda x: literal_eval(x))\n",
    "msg_df['n_words'] = msg_df.tokens.apply(lambda x: len(x))"
   ]
  },
  {
   "cell_type": "code",
   "execution_count": 5,
   "metadata": {},
   "outputs": [],
   "source": [
    "# Número de palabras tutor y estudiante\n",
    "\n",
    "agg_tutor_msg_df = msg_df[msg_df['sent_from']=='tutor'].groupby('session_id').agg(\n",
    "    avg_words_tutor = ('n_words', np.mean),\n",
    "    n_words_tutor = ('n_words', sum),\n",
    "    n_msg_tutor = ('sent_from', lambda x: x.eq('tutor').sum())\n",
    "    \n",
    ")\n",
    "agg_student_msg_df = msg_df[msg_df['sent_from']=='student'].groupby('session_id').agg(\n",
    "    avg_words_student = ('n_words', np.mean),\n",
    "    n_words_student = ('n_words', sum),\n",
    "    n_msg_student = ('sent_from', lambda x: x.eq('student').sum())\n",
    "    \n",
    ")"
   ]
  },
  {
   "cell_type": "markdown",
   "metadata": {},
   "source": [
    "## Otras agregaciones del dataset de mansajes"
   ]
  },
  {
   "cell_type": "code",
   "execution_count": 6,
   "metadata": {},
   "outputs": [],
   "source": [
    "# Otras agregaciones del dataset de mensajes \n",
    "agg_msg_df = msg_df.groupby('session_id').agg(\n",
    "        # started =('created_at', min),\n",
    "        # ended =('created_at', max),\n",
    "        duration = ('created_at', lambda x: (max(x) - min(x))),\n",
    "        n_msg_bot = ('sent_from', lambda x: x.eq('bot').sum()),\n",
    "        n_msg_system = ('sent_from', lambda x: x.isin(list(['system alert', 'system info', 'system warn'])).sum()),\n",
    "        n_msg_content_text = ('content_type', lambda x: x.eq('text').sum()),\n",
    "        n_msg_content_image = ('content_type', lambda x: x.eq('image').sum()),\n",
    ")"
   ]
  },
  {
   "cell_type": "code",
   "execution_count": 7,
   "metadata": {},
   "outputs": [
    {
     "name": "stdout",
     "output_type": "stream",
     "text": [
      "(22359, 3)\n",
      "(25195, 3)\n",
      "(25693, 5)\n"
     ]
    }
   ],
   "source": [
    "print(agg_tutor_msg_df.shape)\n",
    "print(agg_student_msg_df.shape)\n",
    "print(agg_msg_df.shape)"
   ]
  },
  {
   "cell_type": "markdown",
   "metadata": {},
   "source": [
    "## Unión de los dataframes\n",
    "\n",
    "*Las métricas que no tienen valores en el left join se les asigna 0*"
   ]
  },
  {
   "cell_type": "code",
   "execution_count": 8,
   "metadata": {},
   "outputs": [],
   "source": [
    "# Joins\n",
    "res_df = pd.merge(md_df, agg_msg_df, on=[\"session_id\", \"session_id\"])\n",
    "res_df = pd.merge(res_df, agg_tutor_msg_df, how=\"left\", on=[\"session_id\", \"session_id\"])\n",
    "res_df = pd.merge(res_df, agg_student_msg_df, how=\"left\", on=[\"session_id\", \"session_id\"])\n",
    "\n",
    "# Llenar los NAN producto del left join con ceros\n",
    "res_df['avg_words_tutor'] = res_df['avg_words_tutor'].fillna(0)\n",
    "res_df['n_words_tutor'] = res_df['n_words_tutor'].fillna(0)\n",
    "res_df['n_msg_tutor'] = res_df['n_msg_tutor'].fillna(0)\n",
    "\n",
    "res_df['avg_words_student'] = res_df['avg_words_student'].fillna(0)\n",
    "res_df['n_words_student'] = res_df['n_words_student'].fillna(0)\n",
    "res_df['n_msg_student'] = res_df['n_msg_student'].fillna(0)"
   ]
  },
  {
   "cell_type": "markdown",
   "metadata": {},
   "source": [
    "## Caracterización de la variable `student_rating` a `student_rating_cat`"
   ]
  },
  {
   "cell_type": "code",
   "execution_count": 9,
   "metadata": {},
   "outputs": [
    {
     "name": "stdout",
     "output_type": "stream",
     "text": [
      "Remoción de 788 sesiones calificadas como neutras\n"
     ]
    }
   ],
   "source": [
    "# Categorización de la variable student_rating\n",
    "\n",
    "def student_rating_category(x):\n",
    "    \n",
    "    if x <= 2:\n",
    "        return 0\n",
    "    \n",
    "    if x >= 4:\n",
    "        return 1\n",
    "\n",
    "    return 'neutra'\n",
    "\n",
    "# Eliminamos las filas nulas\n",
    "res_df = res_df.dropna(subset=['student_rating'])\n",
    "\n",
    "# Categorización de la variable numérica\n",
    "res_df['student_rating_cat'] = res_df.student_rating.apply(student_rating_category)\n",
    "\n",
    "# Remoción de las filas con calificación neutra\n",
    "print ('Remoción de {} sesiones calificadas como neutras'.format(len(res_df[res_df['student_rating_cat'] == 'neutra'])))\n",
    "res_df = res_df[res_df['student_rating_cat'] != 'neutra']"
   ]
  },
  {
   "cell_type": "code",
   "execution_count": 10,
   "metadata": {},
   "outputs": [
    {
     "name": "stdout",
     "output_type": "stream",
     "text": [
      "\n",
      "Dimensiones del dataset combinado\n",
      "Filas: 17429\n",
      "Columnas: 47\n",
      "Cantidad de sesiones:  17429\n"
     ]
    }
   ],
   "source": [
    "# Caracterización del dataset combinado\n",
    "print ('\\nDimensiones del dataset combinado')\n",
    "print ('Filas: {}'.format(res_df.shape[0]))\n",
    "print ('Columnas: {}'.format(res_df.shape[1]))\n",
    "print ('Cantidad de sesiones: ', res_df['session_id'].nunique())"
   ]
  },
  {
   "cell_type": "markdown",
   "metadata": {},
   "source": [
    "## Drop de columnas que no se van a usar"
   ]
  },
  {
   "cell_type": "code",
   "execution_count": 11,
   "metadata": {},
   "outputs": [
    {
     "name": "stderr",
     "output_type": "stream",
     "text": [
      "/Users/pgianni/venv/diplo/lib/python3.8/site-packages/pandas/core/indexing.py:966: SettingWithCopyWarning: \n",
      "A value is trying to be set on a copy of a slice from a DataFrame.\n",
      "Try using .loc[row_indexer,col_indexer] = value instead\n",
      "\n",
      "See the caveats in the documentation: https://pandas.pydata.org/pandas-docs/stable/user_guide/indexing.html#returning-a-view-versus-a-copy\n",
      "  self.obj[item] = s\n"
     ]
    }
   ],
   "source": [
    "columns_to_keep = list()\n",
    "columns_to_keep.append('tutor_id')\n",
    "columns_to_keep.append('tutor_age')\n",
    "columns_to_keep.append('session_tag_no_material')\n",
    "columns_to_keep.append('session_tag_student_left')\n",
    "columns_to_keep.append('session_tag_student_not_engaging')\n",
    "columns_to_keep.append('student_complained')\n",
    "columns_to_keep.append('student_complaint_clarity')\n",
    "columns_to_keep.append('student_complaint_speed')\n",
    "columns_to_keep.append('student_complaint_subject')\n",
    "columns_to_keep.append('student_complaint_other')\n",
    "columns_to_keep.append('session_tag_cheating')\n",
    "columns_to_keep.append('session_tag_inappropriate')\n",
    "columns_to_keep.append('session_tag_other_subject')\n",
    "columns_to_keep.append('avg_words_tutor')\n",
    "columns_to_keep.append('n_words_tutor')\n",
    "columns_to_keep.append('n_msg_tutor')\n",
    "columns_to_keep.append('avg_words_student')\n",
    "columns_to_keep.append('n_words_student')\n",
    "columns_to_keep.append('n_msg_student')\n",
    "columns_to_keep.append('student_rating_cat')\n",
    "\n",
    "final_df = res_df[columns_to_keep]\n",
    "\n",
    "mean_tutor_age = final_df.tutor_age.mean().astype(int)\n",
    "for i in final_df[final_df.tutor_age.isna()].index:\n",
    "    final_df.loc[i, ['tutor_age']] = mean_tutor_age"
   ]
  },
  {
   "cell_type": "markdown",
   "metadata": {},
   "source": [
    "## Guardado del archivo de resultados"
   ]
  },
  {
   "cell_type": "code",
   "execution_count": 12,
   "metadata": {},
   "outputs": [],
   "source": [
    "# Salva archivo csv con el prefijo del archivo procesado\n",
    "curated_data_file_name = msg_data_file_name.split('_')[0] + '_curated_data.csv'\n",
    "curated_full_data_file_name = os.path.join(data_dir, curated_data_file_name)\n",
    "final_df.to_csv(curated_full_data_file_name, index=False)"
   ]
  }
 ],
 "metadata": {
  "kernelspec": {
   "display_name": "Python 3.7.6 64-bit ('diplo': venv)",
   "language": "python",
   "name": "python37664bitdiplovenvc8f1cc3d26344ed08febef30f9915ee6"
  },
  "language_info": {
   "codemirror_mode": {
    "name": "ipython",
    "version": 3
   },
   "file_extension": ".py",
   "mimetype": "text/x-python",
   "name": "python",
   "nbconvert_exporter": "python",
   "pygments_lexer": "ipython3",
   "version": "3.8.5"
  }
 },
 "nbformat": 4,
 "nbformat_minor": 4
}
