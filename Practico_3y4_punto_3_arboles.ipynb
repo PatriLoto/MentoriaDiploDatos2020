{
  "nbformat": 4,
  "nbformat_minor": 0,
  "metadata": {
    "colab": {
      "name": "Practico_3y4_punto_3_arboles.ipynb",
      "provenance": [],
      "collapsed_sections": []
    },
    "kernelspec": {
      "name": "python3",
      "display_name": "Python 3"
    }
  },
  "cells": [
    {
      "cell_type": "code",
      "metadata": {
        "id": "7KdM25aVtlis",
        "colab_type": "code",
        "colab": {}
      },
      "source": [
        "#Librerías \n",
        "import warnings\n",
        "warnings.filterwarnings(\"ignore\")\n",
        "\n",
        "import numpy as np\n",
        "import pandas as pd\n",
        "import pandas.util.testing as tm\n",
        "# Para gráficos\n",
        "import matplotlib.pyplot as plt\n",
        "import seaborn as sns\n",
        "from seaborn import heatmap\n",
        "from scipy import stats\n",
        "\n",
        "# Para dividir el dataset en train  y test\n",
        "from sklearn.model_selection import train_test_split\n",
        "from sklearn import model_selection\n",
        "\n",
        "# Algoritmo del Árbol de Decisión\n",
        "from sklearn.tree import (DecisionTreeClassifier, plot_tree)\n",
        "\n",
        "# Validación Cruzada \n",
        "from sklearn.model_selection import GridSearchCV\n",
        "\n",
        "# Para calcular métricas\n",
        "from sklearn.metrics import (accuracy_score, precision_score, recall_score,\n",
        "                             f1_score, confusion_matrix, classification_report,\n",
        "                            roc_curve, roc_auc_score, precision_recall_curve, plot_confusion_matrix) \n",
        "\n",
        "# Para la Normalización \n",
        "from sklearn.preprocessing import StandardScaler\n",
        "\n",
        "#Colors\n",
        "BLUE   = '#5DADE2'\n",
        "RED    = '#ff7043'\n",
        "ORANGE = '#F5B041'\n",
        "GREEN  = '#58D68D'\n",
        "YELLOW = '#F4D03F'\n",
        "\n",
        "# Utiles\n",
        "from utiles import basic_metrics\n",
        "from utiles import plot_cm\n",
        "from utiles import plot_roc_pr\n",
        "from utiles import PlotROC\n",
        "from utiles import PlotPR\n",
        "from utiles import plot_curve"
      ],
      "execution_count": 26,
      "outputs": []
    },
    {
      "cell_type": "code",
      "metadata": {
        "id": "nVEW_Reeu4XC",
        "colab_type": "code",
        "colab": {}
      },
      "source": [
        "filename = 'yup_curated_data.csv'  #trabajé con el archivo que me pasó Gustavo: train_curated_data.csv\n",
        "dataset = pd.read_csv(os.path.join('..', 'dataset', filename))"
      ],
      "execution_count": null,
      "outputs": []
    },
    {
      "cell_type": "markdown",
      "metadata": {
        "id": "wpNVjkU8wYf-",
        "colab_type": "text"
      },
      "source": [
        "**División y normalización de los datos**"
      ]
    },
    {
      "cell_type": "code",
      "metadata": {
        "id": "O76sbPMKt366",
        "colab_type": "code",
        "colab": {}
      },
      "source": [
        "# División entre instancias y etiquetas\n",
        "X, y = datos_curados.iloc[:, 1:], datos_curados.student_rating_cat\n",
        "\n",
        "# división entre entrenamiento y evaluación\n",
        "X_train, X_test, y_train, y_test = train_test_split(X, y, test_size=0.2, random_state=0)\n",
        "\n",
        "# normalización\n",
        "escalado = StandardScaler()\n",
        "escalado.fit(X_train)\n",
        "X_train = escalado.transform(X_train)\n",
        "X_test  = escalado.transform(X_test)  "
      ],
      "execution_count": 8,
      "outputs": []
    },
    {
      "cell_type": "markdown",
      "metadata": {
        "id": "osYeHR0ZDGoT",
        "colab_type": "text"
      },
      "source": [
        "##**Ejercicio 3: Árboles de Decisión**"
      ]
    },
    {
      "cell_type": "markdown",
      "metadata": {
        "id": "g9UGuV5giFES",
        "colab_type": "text"
      },
      "source": [
        "**Árboles de Decisión con parámetros por defecto.**"
      ]
    },
    {
      "cell_type": "code",
      "metadata": {
        "id": "RgLFX6oFEV33",
        "colab_type": "code",
        "colab": {
          "base_uri": "https://localhost:8080/",
          "height": 276
        },
        "outputId": "6f56a490-efe3-48b6-d267-92b89fede6f4"
      },
      "source": [
        "arbol_decision = DecisionTreeClassifier(random_state = 42) # random_state=3  # para que coincida con el random_state elegido para SGD\n",
        "\n",
        "print('Parámetros utilizados: \\n', np.array(list(arbol_decision.get_params(deep=False).items())))"
      ],
      "execution_count": 9,
      "outputs": [
        {
          "output_type": "stream",
          "text": [
            "Parámetros utilizados: \n",
            " [['ccp_alpha' 0.0]\n",
            " ['class_weight' None]\n",
            " ['criterion' 'gini']\n",
            " ['max_depth' None]\n",
            " ['max_features' None]\n",
            " ['max_leaf_nodes' None]\n",
            " ['min_impurity_decrease' 0.0]\n",
            " ['min_impurity_split' None]\n",
            " ['min_samples_leaf' 1]\n",
            " ['min_samples_split' 2]\n",
            " ['min_weight_fraction_leaf' 0.0]\n",
            " ['presort' 'deprecated']\n",
            " ['random_state' 42]\n",
            " ['splitter' 'best']]\n"
          ],
          "name": "stdout"
        }
      ]
    },
    {
      "cell_type": "markdown",
      "metadata": {
        "id": "UM6MnGTDEwZE",
        "colab_type": "text"
      },
      "source": [
        "**Entrenamiento**"
      ]
    },
    {
      "cell_type": "code",
      "metadata": {
        "id": "DA-rJ6UEEv2q",
        "colab_type": "code",
        "colab": {
          "base_uri": "https://localhost:8080/",
          "height": 121
        },
        "outputId": "fe137320-a7fa-4492-8f7b-c9e9c79c9568"
      },
      "source": [
        "arbol_decision.fit(X_train, y_train)"
      ],
      "execution_count": 10,
      "outputs": [
        {
          "output_type": "execute_result",
          "data": {
            "text/plain": [
              "DecisionTreeClassifier(ccp_alpha=0.0, class_weight=None, criterion='gini',\n",
              "                       max_depth=None, max_features=None, max_leaf_nodes=None,\n",
              "                       min_impurity_decrease=0.0, min_impurity_split=None,\n",
              "                       min_samples_leaf=1, min_samples_split=2,\n",
              "                       min_weight_fraction_leaf=0.0, presort='deprecated',\n",
              "                       random_state=42, splitter='best')"
            ]
          },
          "metadata": {
            "tags": []
          },
          "execution_count": 10
        }
      ]
    },
    {
      "cell_type": "markdown",
      "metadata": {
        "id": "yJeFiYvDE2Ih",
        "colab_type": "text"
      },
      "source": [
        "**Predicción**"
      ]
    },
    {
      "cell_type": "code",
      "metadata": {
        "id": "D-vPnWY4FBeY",
        "colab_type": "code",
        "colab": {}
      },
      "source": [
        "y_train_pred_arbolD = arbol_decision.predict(X_train)\n",
        "y_test_pred_arbolD  = arbol_decision.predict(X_test)"
      ],
      "execution_count": 11,
      "outputs": []
    },
    {
      "cell_type": "markdown",
      "metadata": {
        "id": "o8Y1Sfh9jOcA",
        "colab_type": "text"
      },
      "source": [
        "Accuracy con train"
      ]
    },
    {
      "cell_type": "code",
      "metadata": {
        "id": "__jsnde9jP0x",
        "colab_type": "code",
        "colab": {}
      },
      "source": [
        "print ('Accuracy: %d ' % ((np.sum(y_train == y_train_pred_arbolD))/float(y_train.size)*100))"
      ],
      "execution_count": null,
      "outputs": []
    },
    {
      "cell_type": "markdown",
      "metadata": {
        "id": "oFyo6boejLn_",
        "colab_type": "text"
      },
      "source": [
        "Accuracy con test"
      ]
    },
    {
      "cell_type": "code",
      "metadata": {
        "id": "-QuTvm24jJ3z",
        "colab_type": "code",
        "colab": {
          "base_uri": "https://localhost:8080/",
          "height": 34
        },
        "outputId": "06d2141b-17d0-44aa-e8df-754907bb4d5c"
      },
      "source": [
        "print ('Accuracy: %d ' % ((np.sum(y_test == y_test_pred_arbolD))/float(y_test.size)*100))"
      ],
      "execution_count": 22,
      "outputs": [
        {
          "output_type": "stream",
          "text": [
            "Accuracy: 100 \n"
          ],
          "name": "stdout"
        }
      ]
    },
    {
      "cell_type": "markdown",
      "metadata": {
        "id": "peIX7f5EFN3_",
        "colab_type": "text"
      },
      "source": [
        "**Valores máximos de profundidad y cantidad de hojas máxima**"
      ]
    },
    {
      "cell_type": "code",
      "metadata": {
        "id": "Z5f4wOdVFOSp",
        "colab_type": "code",
        "colab": {
          "base_uri": "https://localhost:8080/",
          "height": 52
        },
        "outputId": "23cfead0-0a9b-44ef-dbe8-ef104ef4363b"
      },
      "source": [
        "print('Profundidad máxima del árbol:', arbol_decision.get_depth())\n",
        "print('Cantidad máxima de hojas:', arbol_decision.get_n_leaves())"
      ],
      "execution_count": 12,
      "outputs": [
        {
          "output_type": "stream",
          "text": [
            "Profundidad máxima del árbol: 1\n",
            "Cantidad máxima de hojas: 2\n"
          ],
          "name": "stdout"
        }
      ]
    },
    {
      "cell_type": "markdown",
      "metadata": {
        "id": "D5mnhDCWFzFB",
        "colab_type": "text"
      },
      "source": [
        "**Gráficos**"
      ]
    },
    {
      "cell_type": "code",
      "metadata": {
        "id": "iLVghIQsF03s",
        "colab_type": "code",
        "colab": {
          "base_uri": "https://localhost:8080/",
          "height": 575
        },
        "outputId": "230d86f3-953e-462d-eb3a-917bf873c7d6"
      },
      "source": [
        "plt.figure(figsize=(17,10))\n",
        "plot_tree(arbol_decision, impurity=False, fontsize=12, filled=True, label='root')  #filled=True,\n",
        "plt.show()"
      ],
      "execution_count": 14,
      "outputs": [
        {
          "output_type": "display_data",
          "data": {
            "image/png": "[encoded data removed]",
            "text/plain": [
              "<Figure size 1224x720 with 1 Axes>"
            ]
          },
          "metadata": {
            "tags": [],
            "needs_background": "light"
          }
        }
      ]
    },
    {
      "cell_type": "markdown",
      "metadata": {
        "id": "ih5YuEaxK_-8",
        "colab_type": "text"
      },
      "source": [
        "**Métricas**\n"
      ]
    },
    {
      "cell_type": "code",
      "metadata": {
        "id": "JzKEpcjHxo4o",
        "colab_type": "code",
        "colab": {
          "base_uri": "https://localhost:8080/",
          "height": 518
        },
        "outputId": "6335600f-89f7-4d51-d2b8-8b1bc89b97d0"
      },
      "source": [
        "print('************************************************************')\n",
        "ad_train = basic_metrics(y_train, y_train_pred_arbolD, 'Train')\n",
        "print('------------------------------------------------------------')\n",
        "ad_test = basic_metrics(y_test, y_test_pred_arbolD, 'Test')\n",
        "print('------------------------------------------------------------')"
      ],
      "execution_count": 16,
      "outputs": [
        {
          "output_type": "stream",
          "text": [
            "************************************************************\n",
            "Métricas Train:\n",
            "              precision    recall  f1-score   support\n",
            "\n",
            "           0      1.000     1.000     1.000      2041\n",
            "           1      1.000     1.000     1.000      7691\n",
            "\n",
            "    accuracy                          1.000      9732\n",
            "   macro avg      1.000     1.000     1.000      9732\n",
            "weighted avg      1.000     1.000     1.000      9732\n",
            "\n",
            "Confusion Matrix: \n",
            "[[2041    0]\n",
            " [   0 7691]]\n",
            "------------------------------------------------------------\n",
            "Métricas Test:\n",
            "              precision    recall  f1-score   support\n",
            "\n",
            "           0      1.000     1.000     1.000       473\n",
            "           1      1.000     1.000     1.000      1960\n",
            "\n",
            "    accuracy                          1.000      2433\n",
            "   macro avg      1.000     1.000     1.000      2433\n",
            "weighted avg      1.000     1.000     1.000      2433\n",
            "\n",
            "Confusion Matrix: \n",
            "[[ 473    0]\n",
            " [   0 1960]]\n",
            "------------------------------------------------------------\n"
          ],
          "name": "stdout"
        }
      ]
    },
    {
      "cell_type": "markdown",
      "metadata": {
        "id": "dbsa5K94G4rl",
        "colab_type": "text"
      },
      "source": [
        "**Gráfico de matriz de confusión**"
      ]
    },
    {
      "cell_type": "code",
      "metadata": {
        "id": "zXgnXVeY7Vjd",
        "colab_type": "code",
        "colab": {
          "base_uri": "https://localhost:8080/",
          "height": 534
        },
        "outputId": "d79f5833-2018-445f-f79a-985d23192092"
      },
      "source": [
        "fig, axs = plt.subplots(1,2,figsize=(14,8))\n",
        "fig.suptitle('Árbol de decisión (Parámetros por omisión)', size= 14)\n",
        "axs[0].title.set_text('Entrenamiento')\n",
        "axs[1].title.set_text('Evaluación')\n",
        "fig.tight_layout(pad=5.0)\n",
        "np.set_printoptions(precision=2)\n",
        "titles_options = [(\"Entrenamiento\", 0, X_train, y_train_pred_arbolD, None, 'd'),\n",
        "                  (\"Prueba\", 1, X_test, y_test_pred_arbolD,  None, 'd'),\n",
        "                 ]\n",
        "\n",
        "for title, row, x_val, y_val, norm, val_format in titles_options:\n",
        "    disp = plot_confusion_matrix(arbol_decision, x_val, y_val,\n",
        "                                 cmap=plt.cm.Greens,\n",
        "                                 normalize=norm,\n",
        "                                 values_format=val_format,\n",
        "                                 ax=axs[row]\n",
        "                                 )\n",
        "    disp.ax_.set_title(title)"
      ],
      "execution_count": 24,
      "outputs": [
        {
          "output_type": "display_data",
          "data": {
            "image/png": "[encoded data removed]",
            "text/plain": [
              "<Figure size 1008x576 with 4 Axes>"
            ]
          },
          "metadata": {
            "tags": [],
            "needs_background": "light"
          }
        }
      ]
    },
    {
      "cell_type": "markdown",
      "metadata": {
        "id": "4YVXyH7vlHv9",
        "colab_type": "text"
      },
      "source": [
        "**Curvas ROC y PR**"
      ]
    },
    {
      "cell_type": "code",
      "metadata": {
        "id": "jZ-G5xZ7lIya",
        "colab_type": "code",
        "colab": {
          "base_uri": "https://localhost:8080/",
          "height": 855
        },
        "outputId": "563f338e-834e-43df-fb66-1ebe4ff1c465"
      },
      "source": [
        "PlotCurves(y_train, y_train_pred_arbolD, Title='Árbol de decisión (Parámetros por omisión) - Curvas \\n Entrenamiento')\n",
        "PlotCurves(y_test, y_test_pred_arbolD, Title='Prueba')"
      ],
      "execution_count": 33,
      "outputs": [
        {
          "output_type": "display_data",
          "data": {
            "image/png": "[encoded data removed]",
            "text/plain": [
              "<Figure size 1008x432 with 2 Axes>"
            ]
          },
          "metadata": {
            "tags": [],
            "needs_background": "light"
          }
        },
        {
          "output_type": "display_data",
          "data": {
            "image/png": "[encoded data removed]",
            "text/plain": [
              "<Figure size 1008x432 with 2 Axes>"
            ]
          },
          "metadata": {
            "tags": [],
            "needs_background": "light"
          }
        }
      ]
    },
    {
      "cell_type": "markdown",
      "metadata": {
        "id": "ZsGIHv1SWl1j",
        "colab_type": "text"
      },
      "source": [
        "##**Ejercicio 3.2: Ajuste de Hiperparámetros**"
      ]
    },
    {
      "cell_type": "code",
      "metadata": {
        "id": "aNTdgh0pW5Pl",
        "colab_type": "code",
        "colab": {}
      },
      "source": [
        "arbol_decision_param = DecisionTreeClassifier(random_state= 42)"
      ],
      "execution_count": 39,
      "outputs": []
    },
    {
      "cell_type": "markdown",
      "metadata": {
        "id": "tlPf5QP-YhQq",
        "colab_type": "text"
      },
      "source": [
        "**Opciones de parámetros**"
      ]
    },
    {
      "cell_type": "code",
      "metadata": {
        "id": "g6e_bH99mqiU",
        "colab_type": "code",
        "colab": {}
      },
      "source": [
        "param_AD = [\n",
        "  {'splitter': ['best'],\n",
        "          'criterion': ['gini', 'entropy'],\n",
        "          'max_depth': np.arange(2,8,2),\n",
        "          'min_samples_leaf': np.arange(1,10),\n",
        "          'min_samples_split': np.arange(2,10),\n",
        "          'max_features': [None, 'sqrt', 'log2']\n",
        "          },\n",
        "  {'splitter': ['random'],\n",
        "          'criterion': ['gini', 'entropy'],\n",
        "          'max_depth': list(np.arange(4,24,2))+[None],\n",
        "          'min_samples_leaf': np.arange(1,10),\n",
        "          'min_samples_split': np.arange(2,10)\n",
        "          }\n",
        "]"
      ],
      "execution_count": 64,
      "outputs": []
    },
    {
      "cell_type": "markdown",
      "metadata": {
        "id": "5bAPW0KEYoXs",
        "colab_type": "text"
      },
      "source": [
        "**Utilizamos grid-search con 5-fold cross-validation**\n",
        "\n"
      ]
    },
    {
      "cell_type": "code",
      "metadata": {
        "id": "tkOgH5Q2Yzny",
        "colab_type": "code",
        "colab": {}
      },
      "source": [
        "grid_ad = GridSearchCV(arbol_decision_param, param_AD, cv=5, scoring=['accuracy', 'precision_weighted', 'recall_weighted', 'f1_weighted'], refit=False)\n",
        "grid_ad.fit(X_train, y_train);  #"
      ],
      "execution_count": 65,
      "outputs": []
    },
    {
      "cell_type": "code",
      "metadata": {
        "id": "6d-9uukRY58d",
        "colab_type": "code",
        "colab": {}
      },
      "source": [
        "# los resultados de la búsqueda lo guardamos como dataframe\n",
        "arbol_decision_param_df = pd.DataFrame(grid_ad.cv_results_) # 2880 rows × 43 columns\n"
      ],
      "execution_count": 66,
      "outputs": []
    },
    {
      "cell_type": "code",
      "metadata": {
        "id": "e05fGYvJZBDd",
        "colab_type": "code",
        "colab": {
          "base_uri": "https://localhost:8080/",
          "height": 1000
        },
        "outputId": "0bca5262-a59b-4124-b113-2d05ba85efe7"
      },
      "source": [
        "arbol_decision_param_df  "
      ],
      "execution_count": 67,
      "outputs": [
        {
          "output_type": "execute_result",
          "data": {
            "text/html": [
              "<div>\n",
              "<style scoped>\n",
              "    .dataframe tbody tr th:only-of-type {\n",
              "        vertical-align: middle;\n",
              "    }\n",
              "\n",
              "    .dataframe tbody tr th {\n",
              "        vertical-align: top;\n",
              "    }\n",
              "\n",
              "    .dataframe thead th {\n",
              "        text-align: right;\n",
              "    }\n",
              "</style>\n",
              "<table border=\"1\" class=\"dataframe\">\n",
              "  <thead>\n",
              "    <tr style=\"text-align: right;\">\n",
              "      <th></th>\n",
              "      <th>mean_fit_time</th>\n",
              "      <th>std_fit_time</th>\n",
              "      <th>mean_score_time</th>\n",
              "      <th>std_score_time</th>\n",
              "      <th>param_criterion</th>\n",
              "      <th>param_max_depth</th>\n",
              "      <th>param_max_features</th>\n",
              "      <th>param_min_samples_leaf</th>\n",
              "      <th>param_min_samples_split</th>\n",
              "      <th>param_splitter</th>\n",
              "      <th>params</th>\n",
              "      <th>split0_test_accuracy</th>\n",
              "      <th>split1_test_accuracy</th>\n",
              "      <th>split2_test_accuracy</th>\n",
              "      <th>split3_test_accuracy</th>\n",
              "      <th>split4_test_accuracy</th>\n",
              "      <th>mean_test_accuracy</th>\n",
              "      <th>std_test_accuracy</th>\n",
              "      <th>rank_test_accuracy</th>\n",
              "      <th>split0_test_precision_weighted</th>\n",
              "      <th>split1_test_precision_weighted</th>\n",
              "      <th>split2_test_precision_weighted</th>\n",
              "      <th>split3_test_precision_weighted</th>\n",
              "      <th>split4_test_precision_weighted</th>\n",
              "      <th>mean_test_precision_weighted</th>\n",
              "      <th>std_test_precision_weighted</th>\n",
              "      <th>rank_test_precision_weighted</th>\n",
              "      <th>split0_test_recall_weighted</th>\n",
              "      <th>split1_test_recall_weighted</th>\n",
              "      <th>split2_test_recall_weighted</th>\n",
              "      <th>split3_test_recall_weighted</th>\n",
              "      <th>split4_test_recall_weighted</th>\n",
              "      <th>mean_test_recall_weighted</th>\n",
              "      <th>std_test_recall_weighted</th>\n",
              "      <th>rank_test_recall_weighted</th>\n",
              "      <th>split0_test_f1_weighted</th>\n",
              "      <th>split1_test_f1_weighted</th>\n",
              "      <th>split2_test_f1_weighted</th>\n",
              "      <th>split3_test_f1_weighted</th>\n",
              "      <th>split4_test_f1_weighted</th>\n",
              "      <th>mean_test_f1_weighted</th>\n",
              "      <th>std_test_f1_weighted</th>\n",
              "      <th>rank_test_f1_weighted</th>\n",
              "    </tr>\n",
              "  </thead>\n",
              "  <tbody>\n",
              "    <tr>\n",
              "      <th>0</th>\n",
              "      <td>0.008446</td>\n",
              "      <td>0.001017</td>\n",
              "      <td>0.005771</td>\n",
              "      <td>0.001628</td>\n",
              "      <td>gini</td>\n",
              "      <td>2</td>\n",
              "      <td>None</td>\n",
              "      <td>1</td>\n",
              "      <td>2</td>\n",
              "      <td>best</td>\n",
              "      <td>{'criterion': 'gini', 'max_depth': 2, 'max_fea...</td>\n",
              "      <td>1.0</td>\n",
              "      <td>1.0</td>\n",
              "      <td>1.0</td>\n",
              "      <td>1.0</td>\n",
              "      <td>1.0</td>\n",
              "      <td>1.0</td>\n",
              "      <td>0.0</td>\n",
              "      <td>1</td>\n",
              "      <td>1.0</td>\n",
              "      <td>1.0</td>\n",
              "      <td>1.0</td>\n",
              "      <td>1.0</td>\n",
              "      <td>1.0</td>\n",
              "      <td>1.0</td>\n",
              "      <td>0.0</td>\n",
              "      <td>1</td>\n",
              "      <td>1.0</td>\n",
              "      <td>1.0</td>\n",
              "      <td>1.0</td>\n",
              "      <td>1.0</td>\n",
              "      <td>1.0</td>\n",
              "      <td>1.0</td>\n",
              "      <td>0.0</td>\n",
              "      <td>1</td>\n",
              "      <td>1.0</td>\n",
              "      <td>1.0</td>\n",
              "      <td>1.0</td>\n",
              "      <td>1.0</td>\n",
              "      <td>1.0</td>\n",
              "      <td>1.0</td>\n",
              "      <td>0.0</td>\n",
              "      <td>1</td>\n",
              "    </tr>\n",
              "    <tr>\n",
              "      <th>1</th>\n",
              "      <td>0.007524</td>\n",
              "      <td>0.000109</td>\n",
              "      <td>0.004787</td>\n",
              "      <td>0.000108</td>\n",
              "      <td>gini</td>\n",
              "      <td>2</td>\n",
              "      <td>None</td>\n",
              "      <td>1</td>\n",
              "      <td>3</td>\n",
              "      <td>best</td>\n",
              "      <td>{'criterion': 'gini', 'max_depth': 2, 'max_fea...</td>\n",
              "      <td>1.0</td>\n",
              "      <td>1.0</td>\n",
              "      <td>1.0</td>\n",
              "      <td>1.0</td>\n",
              "      <td>1.0</td>\n",
              "      <td>1.0</td>\n",
              "      <td>0.0</td>\n",
              "      <td>1</td>\n",
              "      <td>1.0</td>\n",
              "      <td>1.0</td>\n",
              "      <td>1.0</td>\n",
              "      <td>1.0</td>\n",
              "      <td>1.0</td>\n",
              "      <td>1.0</td>\n",
              "      <td>0.0</td>\n",
              "      <td>1</td>\n",
              "      <td>1.0</td>\n",
              "      <td>1.0</td>\n",
              "      <td>1.0</td>\n",
              "      <td>1.0</td>\n",
              "      <td>1.0</td>\n",
              "      <td>1.0</td>\n",
              "      <td>0.0</td>\n",
              "      <td>1</td>\n",
              "      <td>1.0</td>\n",
              "      <td>1.0</td>\n",
              "      <td>1.0</td>\n",
              "      <td>1.0</td>\n",
              "      <td>1.0</td>\n",
              "      <td>1.0</td>\n",
              "      <td>0.0</td>\n",
              "      <td>1</td>\n",
              "    </tr>\n",
              "    <tr>\n",
              "      <th>2</th>\n",
              "      <td>0.007387</td>\n",
              "      <td>0.000076</td>\n",
              "      <td>0.004710</td>\n",
              "      <td>0.000131</td>\n",
              "      <td>gini</td>\n",
              "      <td>2</td>\n",
              "      <td>None</td>\n",
              "      <td>1</td>\n",
              "      <td>4</td>\n",
              "      <td>best</td>\n",
              "      <td>{'criterion': 'gini', 'max_depth': 2, 'max_fea...</td>\n",
              "      <td>1.0</td>\n",
              "      <td>1.0</td>\n",
              "      <td>1.0</td>\n",
              "      <td>1.0</td>\n",
              "      <td>1.0</td>\n",
              "      <td>1.0</td>\n",
              "      <td>0.0</td>\n",
              "      <td>1</td>\n",
              "      <td>1.0</td>\n",
              "      <td>1.0</td>\n",
              "      <td>1.0</td>\n",
              "      <td>1.0</td>\n",
              "      <td>1.0</td>\n",
              "      <td>1.0</td>\n",
              "      <td>0.0</td>\n",
              "      <td>1</td>\n",
              "      <td>1.0</td>\n",
              "      <td>1.0</td>\n",
              "      <td>1.0</td>\n",
              "      <td>1.0</td>\n",
              "      <td>1.0</td>\n",
              "      <td>1.0</td>\n",
              "      <td>0.0</td>\n",
              "      <td>1</td>\n",
              "      <td>1.0</td>\n",
              "      <td>1.0</td>\n",
              "      <td>1.0</td>\n",
              "      <td>1.0</td>\n",
              "      <td>1.0</td>\n",
              "      <td>1.0</td>\n",
              "      <td>0.0</td>\n",
              "      <td>1</td>\n",
              "    </tr>\n",
              "    <tr>\n",
              "      <th>3</th>\n",
              "      <td>0.007333</td>\n",
              "      <td>0.000050</td>\n",
              "      <td>0.004617</td>\n",
              "      <td>0.000080</td>\n",
              "      <td>gini</td>\n",
              "      <td>2</td>\n",
              "      <td>None</td>\n",
              "      <td>1</td>\n",
              "      <td>5</td>\n",
              "      <td>best</td>\n",
              "      <td>{'criterion': 'gini', 'max_depth': 2, 'max_fea...</td>\n",
              "      <td>1.0</td>\n",
              "      <td>1.0</td>\n",
              "      <td>1.0</td>\n",
              "      <td>1.0</td>\n",
              "      <td>1.0</td>\n",
              "      <td>1.0</td>\n",
              "      <td>0.0</td>\n",
              "      <td>1</td>\n",
              "      <td>1.0</td>\n",
              "      <td>1.0</td>\n",
              "      <td>1.0</td>\n",
              "      <td>1.0</td>\n",
              "      <td>1.0</td>\n",
              "      <td>1.0</td>\n",
              "      <td>0.0</td>\n",
              "      <td>1</td>\n",
              "      <td>1.0</td>\n",
              "      <td>1.0</td>\n",
              "      <td>1.0</td>\n",
              "      <td>1.0</td>\n",
              "      <td>1.0</td>\n",
              "      <td>1.0</td>\n",
              "      <td>0.0</td>\n",
              "      <td>1</td>\n",
              "      <td>1.0</td>\n",
              "      <td>1.0</td>\n",
              "      <td>1.0</td>\n",
              "      <td>1.0</td>\n",
              "      <td>1.0</td>\n",
              "      <td>1.0</td>\n",
              "      <td>0.0</td>\n",
              "      <td>1</td>\n",
              "    </tr>\n",
              "    <tr>\n",
              "      <th>4</th>\n",
              "      <td>0.007540</td>\n",
              "      <td>0.000296</td>\n",
              "      <td>0.004825</td>\n",
              "      <td>0.000368</td>\n",
              "      <td>gini</td>\n",
              "      <td>2</td>\n",
              "      <td>None</td>\n",
              "      <td>1</td>\n",
              "      <td>6</td>\n",
              "      <td>best</td>\n",
              "      <td>{'criterion': 'gini', 'max_depth': 2, 'max_fea...</td>\n",
              "      <td>1.0</td>\n",
              "      <td>1.0</td>\n",
              "      <td>1.0</td>\n",
              "      <td>1.0</td>\n",
              "      <td>1.0</td>\n",
              "      <td>1.0</td>\n",
              "      <td>0.0</td>\n",
              "      <td>1</td>\n",
              "      <td>1.0</td>\n",
              "      <td>1.0</td>\n",
              "      <td>1.0</td>\n",
              "      <td>1.0</td>\n",
              "      <td>1.0</td>\n",
              "      <td>1.0</td>\n",
              "      <td>0.0</td>\n",
              "      <td>1</td>\n",
              "      <td>1.0</td>\n",
              "      <td>1.0</td>\n",
              "      <td>1.0</td>\n",
              "      <td>1.0</td>\n",
              "      <td>1.0</td>\n",
              "      <td>1.0</td>\n",
              "      <td>0.0</td>\n",
              "      <td>1</td>\n",
              "      <td>1.0</td>\n",
              "      <td>1.0</td>\n",
              "      <td>1.0</td>\n",
              "      <td>1.0</td>\n",
              "      <td>1.0</td>\n",
              "      <td>1.0</td>\n",
              "      <td>0.0</td>\n",
              "      <td>1</td>\n",
              "    </tr>\n",
              "    <tr>\n",
              "      <th>...</th>\n",
              "      <td>...</td>\n",
              "      <td>...</td>\n",
              "      <td>...</td>\n",
              "      <td>...</td>\n",
              "      <td>...</td>\n",
              "      <td>...</td>\n",
              "      <td>...</td>\n",
              "      <td>...</td>\n",
              "      <td>...</td>\n",
              "      <td>...</td>\n",
              "      <td>...</td>\n",
              "      <td>...</td>\n",
              "      <td>...</td>\n",
              "      <td>...</td>\n",
              "      <td>...</td>\n",
              "      <td>...</td>\n",
              "      <td>...</td>\n",
              "      <td>...</td>\n",
              "      <td>...</td>\n",
              "      <td>...</td>\n",
              "      <td>...</td>\n",
              "      <td>...</td>\n",
              "      <td>...</td>\n",
              "      <td>...</td>\n",
              "      <td>...</td>\n",
              "      <td>...</td>\n",
              "      <td>...</td>\n",
              "      <td>...</td>\n",
              "      <td>...</td>\n",
              "      <td>...</td>\n",
              "      <td>...</td>\n",
              "      <td>...</td>\n",
              "      <td>...</td>\n",
              "      <td>...</td>\n",
              "      <td>...</td>\n",
              "      <td>...</td>\n",
              "      <td>...</td>\n",
              "      <td>...</td>\n",
              "      <td>...</td>\n",
              "      <td>...</td>\n",
              "      <td>...</td>\n",
              "      <td>...</td>\n",
              "      <td>...</td>\n",
              "    </tr>\n",
              "    <tr>\n",
              "      <th>2875</th>\n",
              "      <td>0.004096</td>\n",
              "      <td>0.000768</td>\n",
              "      <td>0.005311</td>\n",
              "      <td>0.001021</td>\n",
              "      <td>entropy</td>\n",
              "      <td>None</td>\n",
              "      <td>NaN</td>\n",
              "      <td>9</td>\n",
              "      <td>5</td>\n",
              "      <td>random</td>\n",
              "      <td>{'criterion': 'entropy', 'max_depth': None, 'm...</td>\n",
              "      <td>1.0</td>\n",
              "      <td>1.0</td>\n",
              "      <td>1.0</td>\n",
              "      <td>1.0</td>\n",
              "      <td>1.0</td>\n",
              "      <td>1.0</td>\n",
              "      <td>0.0</td>\n",
              "      <td>1</td>\n",
              "      <td>1.0</td>\n",
              "      <td>1.0</td>\n",
              "      <td>1.0</td>\n",
              "      <td>1.0</td>\n",
              "      <td>1.0</td>\n",
              "      <td>1.0</td>\n",
              "      <td>0.0</td>\n",
              "      <td>1</td>\n",
              "      <td>1.0</td>\n",
              "      <td>1.0</td>\n",
              "      <td>1.0</td>\n",
              "      <td>1.0</td>\n",
              "      <td>1.0</td>\n",
              "      <td>1.0</td>\n",
              "      <td>0.0</td>\n",
              "      <td>1</td>\n",
              "      <td>1.0</td>\n",
              "      <td>1.0</td>\n",
              "      <td>1.0</td>\n",
              "      <td>1.0</td>\n",
              "      <td>1.0</td>\n",
              "      <td>1.0</td>\n",
              "      <td>0.0</td>\n",
              "      <td>1</td>\n",
              "    </tr>\n",
              "    <tr>\n",
              "      <th>2876</th>\n",
              "      <td>0.003868</td>\n",
              "      <td>0.000135</td>\n",
              "      <td>0.004776</td>\n",
              "      <td>0.000300</td>\n",
              "      <td>entropy</td>\n",
              "      <td>None</td>\n",
              "      <td>NaN</td>\n",
              "      <td>9</td>\n",
              "      <td>6</td>\n",
              "      <td>random</td>\n",
              "      <td>{'criterion': 'entropy', 'max_depth': None, 'm...</td>\n",
              "      <td>1.0</td>\n",
              "      <td>1.0</td>\n",
              "      <td>1.0</td>\n",
              "      <td>1.0</td>\n",
              "      <td>1.0</td>\n",
              "      <td>1.0</td>\n",
              "      <td>0.0</td>\n",
              "      <td>1</td>\n",
              "      <td>1.0</td>\n",
              "      <td>1.0</td>\n",
              "      <td>1.0</td>\n",
              "      <td>1.0</td>\n",
              "      <td>1.0</td>\n",
              "      <td>1.0</td>\n",
              "      <td>0.0</td>\n",
              "      <td>1</td>\n",
              "      <td>1.0</td>\n",
              "      <td>1.0</td>\n",
              "      <td>1.0</td>\n",
              "      <td>1.0</td>\n",
              "      <td>1.0</td>\n",
              "      <td>1.0</td>\n",
              "      <td>0.0</td>\n",
              "      <td>1</td>\n",
              "      <td>1.0</td>\n",
              "      <td>1.0</td>\n",
              "      <td>1.0</td>\n",
              "      <td>1.0</td>\n",
              "      <td>1.0</td>\n",
              "      <td>1.0</td>\n",
              "      <td>0.0</td>\n",
              "      <td>1</td>\n",
              "    </tr>\n",
              "    <tr>\n",
              "      <th>2877</th>\n",
              "      <td>0.003768</td>\n",
              "      <td>0.000066</td>\n",
              "      <td>0.004665</td>\n",
              "      <td>0.000231</td>\n",
              "      <td>entropy</td>\n",
              "      <td>None</td>\n",
              "      <td>NaN</td>\n",
              "      <td>9</td>\n",
              "      <td>7</td>\n",
              "      <td>random</td>\n",
              "      <td>{'criterion': 'entropy', 'max_depth': None, 'm...</td>\n",
              "      <td>1.0</td>\n",
              "      <td>1.0</td>\n",
              "      <td>1.0</td>\n",
              "      <td>1.0</td>\n",
              "      <td>1.0</td>\n",
              "      <td>1.0</td>\n",
              "      <td>0.0</td>\n",
              "      <td>1</td>\n",
              "      <td>1.0</td>\n",
              "      <td>1.0</td>\n",
              "      <td>1.0</td>\n",
              "      <td>1.0</td>\n",
              "      <td>1.0</td>\n",
              "      <td>1.0</td>\n",
              "      <td>0.0</td>\n",
              "      <td>1</td>\n",
              "      <td>1.0</td>\n",
              "      <td>1.0</td>\n",
              "      <td>1.0</td>\n",
              "      <td>1.0</td>\n",
              "      <td>1.0</td>\n",
              "      <td>1.0</td>\n",
              "      <td>0.0</td>\n",
              "      <td>1</td>\n",
              "      <td>1.0</td>\n",
              "      <td>1.0</td>\n",
              "      <td>1.0</td>\n",
              "      <td>1.0</td>\n",
              "      <td>1.0</td>\n",
              "      <td>1.0</td>\n",
              "      <td>0.0</td>\n",
              "      <td>1</td>\n",
              "    </tr>\n",
              "    <tr>\n",
              "      <th>2878</th>\n",
              "      <td>0.003712</td>\n",
              "      <td>0.000094</td>\n",
              "      <td>0.004583</td>\n",
              "      <td>0.000163</td>\n",
              "      <td>entropy</td>\n",
              "      <td>None</td>\n",
              "      <td>NaN</td>\n",
              "      <td>9</td>\n",
              "      <td>8</td>\n",
              "      <td>random</td>\n",
              "      <td>{'criterion': 'entropy', 'max_depth': None, 'm...</td>\n",
              "      <td>1.0</td>\n",
              "      <td>1.0</td>\n",
              "      <td>1.0</td>\n",
              "      <td>1.0</td>\n",
              "      <td>1.0</td>\n",
              "      <td>1.0</td>\n",
              "      <td>0.0</td>\n",
              "      <td>1</td>\n",
              "      <td>1.0</td>\n",
              "      <td>1.0</td>\n",
              "      <td>1.0</td>\n",
              "      <td>1.0</td>\n",
              "      <td>1.0</td>\n",
              "      <td>1.0</td>\n",
              "      <td>0.0</td>\n",
              "      <td>1</td>\n",
              "      <td>1.0</td>\n",
              "      <td>1.0</td>\n",
              "      <td>1.0</td>\n",
              "      <td>1.0</td>\n",
              "      <td>1.0</td>\n",
              "      <td>1.0</td>\n",
              "      <td>0.0</td>\n",
              "      <td>1</td>\n",
              "      <td>1.0</td>\n",
              "      <td>1.0</td>\n",
              "      <td>1.0</td>\n",
              "      <td>1.0</td>\n",
              "      <td>1.0</td>\n",
              "      <td>1.0</td>\n",
              "      <td>0.0</td>\n",
              "      <td>1</td>\n",
              "    </tr>\n",
              "    <tr>\n",
              "      <th>2879</th>\n",
              "      <td>0.003655</td>\n",
              "      <td>0.000043</td>\n",
              "      <td>0.004544</td>\n",
              "      <td>0.000090</td>\n",
              "      <td>entropy</td>\n",
              "      <td>None</td>\n",
              "      <td>NaN</td>\n",
              "      <td>9</td>\n",
              "      <td>9</td>\n",
              "      <td>random</td>\n",
              "      <td>{'criterion': 'entropy', 'max_depth': None, 'm...</td>\n",
              "      <td>1.0</td>\n",
              "      <td>1.0</td>\n",
              "      <td>1.0</td>\n",
              "      <td>1.0</td>\n",
              "      <td>1.0</td>\n",
              "      <td>1.0</td>\n",
              "      <td>0.0</td>\n",
              "      <td>1</td>\n",
              "      <td>1.0</td>\n",
              "      <td>1.0</td>\n",
              "      <td>1.0</td>\n",
              "      <td>1.0</td>\n",
              "      <td>1.0</td>\n",
              "      <td>1.0</td>\n",
              "      <td>0.0</td>\n",
              "      <td>1</td>\n",
              "      <td>1.0</td>\n",
              "      <td>1.0</td>\n",
              "      <td>1.0</td>\n",
              "      <td>1.0</td>\n",
              "      <td>1.0</td>\n",
              "      <td>1.0</td>\n",
              "      <td>0.0</td>\n",
              "      <td>1</td>\n",
              "      <td>1.0</td>\n",
              "      <td>1.0</td>\n",
              "      <td>1.0</td>\n",
              "      <td>1.0</td>\n",
              "      <td>1.0</td>\n",
              "      <td>1.0</td>\n",
              "      <td>0.0</td>\n",
              "      <td>1</td>\n",
              "    </tr>\n",
              "  </tbody>\n",
              "</table>\n",
              "<p>2880 rows × 43 columns</p>\n",
              "</div>"
            ],
            "text/plain": [
              "      mean_fit_time  std_fit_time  ...  std_test_f1_weighted  rank_test_f1_weighted\n",
              "0          0.008446      0.001017  ...                   0.0                      1\n",
              "1          0.007524      0.000109  ...                   0.0                      1\n",
              "2          0.007387      0.000076  ...                   0.0                      1\n",
              "3          0.007333      0.000050  ...                   0.0                      1\n",
              "4          0.007540      0.000296  ...                   0.0                      1\n",
              "...             ...           ...  ...                   ...                    ...\n",
              "2875       0.004096      0.000768  ...                   0.0                      1\n",
              "2876       0.003868      0.000135  ...                   0.0                      1\n",
              "2877       0.003768      0.000066  ...                   0.0                      1\n",
              "2878       0.003712      0.000094  ...                   0.0                      1\n",
              "2879       0.003655      0.000043  ...                   0.0                      1\n",
              "\n",
              "[2880 rows x 43 columns]"
            ]
          },
          "metadata": {
            "tags": []
          },
          "execution_count": 67
        }
      ]
    },
    {
      "cell_type": "code",
      "metadata": {
        "id": "J4zIr6H-ZGju",
        "colab_type": "code",
        "colab": {}
      },
      "source": [
        "# Seleccionamos las columnas que serán útiles para elegir las configuraciones con mejor performance\n",
        "arbol_decision_param_df = arbol_decision_param_df[['param_criterion', 'param_max_depth',\n",
        "                              'param_min_samples_leaf', 'param_splitter', 'params', 'mean_test_accuracy', \n",
        "                              'std_test_accuracy', 'rank_test_accuracy','mean_test_precision_weighted','std_test_precision_weighted',\n",
        "                              'rank_test_precision_weighted', 'mean_test_recall_weighted','std_test_recall_weighted',\n",
        "                               'rank_test_recall_weighted', 'mean_test_f1_weighted', 'std_test_f1_weighted', 'rank_test_f1_weighted']]"
      ],
      "execution_count": 68,
      "outputs": []
    },
    {
      "cell_type": "code",
      "metadata": {
        "id": "9cRS3xggZSgN",
        "colab_type": "code",
        "colab": {
          "base_uri": "https://localhost:8080/",
          "height": 175
        },
        "outputId": "cb6500d0-1ded-45e8-829f-b3b1a5821d32"
      },
      "source": [
        "# Seleccionamos los que tienen mejores valores para acurracy, precision, recall y f1.\n",
        "\n",
        "arbol_decision_según_accuracy = arbol_decision_param_df.loc[arbol_decision_param_df.rank_test_accuracy.idxmin()]\n",
        "arbol_decision_según_precision = arbol_decision_param_df.loc[arbol_decision_param_df.rank_test_precision_weighted.idxmin()]\n",
        "arbol_decision_según_recall = arbol_decision_param_df.loc[arbol_decision_param_df.rank_test_recall_weighted.idxmin()]\n",
        "arbol_decision_según_f1 = arbol_decision_param_df.loc[arbol_decision_param_df.rank_test_f1_weighted.idxmin()]\n",
        "#\n",
        "print('-------------------------------------------------------------------------------'\n",
        "      '\\n Puntaje y parámetros correspondiente a los modelos con mejor performance según:'\n",
        "      '\\n ------------------------------------------------------------------------------'\n",
        "      '\\n Accuracy  {:.4f}: {}\\n Precision {:.4f}: {}\\n Recall    {:.4f}: {}'\n",
        "      '\\n F1-Score  {:.4f}: {}\\n'.format(\n",
        "          arbol_decision_según_accuracy.mean_test_accuracy, arbol_decision_según_accuracy.params,\n",
        "          arbol_decision_según_precision.mean_test_precision_weighted, arbol_decision_según_precision.params,\n",
        "          arbol_decision_según_recall.mean_test_recall_weighted, arbol_decision_según_recall.params,\n",
        "          arbol_decision_según_f1.mean_test_f1_weighted, arbol_decision_según_f1.params),\n",
        "      '-------------------------------------------------------------------------------')"
      ],
      "execution_count": 70,
      "outputs": [
        {
          "output_type": "stream",
          "text": [
            "-------------------------------------------------------------------------------\n",
            " Puntaje y parámetros correspondiente a los modelos con mejor performance según:\n",
            " ------------------------------------------------------------------------------\n",
            " Accuracy  1.0000: {'criterion': 'gini', 'max_depth': 2, 'max_features': None, 'min_samples_leaf': 1, 'min_samples_split': 2, 'splitter': 'best'}\n",
            " Precision 1.0000: {'criterion': 'gini', 'max_depth': 2, 'max_features': None, 'min_samples_leaf': 1, 'min_samples_split': 2, 'splitter': 'best'}\n",
            " Recall    1.0000: {'criterion': 'gini', 'max_depth': 2, 'max_features': None, 'min_samples_leaf': 1, 'min_samples_split': 2, 'splitter': 'best'}\n",
            " F1-Score  1.0000: {'criterion': 'gini', 'max_depth': 2, 'max_features': None, 'min_samples_leaf': 1, 'min_samples_split': 2, 'splitter': 'best'}\n",
            " -------------------------------------------------------------------------------\n"
          ],
          "name": "stdout"
        }
      ]
    },
    {
      "cell_type": "markdown",
      "metadata": {
        "id": "ZGC77fzxpdX4",
        "colab_type": "text"
      },
      "source": [
        "Debido a que los modelos resultantes tienen valores similares, analizaremos sólo uno."
      ]
    },
    {
      "cell_type": "markdown",
      "metadata": {
        "id": "Ea0Y-9OlZc5A",
        "colab_type": "text"
      },
      "source": [
        "De acuerdo a los valores obtenidos en el punto anterior, ejecutamos el algoritmo 'DecisionTreeClassifier' utilizando los parámetros obtenidos para accuracy:"
      ]
    },
    {
      "cell_type": "code",
      "metadata": {
        "id": "U3SeNVCHZemG",
        "colab_type": "code",
        "colab": {}
      },
      "source": [
        "arbol_decision_ac = DecisionTreeClassifier(**arbol_decision_según_accuracy.params, random_state= 42)"
      ],
      "execution_count": 71,
      "outputs": []
    },
    {
      "cell_type": "markdown",
      "metadata": {
        "id": "Vk9S79vYZnAO",
        "colab_type": "text"
      },
      "source": [
        "**Entrenamiento**"
      ]
    },
    {
      "cell_type": "code",
      "metadata": {
        "id": "X6lBwepPZkWW",
        "colab_type": "code",
        "colab": {
          "base_uri": "https://localhost:8080/",
          "height": 121
        },
        "outputId": "a0249d5d-cfd0-4172-d3b6-c2c92501368f"
      },
      "source": [
        "arbol_decision_ac.fit(X_train, y_train)"
      ],
      "execution_count": 72,
      "outputs": [
        {
          "output_type": "execute_result",
          "data": {
            "text/plain": [
              "DecisionTreeClassifier(ccp_alpha=0.0, class_weight=None, criterion='gini',\n",
              "                       max_depth=2, max_features=None, max_leaf_nodes=None,\n",
              "                       min_impurity_decrease=0.0, min_impurity_split=None,\n",
              "                       min_samples_leaf=1, min_samples_split=2,\n",
              "                       min_weight_fraction_leaf=0.0, presort='deprecated',\n",
              "                       random_state=42, splitter='best')"
            ]
          },
          "metadata": {
            "tags": []
          },
          "execution_count": 72
        }
      ]
    },
    {
      "cell_type": "markdown",
      "metadata": {
        "id": "D96SmAqSZsHi",
        "colab_type": "text"
      },
      "source": [
        "**Predicción**"
      ]
    },
    {
      "cell_type": "code",
      "metadata": {
        "id": "Wi_6zinVZuqW",
        "colab_type": "code",
        "colab": {}
      },
      "source": [
        "y_train_pred_arbol_ac = arbol_decision_ac.predict(X_train)\n",
        "y_test_pred_arbol_ac = arbol_decision_ac.predict(X_test)"
      ],
      "execution_count": 73,
      "outputs": []
    },
    {
      "cell_type": "code",
      "metadata": {
        "id": "2-_5d-ZbZ2H-",
        "colab_type": "code",
        "colab": {
          "base_uri": "https://localhost:8080/",
          "height": 378
        },
        "outputId": "69ed95d9-2f87-4a3e-b885-89ccaa50f167"
      },
      "source": [
        "# arbol generado por el modelo 'arbol_decision_ac' \n",
        "plt.figure(figsize=(18,6))\n",
        "plot_tree(arbol_decision_ac, filled=True, max_depth= 4, fontsize=10, label='root')\n",
        "plt.title('Accuracy', size=20)\n",
        "plt.show()"
      ],
      "execution_count": 74,
      "outputs": [
        {
          "output_type": "display_data",
          "data": {
            "image/png": "[encoded data removed]",
            "text/plain": [
              "<Figure size 1296x432 with 1 Axes>"
            ]
          },
          "metadata": {
            "tags": [],
            "needs_background": "light"
          }
        }
      ]
    },
    {
      "cell_type": "code",
      "metadata": {
        "id": "D72xJaD5qSt9",
        "colab_type": "code",
        "colab": {
          "base_uri": "https://localhost:8080/",
          "height": 138
        },
        "outputId": "4b6450b8-a6a0-4a42-f9da-7f854418245f"
      },
      "source": [
        "# esto creo se podría obviar ya que los valores están a la vista\n",
        "print('-----------------------------------')\n",
        "print('Profundidad máxima según métrica:'\n",
        "      '\\n Accuracy : {}'\n",
        "      .format(\n",
        "          arbol_decision_ac.get_depth()\n",
        "      ))\n",
        "print('-----------------------------------')\n",
        "print('Cantida de hojas según métrica:'\n",
        "      '\\n Accuracy : {}' \n",
        "      .format(\n",
        "          arbol_decision_ac.get_n_leaves()\n",
        "      ))\n",
        "print('-----------------------------------')"
      ],
      "execution_count": 75,
      "outputs": [
        {
          "output_type": "stream",
          "text": [
            "-----------------------------------\n",
            "Profundidad máxima según métrica:\n",
            " Accuracy : 1\n",
            "-----------------------------------\n",
            "Cantida de hojas según métrica:\n",
            " Accuracy : 2\n",
            "-----------------------------------\n"
          ],
          "name": "stdout"
        }
      ]
    },
    {
      "cell_type": "markdown",
      "metadata": {
        "id": "4L44Pmurr-Ar",
        "colab_type": "text"
      },
      "source": [
        "**Matrix de confusión**"
      ]
    },
    {
      "cell_type": "code",
      "metadata": {
        "id": "4G-OqRn6r_sp",
        "colab_type": "code",
        "colab": {
          "base_uri": "https://localhost:8080/",
          "height": 534
        },
        "outputId": "f8ca07eb-741d-41f6-8eb1-b7a6fb6ac2b2"
      },
      "source": [
        "fig, axs = plt.subplots(1,2,figsize=(14,8))\n",
        "fig.suptitle('Árbol de decisión (con parámetros)', size= 14)\n",
        "axs[0].title.set_text('Entrenamiento')\n",
        "axs[1].title.set_text('Evaluación')\n",
        "fig.tight_layout(pad=5.0)\n",
        "np.set_printoptions(precision=2)\n",
        "titles_options = [(\"Entrenamiento\", 0, X_train, y_train_pred_arbol_ac, None, 'd'),\n",
        "                  (\"Prueba\", 1, X_test, y_test_pred_arbol_ac,  None, 'd'),\n",
        "                 ]\n",
        "\n",
        "for title, row, x_val, y_val, norm, val_format in titles_options:\n",
        "    disp = plot_confusion_matrix(arbol_decision_ac, x_val, y_val,\n",
        "                                 cmap=plt.cm.Greens,\n",
        "                                 normalize=norm,\n",
        "                                 values_format=val_format,\n",
        "                                 ax=axs[row]\n",
        "                                 )\n",
        "    disp.ax_.set_title(title)"
      ],
      "execution_count": 78,
      "outputs": [
        {
          "output_type": "display_data",
          "data": {
            "image/png": "[encoded data removed]",
            "text/plain": [
              "<Figure size 1008x576 with 4 Axes>"
            ]
          },
          "metadata": {
            "tags": [],
            "needs_background": "light"
          }
        }
      ]
    },
    {
      "cell_type": "markdown",
      "metadata": {
        "id": "WqVwBMkIq9u8",
        "colab_type": "text"
      },
      "source": [
        "**Curvas ROC y PR**"
      ]
    },
    {
      "cell_type": "code",
      "metadata": {
        "id": "efdtgf0zrBNe",
        "colab_type": "code",
        "colab": {
          "base_uri": "https://localhost:8080/",
          "height": 855
        },
        "outputId": "f46ffb3b-a4a0-4718-8046-78d074feb01e"
      },
      "source": [
        "PlotCurves(y_train, y_train_pred_arbol_ac, Title='Árbol de decisión (con parámetros) - Curvas \\n Entrenamiento')\n",
        "PlotCurves(y_test, y_test_pred_arbol_ac, Title='Prueba')"
      ],
      "execution_count": 76,
      "outputs": [
        {
          "output_type": "display_data",
          "data": {
            "image/png": "[encoded data removed]",
            "text/plain": [
              "<Figure size 1008x432 with 2 Axes>"
            ]
          },
          "metadata": {
            "tags": [],
            "needs_background": "light"
          }
        },
        {
          "output_type": "display_data",
          "data": {
            "image/png": "[encoded data removed]",
            "text/plain": [
              "<Figure size 1008x432 with 2 Axes>"
            ]
          },
          "metadata": {
            "tags": [],
            "needs_background": "light"
          }
        }
      ]
    }
  ]
}